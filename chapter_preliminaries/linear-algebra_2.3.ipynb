{
  "cells": [
    {
      "cell_type": "markdown",
      "metadata": {
        "id": "view-in-github",
        "colab_type": "text"
      },
      "source": [
        "<a href=\"https://colab.research.google.com/github/Oliz888/DL_course/blob/main/chapter_preliminaries/linear-algebra_2.3.ipynb\" target=\"_parent\"><img src=\"https://colab.research.google.com/assets/colab-badge.svg\" alt=\"Open In Colab\"/></a>"
      ]
    },
    {
      "cell_type": "markdown",
      "id": "a622c08e",
      "metadata": {
        "origin_pos": 1,
        "id": "a622c08e"
      },
      "source": [
        "# Linear Algebra\n",
        ":label:`sec_linear-algebra`\n",
        "\n",
        "By now, we can load datasets into tensors\n",
        "and manipulate these tensors\n",
        "with basic mathematical operations.\n",
        "To start building sophisticated models,\n",
        "we will also need a few tools from linear algebra.\n",
        "This section offers a gentle introduction\n",
        "to the most essential concepts,\n",
        "starting from scalar arithmetic\n",
        "and ramping up to matrix multiplication.\n"
      ]
    },
    {
      "cell_type": "code",
      "execution_count": 1,
      "id": "dc36b473",
      "metadata": {
        "execution": {
          "iopub.execute_input": "2023-08-18T19:41:51.529162Z",
          "iopub.status.busy": "2023-08-18T19:41:51.528467Z",
          "iopub.status.idle": "2023-08-18T19:41:53.438267Z",
          "shell.execute_reply": "2023-08-18T19:41:53.437059Z"
        },
        "origin_pos": 3,
        "tab": [
          "pytorch"
        ],
        "id": "dc36b473"
      },
      "outputs": [],
      "source": [
        "import torch"
      ]
    },
    {
      "cell_type": "markdown",
      "id": "e4a38674",
      "metadata": {
        "origin_pos": 6,
        "id": "e4a38674"
      },
      "source": [
        "## Scalars\n",
        "\n",
        "\n",
        "Most everyday mathematics\n",
        "consists of manipulating\n",
        "numbers one at a time.\n",
        "Formally, we call these values *scalars*.\n",
        "For example, the temperature in Palo Alto\n",
        "is a balmy $72$ degrees Fahrenheit.\n",
        "If you wanted to convert the temperature to Celsius\n",
        "you would evaluate the expression\n",
        "$c = \\frac{5}{9}(f - 32)$, setting $f$ to $72$.\n",
        "In this equation, the values\n",
        "$5$, $9$, and $32$ are constant scalars.\n",
        "The variables $c$ and $f$\n",
        "in general represent unknown scalars.\n",
        "\n",
        "We denote scalars\n",
        "by ordinary lower-cased letters\n",
        "(e.g., $x$, $y$, and $z$)\n",
        "and the space of all (continuous)\n",
        "*real-valued* scalars by $\\mathbb{R}$.\n",
        "For expedience, we will skip past\n",
        "rigorous definitions of *spaces*:\n",
        "just remember that the expression $x \\in \\mathbb{R}$\n",
        "is a formal way to say that $x$ is a real-valued scalar.\n",
        "The symbol $\\in$ (pronounced \"in\")\n",
        "denotes membership in a set.\n",
        "For example, $x, y \\in \\{0, 1\\}$\n",
        "indicates that $x$ and $y$ are variables\n",
        "that can only take values $0$ or $1$.\n",
        "\n",
        "(**Scalars are implemented as tensors\n",
        "that contain only one element.**)\n",
        "Below, we assign two scalars\n",
        "and perform the familiar addition, multiplication,\n",
        "division, and exponentiation operations.\n"
      ]
    },
    {
      "cell_type": "code",
      "execution_count": 2,
      "id": "4fc9ba1d",
      "metadata": {
        "execution": {
          "iopub.execute_input": "2023-08-18T19:41:53.442690Z",
          "iopub.status.busy": "2023-08-18T19:41:53.442040Z",
          "iopub.status.idle": "2023-08-18T19:41:53.472277Z",
          "shell.execute_reply": "2023-08-18T19:41:53.471491Z"
        },
        "origin_pos": 8,
        "tab": [
          "pytorch"
        ],
        "id": "4fc9ba1d",
        "outputId": "d59f8030-059e-4ea1-f853-bd5aa4a76c4a",
        "colab": {
          "base_uri": "https://localhost:8080/"
        }
      },
      "outputs": [
        {
          "output_type": "execute_result",
          "data": {
            "text/plain": [
              "(tensor(5.), tensor(6.), tensor(1.5000), tensor(9.))"
            ]
          },
          "metadata": {},
          "execution_count": 2
        }
      ],
      "source": [
        "x = torch.tensor(3.0)\n",
        "y = torch.tensor(2.0)\n",
        "\n",
        "x + y, x * y, x / y, x**y"
      ]
    },
    {
      "cell_type": "markdown",
      "id": "0b20517b",
      "metadata": {
        "origin_pos": 11,
        "id": "0b20517b"
      },
      "source": [
        "## Vectors\n",
        "\n",
        "For current purposes, [**you can think of a vector as a fixed-length array of scalars.**]\n",
        "As with their code counterparts,\n",
        "we call these scalars the *elements* of the vector\n",
        "(synonyms include *entries* and *components*).\n",
        "When vectors represent examples from real-world datasets,\n",
        "their values hold some real-world significance.\n",
        "For example, if we were training a model to predict\n",
        "the risk of a loan defaulting,\n",
        "we might associate each applicant with a vector\n",
        "whose components correspond to quantities\n",
        "like their income, length of employment,\n",
        "or number of previous defaults.\n",
        "If we were studying the risk of heart attack,\n",
        "each vector might represent a patient\n",
        "and its components might correspond to\n",
        "their most recent vital signs, cholesterol levels,\n",
        "minutes of exercise per day, etc.\n",
        "We denote vectors by bold lowercase letters,\n",
        "(e.g., $\\mathbf{x}$, $\\mathbf{y}$, and $\\mathbf{z}$).\n",
        "\n",
        "Vectors are implemented as $1^{\\textrm{st}}$-order tensors.\n",
        "In general, such tensors can have arbitrary lengths,\n",
        "subject to memory limitations. Caution: in Python, as in most programming languages, vector indices start at $0$, also known as *zero-based indexing*, whereas in linear algebra subscripts begin at $1$ (one-based indexing).\n"
      ]
    },
    {
      "cell_type": "code",
      "execution_count": 3,
      "id": "91cd966f",
      "metadata": {
        "execution": {
          "iopub.execute_input": "2023-08-18T19:41:53.475759Z",
          "iopub.status.busy": "2023-08-18T19:41:53.475141Z",
          "iopub.status.idle": "2023-08-18T19:41:53.481106Z",
          "shell.execute_reply": "2023-08-18T19:41:53.479872Z"
        },
        "origin_pos": 13,
        "tab": [
          "pytorch"
        ],
        "id": "91cd966f",
        "outputId": "7de191b2-db92-488b-f3c0-e712d0ca3940",
        "colab": {
          "base_uri": "https://localhost:8080/"
        }
      },
      "outputs": [
        {
          "output_type": "execute_result",
          "data": {
            "text/plain": [
              "tensor([0, 1, 2])"
            ]
          },
          "metadata": {},
          "execution_count": 3
        }
      ],
      "source": [
        "x = torch.arange(3)\n",
        "x"
      ]
    },
    {
      "cell_type": "markdown",
      "id": "7a603956",
      "metadata": {
        "origin_pos": 16,
        "id": "7a603956"
      },
      "source": [
        "We can refer to an element of a vector by using a subscript.\n",
        "For example, $x_2$ denotes the second element of $\\mathbf{x}$.\n",
        "Since $x_2$ is a scalar, we do not bold it.\n",
        "By default, we visualize vectors\n",
        "by stacking their elements vertically.\n",
        "\n",
        "$$\\mathbf{x} =\\begin{bmatrix}x_{1}  \\\\ \\vdots  \\\\x_{n}\\end{bmatrix},$$\n",
        ":eqlabel:`eq_vec_def`\n",
        "\n",
        "Here $x_1, \\ldots, x_n$ are elements of the vector.\n",
        "Later on, we will distinguish between such *column vectors*\n",
        "and *row vectors* whose elements are stacked horizontally.\n",
        "Recall that [**we access a tensor's elements via indexing.**]\n"
      ]
    },
    {
      "cell_type": "code",
      "execution_count": 4,
      "id": "ba15a197",
      "metadata": {
        "execution": {
          "iopub.execute_input": "2023-08-18T19:41:53.485066Z",
          "iopub.status.busy": "2023-08-18T19:41:53.484260Z",
          "iopub.status.idle": "2023-08-18T19:41:53.492710Z",
          "shell.execute_reply": "2023-08-18T19:41:53.491415Z"
        },
        "origin_pos": 17,
        "tab": [
          "pytorch"
        ],
        "id": "ba15a197",
        "outputId": "b9c17a28-9467-4c28-d750-d2a6f3f477cf",
        "colab": {
          "base_uri": "https://localhost:8080/"
        }
      },
      "outputs": [
        {
          "output_type": "execute_result",
          "data": {
            "text/plain": [
              "tensor(2)"
            ]
          },
          "metadata": {},
          "execution_count": 4
        }
      ],
      "source": [
        "x[2]"
      ]
    },
    {
      "cell_type": "code",
      "source": [
        "x[-1]"
      ],
      "metadata": {
        "id": "cUuIU6L0dKTP",
        "outputId": "94e2077a-394a-40c0-8500-7edc572c9908",
        "colab": {
          "base_uri": "https://localhost:8080/"
        }
      },
      "id": "cUuIU6L0dKTP",
      "execution_count": 5,
      "outputs": [
        {
          "output_type": "execute_result",
          "data": {
            "text/plain": [
              "tensor(2)"
            ]
          },
          "metadata": {},
          "execution_count": 5
        }
      ]
    },
    {
      "cell_type": "markdown",
      "id": "02a04823",
      "metadata": {
        "origin_pos": 18,
        "id": "02a04823"
      },
      "source": [
        "To indicate that a vector contains $n$ elements,\n",
        "we write $\\mathbf{x} \\in \\mathbb{R}^n$.\n",
        "Formally, we call $n$ the *dimensionality* of the vector.\n",
        "[**In code, this corresponds to the tensor's length**],\n",
        "accessible via Python's built-in `len` function.\n"
      ]
    },
    {
      "cell_type": "code",
      "execution_count": 6,
      "id": "871cd7e6",
      "metadata": {
        "execution": {
          "iopub.execute_input": "2023-08-18T19:41:53.497529Z",
          "iopub.status.busy": "2023-08-18T19:41:53.496794Z",
          "iopub.status.idle": "2023-08-18T19:41:53.502332Z",
          "shell.execute_reply": "2023-08-18T19:41:53.501510Z"
        },
        "origin_pos": 19,
        "tab": [
          "pytorch"
        ],
        "id": "871cd7e6",
        "outputId": "dae1ba04-5960-497e-83e7-189951f195bc",
        "colab": {
          "base_uri": "https://localhost:8080/"
        }
      },
      "outputs": [
        {
          "output_type": "execute_result",
          "data": {
            "text/plain": [
              "3"
            ]
          },
          "metadata": {},
          "execution_count": 6
        }
      ],
      "source": [
        "len(x)"
      ]
    },
    {
      "cell_type": "markdown",
      "id": "4e190d69",
      "metadata": {
        "origin_pos": 20,
        "id": "4e190d69"
      },
      "source": [
        "We can also access the length via the `shape` attribute.\n",
        "The shape is a tuple that indicates a tensor's length along each axis.\n",
        "(**Tensors with just one axis have shapes with just one element.**)\n"
      ]
    },
    {
      "cell_type": "code",
      "execution_count": 7,
      "id": "34ea04c3",
      "metadata": {
        "execution": {
          "iopub.execute_input": "2023-08-18T19:41:53.505748Z",
          "iopub.status.busy": "2023-08-18T19:41:53.505180Z",
          "iopub.status.idle": "2023-08-18T19:41:53.510136Z",
          "shell.execute_reply": "2023-08-18T19:41:53.509337Z"
        },
        "origin_pos": 21,
        "tab": [
          "pytorch"
        ],
        "id": "34ea04c3",
        "outputId": "4aac654e-2eb8-4f22-cb11-fc84951ae177",
        "colab": {
          "base_uri": "https://localhost:8080/"
        }
      },
      "outputs": [
        {
          "output_type": "execute_result",
          "data": {
            "text/plain": [
              "torch.Size([3])"
            ]
          },
          "metadata": {},
          "execution_count": 7
        }
      ],
      "source": [
        "x.shape"
      ]
    },
    {
      "cell_type": "markdown",
      "id": "e416733f",
      "metadata": {
        "origin_pos": 22,
        "id": "e416733f"
      },
      "source": [
        "Oftentimes, the word \"dimension\" gets overloaded\n",
        "to mean both the number of axes\n",
        "and the length along a particular axis.\n",
        "To avoid this confusion,\n",
        "we use *order* to refer to the number of axes\n",
        "and *dimensionality* exclusively to refer\n",
        "to the number of components.\n",
        "\n",
        "\n",
        "## Matrices\n",
        "\n",
        "Just as scalars are $0^{\\textrm{th}}$-order tensors\n",
        "and vectors are $1^{\\textrm{st}}$-order tensors,\n",
        "matrices are $2^{\\textrm{nd}}$-order tensors.\n",
        "We denote matrices by bold capital letters\n",
        "(e.g., $\\mathbf{X}$, $\\mathbf{Y}$, and $\\mathbf{Z}$),\n",
        "and represent them in code by tensors with two axes.\n",
        "The expression $\\mathbf{A} \\in \\mathbb{R}^{m \\times n}$\n",
        "indicates that a matrix $\\mathbf{A}$\n",
        "contains $m \\times n$ real-valued scalars,\n",
        "arranged as $m$ rows and $n$ columns.\n",
        "When $m = n$, we say that a matrix is *square*.\n",
        "Visually, we can illustrate any matrix as a table.\n",
        "To refer to an individual element,\n",
        "we subscript both the row and column indices, e.g.,\n",
        "$a_{ij}$ is the value that belongs to $\\mathbf{A}$'s\n",
        "$i^{\\textrm{th}}$ row and $j^{\\textrm{th}}$ column:\n",
        "\n",
        "$$\\mathbf{A}=\\begin{bmatrix} a_{11} & a_{12} & \\cdots & a_{1n} \\\\ a_{21} & a_{22} & \\cdots & a_{2n} \\\\ \\vdots & \\vdots & \\ddots & \\vdots \\\\ a_{m1} & a_{m2} & \\cdots & a_{mn} \\\\ \\end{bmatrix}.$$\n",
        ":eqlabel:`eq_matrix_def`\n",
        "\n",
        "\n",
        "In code, we represent a matrix $\\mathbf{A} \\in \\mathbb{R}^{m \\times n}$\n",
        "by a $2^{\\textrm{nd}}$-order tensor with shape ($m$, $n$).\n",
        "[**We can convert any appropriately sized $m \\times n$ tensor\n",
        "into an $m \\times n$ matrix**]\n",
        "by passing the desired shape to `reshape`:\n"
      ]
    },
    {
      "cell_type": "code",
      "execution_count": 8,
      "id": "80c49751",
      "metadata": {
        "execution": {
          "iopub.execute_input": "2023-08-18T19:41:53.513569Z",
          "iopub.status.busy": "2023-08-18T19:41:53.512931Z",
          "iopub.status.idle": "2023-08-18T19:41:53.518545Z",
          "shell.execute_reply": "2023-08-18T19:41:53.517740Z"
        },
        "origin_pos": 24,
        "tab": [
          "pytorch"
        ],
        "id": "80c49751",
        "outputId": "b288b818-8bcc-461b-ef53-5809733bab99",
        "colab": {
          "base_uri": "https://localhost:8080/"
        }
      },
      "outputs": [
        {
          "output_type": "execute_result",
          "data": {
            "text/plain": [
              "tensor([[0, 1],\n",
              "        [2, 3],\n",
              "        [4, 5]])"
            ]
          },
          "metadata": {},
          "execution_count": 8
        }
      ],
      "source": [
        "A = torch.arange(6).reshape(3, 2)\n",
        "A"
      ]
    },
    {
      "cell_type": "markdown",
      "id": "0d90da51",
      "metadata": {
        "origin_pos": 27,
        "id": "0d90da51"
      },
      "source": [
        "Sometimes we want to flip the axes.\n",
        "When we exchange a matrix's rows and columns,\n",
        "the result is called its *transpose*.\n",
        "Formally, we signify a matrix $\\mathbf{A}$'s transpose\n",
        "by $\\mathbf{A}^\\top$ and if $\\mathbf{B} = \\mathbf{A}^\\top$,\n",
        "then $b_{ij} = a_{ji}$ for all $i$ and $j$.\n",
        "Thus, the transpose of an $m \\times n$ matrix\n",
        "is an $n \\times m$ matrix:\n",
        "\n",
        "$$\n",
        "\\mathbf{A}^\\top =\n",
        "\\begin{bmatrix}\n",
        "    a_{11} & a_{21} & \\dots  & a_{m1} \\\\\n",
        "    a_{12} & a_{22} & \\dots  & a_{m2} \\\\\n",
        "    \\vdots & \\vdots & \\ddots  & \\vdots \\\\\n",
        "    a_{1n} & a_{2n} & \\dots  & a_{mn}\n",
        "\\end{bmatrix}.\n",
        "$$\n",
        "\n",
        "In code, we can access any (**matrix's transpose**) as follows:\n"
      ]
    },
    {
      "cell_type": "code",
      "execution_count": 9,
      "id": "7ef1e23b",
      "metadata": {
        "execution": {
          "iopub.execute_input": "2023-08-18T19:41:53.521874Z",
          "iopub.status.busy": "2023-08-18T19:41:53.521332Z",
          "iopub.status.idle": "2023-08-18T19:41:53.526566Z",
          "shell.execute_reply": "2023-08-18T19:41:53.525812Z"
        },
        "origin_pos": 28,
        "tab": [
          "pytorch"
        ],
        "id": "7ef1e23b",
        "outputId": "d57a1061-3a0d-4fbb-dba1-0540f625c8e6",
        "colab": {
          "base_uri": "https://localhost:8080/"
        }
      },
      "outputs": [
        {
          "output_type": "execute_result",
          "data": {
            "text/plain": [
              "tensor([[0, 2, 4],\n",
              "        [1, 3, 5]])"
            ]
          },
          "metadata": {},
          "execution_count": 9
        }
      ],
      "source": [
        "A.T"
      ]
    },
    {
      "cell_type": "markdown",
      "id": "ce337753",
      "metadata": {
        "origin_pos": 30,
        "id": "ce337753"
      },
      "source": [
        "[**Symmetric matrices are the subset of square matrices\n",
        "that are equal to their own transposes:\n",
        "$\\mathbf{A} = \\mathbf{A}^\\top$.**]\n",
        "The following matrix is symmetric:\n"
      ]
    },
    {
      "cell_type": "code",
      "execution_count": 10,
      "id": "028e06ed",
      "metadata": {
        "execution": {
          "iopub.execute_input": "2023-08-18T19:41:53.529939Z",
          "iopub.status.busy": "2023-08-18T19:41:53.529400Z",
          "iopub.status.idle": "2023-08-18T19:41:53.535337Z",
          "shell.execute_reply": "2023-08-18T19:41:53.534568Z"
        },
        "origin_pos": 32,
        "tab": [
          "pytorch"
        ],
        "id": "028e06ed",
        "outputId": "82d7fb69-cda8-4962-fc0c-292c9ce744b7",
        "colab": {
          "base_uri": "https://localhost:8080/"
        }
      },
      "outputs": [
        {
          "output_type": "execute_result",
          "data": {
            "text/plain": [
              "tensor([[True, True, True],\n",
              "        [True, True, True],\n",
              "        [True, True, True]])"
            ]
          },
          "metadata": {},
          "execution_count": 10
        }
      ],
      "source": [
        "A = torch.tensor([[1, 2, 3], [2, 0, 4], [3, 4, 5]])\n",
        "A == A.T"
      ]
    },
    {
      "cell_type": "markdown",
      "id": "2f945d82",
      "metadata": {
        "origin_pos": 35,
        "id": "2f945d82"
      },
      "source": [
        "Matrices are useful for representing datasets.\n",
        "Typically, rows correspond to individual records\n",
        "and columns correspond to distinct attributes.\n",
        "\n",
        "\n",
        "\n",
        "## Tensors\n",
        "\n",
        "While you can go far in your machine learning journey\n",
        "with only scalars, vectors, and matrices,\n",
        "eventually you may need to work with\n",
        "higher-order [**tensors**].\n",
        "Tensors (**give us a generic way of describing\n",
        "extensions to $n^{\\textrm{th}}$-order arrays.**)\n",
        "We call software objects of the *tensor class* \"tensors\"\n",
        "precisely because they too can have arbitrary numbers of axes.\n",
        "While it may be confusing to use the word\n",
        "*tensor* for both the mathematical object\n",
        "and its realization in code,\n",
        "our meaning should usually be clear from context.\n",
        "We denote general tensors by capital letters\n",
        "with a special font face\n",
        "(e.g., $\\mathsf{X}$, $\\mathsf{Y}$, and $\\mathsf{Z}$)\n",
        "and their indexing mechanism\n",
        "(e.g., $x_{ijk}$ and $[\\mathsf{X}]_{1, 2i-1, 3}$)\n",
        "follows naturally from that of matrices.\n",
        "\n",
        "Tensors will become more important\n",
        "when we start working with images.\n",
        "Each image arrives as a $3^{\\textrm{rd}}$-order tensor\n",
        "with axes corresponding to the height, width, and *channel*.\n",
        "At each spatial location, the intensities\n",
        "of each color (red, green, and blue)\n",
        "are stacked along the channel.\n",
        "Furthermore, a collection of images is represented\n",
        "in code by a $4^{\\textrm{th}}$-order tensor,\n",
        "where distinct images are indexed\n",
        "along the first axis.\n",
        "Higher-order tensors are constructed, as were vectors and matrices,\n",
        "by growing the number of shape components.\n"
      ]
    },
    {
      "cell_type": "code",
      "execution_count": 11,
      "id": "306d610e",
      "metadata": {
        "execution": {
          "iopub.execute_input": "2023-08-18T19:41:53.538891Z",
          "iopub.status.busy": "2023-08-18T19:41:53.538210Z",
          "iopub.status.idle": "2023-08-18T19:41:53.546164Z",
          "shell.execute_reply": "2023-08-18T19:41:53.545027Z"
        },
        "origin_pos": 37,
        "tab": [
          "pytorch"
        ],
        "id": "306d610e",
        "outputId": "a3b06042-ae5f-4fc3-cb1c-7639196f8482",
        "colab": {
          "base_uri": "https://localhost:8080/"
        }
      },
      "outputs": [
        {
          "output_type": "execute_result",
          "data": {
            "text/plain": [
              "tensor([[[ 0,  1,  2,  3],\n",
              "         [ 4,  5,  6,  7],\n",
              "         [ 8,  9, 10, 11]],\n",
              "\n",
              "        [[12, 13, 14, 15],\n",
              "         [16, 17, 18, 19],\n",
              "         [20, 21, 22, 23]]])"
            ]
          },
          "metadata": {},
          "execution_count": 11
        }
      ],
      "source": [
        "torch.arange(24).reshape(2, 3, 4)"
      ]
    },
    {
      "cell_type": "markdown",
      "id": "3113bae4",
      "metadata": {
        "origin_pos": 40,
        "id": "3113bae4"
      },
      "source": [
        "## Basic Properties of Tensor Arithmetic\n",
        "\n",
        "Scalars, vectors, matrices,\n",
        "and higher-order tensors\n",
        "all have some handy properties.\n",
        "For example, elementwise operations\n",
        "produce outputs that have the\n",
        "same shape as their operands.\n"
      ]
    },
    {
      "cell_type": "code",
      "execution_count": 12,
      "id": "53a34bc0",
      "metadata": {
        "execution": {
          "iopub.execute_input": "2023-08-18T19:41:53.550917Z",
          "iopub.status.busy": "2023-08-18T19:41:53.550017Z",
          "iopub.status.idle": "2023-08-18T19:41:53.558241Z",
          "shell.execute_reply": "2023-08-18T19:41:53.557366Z"
        },
        "origin_pos": 42,
        "tab": [
          "pytorch"
        ],
        "id": "53a34bc0",
        "outputId": "3463d5d7-1d43-4c0d-ccd7-31d81c5e61f8",
        "colab": {
          "base_uri": "https://localhost:8080/"
        }
      },
      "outputs": [
        {
          "output_type": "execute_result",
          "data": {
            "text/plain": [
              "(tensor([[0., 1., 2.],\n",
              "         [3., 4., 5.]]),\n",
              " tensor([[ 0.,  2.,  4.],\n",
              "         [ 6.,  8., 10.]]))"
            ]
          },
          "metadata": {},
          "execution_count": 12
        }
      ],
      "source": [
        "A = torch.arange(6, dtype=torch.float32).reshape(2, 3)\n",
        "B = A.clone()  # Assign a copy of A to B by allocating new memory\n",
        "A, A + B"
      ]
    },
    {
      "cell_type": "markdown",
      "id": "eb7d4d8e",
      "metadata": {
        "origin_pos": 45,
        "id": "eb7d4d8e"
      },
      "source": [
        "The [**elementwise product of two matrices\n",
        "is called their *Hadamard product***] (denoted $\\odot$).\n",
        "We can spell out the entries\n",
        "of the Hadamard product of two matrices\n",
        "$\\mathbf{A}, \\mathbf{B} \\in \\mathbb{R}^{m \\times n}$:\n",
        "\n",
        "\n",
        "\n",
        "$$\n",
        "\\mathbf{A} \\odot \\mathbf{B} =\n",
        "\\begin{bmatrix}\n",
        "    a_{11}  b_{11} & a_{12}  b_{12} & \\dots  & a_{1n}  b_{1n} \\\\\n",
        "    a_{21}  b_{21} & a_{22}  b_{22} & \\dots  & a_{2n}  b_{2n} \\\\\n",
        "    \\vdots & \\vdots & \\ddots & \\vdots \\\\\n",
        "    a_{m1}  b_{m1} & a_{m2}  b_{m2} & \\dots  & a_{mn}  b_{mn}\n",
        "\\end{bmatrix}.\n",
        "$$\n"
      ]
    },
    {
      "cell_type": "code",
      "execution_count": 13,
      "id": "1e2c0645",
      "metadata": {
        "execution": {
          "iopub.execute_input": "2023-08-18T19:41:53.561758Z",
          "iopub.status.busy": "2023-08-18T19:41:53.561198Z",
          "iopub.status.idle": "2023-08-18T19:41:53.567597Z",
          "shell.execute_reply": "2023-08-18T19:41:53.566714Z"
        },
        "origin_pos": 46,
        "tab": [
          "pytorch"
        ],
        "id": "1e2c0645",
        "outputId": "d18154f6-b01b-42f5-a03b-b9bd84f818d8",
        "colab": {
          "base_uri": "https://localhost:8080/"
        }
      },
      "outputs": [
        {
          "output_type": "execute_result",
          "data": {
            "text/plain": [
              "tensor([[ 0.,  1.,  4.],\n",
              "        [ 9., 16., 25.]])"
            ]
          },
          "metadata": {},
          "execution_count": 13
        }
      ],
      "source": [
        "A * B"
      ]
    },
    {
      "cell_type": "markdown",
      "id": "e782293c",
      "metadata": {
        "origin_pos": 47,
        "id": "e782293c"
      },
      "source": [
        "[**Adding or multiplying a scalar and a tensor**] produces a result\n",
        "with the same shape as the original tensor.\n",
        "Here, each element of the tensor is added to (or multiplied by) the scalar.\n"
      ]
    },
    {
      "cell_type": "code",
      "execution_count": 14,
      "id": "c5c86fb1",
      "metadata": {
        "execution": {
          "iopub.execute_input": "2023-08-18T19:41:53.571034Z",
          "iopub.status.busy": "2023-08-18T19:41:53.570428Z",
          "iopub.status.idle": "2023-08-18T19:41:53.577301Z",
          "shell.execute_reply": "2023-08-18T19:41:53.576396Z"
        },
        "origin_pos": 49,
        "tab": [
          "pytorch"
        ],
        "id": "c5c86fb1",
        "outputId": "ee4245bd-1dba-4af5-e91d-075d4cc9072c",
        "colab": {
          "base_uri": "https://localhost:8080/"
        }
      },
      "outputs": [
        {
          "output_type": "execute_result",
          "data": {
            "text/plain": [
              "(tensor([[[ 2,  3,  4,  5],\n",
              "          [ 6,  7,  8,  9],\n",
              "          [10, 11, 12, 13]],\n",
              " \n",
              "         [[14, 15, 16, 17],\n",
              "          [18, 19, 20, 21],\n",
              "          [22, 23, 24, 25]]]),\n",
              " torch.Size([2, 3, 4]))"
            ]
          },
          "metadata": {},
          "execution_count": 14
        }
      ],
      "source": [
        "a = 2\n",
        "X = torch.arange(24).reshape(2, 3, 4)\n",
        "a + X, (a * X).shape"
      ]
    },
    {
      "cell_type": "markdown",
      "id": "03bc0c1b",
      "metadata": {
        "origin_pos": 52,
        "id": "03bc0c1b"
      },
      "source": [
        "## Reduction\n",
        ":label:`subsec_lin-alg-reduction`\n",
        "\n",
        "Often, we wish to calculate [**the sum of a tensor's elements.**]\n",
        "To express the sum of the elements in a vector $\\mathbf{x}$ of length $n$,\n",
        "we write $\\sum_{i=1}^n x_i$. There is a simple function for it:\n"
      ]
    },
    {
      "cell_type": "code",
      "execution_count": 15,
      "id": "5a3c4cbd",
      "metadata": {
        "execution": {
          "iopub.execute_input": "2023-08-18T19:41:53.580908Z",
          "iopub.status.busy": "2023-08-18T19:41:53.580306Z",
          "iopub.status.idle": "2023-08-18T19:41:53.588497Z",
          "shell.execute_reply": "2023-08-18T19:41:53.587623Z"
        },
        "origin_pos": 54,
        "tab": [
          "pytorch"
        ],
        "id": "5a3c4cbd",
        "outputId": "9a8547d7-e073-470d-bc3f-6884685eee0b",
        "colab": {
          "base_uri": "https://localhost:8080/"
        }
      },
      "outputs": [
        {
          "output_type": "execute_result",
          "data": {
            "text/plain": [
              "(tensor([0., 1., 2.]), tensor(3.))"
            ]
          },
          "metadata": {},
          "execution_count": 15
        }
      ],
      "source": [
        "x = torch.arange(3, dtype=torch.float32)\n",
        "x, x.sum()"
      ]
    },
    {
      "cell_type": "markdown",
      "id": "c4e031e9",
      "metadata": {
        "origin_pos": 57,
        "id": "c4e031e9"
      },
      "source": [
        "To express [**sums over the elements of tensors of arbitrary shape**],\n",
        "we simply sum over all its axes.\n",
        "For example, the sum of the elements\n",
        "of an $m \\times n$ matrix $\\mathbf{A}$\n",
        "could be written $\\sum_{i=1}^{m} \\sum_{j=1}^{n} a_{ij}$.\n"
      ]
    },
    {
      "cell_type": "code",
      "source": [
        "A"
      ],
      "metadata": {
        "id": "b7EN9FXAdts3",
        "outputId": "b346eae0-48e8-438a-f423-69e743a4cdbd",
        "colab": {
          "base_uri": "https://localhost:8080/"
        }
      },
      "id": "b7EN9FXAdts3",
      "execution_count": 20,
      "outputs": [
        {
          "output_type": "execute_result",
          "data": {
            "text/plain": [
              "tensor([[0., 1., 2.],\n",
              "        [3., 4., 5.]])"
            ]
          },
          "metadata": {},
          "execution_count": 20
        }
      ]
    },
    {
      "cell_type": "code",
      "execution_count": 21,
      "id": "7594e574",
      "metadata": {
        "execution": {
          "iopub.execute_input": "2023-08-18T19:41:53.593587Z",
          "iopub.status.busy": "2023-08-18T19:41:53.592920Z",
          "iopub.status.idle": "2023-08-18T19:41:53.602105Z",
          "shell.execute_reply": "2023-08-18T19:41:53.600812Z"
        },
        "origin_pos": 58,
        "tab": [
          "pytorch"
        ],
        "id": "7594e574",
        "outputId": "b1cc63c4-c329-40b4-d116-cfa21e527478",
        "colab": {
          "base_uri": "https://localhost:8080/"
        }
      },
      "outputs": [
        {
          "output_type": "execute_result",
          "data": {
            "text/plain": [
              "(torch.Size([2, 3]), tensor(15.))"
            ]
          },
          "metadata": {},
          "execution_count": 21
        }
      ],
      "source": [
        "A.shape, A.sum()"
      ]
    },
    {
      "cell_type": "markdown",
      "id": "2d9a0995",
      "metadata": {
        "origin_pos": 60,
        "id": "2d9a0995"
      },
      "source": [
        "By default, invoking the sum function\n",
        "*reduces* a tensor along all of its axes,\n",
        "eventually producing a scalar.\n",
        "Our libraries also allow us to [**specify the axes\n",
        "along which the tensor should be reduced.**]\n",
        "To sum over all elements along the rows (axis 0),\n",
        "we specify `axis=0` in `sum`.\n",
        "Since the input matrix reduces along axis 0\n",
        "to generate the output vector,\n",
        "this axis is missing from the shape of the output.\n"
      ]
    },
    {
      "cell_type": "code",
      "execution_count": 18,
      "id": "14d191be",
      "metadata": {
        "execution": {
          "iopub.execute_input": "2023-08-18T19:41:53.606330Z",
          "iopub.status.busy": "2023-08-18T19:41:53.605594Z",
          "iopub.status.idle": "2023-08-18T19:41:53.612393Z",
          "shell.execute_reply": "2023-08-18T19:41:53.611227Z"
        },
        "origin_pos": 61,
        "tab": [
          "pytorch"
        ],
        "id": "14d191be",
        "outputId": "e099c1ab-c684-4a57-bc61-4a2575d9d022",
        "colab": {
          "base_uri": "https://localhost:8080/"
        }
      },
      "outputs": [
        {
          "output_type": "execute_result",
          "data": {
            "text/plain": [
              "(torch.Size([2, 3]), torch.Size([3]))"
            ]
          },
          "metadata": {},
          "execution_count": 18
        }
      ],
      "source": [
        "A.shape, A.sum(axis=0).shape"
      ]
    },
    {
      "cell_type": "markdown",
      "id": "22f9f461",
      "metadata": {
        "origin_pos": 63,
        "id": "22f9f461"
      },
      "source": [
        "Specifying `axis=1` will reduce the column dimension (axis 1) by summing up elements of all the columns.\n"
      ]
    },
    {
      "cell_type": "code",
      "execution_count": 19,
      "id": "ee3c0559",
      "metadata": {
        "execution": {
          "iopub.execute_input": "2023-08-18T19:41:53.615938Z",
          "iopub.status.busy": "2023-08-18T19:41:53.615181Z",
          "iopub.status.idle": "2023-08-18T19:41:53.621919Z",
          "shell.execute_reply": "2023-08-18T19:41:53.620799Z"
        },
        "origin_pos": 64,
        "tab": [
          "pytorch"
        ],
        "id": "ee3c0559",
        "outputId": "02bb3763-f46e-4ae2-ee41-22621140571e",
        "colab": {
          "base_uri": "https://localhost:8080/"
        }
      },
      "outputs": [
        {
          "output_type": "execute_result",
          "data": {
            "text/plain": [
              "(torch.Size([2, 3]), torch.Size([2]))"
            ]
          },
          "metadata": {},
          "execution_count": 19
        }
      ],
      "source": [
        "A.shape, A.sum(axis=1).shape"
      ]
    },
    {
      "cell_type": "markdown",
      "id": "a40d7419",
      "metadata": {
        "origin_pos": 66,
        "id": "a40d7419"
      },
      "source": [
        "Reducing a matrix along both rows and columns via summation\n",
        "is equivalent to summing up all the elements of the matrix.\n"
      ]
    },
    {
      "cell_type": "code",
      "source": [
        "A.sum(axis=[0, 1])"
      ],
      "metadata": {
        "id": "KZw31L2WeSup",
        "outputId": "5486ba25-031a-49aa-fbc0-cc8e7668e7d5",
        "colab": {
          "base_uri": "https://localhost:8080/"
        }
      },
      "id": "KZw31L2WeSup",
      "execution_count": 23,
      "outputs": [
        {
          "output_type": "execute_result",
          "data": {
            "text/plain": [
              "tensor(15.)"
            ]
          },
          "metadata": {},
          "execution_count": 23
        }
      ]
    },
    {
      "cell_type": "code",
      "execution_count": 22,
      "id": "25b99ea4",
      "metadata": {
        "execution": {
          "iopub.execute_input": "2023-08-18T19:41:53.625271Z",
          "iopub.status.busy": "2023-08-18T19:41:53.624779Z",
          "iopub.status.idle": "2023-08-18T19:41:53.631897Z",
          "shell.execute_reply": "2023-08-18T19:41:53.630699Z"
        },
        "origin_pos": 67,
        "tab": [
          "pytorch"
        ],
        "id": "25b99ea4",
        "outputId": "c66159a0-1b10-47aa-bd60-7548a102cbd8",
        "colab": {
          "base_uri": "https://localhost:8080/"
        }
      },
      "outputs": [
        {
          "output_type": "execute_result",
          "data": {
            "text/plain": [
              "tensor(True)"
            ]
          },
          "metadata": {},
          "execution_count": 22
        }
      ],
      "source": [
        "A.sum(axis=[0, 1]) == A.sum()  # Same as A.sum()"
      ]
    },
    {
      "cell_type": "markdown",
      "id": "46224eef",
      "metadata": {
        "origin_pos": 69,
        "id": "46224eef"
      },
      "source": [
        "[**A related quantity is the *mean*, also called the *average*.**]\n",
        "We calculate the mean by dividing the sum\n",
        "by the total number of elements.\n",
        "Because computing the mean is so common,\n",
        "it gets a dedicated library function\n",
        "that works analogously to `sum`.\n"
      ]
    },
    {
      "cell_type": "code",
      "execution_count": 24,
      "id": "9f41e037",
      "metadata": {
        "execution": {
          "iopub.execute_input": "2023-08-18T19:41:53.635407Z",
          "iopub.status.busy": "2023-08-18T19:41:53.634799Z",
          "iopub.status.idle": "2023-08-18T19:41:53.642980Z",
          "shell.execute_reply": "2023-08-18T19:41:53.641833Z"
        },
        "origin_pos": 71,
        "tab": [
          "pytorch"
        ],
        "id": "9f41e037",
        "outputId": "1ab8905e-2fb3-4d0f-b0ce-157400f694ce",
        "colab": {
          "base_uri": "https://localhost:8080/"
        }
      },
      "outputs": [
        {
          "output_type": "execute_result",
          "data": {
            "text/plain": [
              "(tensor(2.5000), tensor(2.5000))"
            ]
          },
          "metadata": {},
          "execution_count": 24
        }
      ],
      "source": [
        "A.mean(), A.sum() / A.numel()"
      ]
    },
    {
      "cell_type": "markdown",
      "id": "1c73c2c9",
      "metadata": {
        "origin_pos": 73,
        "id": "1c73c2c9"
      },
      "source": [
        "Likewise, the function for calculating the mean\n",
        "can also reduce a tensor along specific axes.\n"
      ]
    },
    {
      "cell_type": "code",
      "source": [
        "A.sum(axis=0)"
      ],
      "metadata": {
        "id": "BGmuvbgke9MV",
        "outputId": "1e2cf2db-0ad3-4211-9063-50be3880dc9e",
        "colab": {
          "base_uri": "https://localhost:8080/"
        }
      },
      "id": "BGmuvbgke9MV",
      "execution_count": 25,
      "outputs": [
        {
          "output_type": "execute_result",
          "data": {
            "text/plain": [
              "tensor([3., 5., 7.])"
            ]
          },
          "metadata": {},
          "execution_count": 25
        }
      ]
    },
    {
      "cell_type": "code",
      "source": [
        "A.shape[0]"
      ],
      "metadata": {
        "id": "VIsTHZY2e-uE",
        "outputId": "62f001de-88de-4129-95b0-65cecd81320e",
        "colab": {
          "base_uri": "https://localhost:8080/"
        }
      },
      "id": "VIsTHZY2e-uE",
      "execution_count": 26,
      "outputs": [
        {
          "output_type": "execute_result",
          "data": {
            "text/plain": [
              "2"
            ]
          },
          "metadata": {},
          "execution_count": 26
        }
      ]
    },
    {
      "cell_type": "code",
      "execution_count": 27,
      "id": "f268d8be",
      "metadata": {
        "execution": {
          "iopub.execute_input": "2023-08-18T19:41:53.646514Z",
          "iopub.status.busy": "2023-08-18T19:41:53.645792Z",
          "iopub.status.idle": "2023-08-18T19:41:53.653946Z",
          "shell.execute_reply": "2023-08-18T19:41:53.652643Z"
        },
        "origin_pos": 74,
        "tab": [
          "pytorch"
        ],
        "id": "f268d8be",
        "outputId": "e8109442-bd8c-4013-d540-bdaeda470d97",
        "colab": {
          "base_uri": "https://localhost:8080/"
        }
      },
      "outputs": [
        {
          "output_type": "execute_result",
          "data": {
            "text/plain": [
              "(tensor([1.5000, 2.5000, 3.5000]), tensor([1.5000, 2.5000, 3.5000]))"
            ]
          },
          "metadata": {},
          "execution_count": 27
        }
      ],
      "source": [
        "A.mean(axis=0), A.sum(axis=0) / A.shape[0]"
      ]
    },
    {
      "cell_type": "markdown",
      "id": "272a70c1",
      "metadata": {
        "origin_pos": 76,
        "id": "272a70c1"
      },
      "source": [
        "## Non-Reduction Sum\n",
        ":label:`subsec_lin-alg-non-reduction`\n",
        "\n",
        "Sometimes it can be useful to [**keep the number of axes unchanged**]\n",
        "when invoking the function for calculating the sum or mean.\n",
        "This matters when we want to use the broadcast mechanism.\n"
      ]
    },
    {
      "cell_type": "code",
      "source": [
        "A"
      ],
      "metadata": {
        "id": "ki3X6Jbxgl3i",
        "outputId": "b4cdcdc1-27e4-4c40-dcef-28ad727cce66",
        "colab": {
          "base_uri": "https://localhost:8080/"
        }
      },
      "id": "ki3X6Jbxgl3i",
      "execution_count": 34,
      "outputs": [
        {
          "output_type": "execute_result",
          "data": {
            "text/plain": [
              "tensor([[0., 1., 2.],\n",
              "        [3., 4., 5.]])"
            ]
          },
          "metadata": {},
          "execution_count": 34
        }
      ]
    },
    {
      "cell_type": "code",
      "execution_count": 30,
      "id": "863c5aca",
      "metadata": {
        "execution": {
          "iopub.execute_input": "2023-08-18T19:41:53.658423Z",
          "iopub.status.busy": "2023-08-18T19:41:53.658026Z",
          "iopub.status.idle": "2023-08-18T19:41:53.666522Z",
          "shell.execute_reply": "2023-08-18T19:41:53.665397Z"
        },
        "origin_pos": 77,
        "tab": [
          "pytorch"
        ],
        "id": "863c5aca",
        "outputId": "1378aeea-f093-4ad1-c6b4-e58da237cd5c",
        "colab": {
          "base_uri": "https://localhost:8080/"
        }
      },
      "outputs": [
        {
          "output_type": "execute_result",
          "data": {
            "text/plain": [
              "(tensor([[ 3.],\n",
              "         [12.]]),\n",
              " torch.Size([2, 1]))"
            ]
          },
          "metadata": {},
          "execution_count": 30
        }
      ],
      "source": [
        "sum_A = A.sum(axis=1, keepdims=True)\n",
        "sum_A, sum_A.shape"
      ]
    },
    {
      "cell_type": "code",
      "source": [
        "sum_A_1 = A.sum(axis=0, keepdims=True)\n",
        "sum_A_1, sum_A_1.shape"
      ],
      "metadata": {
        "id": "PLzNi4wdgGpH",
        "outputId": "4deb2aa8-435b-4e3c-9620-dd02fc4b6553",
        "colab": {
          "base_uri": "https://localhost:8080/"
        }
      },
      "id": "PLzNi4wdgGpH",
      "execution_count": 31,
      "outputs": [
        {
          "output_type": "execute_result",
          "data": {
            "text/plain": [
              "(tensor([[3., 5., 7.]]), torch.Size([1, 3]))"
            ]
          },
          "metadata": {},
          "execution_count": 31
        }
      ]
    },
    {
      "cell_type": "code",
      "source": [
        "A / sum_A_1"
      ],
      "metadata": {
        "id": "qpuHKiZwgZUh",
        "outputId": "b0ca28d8-9a06-487f-b5db-144cd6741b31",
        "colab": {
          "base_uri": "https://localhost:8080/"
        }
      },
      "id": "qpuHKiZwgZUh",
      "execution_count": 32,
      "outputs": [
        {
          "output_type": "execute_result",
          "data": {
            "text/plain": [
              "tensor([[0.0000, 0.2000, 0.2857],\n",
              "        [1.0000, 0.8000, 0.7143]])"
            ]
          },
          "metadata": {},
          "execution_count": 32
        }
      ]
    },
    {
      "cell_type": "markdown",
      "id": "db7e1c95",
      "metadata": {
        "origin_pos": 79,
        "id": "db7e1c95"
      },
      "source": [
        "For instance, since `sum_A` keeps its two axes after summing each row,\n",
        "we can (**divide `A` by `sum_A` with broadcasting**)\n",
        "to create a matrix where each row sums up to $1$.\n"
      ]
    },
    {
      "cell_type": "code",
      "execution_count": 33,
      "id": "93d20f26",
      "metadata": {
        "execution": {
          "iopub.execute_input": "2023-08-18T19:41:53.669896Z",
          "iopub.status.busy": "2023-08-18T19:41:53.669623Z",
          "iopub.status.idle": "2023-08-18T19:41:53.675548Z",
          "shell.execute_reply": "2023-08-18T19:41:53.674706Z"
        },
        "origin_pos": 80,
        "tab": [
          "pytorch"
        ],
        "id": "93d20f26",
        "outputId": "536a20e5-f8b6-4499-c387-2459af25e094",
        "colab": {
          "base_uri": "https://localhost:8080/"
        }
      },
      "outputs": [
        {
          "output_type": "execute_result",
          "data": {
            "text/plain": [
              "tensor([[0.0000, 0.3333, 0.6667],\n",
              "        [0.2500, 0.3333, 0.4167]])"
            ]
          },
          "metadata": {},
          "execution_count": 33
        }
      ],
      "source": [
        "A / sum_A"
      ]
    },
    {
      "cell_type": "markdown",
      "id": "d208f582",
      "metadata": {
        "origin_pos": 81,
        "id": "d208f582"
      },
      "source": [
        "If we want to calculate [**the cumulative sum of elements of `A` along some axis**],\n",
        "say `axis=0` (row by row), we can call the `cumsum` function.\n",
        "By design, this function does not reduce the input tensor along any axis.\n"
      ]
    },
    {
      "cell_type": "code",
      "execution_count": null,
      "id": "e2de0ae7",
      "metadata": {
        "execution": {
          "iopub.execute_input": "2023-08-18T19:41:53.678804Z",
          "iopub.status.busy": "2023-08-18T19:41:53.678536Z",
          "iopub.status.idle": "2023-08-18T19:41:53.684437Z",
          "shell.execute_reply": "2023-08-18T19:41:53.683619Z"
        },
        "origin_pos": 82,
        "tab": [
          "pytorch"
        ],
        "id": "e2de0ae7",
        "outputId": "2c7d8e06-7a45-4466-b411-6feed8e90ff8"
      },
      "outputs": [
        {
          "data": {
            "text/plain": [
              "tensor([[0., 1., 2.],\n",
              "        [3., 5., 7.]])"
            ]
          },
          "execution_count": 23,
          "metadata": {},
          "output_type": "execute_result"
        }
      ],
      "source": [
        "A.cumsum(axis=0)"
      ]
    },
    {
      "cell_type": "code",
      "source": [
        "A.cumsum(axis=1)"
      ],
      "metadata": {
        "id": "KD_hAsyng4hk",
        "outputId": "7137a750-2a66-4294-94c6-bfa5939bad49",
        "colab": {
          "base_uri": "https://localhost:8080/"
        }
      },
      "id": "KD_hAsyng4hk",
      "execution_count": 35,
      "outputs": [
        {
          "output_type": "execute_result",
          "data": {
            "text/plain": [
              "tensor([[ 0.,  1.,  3.],\n",
              "        [ 3.,  7., 12.]])"
            ]
          },
          "metadata": {},
          "execution_count": 35
        }
      ]
    },
    {
      "cell_type": "markdown",
      "id": "a3f6a397",
      "metadata": {
        "origin_pos": 84,
        "id": "a3f6a397"
      },
      "source": [
        "## Dot Products\n",
        "\n",
        "So far, we have only performed elementwise operations, sums, and averages.\n",
        "And if this was all we could do, linear algebra\n",
        "would not deserve its own section.\n",
        "Fortunately, this is where things get more interesting.\n",
        "One of the most fundamental operations is the dot product.\n",
        "Given two vectors $\\mathbf{x}, \\mathbf{y} \\in \\mathbb{R}^d$,\n",
        "their *dot product* $\\mathbf{x}^\\top \\mathbf{y}$ (also known as *inner product*, $\\langle \\mathbf{x}, \\mathbf{y}  \\rangle$)\n",
        "is a sum over the products of the elements at the same position:\n",
        "$\\mathbf{x}^\\top \\mathbf{y} = \\sum_{i=1}^{d} x_i y_i$.\n",
        "\n",
        "[~~The *dot product* of two vectors is a sum over the products of the elements at the same position~~]\n"
      ]
    },
    {
      "cell_type": "code",
      "source": [
        "x"
      ],
      "metadata": {
        "id": "FdV2Ph0ghV8e",
        "outputId": "1354de21-eae4-4747-e961-55b351010cb9",
        "colab": {
          "base_uri": "https://localhost:8080/"
        }
      },
      "id": "FdV2Ph0ghV8e",
      "execution_count": 36,
      "outputs": [
        {
          "output_type": "execute_result",
          "data": {
            "text/plain": [
              "tensor([0., 1., 2.])"
            ]
          },
          "metadata": {},
          "execution_count": 36
        }
      ]
    },
    {
      "cell_type": "code",
      "source": [
        "y = torch.ones(3, dtype = torch.float32)\n",
        "y"
      ],
      "metadata": {
        "id": "Lxhk8GavhTnU",
        "outputId": "314e08d1-fb0d-45e2-a141-07ef32826691",
        "colab": {
          "base_uri": "https://localhost:8080/"
        }
      },
      "id": "Lxhk8GavhTnU",
      "execution_count": 37,
      "outputs": [
        {
          "output_type": "execute_result",
          "data": {
            "text/plain": [
              "tensor([1., 1., 1.])"
            ]
          },
          "metadata": {},
          "execution_count": 37
        }
      ]
    },
    {
      "cell_type": "code",
      "execution_count": 38,
      "id": "5575e11a",
      "metadata": {
        "execution": {
          "iopub.execute_input": "2023-08-18T19:41:53.687734Z",
          "iopub.status.busy": "2023-08-18T19:41:53.687178Z",
          "iopub.status.idle": "2023-08-18T19:41:53.696147Z",
          "shell.execute_reply": "2023-08-18T19:41:53.695369Z"
        },
        "origin_pos": 86,
        "tab": [
          "pytorch"
        ],
        "id": "5575e11a",
        "outputId": "ee186fd7-e5d0-4a1e-df83-e541e2f4b792",
        "colab": {
          "base_uri": "https://localhost:8080/"
        }
      },
      "outputs": [
        {
          "output_type": "execute_result",
          "data": {
            "text/plain": [
              "(tensor([0., 1., 2.]), tensor([1., 1., 1.]), tensor(3.))"
            ]
          },
          "metadata": {},
          "execution_count": 38
        }
      ],
      "source": [
        "x, y, torch.dot(x, y)"
      ]
    },
    {
      "cell_type": "markdown",
      "id": "ba9329e0",
      "metadata": {
        "origin_pos": 89,
        "id": "ba9329e0"
      },
      "source": [
        "Equivalently, (**we can calculate the dot product of two vectors\n",
        "by performing an elementwise multiplication followed by a sum:**)\n"
      ]
    },
    {
      "cell_type": "code",
      "source": [
        "x*y, torch.dot(x, y), torch.sum(x*y) # the hadamart product of x and y, the dot product of x and y, the sum of the hadamart product of x and y"
      ],
      "metadata": {
        "id": "QTnJAEuPhkVh",
        "outputId": "00abe008-d478-4d38-cea1-55f17ffdf6e8",
        "colab": {
          "base_uri": "https://localhost:8080/"
        }
      },
      "id": "QTnJAEuPhkVh",
      "execution_count": 42,
      "outputs": [
        {
          "output_type": "execute_result",
          "data": {
            "text/plain": [
              "(tensor([0., 1., 2.]), tensor(3.), tensor(3.))"
            ]
          },
          "metadata": {},
          "execution_count": 42
        }
      ]
    },
    {
      "cell_type": "code",
      "execution_count": 39,
      "id": "b5186254",
      "metadata": {
        "execution": {
          "iopub.execute_input": "2023-08-18T19:41:53.699396Z",
          "iopub.status.busy": "2023-08-18T19:41:53.698843Z",
          "iopub.status.idle": "2023-08-18T19:41:53.704931Z",
          "shell.execute_reply": "2023-08-18T19:41:53.703664Z"
        },
        "origin_pos": 91,
        "tab": [
          "pytorch"
        ],
        "id": "b5186254",
        "outputId": "34d29c48-8a61-458c-80b7-f854f3f401a9",
        "colab": {
          "base_uri": "https://localhost:8080/"
        }
      },
      "outputs": [
        {
          "output_type": "execute_result",
          "data": {
            "text/plain": [
              "tensor(3.)"
            ]
          },
          "metadata": {},
          "execution_count": 39
        }
      ],
      "source": [
        "torch.sum(x * y)"
      ]
    },
    {
      "cell_type": "markdown",
      "id": "ebe8aff3",
      "metadata": {
        "origin_pos": 94,
        "id": "ebe8aff3"
      },
      "source": [
        "Dot products are useful in a wide range of contexts.\n",
        "For example, given some set of ***values***,\n",
        "denoted by a vector $\\mathbf{x}  \\in \\mathbb{R}^n$,\n",
        "and a set of ***weights***, denoted by $\\mathbf{w} \\in \\mathbb{R}^n$,\n",
        " ***the weighted sum of the values*** in $\\mathbf{x}$\n",
        "according to the weights $\\mathbf{w}$\n",
        "could be expressed as the dot product $\\mathbf{x}^\\top \\mathbf{w}$.\n",
        "When the weights are nonnegative\n",
        "and sum to $1$, i.e., $\\left(\\sum_{i=1}^{n} {w_i} = 1\\right)$,\n",
        "the dot product expresses a ***weighted average***.\n",
        "After ***normalizing*** two vectors to have unit length,\n",
        "the dot products express the cosine of the angle between them.\n",
        "Later in this section, we will formally introduce this notion of *length*.\n",
        "\n",
        "\n",
        "## Matrix--Vector Products\n",
        "\n",
        "Now that we know how to calculate dot products,\n",
        "we can begin to understand the *product*\n",
        "between an $m \\times n$ matrix $\\mathbf{A}$\n",
        "and an $n$-dimensional vector $\\mathbf{x}$.\n",
        "To start off, we visualize our matrix\n",
        "in terms of its row vectors\n",
        "\n",
        "$$\\mathbf{A}=\n",
        "\\begin{bmatrix}\n",
        "\\mathbf{a}^\\top_{1} \\\\\n",
        "\\mathbf{a}^\\top_{2} \\\\\n",
        "\\vdots \\\\\n",
        "\\mathbf{a}^\\top_m \\\\\n",
        "\\end{bmatrix},$$\n",
        "\n",
        "where each $\\mathbf{a}^\\top_{i} \\in \\mathbb{R}^n$\n",
        "is a row vector representing the $i^\\textrm{th}$ row\n",
        "of the matrix $\\mathbf{A}$.\n",
        "\n",
        "[**The matrix--vector product $\\mathbf{A}\\mathbf{x}$\n",
        "is simply a column vector of length $m$,\n",
        "whose $i^\\textrm{th}$ element is the dot product\n",
        "$\\mathbf{a}^\\top_i \\mathbf{x}$:**]\n",
        "\n",
        "$$\n",
        "\\mathbf{A}\\mathbf{x}\n",
        "= \\begin{bmatrix}\n",
        "\\mathbf{a}^\\top_{1} \\\\\n",
        "\\mathbf{a}^\\top_{2} \\\\\n",
        "\\vdots \\\\\n",
        "\\mathbf{a}^\\top_m \\\\\n",
        "\\end{bmatrix}\\mathbf{x}\n",
        "= \\begin{bmatrix}\n",
        " \\mathbf{a}^\\top_{1} \\mathbf{x}  \\\\\n",
        " \\mathbf{a}^\\top_{2} \\mathbf{x} \\\\\n",
        "\\vdots\\\\\n",
        " \\mathbf{a}^\\top_{m} \\mathbf{x}\\\\\n",
        "\\end{bmatrix}.\n",
        "$$\n",
        "\n",
        "We can think of multiplication with a matrix\n",
        "$\\mathbf{A}\\in \\mathbb{R}^{m \\times n}$\n",
        "as a transformation that projects vectors\n",
        "from $\\mathbb{R}^{n}$ to $\\mathbb{R}^{m}$.\n",
        "These transformations are remarkably useful.\n",
        "For example, we can represent rotations\n",
        "as multiplications by certain square matrices.\n",
        "Matrix--vector products also describe\n",
        "the key calculation involved in computing\n",
        "the outputs of each layer in a neural network\n",
        "given the outputs from the previous layer.\n"
      ]
    },
    {
      "cell_type": "markdown",
      "id": "b3769117",
      "metadata": {
        "origin_pos": 96,
        "tab": [
          "pytorch"
        ],
        "id": "b3769117"
      },
      "source": [
        "To express a matrix--vector product in code,\n",
        "we use the `mv` function.\n",
        "Note that the column dimension of `A`\n",
        "(its length along axis 1)\n",
        "must be the same as the dimension of `x` (its length).\n",
        "Python has a convenience operator `@`\n",
        "that can execute both matrix--vector\n",
        "and matrix--matrix products\n",
        "(depending on its arguments).\n",
        "Thus we can write `A@x`.\n"
      ]
    },
    {
      "cell_type": "code",
      "source": [
        "A"
      ],
      "metadata": {
        "id": "kY_yolIejgXi",
        "outputId": "82568c6e-7300-4a72-dac7-ffd22c42851e",
        "colab": {
          "base_uri": "https://localhost:8080/"
        }
      },
      "id": "kY_yolIejgXi",
      "execution_count": 75,
      "outputs": [
        {
          "output_type": "execute_result",
          "data": {
            "text/plain": [
              "tensor([[0., 1., 2.],\n",
              "        [3., 4., 5.]])"
            ]
          },
          "metadata": {},
          "execution_count": 75
        }
      ]
    },
    {
      "cell_type": "code",
      "source": [
        "a1_T = A[0]\n",
        "a1_T, a1_T.unsqueeze(1)"
      ],
      "metadata": {
        "id": "iL3ZCZu3k9Wh",
        "outputId": "eadeec36-79fd-4128-8d0a-a04d80ab404e",
        "colab": {
          "base_uri": "https://localhost:8080/"
        }
      },
      "id": "iL3ZCZu3k9Wh",
      "execution_count": 76,
      "outputs": [
        {
          "output_type": "execute_result",
          "data": {
            "text/plain": [
              "(tensor([0., 1., 2.]),\n",
              " tensor([[0.],\n",
              "         [1.],\n",
              "         [2.]]))"
            ]
          },
          "metadata": {},
          "execution_count": 76
        }
      ]
    },
    {
      "cell_type": "code",
      "source": [
        "a1_T.unsqueeze(1) .shape, a1_T.shape"
      ],
      "metadata": {
        "id": "nsX0rE2HrfzN",
        "outputId": "3860714d-b7cf-41b3-b569-0c76016fb4e9",
        "colab": {
          "base_uri": "https://localhost:8080/"
        }
      },
      "id": "nsX0rE2HrfzN",
      "execution_count": 77,
      "outputs": [
        {
          "output_type": "execute_result",
          "data": {
            "text/plain": [
              "(torch.Size([3, 1]), torch.Size([3]))"
            ]
          },
          "metadata": {},
          "execution_count": 77
        }
      ]
    },
    {
      "cell_type": "code",
      "source": [
        "a1_T = torch.tensor([[0., 1., 2.]])"
      ],
      "metadata": {
        "id": "9Ux98zCKnKHp"
      },
      "id": "9Ux98zCKnKHp",
      "execution_count": 55,
      "outputs": []
    },
    {
      "cell_type": "code",
      "source": [
        "a1_T.T"
      ],
      "metadata": {
        "id": "AzAKLRCIm9qt",
        "outputId": "0e983512-9ad4-44b9-fe2d-44985ec99422",
        "colab": {
          "base_uri": "https://localhost:8080/"
        }
      },
      "id": "AzAKLRCIm9qt",
      "execution_count": 56,
      "outputs": [
        {
          "output_type": "execute_result",
          "data": {
            "text/plain": [
              "tensor([[0.],\n",
              "        [1.],\n",
              "        [2.]])"
            ]
          },
          "metadata": {},
          "execution_count": 56
        }
      ]
    },
    {
      "cell_type": "code",
      "source": [
        "a2_T = A[1]\n",
        "a2_T"
      ],
      "metadata": {
        "id": "yTdO62ggmKvY",
        "outputId": "71655487-1ff3-4742-b1ea-274e5beae6eb",
        "colab": {
          "base_uri": "https://localhost:8080/"
        }
      },
      "id": "yTdO62ggmKvY",
      "execution_count": 49,
      "outputs": [
        {
          "output_type": "execute_result",
          "data": {
            "text/plain": [
              "tensor([3., 4., 5.])"
            ]
          },
          "metadata": {},
          "execution_count": 49
        }
      ]
    },
    {
      "cell_type": "code",
      "source": [
        "A = torch.stack([a1_T, a2_T])\n",
        "A"
      ],
      "metadata": {
        "id": "62WvCfBVmapm",
        "outputId": "27666e49-649d-45f9-eb61-65d1321e6863",
        "colab": {
          "base_uri": "https://localhost:8080/"
        }
      },
      "id": "62WvCfBVmapm",
      "execution_count": 53,
      "outputs": [
        {
          "output_type": "execute_result",
          "data": {
            "text/plain": [
              "tensor([[0., 1., 2.],\n",
              "        [3., 4., 5.]])"
            ]
          },
          "metadata": {},
          "execution_count": 53
        }
      ]
    },
    {
      "cell_type": "code",
      "source": [
        "x"
      ],
      "metadata": {
        "id": "sD2uWqkWjkeb",
        "outputId": "51432f4e-b6c4-4ee9-9f94-69edb86ac6cc",
        "colab": {
          "base_uri": "https://localhost:8080/"
        }
      },
      "id": "sD2uWqkWjkeb",
      "execution_count": 44,
      "outputs": [
        {
          "output_type": "execute_result",
          "data": {
            "text/plain": [
              "tensor([0., 1., 2.])"
            ]
          },
          "metadata": {},
          "execution_count": 44
        }
      ]
    },
    {
      "cell_type": "code",
      "execution_count": null,
      "id": "1a99c29a",
      "metadata": {
        "execution": {
          "iopub.execute_input": "2023-08-18T19:41:53.710181Z",
          "iopub.status.busy": "2023-08-18T19:41:53.709041Z",
          "iopub.status.idle": "2023-08-18T19:41:53.719479Z",
          "shell.execute_reply": "2023-08-18T19:41:53.718068Z"
        },
        "origin_pos": 99,
        "tab": [
          "pytorch"
        ],
        "id": "1a99c29a",
        "outputId": "df57a4f2-6361-472c-d625-6069b776dbb0"
      },
      "outputs": [
        {
          "data": {
            "text/plain": [
              "(torch.Size([2, 3]), torch.Size([3]), tensor([ 5., 14.]), tensor([ 5., 14.]))"
            ]
          },
          "execution_count": 26,
          "metadata": {},
          "output_type": "execute_result"
        }
      ],
      "source": [
        "A.shape, x.shape, torch.mv(A, x), A@x"
      ]
    },
    {
      "cell_type": "markdown",
      "source": [
        "------------------\n",
        "# NOTE\n",
        "***what's the difference between tensor([0., 1., 2.]) and torch.tensor([[0., 1., 2.]])?***\n",
        "\n",
        "| Expression                     | Shape        | Interpretation            |\n",
        "| ------------------------------ | ------------ | ------------------------- |\n",
        "| `torch.tensor([0., 1., 2.])`   | **`[3]`**    | 1D tensor (no rows/cols)  |\n",
        "| `torch.tensor([[0., 1., 2.]])` | **`[1, 3]`** | 2D tensor (1 row, 3 cols) |\n",
        "\n",
        "🧠 Conceptually:\n",
        "\n",
        "- tensor([0., 1., 2.]) is a 1D vector — PyTorch doesn't treat it as a row or column.\n",
        "\n",
        "- tensor([[0., 1., 2.]]) is a 2D row vector — explicitly 1 row and 3 columns."
      ],
      "metadata": {
        "id": "affM0Al0nsRz"
      },
      "id": "affM0Al0nsRz"
    },
    {
      "cell_type": "code",
      "source": [
        "v1 = torch.tensor([0., 1., 2.])   # shape: [3]\n",
        "v2 = torch.tensor([[0., 1., 2.]])    # shape: [1, 3]\n",
        "v1.shape , v2.shape"
      ],
      "metadata": {
        "id": "vVIW49jUn_fM",
        "outputId": "e76e69aa-1288-4629-f7bf-d7bb65ac2b83",
        "colab": {
          "base_uri": "https://localhost:8080/"
        }
      },
      "id": "vVIW49jUn_fM",
      "execution_count": 61,
      "outputs": [
        {
          "output_type": "execute_result",
          "data": {
            "text/plain": [
              "(torch.Size([3]), torch.Size([1, 3]))"
            ]
          },
          "metadata": {},
          "execution_count": 61
        }
      ]
    },
    {
      "cell_type": "code",
      "source": [
        "v1.T, v2.T"
      ],
      "metadata": {
        "id": "9xH2r5RaoSlU",
        "outputId": "85d2fd75-220e-4c25-895c-905061891e7e",
        "colab": {
          "base_uri": "https://localhost:8080/"
        }
      },
      "id": "9xH2r5RaoSlU",
      "execution_count": 62,
      "outputs": [
        {
          "output_type": "execute_result",
          "data": {
            "text/plain": [
              "(tensor([0., 1., 2.]),\n",
              " tensor([[0.],\n",
              "         [1.],\n",
              "         [2.]]))"
            ]
          },
          "metadata": {},
          "execution_count": 62
        }
      ]
    },
    {
      "cell_type": "markdown",
      "source": [
        "✅ Use Cases:\n",
        "Use tensor([x, y, z]) when you want a simple 1D vector (e.g., indexing, plotting).\n",
        "\n",
        "Use tensor([[x, y, z]]) if you're doing matrix operations, transposes, or want clear 2D structure."
      ],
      "metadata": {
        "id": "IYdFB0wOofxC"
      },
      "id": "IYdFB0wOofxC"
    },
    {
      "cell_type": "markdown",
      "source": [
        "***How to get the column vector of A use code?***\n",
        "\n",
        "---\n",
        "\n",
        "\n",
        "Example: Get the first column as a column vector:\n",
        "\n",
        "`col0 = A[:, 0].unsqueeze(1)`  # shape: [2, 1]\n",
        "\n",
        "A[:, 0] → selects all rows of column 0 → shape: [2] (1D)\n",
        "\n",
        ".unsqueeze(1) → reshapes it into [2, 1] → a proper column vector\n"
      ],
      "metadata": {
        "id": "p8RptwPwoyUs"
      },
      "id": "p8RptwPwoyUs"
    },
    {
      "cell_type": "code",
      "source": [
        "col0 = A[:, 0].unsqueeze(1)  # [[0.], [3.]]\n",
        "col1 = A[:, 1].unsqueeze(1)  # [[1.], [4.]]\n",
        "col2 = A[:, 2].unsqueeze(1)  # [[2.], [5.]]\n",
        "\n",
        "\n",
        "\n",
        "columns = [A[:, i].unsqueeze(1) for i in range(A.shape[1])]"
      ],
      "metadata": {
        "id": "1D-Okgktofdv"
      },
      "id": "1D-Okgktofdv",
      "execution_count": 63,
      "outputs": []
    },
    {
      "cell_type": "code",
      "source": [
        "A[:, 0].unsqueeze(1)"
      ],
      "metadata": {
        "id": "YbZH_k5WpT5X",
        "outputId": "811418f9-c8cb-4405-bdff-31b752ff36b2",
        "colab": {
          "base_uri": "https://localhost:8080/"
        }
      },
      "id": "YbZH_k5WpT5X",
      "execution_count": 68,
      "outputs": [
        {
          "output_type": "execute_result",
          "data": {
            "text/plain": [
              "tensor([[0.],\n",
              "        [3.]])"
            ]
          },
          "metadata": {},
          "execution_count": 68
        }
      ]
    },
    {
      "cell_type": "code",
      "source": [
        "A[0, :]"
      ],
      "metadata": {
        "id": "ggQw1-_AptL_",
        "outputId": "a0b0ca2e-211f-4dfc-dcae-f5e2a0c23678",
        "colab": {
          "base_uri": "https://localhost:8080/"
        }
      },
      "id": "ggQw1-_AptL_",
      "execution_count": 69,
      "outputs": [
        {
          "output_type": "execute_result",
          "data": {
            "text/plain": [
              "tensor([0., 1., 2.])"
            ]
          },
          "metadata": {},
          "execution_count": 69
        }
      ]
    },
    {
      "cell_type": "markdown",
      "source": [],
      "metadata": {
        "id": "yeK3q-mcnsJ_"
      },
      "id": "yeK3q-mcnsJ_"
    },
    {
      "cell_type": "markdown",
      "id": "00e00436",
      "metadata": {
        "origin_pos": 102,
        "id": "00e00436"
      },
      "source": [
        "## Matrix--Matrix Multiplication\n",
        "\n",
        "Once you have gotten the hang of dot products and matrix--vector products,\n",
        "then *matrix--matrix multiplication* should be straightforward.\n",
        "\n",
        "Say that we have two matrices\n",
        "$\\mathbf{A} \\in \\mathbb{R}^{n \\times k}$\n",
        "and $\\mathbf{B} \\in \\mathbb{R}^{k \\times m}$:\n",
        "\n",
        "$$\\mathbf{A}=\\begin{bmatrix}\n",
        " a_{11} & a_{12} & \\cdots & a_{1k} \\\\\n",
        " a_{21} & a_{22} & \\cdots & a_{2k} \\\\\n",
        "\\vdots & \\vdots & \\ddots & \\vdots \\\\\n",
        " a_{n1} & a_{n2} & \\cdots & a_{nk} \\\\\n",
        "\\end{bmatrix},\\quad\n",
        "\\mathbf{B}=\\begin{bmatrix}\n",
        " b_{11} & b_{12} & \\cdots & b_{1m} \\\\\n",
        " b_{21} & b_{22} & \\cdots & b_{2m} \\\\\n",
        "\\vdots & \\vdots & \\ddots & \\vdots \\\\\n",
        " b_{k1} & b_{k2} & \\cdots & b_{km} \\\\\n",
        "\\end{bmatrix}.$$\n",
        "\n",
        "\n",
        "Let $\\mathbf{a}^\\top_{i} \\in \\mathbb{R}^k$ denote\n",
        "the row vector representing the $i^\\textrm{th}$ row\n",
        "of the matrix $\\mathbf{A}$\n",
        "and let $\\mathbf{b}_{j} \\in \\mathbb{R}^k$ denote\n",
        "the column vector from the $j^\\textrm{th}$ column\n",
        "of the matrix $\\mathbf{B}$:\n",
        "\n",
        "$$\\mathbf{A}=\n",
        "\\begin{bmatrix}\n",
        "\\mathbf{a}^\\top_{1} \\\\\n",
        "\\mathbf{a}^\\top_{2} \\\\\n",
        "\\vdots \\\\\n",
        "\\mathbf{a}^\\top_n \\\\\n",
        "\\end{bmatrix},\n",
        "\\quad \\mathbf{B}=\\begin{bmatrix}\n",
        " \\mathbf{b}_{1} & \\mathbf{b}_{2} & \\cdots & \\mathbf{b}_{m} \\\\\n",
        "\\end{bmatrix}.\n",
        "$$\n",
        "\n",
        "\n",
        "To form the matrix product $\\mathbf{C} \\in \\mathbb{R}^{n \\times m}$,\n",
        "we simply compute each element $c_{ij}$\n",
        "as the dot product between\n",
        "the $i^{\\textrm{th}}$ row of $\\mathbf{A}$\n",
        "and the $j^{\\textrm{th}}$ column of $\\mathbf{B}$,\n",
        "i.e., $\\mathbf{a}^\\top_i \\mathbf{b}_j$:\n",
        "\n",
        "$$\\mathbf{C} = \\mathbf{AB} = \\begin{bmatrix}\n",
        "\\mathbf{a}^\\top_{1} \\\\\n",
        "\\mathbf{a}^\\top_{2} \\\\\n",
        "\\vdots \\\\\n",
        "\\mathbf{a}^\\top_n \\\\\n",
        "\\end{bmatrix}\n",
        "\\begin{bmatrix}\n",
        " \\mathbf{b}_{1} & \\mathbf{b}_{2} & \\cdots & \\mathbf{b}_{m} \\\\\n",
        "\\end{bmatrix}\n",
        "= \\begin{bmatrix}\n",
        "\\mathbf{a}^\\top_{1} \\mathbf{b}_1 & \\mathbf{a}^\\top_{1}\\mathbf{b}_2& \\cdots & \\mathbf{a}^\\top_{1} \\mathbf{b}_m \\\\\n",
        " \\mathbf{a}^\\top_{2}\\mathbf{b}_1 & \\mathbf{a}^\\top_{2} \\mathbf{b}_2 & \\cdots & \\mathbf{a}^\\top_{2} \\mathbf{b}_m \\\\\n",
        " \\vdots & \\vdots & \\ddots &\\vdots\\\\\n",
        "\\mathbf{a}^\\top_{n} \\mathbf{b}_1 & \\mathbf{a}^\\top_{n}\\mathbf{b}_2& \\cdots& \\mathbf{a}^\\top_{n} \\mathbf{b}_m\n",
        "\\end{bmatrix}.\n",
        "$$\n",
        "\n",
        "[**We can think of the matrix--matrix multiplication $\\mathbf{AB}$\n",
        "as performing $m$ matrix--vector products\n",
        "or $m \\times n$ dot products\n",
        "and stitching the results together\n",
        "to form an $n \\times m$ matrix.**]\n",
        "In the following snippet,\n",
        "we perform matrix multiplication on `A` and `B`.\n",
        "Here, `A` is a matrix with two rows and three columns,\n",
        "and `B` is a matrix with three rows and four columns.\n",
        "After multiplication, we obtain a matrix with two rows and four columns.\n"
      ]
    },
    {
      "cell_type": "code",
      "source": [
        "A"
      ],
      "metadata": {
        "id": "8DtMVrRVtKhZ",
        "outputId": "8a62957d-f6a3-46b6-db02-851248532975",
        "colab": {
          "base_uri": "https://localhost:8080/"
        }
      },
      "id": "8DtMVrRVtKhZ",
      "execution_count": 78,
      "outputs": [
        {
          "output_type": "execute_result",
          "data": {
            "text/plain": [
              "tensor([[0., 1., 2.],\n",
              "        [3., 4., 5.]])"
            ]
          },
          "metadata": {},
          "execution_count": 78
        }
      ]
    },
    {
      "cell_type": "code",
      "source": [
        "B = torch.ones(3, 4)\n",
        "B"
      ],
      "metadata": {
        "id": "vlYrytM5tMT7",
        "outputId": "17df908a-c341-47cb-f9b9-c3817599882f",
        "colab": {
          "base_uri": "https://localhost:8080/"
        }
      },
      "id": "vlYrytM5tMT7",
      "execution_count": 80,
      "outputs": [
        {
          "output_type": "execute_result",
          "data": {
            "text/plain": [
              "tensor([[1., 1., 1., 1.],\n",
              "        [1., 1., 1., 1.],\n",
              "        [1., 1., 1., 1.]])"
            ]
          },
          "metadata": {},
          "execution_count": 80
        }
      ]
    },
    {
      "cell_type": "code",
      "source": [
        "A.shape, B.shape"
      ],
      "metadata": {
        "id": "Slzzy8gvttwB",
        "outputId": "2f746331-d8e0-4f1a-ff1c-ca91f0d53a93",
        "colab": {
          "base_uri": "https://localhost:8080/"
        }
      },
      "id": "Slzzy8gvttwB",
      "execution_count": 83,
      "outputs": [
        {
          "output_type": "execute_result",
          "data": {
            "text/plain": [
              "(torch.Size([2, 3]), torch.Size([3, 4]))"
            ]
          },
          "metadata": {},
          "execution_count": 83
        }
      ]
    },
    {
      "cell_type": "code",
      "execution_count": 81,
      "id": "99535047",
      "metadata": {
        "execution": {
          "iopub.execute_input": "2023-08-18T19:41:53.723651Z",
          "iopub.status.busy": "2023-08-18T19:41:53.722762Z",
          "iopub.status.idle": "2023-08-18T19:41:53.732227Z",
          "shell.execute_reply": "2023-08-18T19:41:53.731088Z"
        },
        "origin_pos": 104,
        "tab": [
          "pytorch"
        ],
        "id": "99535047",
        "outputId": "7e5a4cf0-7a4b-46f0-ebc2-c8c706bebaa2",
        "colab": {
          "base_uri": "https://localhost:8080/"
        }
      },
      "outputs": [
        {
          "output_type": "execute_result",
          "data": {
            "text/plain": [
              "(tensor([[ 3.,  3.,  3.,  3.],\n",
              "         [12., 12., 12., 12.]]),\n",
              " tensor([[ 3.,  3.,  3.,  3.],\n",
              "         [12., 12., 12., 12.]]))"
            ]
          },
          "metadata": {},
          "execution_count": 81
        }
      ],
      "source": [
        "torch.mm(A, B), A@B"
      ]
    },
    {
      "cell_type": "code",
      "source": [],
      "metadata": {
        "id": "5Uo9B3UFwJF5"
      },
      "id": "5Uo9B3UFwJF5",
      "execution_count": null,
      "outputs": []
    },
    {
      "cell_type": "markdown",
      "source": [
        "The term *matrix--matrix multiplication* is\n",
        "often simplified to *matrix multiplication*,\n",
        "and should not be confused with the Hadamard product.\n"
      ],
      "metadata": {
        "id": "z4VZK7Uiv_QS"
      },
      "id": "z4VZK7Uiv_QS"
    },
    {
      "cell_type": "code",
      "source": [
        "A*B"
      ],
      "metadata": {
        "id": "FFZCEYg1v_1p",
        "outputId": "63d7470e-cc80-4bf6-e7f7-2eab4137a7df",
        "colab": {
          "base_uri": "https://localhost:8080/",
          "height": 141
        }
      },
      "id": "FFZCEYg1v_1p",
      "execution_count": 84,
      "outputs": [
        {
          "output_type": "error",
          "ename": "RuntimeError",
          "evalue": "The size of tensor a (3) must match the size of tensor b (4) at non-singleton dimension 1",
          "traceback": [
            "\u001b[0;31m---------------------------------------------------------------------------\u001b[0m",
            "\u001b[0;31mRuntimeError\u001b[0m                              Traceback (most recent call last)",
            "\u001b[0;32m<ipython-input-84-47896efed660>\u001b[0m in \u001b[0;36m<cell line: 0>\u001b[0;34m()\u001b[0m\n\u001b[0;32m----> 1\u001b[0;31m \u001b[0mA\u001b[0m\u001b[0;34m*\u001b[0m\u001b[0mB\u001b[0m\u001b[0;34m\u001b[0m\u001b[0;34m\u001b[0m\u001b[0m\n\u001b[0m",
            "\u001b[0;31mRuntimeError\u001b[0m: The size of tensor a (3) must match the size of tensor b (4) at non-singleton dimension 1"
          ]
        }
      ]
    },
    {
      "cell_type": "markdown",
      "id": "28a86db3",
      "metadata": {
        "origin_pos": 107,
        "id": "28a86db3"
      },
      "source": [
        "\n",
        "\n",
        "## Norms\n",
        ":label:`subsec_lin-algebra-norms`\n",
        "\n",
        "Some of the most useful operators in linear algebra are *norms*.\n",
        "Informally, the norm of a vector tells us how *big* it is.\n",
        "For instance, the $\\ell_2$ norm measures\n",
        "the (Euclidean) length of a vector.\n",
        "Here, we are employing a notion of *size* that concerns the magnitude of a vector's components\n",
        "(not its dimensionality).\n",
        "\n",
        "A norm is a function $\\| \\cdot \\|$ that maps a vector\n",
        "to a scalar and satisfies the following three properties:\n",
        "\n",
        "1. Given any vector $\\mathbf{x}$, if we scale (all elements of) the vector\n",
        "   by a scalar $\\alpha \\in \\mathbb{R}$, its norm scales accordingly:\n",
        "   $$\\|\\alpha \\mathbf{x}\\| = |\\alpha| \\|\\mathbf{x}\\|.$$\n",
        "2. For any vectors $\\mathbf{x}$ and $\\mathbf{y}$:\n",
        "   norms satisfy the triangle inequality:\n",
        "   $$\\|\\mathbf{x} + \\mathbf{y}\\| \\leq \\|\\mathbf{x}\\| + \\|\\mathbf{y}\\|.$$\n",
        "3. The norm of a vector is nonnegative and it only vanishes if the vector is zero:\n",
        "   $$\\|\\mathbf{x}\\| > 0 \\textrm{ for all } \\mathbf{x} \\neq 0.$$\n",
        "\n",
        "Many functions are valid norms and different norms\n",
        "encode different notions of size.\n",
        "The Euclidean norm that we all learned in elementary school geometry\n",
        "when calculating the hypotenuse of a right triangle\n",
        "is the square root of the sum of squares of a vector's elements.\n",
        "Formally, this is called [**the $\\ell_2$ *norm***] and expressed as\n",
        "\n",
        "(**$$\\|\\mathbf{x}\\|_2 = \\sqrt{\\sum_{i=1}^n x_i^2}.$$**)\n",
        "\n",
        "The method `norm` calculates the $\\ell_2$ norm.\n"
      ]
    },
    {
      "cell_type": "code",
      "execution_count": 85,
      "id": "e215c544",
      "metadata": {
        "execution": {
          "iopub.execute_input": "2023-08-18T19:41:53.735890Z",
          "iopub.status.busy": "2023-08-18T19:41:53.735108Z",
          "iopub.status.idle": "2023-08-18T19:41:53.742412Z",
          "shell.execute_reply": "2023-08-18T19:41:53.741311Z"
        },
        "origin_pos": 109,
        "tab": [
          "pytorch"
        ],
        "id": "e215c544",
        "outputId": "b6817ce2-7e32-4dc9-f83a-090dd981286a",
        "colab": {
          "base_uri": "https://localhost:8080/"
        }
      },
      "outputs": [
        {
          "output_type": "execute_result",
          "data": {
            "text/plain": [
              "tensor(5.)"
            ]
          },
          "metadata": {},
          "execution_count": 85
        }
      ],
      "source": [
        "u = torch.tensor([3.0, -4.0])\n",
        "torch.norm(u)"
      ]
    },
    {
      "cell_type": "markdown",
      "id": "d80835a0",
      "metadata": {
        "origin_pos": 112,
        "id": "d80835a0"
      },
      "source": [
        "[**The $\\ell_1$ norm**] is also common\n",
        "and the associated measure is called the Manhattan distance.\n",
        "By definition, the $\\ell_1$ norm sums\n",
        "the absolute values of a vector's elements:\n",
        "\n",
        "(**$$\\|\\mathbf{x}\\|_1 = \\sum_{i=1}^n \\left|x_i \\right|.$$**)\n",
        "\n",
        "Compared to the $\\ell_2$ norm, it is less sensitive to outliers.\n",
        "To compute the $\\ell_1$ norm,\n",
        "we compose the absolute value\n",
        "with the sum operation.\n"
      ]
    },
    {
      "cell_type": "code",
      "execution_count": 86,
      "id": "8a3e0562",
      "metadata": {
        "execution": {
          "iopub.execute_input": "2023-08-18T19:41:53.746107Z",
          "iopub.status.busy": "2023-08-18T19:41:53.745359Z",
          "iopub.status.idle": "2023-08-18T19:41:53.752438Z",
          "shell.execute_reply": "2023-08-18T19:41:53.751302Z"
        },
        "origin_pos": 114,
        "tab": [
          "pytorch"
        ],
        "id": "8a3e0562",
        "outputId": "c96d6d98-4d30-4fb7-9d97-7179b0a2b7fe",
        "colab": {
          "base_uri": "https://localhost:8080/"
        }
      },
      "outputs": [
        {
          "output_type": "execute_result",
          "data": {
            "text/plain": [
              "tensor(7.)"
            ]
          },
          "metadata": {},
          "execution_count": 86
        }
      ],
      "source": [
        "torch.abs(u).sum()"
      ]
    },
    {
      "cell_type": "markdown",
      "id": "727b4843",
      "metadata": {
        "origin_pos": 117,
        "id": "727b4843"
      },
      "source": [
        "Both the $\\ell_2$ and $\\ell_1$ norms are special cases\n",
        "of the more general $\\ell_p$ *norms*:\n",
        "\n",
        "$$\\|\\mathbf{x}\\|_p = \\left(\\sum_{i=1}^n \\left|x_i \\right|^p \\right)^{1/p}.$$\n",
        "\n",
        "In the case of matrices, matters are more complicated.\n",
        "After all, matrices can be viewed both as collections of individual entries\n",
        "*and* as objects that operate on vectors and transform them into other vectors.\n",
        "For instance, we can ask by how much longer\n",
        "the matrix--vector product $\\mathbf{X} \\mathbf{v}$\n",
        "could be relative to $\\mathbf{v}$.\n",
        "This line of thought leads to what is called the *spectral* norm.\n",
        "For now, we introduce [**the *Frobenius norm*,\n",
        "which is much easier to compute**] and defined as\n",
        "the square root of the sum of the squares\n",
        "of a matrix's elements:\n",
        "\n",
        "[**$$\\|\\mathbf{X}\\|_\\textrm{F} = \\sqrt{\\sum_{i=1}^m \\sum_{j=1}^n x_{ij}^2}.$$**]\n",
        "\n",
        "The Frobenius norm behaves as if it were\n",
        "an $\\ell_2$ norm of a matrix-shaped vector.\n",
        "Invoking the following function will calculate\n",
        "the Frobenius norm of a matrix.\n"
      ]
    },
    {
      "cell_type": "code",
      "execution_count": 87,
      "id": "3e00a124",
      "metadata": {
        "execution": {
          "iopub.execute_input": "2023-08-18T19:41:53.756072Z",
          "iopub.status.busy": "2023-08-18T19:41:53.755281Z",
          "iopub.status.idle": "2023-08-18T19:41:53.762237Z",
          "shell.execute_reply": "2023-08-18T19:41:53.761172Z"
        },
        "origin_pos": 119,
        "tab": [
          "pytorch"
        ],
        "id": "3e00a124",
        "outputId": "57b02024-a0d6-4dff-fc79-276972937587",
        "colab": {
          "base_uri": "https://localhost:8080/"
        }
      },
      "outputs": [
        {
          "output_type": "execute_result",
          "data": {
            "text/plain": [
              "tensor(6.)"
            ]
          },
          "metadata": {},
          "execution_count": 87
        }
      ],
      "source": [
        "torch.norm(torch.ones((4, 9)))"
      ]
    },
    {
      "cell_type": "markdown",
      "source": [
        "![截圖 2025-06-07 下午10.34.25.png](data:image/png;base64,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)"
      ],
      "metadata": {
        "id": "uTe2_MhO0Kzi"
      },
      "id": "uTe2_MhO0Kzi"
    },
    {
      "cell_type": "markdown",
      "id": "b8478a55",
      "metadata": {
        "origin_pos": 122,
        "id": "b8478a55"
      },
      "source": [
        "While we do not want to get too far ahead of ourselves,\n",
        "we already can plant some intuition about why these concepts are useful.\n",
        "In deep learning, we are often trying to solve optimization problems:\n",
        "*maximize* the probability assigned to observed data;\n",
        "*maximize* the revenue associated with a recommender model;\n",
        "*minimize* the distance between predictions\n",
        "and the ground truth observations;\n",
        "*minimize* the distance between representations\n",
        "of photos of the same person\n",
        "while *maximizing* the distance between representations\n",
        "of photos of different people.\n",
        "These distances, which constitute\n",
        "the objectives of deep learning algorithms,\n",
        "are often expressed as norms.\n",
        "\n",
        "\n",
        "## Discussion\n",
        "\n",
        "In this section, we have reviewed all the linear algebra\n",
        "that you will need to understand\n",
        "a significant chunk of modern deep learning.\n",
        "There is a lot more to linear algebra, though,\n",
        "and much of it is useful for machine learning.\n",
        "For example, matrices can be decomposed into factors,\n",
        "and these decompositions can reveal\n",
        "low-dimensional structure in real-world datasets.\n",
        "There are entire subfields of machine learning\n",
        "that focus on using matrix decompositions\n",
        "and their generalizations to high-order tensors\n",
        "to discover structure in datasets\n",
        "and solve prediction problems.\n",
        "But this book focuses on deep learning.\n",
        "And we believe you will be more inclined\n",
        "to learn more mathematics\n",
        "once you have gotten your hands dirty\n",
        "applying machine learning to real datasets.\n",
        "So while we reserve the right\n",
        "to introduce more mathematics later on,\n",
        "we wrap up this section here.\n",
        "\n",
        "If you are eager to learn more linear algebra,\n",
        "there are many excellent books and online resources.\n",
        "For a more advanced crash course, consider checking out\n",
        ":citet:`Strang.1993`, :citet:`Kolter.2008`, and :citet:`Petersen.Pedersen.ea.2008`.\n",
        "\n",
        "To recap:\n",
        "\n",
        "* Scalars, vectors, matrices, and tensors are\n",
        "  the basic mathematical objects used in linear algebra\n",
        "  and have zero, one, two, and an arbitrary number of axes, respectively.\n",
        "* Tensors can be sliced or reduced along specified axes\n",
        "  via indexing, or operations such as `sum` and `mean`, respectively.\n",
        "* Elementwise products are called Hadamard products.\n",
        "  By contrast, dot products, matrix--vector products, and matrix--matrix products\n",
        "  are not elementwise operations and in general return objects\n",
        "  having shapes that are different from the the operands.\n",
        "* Compared to Hadamard products, matrix--matrix products\n",
        "  take considerably longer to compute (cubic rather than quadratic time).\n",
        "* Norms capture various notions of the magnitude of a vector (or matrix),\n",
        "  and are commonly applied to the difference of two vectors\n",
        "  to measure their distance apart.\n",
        "* Common vector norms include the $\\ell_1$ and $\\ell_2$ norms,\n",
        "   and common matrix norms include the *spectral* and *Frobenius* norms.\n",
        "\n",
        "\n",
        "## Exercises\n",
        "\n",
        "1. Prove that the transpose of the transpose of a matrix is the matrix itself: $(\\mathbf{A}^\\top)^\\top = \\mathbf{A}$.\n",
        "1. Given two matrices $\\mathbf{A}$ and $\\mathbf{B}$, show that sum and transposition commute: $\\mathbf{A}^\\top + \\mathbf{B}^\\top = (\\mathbf{A} + \\mathbf{B})^\\top$.\n",
        "1. Given any square matrix $\\mathbf{A}$, is $\\mathbf{A} + \\mathbf{A}^\\top$ always symmetric? Can you prove the result by using only the results of the previous two exercises?\n",
        "1. We defined the tensor `X` of shape (2, 3, 4) in this section. What is the output of `len(X)`? Write your answer without implementing any code, then check your answer using code.\n",
        "1. For a tensor `X` of arbitrary shape, does `len(X)` always correspond to the length of a certain axis of `X`? What is that axis?\n",
        "1. Run `A / A.sum(axis=1)` and see what happens. Can you analyze the results?\n",
        "1. When traveling between two points in downtown Manhattan, what is the distance that you need to cover in terms of the coordinates, i.e., in terms of avenues and streets? Can you travel diagonally?\n",
        "1. Consider a tensor of shape (2, 3, 4). What are the shapes of the summation outputs along axes 0, 1, and 2?\n",
        "1. Feed a tensor with three or more axes to the `linalg.norm` function and observe its output. What does this function compute for tensors of arbitrary shape?\n",
        "1. Consider three large matrices, say $\\mathbf{A} \\in \\mathbb{R}^{2^{10} \\times 2^{16}}$, $\\mathbf{B} \\in \\mathbb{R}^{2^{16} \\times 2^{5}}$ and $\\mathbf{C} \\in \\mathbb{R}^{2^{5} \\times 2^{14}}$, initialized with Gaussian random variables. You want to compute the product $\\mathbf{A} \\mathbf{B} \\mathbf{C}$. Is there any difference in memory footprint and speed, depending on whether you compute $(\\mathbf{A} \\mathbf{B}) \\mathbf{C}$ or $\\mathbf{A} (\\mathbf{B} \\mathbf{C})$. Why?\n",
        "1. Consider three large matrices, say $\\mathbf{A} \\in \\mathbb{R}^{2^{10} \\times 2^{16}}$, $\\mathbf{B} \\in \\mathbb{R}^{2^{16} \\times 2^{5}}$ and $\\mathbf{C} \\in \\mathbb{R}^{2^{5} \\times 2^{16}}$. Is there any difference in speed depending on whether you compute $\\mathbf{A} \\mathbf{B}$ or $\\mathbf{A} \\mathbf{C}^\\top$? Why? What changes if you initialize $\\mathbf{C} = \\mathbf{B}^\\top$ without cloning memory? Why?\n",
        "1. Consider three matrices, say $\\mathbf{A}, \\mathbf{B}, \\mathbf{C} \\in \\mathbb{R}^{100 \\times 200}$. Construct a tensor with three axes by stacking $[\\mathbf{A}, \\mathbf{B}, \\mathbf{C}]$. What is the dimensionality? Slice out the second coordinate of the third axis to recover $\\mathbf{B}$. Check that your answer is correct.\n"
      ]
    },
    {
      "cell_type": "markdown",
      "id": "9f0b33af",
      "metadata": {
        "origin_pos": 124,
        "tab": [
          "pytorch"
        ],
        "id": "9f0b33af"
      },
      "source": [
        "[Discussions](https://discuss.d2l.ai/t/31)\n"
      ]
    },
    {
      "cell_type": "markdown",
      "source": [],
      "metadata": {
        "id": "uTaqzic50Bmd"
      },
      "id": "uTaqzic50Bmd"
    },
    {
      "cell_type": "code",
      "source": [
        "import torch\n",
        "\n",
        "X = torch.randn(2, 3, 4)\n",
        "print(len(X))  # Output: 2"
      ],
      "metadata": {
        "id": "lPgCf4my-BGy",
        "outputId": "df4d7d65-1be7-4ff5-89d2-e37ce6b5504a",
        "colab": {
          "base_uri": "https://localhost:8080/"
        }
      },
      "id": "lPgCf4my-BGy",
      "execution_count": 88,
      "outputs": [
        {
          "output_type": "stream",
          "name": "stdout",
          "text": [
            "2\n"
          ]
        }
      ]
    }
  ],
  "metadata": {
    "kernelspec": {
      "display_name": "Python 3",
      "name": "python3"
    },
    "language_info": {
      "name": "python"
    },
    "required_libs": [],
    "colab": {
      "provenance": [],
      "include_colab_link": true
    }
  },
  "nbformat": 4,
  "nbformat_minor": 5
}