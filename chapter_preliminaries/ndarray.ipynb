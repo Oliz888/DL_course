{
  "cells": [
    {
      "cell_type": "markdown",
      "id": "8e54cd7b",
      "metadata": {
        "origin_pos": 0,
        "id": "8e54cd7b"
      },
      "source": [
        "# 数据操作\n",
        ":label:`sec_ndarray`\n",
        "\n",
        "为了能够完成各种数据操作，我们需要某种方法来存储和操作数据。\n",
        "通常，我们需要做两件重要的事：（1）获取数据；（2）将数据读入计算机后对其进行处理。\n",
        "如果没有某种方法来存储数据，那么获取数据是没有意义的。\n",
        "\n",
        "首先，我们介绍$n$维数组，也称为*张量*（tensor）。\n",
        "使用过Python中NumPy计算包的读者会对本部分很熟悉。\n",
        "无论使用哪个深度学习框架，它的*张量类*（在MXNet中为`ndarray`，\n",
        "在PyTorch和TensorFlow中为`Tensor`）都与Numpy的`ndarray`类似。\n",
        "但深度学习框架又比Numpy的`ndarray`多一些重要功能：\n",
        "首先，GPU很好地支持加速计算，而NumPy仅支持CPU计算；\n",
        "其次，张量类支持自动微分。\n",
        "这些功能使得张量类更适合深度学习。\n",
        "如果没有特殊说明，本书中所说的张量均指的是张量类的实例。\n",
        "\n",
        "## 入门\n",
        "\n",
        "本节的目标是帮助读者了解并运行一些在阅读本书的过程中会用到的基本数值计算工具。\n",
        "如果你很难理解一些数学概念或库函数，请不要担心。\n",
        "后面的章节将通过一些实际的例子来回顾这些内容。\n",
        "如果你已经具有相关经验，想要深入学习数学内容，可以跳过本节。\n"
      ]
    },
    {
      "cell_type": "markdown",
      "id": "a07b55fb",
      "metadata": {
        "origin_pos": 2,
        "tab": [
          "pytorch"
        ],
        "id": "a07b55fb"
      },
      "source": [
        "(**首先，我们导入`torch`。请注意，虽然它被称为PyTorch，但是代码中使用`torch`而不是`pytorch`。**)\n"
      ]
    },
    {
      "cell_type": "code",
      "execution_count": 1,
      "id": "278e6d3f",
      "metadata": {
        "execution": {
          "iopub.execute_input": "2023-08-18T07:05:01.545874Z",
          "iopub.status.busy": "2023-08-18T07:05:01.545147Z",
          "iopub.status.idle": "2023-08-18T07:05:02.992816Z",
          "shell.execute_reply": "2023-08-18T07:05:02.991719Z"
        },
        "origin_pos": 5,
        "tab": [
          "pytorch"
        ],
        "id": "278e6d3f"
      },
      "outputs": [],
      "source": [
        "import torch"
      ]
    },
    {
      "cell_type": "markdown",
      "id": "ad15bff7",
      "metadata": {
        "origin_pos": 8,
        "id": "ad15bff7"
      },
      "source": [
        "[**张量表示一个由数值组成的数组，这个数组可能有多个维度**]。\n",
        "具有一个轴的张量对应数学上的*向量*（vector）；\n",
        "具有两个轴的张量对应数学上的*矩阵*（matrix）；\n",
        "具有两个轴以上的张量没有特殊的数学名称。\n"
      ]
    },
    {
      "cell_type": "markdown",
      "id": "0723e844",
      "metadata": {
        "origin_pos": 10,
        "tab": [
          "pytorch"
        ],
        "id": "0723e844"
      },
      "source": [
        "首先，我们可以使用 `arange` 创建一个行向量 `x`。这个行向量包含以0开始的前12个整数，它们默认创建为整数。也可指定创建类型为浮点数。张量中的每个值都称为张量的 *元素*（element）。例如，张量 `x` 中有 12 个元素。除非额外指定，新的张量将存储在内存中，并采用基于CPU的计算。\n"
      ]
    },
    {
      "cell_type": "code",
      "execution_count": 6,
      "id": "b1700627",
      "metadata": {
        "execution": {
          "iopub.execute_input": "2023-08-18T07:05:02.997386Z",
          "iopub.status.busy": "2023-08-18T07:05:02.996970Z",
          "iopub.status.idle": "2023-08-18T07:05:03.007632Z",
          "shell.execute_reply": "2023-08-18T07:05:03.006483Z"
        },
        "origin_pos": 13,
        "tab": [
          "pytorch"
        ],
        "colab": {
          "base_uri": "https://localhost:8080/"
        },
        "id": "b1700627",
        "outputId": "d49cc281-341e-4131-b499-6660a8581d72"
      },
      "outputs": [
        {
          "output_type": "execute_result",
          "data": {
            "text/plain": [
              "tensor([ 0,  1,  2,  3,  4,  5,  6,  7,  8,  9, 10, 11])"
            ]
          },
          "metadata": {},
          "execution_count": 6
        }
      ],
      "source": [
        "x = torch.arange(12)\n",
        "y = torch.arange(120)\n",
        "x"
      ]
    },
    {
      "cell_type": "markdown",
      "id": "6c8ebb1e",
      "metadata": {
        "origin_pos": 16,
        "id": "6c8ebb1e"
      },
      "source": [
        "[**可以通过张量的`shape`属性来访问张量（沿每个轴的长度）的*形状***]\n",
        "(~~和张量中元素的总数~~)。\n"
      ]
    },
    {
      "cell_type": "code",
      "execution_count": 7,
      "id": "b86b6572",
      "metadata": {
        "execution": {
          "iopub.execute_input": "2023-08-18T07:05:03.011628Z",
          "iopub.status.busy": "2023-08-18T07:05:03.011110Z",
          "iopub.status.idle": "2023-08-18T07:05:03.017191Z",
          "shell.execute_reply": "2023-08-18T07:05:03.016193Z"
        },
        "origin_pos": 17,
        "tab": [
          "pytorch"
        ],
        "colab": {
          "base_uri": "https://localhost:8080/"
        },
        "id": "b86b6572",
        "outputId": "aa4c60a0-c4f9-4e9c-9eca-abc9a16dfefb"
      },
      "outputs": [
        {
          "output_type": "execute_result",
          "data": {
            "text/plain": [
              "torch.Size([120])"
            ]
          },
          "metadata": {},
          "execution_count": 7
        }
      ],
      "source": [
        "x.shape\n",
        "y.shape"
      ]
    },
    {
      "cell_type": "markdown",
      "id": "25cabae8",
      "metadata": {
        "origin_pos": 18,
        "id": "25cabae8"
      },
      "source": [
        "如果只想知道张量中元素的总数，即形状的所有元素乘积，可以检查它的大小（size）。\n",
        "因为这里在处理的是一个向量，所以它的`shape`与它的`size`相同。\n"
      ]
    },
    {
      "cell_type": "code",
      "execution_count": 8,
      "id": "b8b69ca9",
      "metadata": {
        "execution": {
          "iopub.execute_input": "2023-08-18T07:05:03.020938Z",
          "iopub.status.busy": "2023-08-18T07:05:03.020483Z",
          "iopub.status.idle": "2023-08-18T07:05:03.026998Z",
          "shell.execute_reply": "2023-08-18T07:05:03.025752Z"
        },
        "origin_pos": 20,
        "tab": [
          "pytorch"
        ],
        "colab": {
          "base_uri": "https://localhost:8080/"
        },
        "id": "b8b69ca9",
        "outputId": "bb6891d5-ab78-415b-a1ff-c57530b358c3"
      },
      "outputs": [
        {
          "output_type": "execute_result",
          "data": {
            "text/plain": [
              "120"
            ]
          },
          "metadata": {},
          "execution_count": 8
        }
      ],
      "source": [
        "x.numel()\n",
        "y.numel()"
      ]
    },
    {
      "cell_type": "markdown",
      "id": "af15bcd6",
      "metadata": {
        "origin_pos": 23,
        "id": "af15bcd6"
      },
      "source": [
        "[**要想改变一个张量的形状而不改变元素数量和元素值，可以调用`reshape`函数。**]\n",
        "例如，可以把张量`x`从形状为（12,）的行向量转换为形状为（3,4）的矩阵。\n",
        "这个新的张量包含与转换前相同的值，但是它被看成一个3行4列的矩阵。\n",
        "要重点说明一下，虽然张量的形状发生了改变，但其元素值并没有变。\n",
        "注意，通过改变张量的形状，张量的大小不会改变。\n"
      ]
    },
    {
      "cell_type": "code",
      "execution_count": 9,
      "id": "0f294243",
      "metadata": {
        "execution": {
          "iopub.execute_input": "2023-08-18T07:05:03.031842Z",
          "iopub.status.busy": "2023-08-18T07:05:03.031448Z",
          "iopub.status.idle": "2023-08-18T07:05:03.039288Z",
          "shell.execute_reply": "2023-08-18T07:05:03.038227Z"
        },
        "origin_pos": 24,
        "tab": [
          "pytorch"
        ],
        "colab": {
          "base_uri": "https://localhost:8080/"
        },
        "id": "0f294243",
        "outputId": "06385ee4-c2bd-4030-f163-80a5cb76e6f0"
      },
      "outputs": [
        {
          "output_type": "execute_result",
          "data": {
            "text/plain": [
              "tensor([[  0,   1,   2,   3,   4,   5,   6,   7,   8,   9],\n",
              "        [ 10,  11,  12,  13,  14,  15,  16,  17,  18,  19],\n",
              "        [ 20,  21,  22,  23,  24,  25,  26,  27,  28,  29],\n",
              "        [ 30,  31,  32,  33,  34,  35,  36,  37,  38,  39],\n",
              "        [ 40,  41,  42,  43,  44,  45,  46,  47,  48,  49],\n",
              "        [ 50,  51,  52,  53,  54,  55,  56,  57,  58,  59],\n",
              "        [ 60,  61,  62,  63,  64,  65,  66,  67,  68,  69],\n",
              "        [ 70,  71,  72,  73,  74,  75,  76,  77,  78,  79],\n",
              "        [ 80,  81,  82,  83,  84,  85,  86,  87,  88,  89],\n",
              "        [ 90,  91,  92,  93,  94,  95,  96,  97,  98,  99],\n",
              "        [100, 101, 102, 103, 104, 105, 106, 107, 108, 109],\n",
              "        [110, 111, 112, 113, 114, 115, 116, 117, 118, 119]])"
            ]
          },
          "metadata": {},
          "execution_count": 9
        }
      ],
      "source": [
        "X = x.reshape(3, 4)\n",
        "X\n",
        "Y = y.reshape(12, 10)\n",
        "Y"
      ]
    },
    {
      "cell_type": "markdown",
      "id": "eae533a0",
      "metadata": {
        "origin_pos": 27,
        "id": "eae533a0"
      },
      "source": [
        "我们不需要通过手动指定每个维度来改变形状。\n",
        "也就是说，如果我们的目标形状是（高度,宽度），\n",
        "那么在知道宽度后，高度会被自动计算得出，不必我们自己做除法。\n",
        "在上面的例子中，为了获得一个3行的矩阵，我们手动指定了它有3行和4列。\n",
        "幸运的是，我们可以通过`-1`来调用此自动计算出维度的功能。\n",
        "即我们可以用`x.reshape(-1,4)`或`x.reshape(3,-1)`来取代`x.reshape(3,4)`。\n",
        "\n",
        "有时，我们希望[**使用全0、全1、其他常量，或者从特定分布中随机采样的数字**]来初始化矩阵。\n",
        "我们可以创建一个形状为（2,3,4）的张量，其中所有元素都设置为0。代码如下：\n"
      ]
    },
    {
      "cell_type": "code",
      "execution_count": 10,
      "id": "b23c3056",
      "metadata": {
        "execution": {
          "iopub.execute_input": "2023-08-18T07:05:03.044733Z",
          "iopub.status.busy": "2023-08-18T07:05:03.043866Z",
          "iopub.status.idle": "2023-08-18T07:05:03.052195Z",
          "shell.execute_reply": "2023-08-18T07:05:03.051146Z"
        },
        "origin_pos": 29,
        "tab": [
          "pytorch"
        ],
        "colab": {
          "base_uri": "https://localhost:8080/"
        },
        "id": "b23c3056",
        "outputId": "cd3167cb-1357-43ce-9986-f7858c533b3d"
      },
      "outputs": [
        {
          "output_type": "execute_result",
          "data": {
            "text/plain": [
              "tensor([[[0., 0., 0., 0.],\n",
              "         [0., 0., 0., 0.],\n",
              "         [0., 0., 0., 0.]],\n",
              "\n",
              "        [[0., 0., 0., 0.],\n",
              "         [0., 0., 0., 0.],\n",
              "         [0., 0., 0., 0.]]])"
            ]
          },
          "metadata": {},
          "execution_count": 10
        }
      ],
      "source": [
        "torch.zeros((2, 3, 4))"
      ]
    },
    {
      "cell_type": "markdown",
      "id": "6a180a12",
      "metadata": {
        "origin_pos": 32,
        "id": "6a180a12"
      },
      "source": [
        "同样，我们可以创建一个形状为`(2,3,4)`的张量，其中所有元素都设置为1。代码如下：\n"
      ]
    },
    {
      "cell_type": "code",
      "execution_count": 11,
      "id": "25981960",
      "metadata": {
        "execution": {
          "iopub.execute_input": "2023-08-18T07:05:03.057264Z",
          "iopub.status.busy": "2023-08-18T07:05:03.056578Z",
          "iopub.status.idle": "2023-08-18T07:05:03.064973Z",
          "shell.execute_reply": "2023-08-18T07:05:03.063853Z"
        },
        "origin_pos": 34,
        "tab": [
          "pytorch"
        ],
        "colab": {
          "base_uri": "https://localhost:8080/"
        },
        "id": "25981960",
        "outputId": "3f4830a6-c750-4c22-cdcf-d8926b2b7fae"
      },
      "outputs": [
        {
          "output_type": "execute_result",
          "data": {
            "text/plain": [
              "tensor([[[1., 1., 1., 1.],\n",
              "         [1., 1., 1., 1.],\n",
              "         [1., 1., 1., 1.]],\n",
              "\n",
              "        [[1., 1., 1., 1.],\n",
              "         [1., 1., 1., 1.],\n",
              "         [1., 1., 1., 1.]]])"
            ]
          },
          "metadata": {},
          "execution_count": 11
        }
      ],
      "source": [
        "torch.ones((2, 3, 4))"
      ]
    },
    {
      "cell_type": "markdown",
      "id": "672f1257",
      "metadata": {
        "origin_pos": 37,
        "id": "672f1257"
      },
      "source": [
        "有时我们想通过从某个特定的概率分布中随机采样来得到张量中每个元素的值。\n",
        "例如，当我们构造数组来作为神经网络中的参数时，我们通常会随机初始化参数的值。\n",
        "以下代码创建一个形状为（3,4）的张量。\n",
        "其中的每个元素都从均值为0、标准差为1的标准高斯分布（正态分布）中随机采样。\n"
      ]
    },
    {
      "cell_type": "code",
      "execution_count": 16,
      "id": "2493f09a",
      "metadata": {
        "execution": {
          "iopub.execute_input": "2023-08-18T07:05:03.069946Z",
          "iopub.status.busy": "2023-08-18T07:05:03.069231Z",
          "iopub.status.idle": "2023-08-18T07:05:03.077304Z",
          "shell.execute_reply": "2023-08-18T07:05:03.076139Z"
        },
        "origin_pos": 39,
        "tab": [
          "pytorch"
        ],
        "colab": {
          "base_uri": "https://localhost:8080/"
        },
        "id": "2493f09a",
        "outputId": "f16a185f-050f-409e-a08e-54ed8135f538"
      },
      "outputs": [
        {
          "output_type": "execute_result",
          "data": {
            "text/plain": [
              "tensor([[ 0.7644, -0.8411, -0.7398,  0.9585],\n",
              "        [-1.0258,  0.7492,  0.1423, -0.3168],\n",
              "        [ 0.1876, -1.0440,  0.2122,  0.7029]])"
            ]
          },
          "metadata": {},
          "execution_count": 16
        }
      ],
      "source": [
        "torch.randn(3, 4)"
      ]
    },
    {
      "cell_type": "markdown",
      "id": "cc2299f0",
      "metadata": {
        "origin_pos": 42,
        "id": "cc2299f0"
      },
      "source": [
        "我们还可以[**通过提供包含数值的Python列表（或嵌套列表），来为所需张量中的每个元素赋予确定值**]。\n",
        "在这里，最外层的列表对应于轴0，内层的列表对应于轴1。\n"
      ]
    },
    {
      "cell_type": "code",
      "execution_count": 13,
      "id": "708be494",
      "metadata": {
        "execution": {
          "iopub.execute_input": "2023-08-18T07:05:03.082360Z",
          "iopub.status.busy": "2023-08-18T07:05:03.081424Z",
          "iopub.status.idle": "2023-08-18T07:05:03.090148Z",
          "shell.execute_reply": "2023-08-18T07:05:03.088973Z"
        },
        "origin_pos": 44,
        "tab": [
          "pytorch"
        ],
        "colab": {
          "base_uri": "https://localhost:8080/"
        },
        "id": "708be494",
        "outputId": "66990c7f-d269-43c7-8523-4438a30434fa"
      },
      "outputs": [
        {
          "output_type": "execute_result",
          "data": {
            "text/plain": [
              "tensor([[2, 1, 4, 3],\n",
              "        [1, 2, 3, 4],\n",
              "        [4, 3, 2, 1]])"
            ]
          },
          "metadata": {},
          "execution_count": 13
        }
      ],
      "source": [
        "torch.tensor([[2, 1, 4, 3], [1, 2, 3, 4], [4, 3, 2, 1]])"
      ]
    },
    {
      "cell_type": "markdown",
      "id": "561a2ec6",
      "metadata": {
        "origin_pos": 47,
        "id": "561a2ec6"
      },
      "source": [
        "## 运算符\n",
        "\n",
        "我们的兴趣不仅限于读取数据和写入数据。\n",
        "我们想在这些数据上执行数学运算，其中最简单且最有用的操作是*按元素*（elementwise）运算。\n",
        "它们将标准标量运算符应用于数组的每个元素。\n",
        "对于将两个数组作为输入的函数，按元素运算将二元运算符应用于两个数组中的每对位置对应的元素。\n",
        "我们可以基于任何从标量到标量的函数来创建按元素函数。\n",
        "\n",
        "在数学表示法中，我们将通过符号$f: \\mathbb{R} \\rightarrow \\mathbb{R}$\n",
        "来表示*一元*标量运算符（只接收一个输入）。\n",
        "这意味着该函数从任何实数（$\\mathbb{R}$）映射到另一个实数。\n",
        "同样，我们通过符号$f: \\mathbb{R}, \\mathbb{R} \\rightarrow \\mathbb{R}$\n",
        "表示*二元*标量运算符，这意味着该函数接收两个输入，并产生一个输出。\n",
        "给定同一形状的任意两个向量$\\mathbf{u}$和$\\mathbf{v}$和二元运算符$f$，\n",
        "我们可以得到向量$\\mathbf{c} = F(\\mathbf{u},\\mathbf{v})$。\n",
        "具体计算方法是$c_i \\gets f(u_i, v_i)$，\n",
        "其中$c_i$、$u_i$和$v_i$分别是向量$\\mathbf{c}$、$\\mathbf{u}$和$\\mathbf{v}$中的元素。\n",
        "在这里，我们通过将标量函数升级为按元素向量运算来生成向量值\n",
        "$F: \\mathbb{R}^d, \\mathbb{R}^d \\rightarrow \\mathbb{R}^d$。\n",
        "\n",
        "对于任意具有相同形状的张量，\n",
        "[**常见的标准算术运算符（`+`、`-`、`*`、`/`和`**`）都可以被升级为按元素运算**]。\n",
        "我们可以在同一形状的任意两个张量上调用按元素操作。\n",
        "在下面的例子中，我们使用逗号来表示一个具有5个元素的元组，其中每个元素都是按元素操作的结果。\n"
      ]
    },
    {
      "cell_type": "code",
      "execution_count": 17,
      "id": "99b28553",
      "metadata": {
        "execution": {
          "iopub.execute_input": "2023-08-18T07:05:03.095504Z",
          "iopub.status.busy": "2023-08-18T07:05:03.094688Z",
          "iopub.status.idle": "2023-08-18T07:05:03.106084Z",
          "shell.execute_reply": "2023-08-18T07:05:03.104976Z"
        },
        "origin_pos": 49,
        "tab": [
          "pytorch"
        ],
        "colab": {
          "base_uri": "https://localhost:8080/"
        },
        "id": "99b28553",
        "outputId": "fcbd0e6c-1926-4634-9f10-8382b3a3bb52"
      },
      "outputs": [
        {
          "output_type": "execute_result",
          "data": {
            "text/plain": [
              "(tensor([ 3.,  4.,  6., 10.]),\n",
              " tensor([-1.,  0.,  2.,  6.]),\n",
              " tensor([ 2.,  4.,  8., 16.]),\n",
              " tensor([0.5000, 1.0000, 2.0000, 4.0000]),\n",
              " tensor([ 1.,  4., 16., 64.]))"
            ]
          },
          "metadata": {},
          "execution_count": 17
        }
      ],
      "source": [
        "x = torch.tensor([1.0, 2, 4, 8])\n",
        "y = torch.tensor([2, 2, 2, 2])\n",
        "x + y, x - y, x * y, x / y, x ** y  # **运算符是求幂运算"
      ]
    },
    {
      "cell_type": "markdown",
      "id": "1d37bed5",
      "metadata": {
        "origin_pos": 52,
        "id": "1d37bed5"
      },
      "source": [
        "(**“按元素”方式可以应用更多的计算**)，包括像求幂这样的一元运算符。\n"
      ]
    },
    {
      "cell_type": "code",
      "execution_count": 22,
      "id": "ef07c995",
      "metadata": {
        "execution": {
          "iopub.execute_input": "2023-08-18T07:05:03.110973Z",
          "iopub.status.busy": "2023-08-18T07:05:03.110221Z",
          "iopub.status.idle": "2023-08-18T07:05:03.120389Z",
          "shell.execute_reply": "2023-08-18T07:05:03.119471Z"
        },
        "origin_pos": 54,
        "tab": [
          "pytorch"
        ],
        "colab": {
          "base_uri": "https://localhost:8080/"
        },
        "id": "ef07c995",
        "outputId": "5cf40136-05ad-4172-9c21-44d5ac35d3c0"
      },
      "outputs": [
        {
          "output_type": "execute_result",
          "data": {
            "text/plain": [
              "tensor([2.7183e+00, 7.3891e+00, 5.4598e+01, 2.9810e+03])"
            ]
          },
          "metadata": {},
          "execution_count": 22
        }
      ],
      "source": [
        "torch.exp(x)"
      ]
    },
    {
      "cell_type": "markdown",
      "id": "cc76ca21",
      "metadata": {
        "origin_pos": 57,
        "id": "cc76ca21"
      },
      "source": [
        "除了按元素计算外，我们还可以执行线性代数运算，包括向量点积和矩阵乘法。\n",
        "我们将在 :numref:`sec_linear-algebra`中解释线性代数的重点内容。\n",
        "\n",
        "[**我们也可以把多个张量*连结*（concatenate）在一起**]，\n",
        "把它们端对端地叠起来形成一个更大的张量。\n",
        "我们只需要提供张量列表，并给出沿哪个轴连结。\n",
        "下面的例子分别演示了当我们沿行（轴-0，形状的第一个元素）\n",
        "和按列（轴-1，形状的第二个元素）连结两个矩阵时，会发生什么情况。\n",
        "我们可以看到，第一个输出张量的轴-0长度（$6$）是两个输入张量轴-0长度的总和（$3 + 3$）；\n",
        "第二个输出张量的轴-1长度（$8$）是两个输入张量轴-1长度的总和（$4 + 4$）。\n"
      ]
    },
    {
      "cell_type": "code",
      "source": [
        "X = torch.arange(12, dtype=torch.float32).reshape((3,4))\n",
        "# X = torch.arange(12).reshape((3,4))\n",
        "X"
      ],
      "metadata": {
        "colab": {
          "base_uri": "https://localhost:8080/"
        },
        "id": "hR-EJg25bUpP",
        "outputId": "5df4b3c6-81ef-4d63-8079-e34a6b78bd36"
      },
      "id": "hR-EJg25bUpP",
      "execution_count": 25,
      "outputs": [
        {
          "output_type": "execute_result",
          "data": {
            "text/plain": [
              "tensor([[ 0.,  1.,  2.,  3.],\n",
              "        [ 4.,  5.,  6.,  7.],\n",
              "        [ 8.,  9., 10., 11.]])"
            ]
          },
          "metadata": {},
          "execution_count": 25
        }
      ]
    },
    {
      "cell_type": "code",
      "source": [
        "Y = torch.tensor([[2.0, 1, 4, 3], [1, 2, 3, 4], [4, 3, 2, 1]])\n",
        "Y"
      ],
      "metadata": {
        "colab": {
          "base_uri": "https://localhost:8080/"
        },
        "id": "J2tdSZgibuGw",
        "outputId": "5dd9d998-21af-455d-ae7e-cd8a59b0168c"
      },
      "id": "J2tdSZgibuGw",
      "execution_count": 26,
      "outputs": [
        {
          "output_type": "execute_result",
          "data": {
            "text/plain": [
              "tensor([[2., 1., 4., 3.],\n",
              "        [1., 2., 3., 4.],\n",
              "        [4., 3., 2., 1.]])"
            ]
          },
          "metadata": {},
          "execution_count": 26
        }
      ]
    },
    {
      "cell_type": "code",
      "execution_count": 27,
      "id": "a583b891",
      "metadata": {
        "execution": {
          "iopub.execute_input": "2023-08-18T07:05:03.125263Z",
          "iopub.status.busy": "2023-08-18T07:05:03.124477Z",
          "iopub.status.idle": "2023-08-18T07:05:03.136328Z",
          "shell.execute_reply": "2023-08-18T07:05:03.135199Z"
        },
        "origin_pos": 59,
        "tab": [
          "pytorch"
        ],
        "colab": {
          "base_uri": "https://localhost:8080/"
        },
        "id": "a583b891",
        "outputId": "c602e335-c045-4e4a-f68a-2b7b210ac65d"
      },
      "outputs": [
        {
          "output_type": "execute_result",
          "data": {
            "text/plain": [
              "(tensor([[ 0.,  1.,  2.,  3.],\n",
              "         [ 4.,  5.,  6.,  7.],\n",
              "         [ 8.,  9., 10., 11.],\n",
              "         [ 2.,  1.,  4.,  3.],\n",
              "         [ 1.,  2.,  3.,  4.],\n",
              "         [ 4.,  3.,  2.,  1.]]),\n",
              " tensor([[ 0.,  1.,  2.,  3.,  2.,  1.,  4.,  3.],\n",
              "         [ 4.,  5.,  6.,  7.,  1.,  2.,  3.,  4.],\n",
              "         [ 8.,  9., 10., 11.,  4.,  3.,  2.,  1.]]))"
            ]
          },
          "metadata": {},
          "execution_count": 27
        }
      ],
      "source": [
        "torch.cat((X, Y), dim=0), torch.cat((X, Y), dim=1)"
      ]
    },
    {
      "cell_type": "markdown",
      "id": "44965a95",
      "metadata": {
        "origin_pos": 62,
        "id": "44965a95"
      },
      "source": [
        "有时，我们想[**通过*逻辑运算符*构建二元张量**]。\n",
        "以`X == Y`为例：\n",
        "对于每个位置，如果`X`和`Y`在该位置相等，则新张量中相应项的值为1。\n",
        "这意味着逻辑语句`X == Y`在该位置处为真，否则该位置为0。\n"
      ]
    },
    {
      "cell_type": "code",
      "execution_count": 28,
      "id": "6405ec63",
      "metadata": {
        "execution": {
          "iopub.execute_input": "2023-08-18T07:05:03.141449Z",
          "iopub.status.busy": "2023-08-18T07:05:03.140776Z",
          "iopub.status.idle": "2023-08-18T07:05:03.148692Z",
          "shell.execute_reply": "2023-08-18T07:05:03.147491Z"
        },
        "origin_pos": 63,
        "tab": [
          "pytorch"
        ],
        "colab": {
          "base_uri": "https://localhost:8080/"
        },
        "id": "6405ec63",
        "outputId": "352d9a31-5f1b-4627-8c31-4fb51006d2e3"
      },
      "outputs": [
        {
          "output_type": "execute_result",
          "data": {
            "text/plain": [
              "tensor([[False,  True, False,  True],\n",
              "        [False, False, False, False],\n",
              "        [False, False, False, False]])"
            ]
          },
          "metadata": {},
          "execution_count": 28
        }
      ],
      "source": [
        "X == Y"
      ]
    },
    {
      "cell_type": "markdown",
      "id": "ffab6a71",
      "metadata": {
        "origin_pos": 64,
        "id": "ffab6a71"
      },
      "source": [
        "[**对张量中的所有元素进行求和，会产生一个单元素张量。**]\n"
      ]
    },
    {
      "cell_type": "code",
      "execution_count": 29,
      "id": "a13cb291",
      "metadata": {
        "execution": {
          "iopub.execute_input": "2023-08-18T07:05:03.153907Z",
          "iopub.status.busy": "2023-08-18T07:05:03.152814Z",
          "iopub.status.idle": "2023-08-18T07:05:03.160277Z",
          "shell.execute_reply": "2023-08-18T07:05:03.159188Z"
        },
        "origin_pos": 65,
        "tab": [
          "pytorch"
        ],
        "colab": {
          "base_uri": "https://localhost:8080/"
        },
        "id": "a13cb291",
        "outputId": "5e0265f7-59c4-4421-f595-d346132187e4"
      },
      "outputs": [
        {
          "output_type": "execute_result",
          "data": {
            "text/plain": [
              "tensor(66.)"
            ]
          },
          "metadata": {},
          "execution_count": 29
        }
      ],
      "source": [
        "X.sum()"
      ]
    },
    {
      "cell_type": "markdown",
      "id": "e4420b99",
      "metadata": {
        "origin_pos": 67,
        "id": "e4420b99"
      },
      "source": [
        "## 广播机制\n",
        ":label:`subsec_broadcasting`\n",
        "\n",
        "在上面的部分中，我们看到了如何在相同形状的两个张量上执行按元素操作。\n",
        "在某些情况下，[**即使形状不同，我们仍然可以通过调用\n",
        "*广播机制*（broadcasting mechanism）来执行按元素操作**]。\n",
        "这种机制的工作方式如下：\n",
        "\n",
        "1. 通过适当复制元素来扩展一个或两个数组，以便在转换之后，两个张量具有相同的形状；\n",
        "2. 对生成的数组执行按元素操作。\n",
        "\n",
        "在大多数情况下，我们将沿着数组中长度为1的轴进行广播，如下例子：\n"
      ]
    },
    {
      "cell_type": "code",
      "source": [
        "a = torch.arange(3).reshape((3, 1))\n",
        "a"
      ],
      "metadata": {
        "colab": {
          "base_uri": "https://localhost:8080/"
        },
        "id": "-GDIbwIOhERV",
        "outputId": "73b3ad1b-77ca-40d6-e887-3f90071a8609"
      },
      "id": "-GDIbwIOhERV",
      "execution_count": 30,
      "outputs": [
        {
          "output_type": "execute_result",
          "data": {
            "text/plain": [
              "tensor([[0],\n",
              "        [1],\n",
              "        [2]])"
            ]
          },
          "metadata": {},
          "execution_count": 30
        }
      ]
    },
    {
      "cell_type": "code",
      "source": [
        "b = torch.arange(2).reshape((1, 2))\n",
        "b"
      ],
      "metadata": {
        "colab": {
          "base_uri": "https://localhost:8080/"
        },
        "id": "8RLwCEDnhGW6",
        "outputId": "34e3eec5-bbbe-4b93-8b73-02a5f95d70a0"
      },
      "id": "8RLwCEDnhGW6",
      "execution_count": 31,
      "outputs": [
        {
          "output_type": "execute_result",
          "data": {
            "text/plain": [
              "tensor([[0, 1]])"
            ]
          },
          "metadata": {},
          "execution_count": 31
        }
      ]
    },
    {
      "cell_type": "code",
      "execution_count": 32,
      "id": "a1de79a2",
      "metadata": {
        "execution": {
          "iopub.execute_input": "2023-08-18T07:05:03.165305Z",
          "iopub.status.busy": "2023-08-18T07:05:03.164274Z",
          "iopub.status.idle": "2023-08-18T07:05:03.172771Z",
          "shell.execute_reply": "2023-08-18T07:05:03.171692Z"
        },
        "origin_pos": 69,
        "tab": [
          "pytorch"
        ],
        "colab": {
          "base_uri": "https://localhost:8080/"
        },
        "id": "a1de79a2",
        "outputId": "ac4f02e8-d567-49c8-8757-22617b45ead7"
      },
      "outputs": [
        {
          "output_type": "execute_result",
          "data": {
            "text/plain": [
              "(tensor([[0],\n",
              "         [1],\n",
              "         [2]]),\n",
              " tensor([[0, 1]]))"
            ]
          },
          "metadata": {},
          "execution_count": 32
        }
      ],
      "source": [
        "a, b"
      ]
    },
    {
      "cell_type": "markdown",
      "id": "e4f53984",
      "metadata": {
        "origin_pos": 72,
        "id": "e4f53984"
      },
      "source": [
        "由于`a`和`b`分别是$3\\times1$和$1\\times2$矩阵，如果让它们相加，它们的形状不匹配。\n",
        "我们将两个矩阵*广播*为一个更大的$3\\times2$矩阵，如下所示：矩阵`a`将复制列，\n",
        "矩阵`b`将复制行，然后再按元素相加。\n"
      ]
    },
    {
      "cell_type": "code",
      "execution_count": 34,
      "id": "4d8904b1",
      "metadata": {
        "execution": {
          "iopub.execute_input": "2023-08-18T07:05:03.177900Z",
          "iopub.status.busy": "2023-08-18T07:05:03.176935Z",
          "iopub.status.idle": "2023-08-18T07:05:03.184212Z",
          "shell.execute_reply": "2023-08-18T07:05:03.183156Z"
        },
        "origin_pos": 73,
        "tab": [
          "pytorch"
        ],
        "colab": {
          "base_uri": "https://localhost:8080/"
        },
        "id": "4d8904b1",
        "outputId": "7bf4f3ed-2742-49a2-8bba-4a481efe0ffd"
      },
      "outputs": [
        {
          "output_type": "execute_result",
          "data": {
            "text/plain": [
              "(tensor([[0, 1],\n",
              "         [1, 2],\n",
              "         [2, 3]]),\n",
              " tensor([[ 0, -1],\n",
              "         [ 1,  0],\n",
              "         [ 2,  1]]),\n",
              " tensor([[0, 0],\n",
              "         [0, 1],\n",
              "         [0, 2]]),\n",
              " tensor([[nan, 0.],\n",
              "         [inf, 1.],\n",
              "         [inf, 2.]]),\n",
              " tensor([[1, 0],\n",
              "         [1, 1],\n",
              "         [1, 2]]))"
            ]
          },
          "metadata": {},
          "execution_count": 34
        }
      ],
      "source": [
        "a + b, a - b, a * b, a / b, a ** b"
      ]
    },
    {
      "cell_type": "markdown",
      "id": "68b62722",
      "metadata": {
        "origin_pos": 74,
        "id": "68b62722"
      },
      "source": [
        "## 索引和切片\n",
        "\n",
        "就像在任何其他Python数组中一样，张量中的元素可以通过索引访问。\n",
        "与任何Python数组一样：第一个元素的索引是0，最后一个元素索引是-1；\n",
        "可以指定范围以包含第一个元素和最后一个之前的元素。\n",
        "\n",
        "如下所示，我们[**可以用`[-1]`选择最后一个元素，可以用`[1:3]`选择第二个和第三个元素**]：\n"
      ]
    },
    {
      "cell_type": "code",
      "source": [
        "X"
      ],
      "metadata": {
        "colab": {
          "base_uri": "https://localhost:8080/"
        },
        "id": "dM0kjOiYUvVW",
        "outputId": "42ad42d7-f5e4-4880-fc6a-95fa8998e5eb"
      },
      "id": "dM0kjOiYUvVW",
      "execution_count": 21,
      "outputs": [
        {
          "output_type": "execute_result",
          "data": {
            "text/plain": [
              "tensor([[ 0,  1,  2,  3],\n",
              "        [ 4,  5,  6,  7],\n",
              "        [ 8,  9, 10, 11]])"
            ]
          },
          "metadata": {},
          "execution_count": 21
        }
      ]
    },
    {
      "cell_type": "code",
      "execution_count": 20,
      "id": "b62b00c7",
      "metadata": {
        "execution": {
          "iopub.execute_input": "2023-08-18T07:05:03.189786Z",
          "iopub.status.busy": "2023-08-18T07:05:03.188961Z",
          "iopub.status.idle": "2023-08-18T07:05:03.197712Z",
          "shell.execute_reply": "2023-08-18T07:05:03.196559Z"
        },
        "origin_pos": 75,
        "tab": [
          "pytorch"
        ],
        "colab": {
          "base_uri": "https://localhost:8080/"
        },
        "id": "b62b00c7",
        "outputId": "cf0c14fb-02b2-400c-f8d9-78395e846a22"
      },
      "outputs": [
        {
          "output_type": "execute_result",
          "data": {
            "text/plain": [
              "(tensor([ 8,  9, 10, 11]),\n",
              " tensor([[ 4,  5,  6,  7],\n",
              "         [ 8,  9, 10, 11]]))"
            ]
          },
          "metadata": {},
          "execution_count": 20
        }
      ],
      "source": [
        "X[-1], X[1:3]"
      ]
    },
    {
      "cell_type": "markdown",
      "id": "49b18803",
      "metadata": {
        "origin_pos": 76,
        "tab": [
          "pytorch"
        ],
        "id": "49b18803"
      },
      "source": [
        "[**除读取外，我们还可以通过指定索引来将元素写入矩阵。**]\n"
      ]
    },
    {
      "cell_type": "code",
      "execution_count": 35,
      "id": "56a8261a",
      "metadata": {
        "execution": {
          "iopub.execute_input": "2023-08-18T07:05:03.203157Z",
          "iopub.status.busy": "2023-08-18T07:05:03.202390Z",
          "iopub.status.idle": "2023-08-18T07:05:03.210176Z",
          "shell.execute_reply": "2023-08-18T07:05:03.209097Z"
        },
        "origin_pos": 78,
        "tab": [
          "pytorch"
        ],
        "colab": {
          "base_uri": "https://localhost:8080/"
        },
        "id": "56a8261a",
        "outputId": "22fec594-b56b-468c-e5f7-19553129d36f"
      },
      "outputs": [
        {
          "output_type": "execute_result",
          "data": {
            "text/plain": [
              "tensor([[ 0.,  1.,  2.,  3.],\n",
              "        [ 4.,  5.,  9.,  7.],\n",
              "        [ 8.,  9., 10., 11.]])"
            ]
          },
          "metadata": {},
          "execution_count": 35
        }
      ],
      "source": [
        "X[1, 2] = 9\n",
        "X"
      ]
    },
    {
      "cell_type": "markdown",
      "id": "fdec2856",
      "metadata": {
        "origin_pos": 80,
        "id": "fdec2856"
      },
      "source": [
        "如果我们想[**为多个元素赋值相同的值，我们只需要索引所有元素，然后为它们赋值。**]\n",
        "例如，`[0:2, :]`访问第1行和第2行，其中“:”代表沿轴1（列）的所有元素。\n",
        "虽然我们讨论的是矩阵的索引，但这也适用于向量和超过2个维度的张量。\n"
      ]
    },
    {
      "cell_type": "code",
      "execution_count": 36,
      "id": "bd48bae9",
      "metadata": {
        "execution": {
          "iopub.execute_input": "2023-08-18T07:05:03.214118Z",
          "iopub.status.busy": "2023-08-18T07:05:03.213430Z",
          "iopub.status.idle": "2023-08-18T07:05:03.221215Z",
          "shell.execute_reply": "2023-08-18T07:05:03.220084Z"
        },
        "origin_pos": 81,
        "tab": [
          "pytorch"
        ],
        "colab": {
          "base_uri": "https://localhost:8080/"
        },
        "id": "bd48bae9",
        "outputId": "304a3b2a-ffd4-4f85-8e1f-bd043853d4f0"
      },
      "outputs": [
        {
          "output_type": "execute_result",
          "data": {
            "text/plain": [
              "tensor([[12., 12., 12., 12.],\n",
              "        [12., 12., 12., 12.],\n",
              "        [ 8.,  9., 10., 11.]])"
            ]
          },
          "metadata": {},
          "execution_count": 36
        }
      ],
      "source": [
        "X[0:2, :] = 12\n",
        "X"
      ]
    },
    {
      "cell_type": "markdown",
      "id": "79660f82",
      "metadata": {
        "origin_pos": 83,
        "id": "79660f82"
      },
      "source": [
        "## 节省内存\n",
        "\n",
        "[**运行一些操作可能会导致为新结果分配内存**]。\n",
        "例如，如果我们用`Y = X + Y`，我们将取消引用`Y`指向的张量，而是指向新分配的内存处的张量。\n",
        "\n",
        "在下面的例子中，我们用Python的`id()`函数演示了这一点，\n",
        "它给我们提供了内存中引用对象的确切地址。\n",
        "运行`Y = Y + X`后，我们会发现`id(Y)`指向另一个位置。\n",
        "这是因为Python首先计算`Y + X`，为结果分配新的内存，然后使`Y`指向内存中的这个新位置。\n"
      ]
    },
    {
      "cell_type": "code",
      "source": [
        "before = id(Y)\n",
        "before"
      ],
      "metadata": {
        "colab": {
          "base_uri": "https://localhost:8080/"
        },
        "id": "3uw6Qar1j1CD",
        "outputId": "4c9b9f9e-ce5d-46d3-d773-51214830f157"
      },
      "id": "3uw6Qar1j1CD",
      "execution_count": 37,
      "outputs": [
        {
          "output_type": "execute_result",
          "data": {
            "text/plain": [
              "132442815553296"
            ]
          },
          "metadata": {},
          "execution_count": 37
        }
      ]
    },
    {
      "cell_type": "code",
      "execution_count": 38,
      "id": "6bcd6d07",
      "metadata": {
        "execution": {
          "iopub.execute_input": "2023-08-18T07:05:03.225106Z",
          "iopub.status.busy": "2023-08-18T07:05:03.224353Z",
          "iopub.status.idle": "2023-08-18T07:05:03.231715Z",
          "shell.execute_reply": "2023-08-18T07:05:03.230626Z"
        },
        "origin_pos": 84,
        "tab": [
          "pytorch"
        ],
        "colab": {
          "base_uri": "https://localhost:8080/"
        },
        "id": "6bcd6d07",
        "outputId": "9dcd56f0-6edf-4ce3-cde7-c17b87d45d39"
      },
      "outputs": [
        {
          "output_type": "execute_result",
          "data": {
            "text/plain": [
              "132442526354704"
            ]
          },
          "metadata": {},
          "execution_count": 38
        }
      ],
      "source": [
        "Y = Y + X\n",
        "id(Y)"
      ]
    },
    {
      "cell_type": "code",
      "source": [
        "id(Y) == before"
      ],
      "metadata": {
        "colab": {
          "base_uri": "https://localhost:8080/"
        },
        "id": "jHUj_jaej57U",
        "outputId": "1a2d59bd-9c48-44ed-cb1f-bca2fbc2453d"
      },
      "id": "jHUj_jaej57U",
      "execution_count": 39,
      "outputs": [
        {
          "output_type": "execute_result",
          "data": {
            "text/plain": [
              "False"
            ]
          },
          "metadata": {},
          "execution_count": 39
        }
      ]
    },
    {
      "cell_type": "markdown",
      "id": "fdb5a8e4",
      "metadata": {
        "origin_pos": 85,
        "id": "fdb5a8e4"
      },
      "source": [
        "这可能是不可取的，原因有两个：\n",
        "\n",
        "1. 首先，我们不想总是不必要地分配内存。在机器学习中，我们可能有数百兆的参数，并且在一秒内多次更新所有参数。通常情况下，我们希望原地执行这些更新；\n",
        "2. 如果我们不原地更新，其他引用仍然会指向旧的内存位置，这样我们的某些代码可能会无意中引用旧的参数。\n"
      ]
    },
    {
      "cell_type": "markdown",
      "id": "47e2e97c",
      "metadata": {
        "origin_pos": 86,
        "tab": [
          "pytorch"
        ],
        "id": "47e2e97c"
      },
      "source": [
        "幸运的是，(**执行原地操作**)非常简单。\n",
        "我们可以使用切片表示法将操作的结果分配给先前分配的数组，例如`Y[:] = <expression>`。\n",
        "为了说明这一点，我们首先创建一个新的矩阵`Z`，其形状与另一个`Y`相同，\n",
        "使用`zeros_like`来分配一个全$0$的块。\n"
      ]
    },
    {
      "cell_type": "code",
      "execution_count": 40,
      "id": "13b7fdf6",
      "metadata": {
        "execution": {
          "iopub.execute_input": "2023-08-18T07:05:03.236933Z",
          "iopub.status.busy": "2023-08-18T07:05:03.236016Z",
          "iopub.status.idle": "2023-08-18T07:05:03.243252Z",
          "shell.execute_reply": "2023-08-18T07:05:03.242153Z"
        },
        "origin_pos": 89,
        "tab": [
          "pytorch"
        ],
        "colab": {
          "base_uri": "https://localhost:8080/"
        },
        "id": "13b7fdf6",
        "outputId": "d47ebc01-269f-4f2f-a2cb-39ffcb04499f"
      },
      "outputs": [
        {
          "output_type": "stream",
          "name": "stdout",
          "text": [
            "id(Z): 132442815098192\n",
            "id(Z): 132442815098192\n"
          ]
        }
      ],
      "source": [
        "Z = torch.zeros_like(Y)\n",
        "print('id(Z):', id(Z))\n",
        "Z[:] = X + Y\n",
        "print('id(Z):', id(Z))"
      ]
    },
    {
      "cell_type": "code",
      "source": [
        "Z"
      ],
      "metadata": {
        "colab": {
          "base_uri": "https://localhost:8080/"
        },
        "id": "ZR1PEyB1k83P",
        "outputId": "e48444f7-7853-4af2-8b32-fc46824df129"
      },
      "id": "ZR1PEyB1k83P",
      "execution_count": 43,
      "outputs": [
        {
          "output_type": "execute_result",
          "data": {
            "text/plain": [
              "tensor([[26., 25., 28., 27.],\n",
              "        [25., 26., 27., 28.],\n",
              "        [20., 21., 22., 23.]])"
            ]
          },
          "metadata": {},
          "execution_count": 43
        }
      ]
    },
    {
      "cell_type": "code",
      "source": [
        "Z[:]"
      ],
      "metadata": {
        "colab": {
          "base_uri": "https://localhost:8080/"
        },
        "id": "xEKM_Q5Hk5vI",
        "outputId": "d58067a4-587b-4fbe-cf7d-2dc833225cf6"
      },
      "id": "xEKM_Q5Hk5vI",
      "execution_count": 42,
      "outputs": [
        {
          "output_type": "execute_result",
          "data": {
            "text/plain": [
              "tensor([[26., 25., 28., 27.],\n",
              "        [25., 26., 27., 28.],\n",
              "        [20., 21., 22., 23.]])"
            ]
          },
          "metadata": {},
          "execution_count": 42
        }
      ]
    },
    {
      "cell_type": "markdown",
      "id": "36a38425",
      "metadata": {
        "origin_pos": 92,
        "tab": [
          "pytorch"
        ],
        "id": "36a38425"
      },
      "source": [
        "[**如果在后续计算中没有重复使用`X`，\n",
        "我们也可以使用`X[:] = X + Y`或`X += Y`来减少操作的内存开销。**]\n"
      ]
    },
    {
      "cell_type": "code",
      "execution_count": 44,
      "id": "c8a97d75",
      "metadata": {
        "execution": {
          "iopub.execute_input": "2023-08-18T07:05:03.248290Z",
          "iopub.status.busy": "2023-08-18T07:05:03.247521Z",
          "iopub.status.idle": "2023-08-18T07:05:03.255046Z",
          "shell.execute_reply": "2023-08-18T07:05:03.253935Z"
        },
        "origin_pos": 94,
        "tab": [
          "pytorch"
        ],
        "colab": {
          "base_uri": "https://localhost:8080/"
        },
        "id": "c8a97d75",
        "outputId": "2e0a8fe7-5cf1-4dc2-d360-a0b4bb19ddd7"
      },
      "outputs": [
        {
          "output_type": "execute_result",
          "data": {
            "text/plain": [
              "True"
            ]
          },
          "metadata": {},
          "execution_count": 44
        }
      ],
      "source": [
        "before = id(X)\n",
        "X += Y\n",
        "id(X) == before"
      ]
    },
    {
      "cell_type": "markdown",
      "id": "3185bd60",
      "metadata": {
        "origin_pos": 96,
        "id": "3185bd60"
      },
      "source": [
        "## 转换为其他Python对象\n"
      ]
    },
    {
      "cell_type": "markdown",
      "id": "d871a6fa",
      "metadata": {
        "origin_pos": 98,
        "tab": [
          "pytorch"
        ],
        "id": "d871a6fa"
      },
      "source": [
        "将深度学习框架定义的张量[**转换为NumPy张量（`ndarray`）**]很容易，反之也同样容易。\n",
        "torch张量和numpy数组将共享它们的底层内存，就地操作更改一个张量也会同时更改另一个张量。\n"
      ]
    },
    {
      "cell_type": "code",
      "execution_count": 45,
      "id": "7386f580",
      "metadata": {
        "execution": {
          "iopub.execute_input": "2023-08-18T07:05:03.259655Z",
          "iopub.status.busy": "2023-08-18T07:05:03.259273Z",
          "iopub.status.idle": "2023-08-18T07:05:03.266501Z",
          "shell.execute_reply": "2023-08-18T07:05:03.265738Z"
        },
        "origin_pos": 100,
        "tab": [
          "pytorch"
        ],
        "colab": {
          "base_uri": "https://localhost:8080/"
        },
        "id": "7386f580",
        "outputId": "f410e2b9-1cac-4606-9d7a-ddca2c87f3b8"
      },
      "outputs": [
        {
          "output_type": "execute_result",
          "data": {
            "text/plain": [
              "(numpy.ndarray, torch.Tensor)"
            ]
          },
          "metadata": {},
          "execution_count": 45
        }
      ],
      "source": [
        "A = X.numpy()\n",
        "B = torch.tensor(A)\n",
        "type(A), type(B)"
      ]
    },
    {
      "cell_type": "markdown",
      "id": "74f0ae4e",
      "metadata": {
        "origin_pos": 103,
        "id": "74f0ae4e"
      },
      "source": [
        "要(**将大小为1的张量转换为Python标量**)，我们可以调用`item`函数或Python的内置函数。\n"
      ]
    },
    {
      "cell_type": "code",
      "execution_count": null,
      "id": "10a429bd",
      "metadata": {
        "execution": {
          "iopub.execute_input": "2023-08-18T07:05:03.270566Z",
          "iopub.status.busy": "2023-08-18T07:05:03.270102Z",
          "iopub.status.idle": "2023-08-18T07:05:03.276982Z",
          "shell.execute_reply": "2023-08-18T07:05:03.276051Z"
        },
        "origin_pos": 105,
        "tab": [
          "pytorch"
        ],
        "id": "10a429bd",
        "outputId": "9cad70c1-36e5-4e3e-d9e2-382e9892646c"
      },
      "outputs": [
        {
          "data": {
            "text/plain": [
              "(tensor([3.5000]), 3.5, 3.5, 3)"
            ]
          },
          "execution_count": 24,
          "metadata": {},
          "output_type": "execute_result"
        }
      ],
      "source": [
        "a = torch.tensor([3.5])\n",
        "a, a.item(), float(a), int(a)"
      ]
    },
    {
      "cell_type": "markdown",
      "id": "ed98db5b",
      "metadata": {
        "origin_pos": 108,
        "id": "ed98db5b"
      },
      "source": [
        "## 小结\n",
        "\n",
        "* 深度学习存储和操作数据的主要接口是张量（$n$维数组）。它提供了各种功能，包括基本数学运算、广播、索引、切片、内存节省和转换其他Python对象。\n",
        "\n",
        "## 练习\n",
        "\n",
        "1. 运行本节中的代码。将本节中的条件语句`X == Y`更改为`X < Y`或`X > Y`，然后看看你可以得到什么样的张量。\n",
        "1. 用其他形状（例如三维张量）替换广播机制中按元素操作的两个张量。结果是否与预期相同？\n"
      ]
    },
    {
      "cell_type": "markdown",
      "id": "161ce063",
      "metadata": {
        "origin_pos": 110,
        "tab": [
          "pytorch"
        ],
        "id": "161ce063"
      },
      "source": [
        "[Discussions](https://discuss.d2l.ai/t/1747)\n"
      ]
    },
    {
      "cell_type": "markdown",
      "source": [
        "## Note"
      ],
      "metadata": {
        "id": "i4u_gGdBmxpm"
      },
      "id": "i4u_gGdBmxpm"
    },
    {
      "cell_type": "markdown",
      "source": [
        "🔢 2 vs 2.0\n",
        "- 2 is an integer (int)\n",
        "- 2.0 is a floating-point number (float)\n",
        "\n",
        "Even though they represent the same value numerically, their types are different, which can affect:\n",
        "- Tensor data types (dtypes)\n",
        "- Computation precision\n",
        "- Device compatibility (e.g., floats often required for gradients)"
      ],
      "metadata": {
        "id": "-1xW21n7mf8i"
      },
      "id": "-1xW21n7mf8i"
    },
    {
      "cell_type": "code",
      "source": [
        "torch.tensor(2)    # dtype=torch.int64 (or platform default int)"
      ],
      "metadata": {
        "id": "GVb5VnuZmwH8",
        "outputId": "1552e722-167b-49a4-a578-da1328978aa5",
        "colab": {
          "base_uri": "https://localhost:8080/"
        }
      },
      "id": "GVb5VnuZmwH8",
      "execution_count": 48,
      "outputs": [
        {
          "output_type": "execute_result",
          "data": {
            "text/plain": [
              "tensor(2)"
            ]
          },
          "metadata": {},
          "execution_count": 48
        }
      ]
    },
    {
      "cell_type": "code",
      "source": [
        "torch.tensor(2.0)  # dtype=torch.float32"
      ],
      "metadata": {
        "id": "8KUZ6Jw6m2Q6",
        "outputId": "e41c553b-2a9a-4e3b-ae0b-a177b9903146",
        "colab": {
          "base_uri": "https://localhost:8080/"
        }
      },
      "id": "8KUZ6Jw6m2Q6",
      "execution_count": 47,
      "outputs": [
        {
          "output_type": "execute_result",
          "data": {
            "text/plain": [
              "tensor(2.)"
            ]
          },
          "metadata": {},
          "execution_count": 47
        }
      ]
    },
    {
      "cell_type": "markdown",
      "source": [
        "So if you mix them in operations, the result usually upcasts to the more general type (float)."
      ],
      "metadata": {
        "id": "t0vm_v3-m8Hn"
      },
      "id": "t0vm_v3-m8Hn"
    },
    {
      "cell_type": "code",
      "source": [
        "2.0 + 2"
      ],
      "metadata": {
        "id": "Vq_c5GfWm808",
        "outputId": "55f4cfa9-fe51-4391-be29-fbaa3df1ad0f",
        "colab": {
          "base_uri": "https://localhost:8080/"
        }
      },
      "id": "Vq_c5GfWm808",
      "execution_count": 49,
      "outputs": [
        {
          "output_type": "execute_result",
          "data": {
            "text/plain": [
              "4.0"
            ]
          },
          "metadata": {},
          "execution_count": 49
        }
      ]
    },
    {
      "cell_type": "markdown",
      "source": [
        "When you do something like this in Python (or PyTorch, TensorFlow, etc.):\n",
        "\n",
        "Y = Y + X\n",
        "You're not modifying Y directly. Instead, you're:\n",
        "\n",
        "Creating a new tensor from the result of Y + X (new memory is allocated),\n",
        "\n",
        "And then reassigning the variable Y to point to this new tensor.\n",
        "\n",
        "This means the original memory used by Y is no longer referenced by Y. So id(Y) will change before and after this line.\n",
        "\n",
        "\n",
        "❗ Why this is undesirable in machine learning:\n",
        "1. Unnecessary memory allocation (inefficiency)\n",
        "In ML models:\n",
        "- Tensors can be huge (hundreds of MBs or GBs).\n",
        "- Models do repeated updates to weights, gradients, etc.\n",
        "\n",
        "So if every update creates new memory, it:\n",
        "- Slows down training.\n",
        "- Increases memory usage.\n",
        "- Might even cause memory fragmentation or out-of-memory errors.\n",
        "\n",
        "2. Loss of shared references (bugs and stale data)\n",
        "Imagine you have:\n",
        "W1 = W\n",
        "W = W + X\n",
        "Now:\n",
        "- W1 still points to the old tensor.\n",
        "- W now points to a new tensor.\n",
        "- If you expected both to be the same, you’re now in trouble!\n",
        "\n",
        "This breaks parameter sharing or pointer integrity, which is critical in many deep learning models (e.g., tied weights, custom optimizers, etc.).\n",
        "\n",
        "✅ The fix: In-place operations\n",
        "To avoid this, you can use in-place operations like:\n",
        "Y += X      \n",
        "or\n",
        "Y.add_(X) in PyTorch\n",
        "\n",
        "This:\n",
        "\n",
        "Updates the content inside Y's memory.\n",
        "\n",
        "Keeps the same memory address.\n",
        "\n",
        "Is faster and more memory efficient."
      ],
      "metadata": {
        "id": "udBeLqyInGVl"
      },
      "id": "udBeLqyInGVl"
    },
    {
      "cell_type": "code",
      "source": [
        "x = [1, 2, 3]\n",
        "print(id(x))  # Example output: 140251144751872"
      ],
      "metadata": {
        "id": "OxnerRBznupd",
        "outputId": "f7d75366-8bc4-4a28-818c-548e4b21dac3",
        "colab": {
          "base_uri": "https://localhost:8080/"
        }
      },
      "id": "OxnerRBznupd",
      "execution_count": 50,
      "outputs": [
        {
          "output_type": "stream",
          "name": "stdout",
          "text": [
            "132442522348544\n"
          ]
        }
      ]
    },
    {
      "cell_type": "markdown",
      "source": [
        "The value returned is an integer, which uniquely identifies the object during its lifetime.\n",
        "\n",
        "It's often interpreted as the memory address where the object is stored."
      ],
      "metadata": {
        "id": "bxIIIRqLny0G"
      },
      "id": "bxIIIRqLny0G"
    },
    {
      "cell_type": "code",
      "source": [
        "a = [1, 2, 3]\n",
        "b = a         # both point to the same list\n",
        "c = [1, 2, 3] # a new list with same content\n",
        "\n",
        "print(id(a) == id(b))  # True — same object\n",
        "print(id(a) == id(c))  # False — different object\n",
        "\n",
        "import torch\n",
        "\n",
        "x = torch.tensor([1.0])\n",
        "y = x\n",
        "print(id(x) == id(y))  # True\n",
        "\n",
        "y = y + 1\n",
        "print(id(x) == id(y))  # False — because y is reassigned to a new tensor"
      ],
      "metadata": {
        "id": "vOge0jdSn2TB"
      },
      "id": "vOge0jdSn2TB",
      "execution_count": null,
      "outputs": []
    },
    {
      "cell_type": "code",
      "source": [
        "X = torch.tensor([1.0, 2.0])\n",
        "Y = torch.tensor([3.0, 4.0])\n",
        "\n",
        "X += Y   # modifies X directly - Now, X becomes [4.0, 6.0], without allocating new memory."
      ],
      "metadata": {
        "id": "Nr3oXLcon9wb"
      },
      "id": "Nr3oXLcon9wb",
      "execution_count": null,
      "outputs": []
    },
    {
      "cell_type": "code",
      "source": [
        "X[:] = X + Y"
      ],
      "metadata": {
        "id": "ufz5VFrtoHC3"
      },
      "id": "ufz5VFrtoHC3",
      "execution_count": null,
      "outputs": []
    },
    {
      "cell_type": "markdown",
      "source": [
        "This looks a bit strange but it’s another way to overwrite the contents of X, element by element: X[:] = X + Y\n",
        "\n",
        "What’s happening here is:\n",
        "\n",
        "X + Y still creates a new tensor (temporarily),\n",
        "\n",
        "But X[:] = ... copies the new values into the existing memory of X.\n",
        "\n",
        "This is useful if you must use X = X + Y logic but want to preserve the memory location of X."
      ],
      "metadata": {
        "id": "CjTaCmclnzky"
      },
      "id": "CjTaCmclnzky"
    },
    {
      "cell_type": "markdown",
      "source": [
        "🔸 So, why is this important?\n",
        "If you just do:\n",
        "\n",
        "python\n",
        "Copy\n",
        "Edit\n",
        "X = X + Y\n",
        "Python will:\n",
        "\n",
        "Evaluate X + Y → allocate new memory\n",
        "\n",
        "Assign X to this new tensor → id(X) will change\n",
        "\n",
        "That’s wasteful if:\n",
        "\n",
        "You don’t need the old value of X\n",
        "\n",
        "You're doing this inside a loop or during model training"
      ],
      "metadata": {
        "id": "2qUirUO6nqFQ"
      },
      "id": "2qUirUO6nqFQ"
    },
    {
      "cell_type": "markdown",
      "source": [
        "![截圖 2025-06-07 下午12.24.47.png](data:image/png;base64,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)"
      ],
      "metadata": {
        "id": "rRrn1tLhorn2"
      },
      "id": "rRrn1tLhorn2"
    },
    {
      "cell_type": "markdown",
      "source": [
        "![截圖 2025-06-07 下午12.26.31.png](data:image/png;base64,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)"
      ],
      "metadata": {
        "id": "-akNmgKgpACP"
      },
      "id": "-akNmgKgpACP"
    },
    {
      "cell_type": "markdown",
      "source": [],
      "metadata": {
        "id": "8g9rtSQypB1z"
      },
      "id": "8g9rtSQypB1z"
    }
  ],
  "metadata": {
    "kernelspec": {
      "display_name": "Python 3",
      "name": "python3"
    },
    "language_info": {
      "name": "python"
    },
    "required_libs": [],
    "colab": {
      "provenance": []
    }
  },
  "nbformat": 4,
  "nbformat_minor": 5
}