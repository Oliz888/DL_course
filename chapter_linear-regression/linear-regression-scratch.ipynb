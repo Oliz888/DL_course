{
  "cells": [
    {
      "cell_type": "markdown",
      "metadata": {
        "id": "view-in-github",
        "colab_type": "text"
      },
      "source": [
        "<a href=\"https://colab.research.google.com/github/Oliz888/DL_course/blob/main/chapter_linear-regression/linear-regression-scratch.ipynb\" target=\"_parent\"><img src=\"https://colab.research.google.com/assets/colab-badge.svg\" alt=\"Open In Colab\"/></a>"
      ]
    },
    {
      "cell_type": "markdown",
      "id": "8b9a1ab8",
      "metadata": {
        "id": "8b9a1ab8"
      },
      "source": [
        "The following additional libraries are needed to run this\n",
        "notebook. Note that running on Colab is experimental, please report a Github\n",
        "issue if you have any problem."
      ]
    },
    {
      "cell_type": "code",
      "execution_count": 1,
      "id": "a6e1ac7a",
      "metadata": {
        "colab": {
          "base_uri": "https://localhost:8080/"
        },
        "id": "a6e1ac7a",
        "outputId": "f05d046e-9456-4363-bbed-bd273d8a6106"
      },
      "outputs": [
        {
          "output_type": "stream",
          "name": "stdout",
          "text": [
            "Requirement already satisfied: d2l==1.0.3 in /usr/local/lib/python3.11/dist-packages (1.0.3)\n",
            "Requirement already satisfied: jupyter==1.0.0 in /usr/local/lib/python3.11/dist-packages (from d2l==1.0.3) (1.0.0)\n",
            "Requirement already satisfied: numpy==1.23.5 in /usr/local/lib/python3.11/dist-packages (from d2l==1.0.3) (1.23.5)\n",
            "Requirement already satisfied: matplotlib==3.7.2 in /usr/local/lib/python3.11/dist-packages (from d2l==1.0.3) (3.7.2)\n",
            "Requirement already satisfied: matplotlib-inline==0.1.6 in /usr/local/lib/python3.11/dist-packages (from d2l==1.0.3) (0.1.6)\n",
            "Requirement already satisfied: requests==2.31.0 in /usr/local/lib/python3.11/dist-packages (from d2l==1.0.3) (2.31.0)\n",
            "Requirement already satisfied: pandas==2.0.3 in /usr/local/lib/python3.11/dist-packages (from d2l==1.0.3) (2.0.3)\n",
            "Requirement already satisfied: scipy==1.10.1 in /usr/local/lib/python3.11/dist-packages (from d2l==1.0.3) (1.10.1)\n",
            "Requirement already satisfied: notebook in /usr/local/lib/python3.11/dist-packages (from jupyter==1.0.0->d2l==1.0.3) (6.5.7)\n",
            "Requirement already satisfied: qtconsole in /usr/local/lib/python3.11/dist-packages (from jupyter==1.0.0->d2l==1.0.3) (5.6.1)\n",
            "Requirement already satisfied: jupyter-console in /usr/local/lib/python3.11/dist-packages (from jupyter==1.0.0->d2l==1.0.3) (6.1.0)\n",
            "Requirement already satisfied: nbconvert in /usr/local/lib/python3.11/dist-packages (from jupyter==1.0.0->d2l==1.0.3) (7.16.6)\n",
            "Requirement already satisfied: ipykernel in /usr/local/lib/python3.11/dist-packages (from jupyter==1.0.0->d2l==1.0.3) (6.17.1)\n",
            "Requirement already satisfied: ipywidgets in /usr/local/lib/python3.11/dist-packages (from jupyter==1.0.0->d2l==1.0.3) (7.7.1)\n",
            "Requirement already satisfied: contourpy>=1.0.1 in /usr/local/lib/python3.11/dist-packages (from matplotlib==3.7.2->d2l==1.0.3) (1.3.2)\n",
            "Requirement already satisfied: cycler>=0.10 in /usr/local/lib/python3.11/dist-packages (from matplotlib==3.7.2->d2l==1.0.3) (0.12.1)\n",
            "Requirement already satisfied: fonttools>=4.22.0 in /usr/local/lib/python3.11/dist-packages (from matplotlib==3.7.2->d2l==1.0.3) (4.58.1)\n",
            "Requirement already satisfied: kiwisolver>=1.0.1 in /usr/local/lib/python3.11/dist-packages (from matplotlib==3.7.2->d2l==1.0.3) (1.4.8)\n",
            "Requirement already satisfied: packaging>=20.0 in /usr/local/lib/python3.11/dist-packages (from matplotlib==3.7.2->d2l==1.0.3) (24.2)\n",
            "Requirement already satisfied: pillow>=6.2.0 in /usr/local/lib/python3.11/dist-packages (from matplotlib==3.7.2->d2l==1.0.3) (11.2.1)\n",
            "Requirement already satisfied: pyparsing<3.1,>=2.3.1 in /usr/local/lib/python3.11/dist-packages (from matplotlib==3.7.2->d2l==1.0.3) (3.0.9)\n",
            "Requirement already satisfied: python-dateutil>=2.7 in /usr/local/lib/python3.11/dist-packages (from matplotlib==3.7.2->d2l==1.0.3) (2.9.0.post0)\n",
            "Requirement already satisfied: traitlets in /usr/local/lib/python3.11/dist-packages (from matplotlib-inline==0.1.6->d2l==1.0.3) (5.7.1)\n",
            "Requirement already satisfied: pytz>=2020.1 in /usr/local/lib/python3.11/dist-packages (from pandas==2.0.3->d2l==1.0.3) (2025.2)\n",
            "Requirement already satisfied: tzdata>=2022.1 in /usr/local/lib/python3.11/dist-packages (from pandas==2.0.3->d2l==1.0.3) (2025.2)\n",
            "Requirement already satisfied: charset-normalizer<4,>=2 in /usr/local/lib/python3.11/dist-packages (from requests==2.31.0->d2l==1.0.3) (3.4.2)\n",
            "Requirement already satisfied: idna<4,>=2.5 in /usr/local/lib/python3.11/dist-packages (from requests==2.31.0->d2l==1.0.3) (3.10)\n",
            "Requirement already satisfied: urllib3<3,>=1.21.1 in /usr/local/lib/python3.11/dist-packages (from requests==2.31.0->d2l==1.0.3) (2.4.0)\n",
            "Requirement already satisfied: certifi>=2017.4.17 in /usr/local/lib/python3.11/dist-packages (from requests==2.31.0->d2l==1.0.3) (2025.4.26)\n",
            "Requirement already satisfied: six>=1.5 in /usr/local/lib/python3.11/dist-packages (from python-dateutil>=2.7->matplotlib==3.7.2->d2l==1.0.3) (1.17.0)\n",
            "Requirement already satisfied: debugpy>=1.0 in /usr/local/lib/python3.11/dist-packages (from ipykernel->jupyter==1.0.0->d2l==1.0.3) (1.8.0)\n",
            "Requirement already satisfied: ipython>=7.23.1 in /usr/local/lib/python3.11/dist-packages (from ipykernel->jupyter==1.0.0->d2l==1.0.3) (7.34.0)\n",
            "Requirement already satisfied: jupyter-client>=6.1.12 in /usr/local/lib/python3.11/dist-packages (from ipykernel->jupyter==1.0.0->d2l==1.0.3) (6.1.12)\n",
            "Requirement already satisfied: nest-asyncio in /usr/local/lib/python3.11/dist-packages (from ipykernel->jupyter==1.0.0->d2l==1.0.3) (1.6.0)\n",
            "Requirement already satisfied: psutil in /usr/local/lib/python3.11/dist-packages (from ipykernel->jupyter==1.0.0->d2l==1.0.3) (5.9.5)\n",
            "Requirement already satisfied: pyzmq>=17 in /usr/local/lib/python3.11/dist-packages (from ipykernel->jupyter==1.0.0->d2l==1.0.3) (24.0.1)\n",
            "Requirement already satisfied: tornado>=6.1 in /usr/local/lib/python3.11/dist-packages (from ipykernel->jupyter==1.0.0->d2l==1.0.3) (6.4.2)\n",
            "Requirement already satisfied: ipython-genutils~=0.2.0 in /usr/local/lib/python3.11/dist-packages (from ipywidgets->jupyter==1.0.0->d2l==1.0.3) (0.2.0)\n",
            "Requirement already satisfied: widgetsnbextension~=3.6.0 in /usr/local/lib/python3.11/dist-packages (from ipywidgets->jupyter==1.0.0->d2l==1.0.3) (3.6.10)\n",
            "Requirement already satisfied: jupyterlab-widgets>=1.0.0 in /usr/local/lib/python3.11/dist-packages (from ipywidgets->jupyter==1.0.0->d2l==1.0.3) (3.0.15)\n",
            "Requirement already satisfied: prompt-toolkit!=3.0.0,!=3.0.1,<3.1.0,>=2.0.0 in /usr/local/lib/python3.11/dist-packages (from jupyter-console->jupyter==1.0.0->d2l==1.0.3) (3.0.51)\n",
            "Requirement already satisfied: pygments in /usr/local/lib/python3.11/dist-packages (from jupyter-console->jupyter==1.0.0->d2l==1.0.3) (2.19.1)\n",
            "Requirement already satisfied: beautifulsoup4 in /usr/local/lib/python3.11/dist-packages (from nbconvert->jupyter==1.0.0->d2l==1.0.3) (4.13.4)\n",
            "Requirement already satisfied: bleach!=5.0.0 in /usr/local/lib/python3.11/dist-packages (from bleach[css]!=5.0.0->nbconvert->jupyter==1.0.0->d2l==1.0.3) (6.2.0)\n",
            "Requirement already satisfied: defusedxml in /usr/local/lib/python3.11/dist-packages (from nbconvert->jupyter==1.0.0->d2l==1.0.3) (0.7.1)\n",
            "Requirement already satisfied: jinja2>=3.0 in /usr/local/lib/python3.11/dist-packages (from nbconvert->jupyter==1.0.0->d2l==1.0.3) (3.1.6)\n",
            "Requirement already satisfied: jupyter-core>=4.7 in /usr/local/lib/python3.11/dist-packages (from nbconvert->jupyter==1.0.0->d2l==1.0.3) (5.8.1)\n",
            "Requirement already satisfied: jupyterlab-pygments in /usr/local/lib/python3.11/dist-packages (from nbconvert->jupyter==1.0.0->d2l==1.0.3) (0.3.0)\n",
            "Requirement already satisfied: markupsafe>=2.0 in /usr/local/lib/python3.11/dist-packages (from nbconvert->jupyter==1.0.0->d2l==1.0.3) (3.0.2)\n",
            "Requirement already satisfied: mistune<4,>=2.0.3 in /usr/local/lib/python3.11/dist-packages (from nbconvert->jupyter==1.0.0->d2l==1.0.3) (3.1.3)\n",
            "Requirement already satisfied: nbclient>=0.5.0 in /usr/local/lib/python3.11/dist-packages (from nbconvert->jupyter==1.0.0->d2l==1.0.3) (0.10.2)\n",
            "Requirement already satisfied: nbformat>=5.7 in /usr/local/lib/python3.11/dist-packages (from nbconvert->jupyter==1.0.0->d2l==1.0.3) (5.10.4)\n",
            "Requirement already satisfied: pandocfilters>=1.4.1 in /usr/local/lib/python3.11/dist-packages (from nbconvert->jupyter==1.0.0->d2l==1.0.3) (1.5.1)\n",
            "Requirement already satisfied: argon2-cffi in /usr/local/lib/python3.11/dist-packages (from notebook->jupyter==1.0.0->d2l==1.0.3) (25.1.0)\n",
            "Requirement already satisfied: Send2Trash>=1.8.0 in /usr/local/lib/python3.11/dist-packages (from notebook->jupyter==1.0.0->d2l==1.0.3) (1.8.3)\n",
            "Requirement already satisfied: terminado>=0.8.3 in /usr/local/lib/python3.11/dist-packages (from notebook->jupyter==1.0.0->d2l==1.0.3) (0.18.1)\n",
            "Requirement already satisfied: prometheus-client in /usr/local/lib/python3.11/dist-packages (from notebook->jupyter==1.0.0->d2l==1.0.3) (0.22.1)\n",
            "Requirement already satisfied: nbclassic>=0.4.7 in /usr/local/lib/python3.11/dist-packages (from notebook->jupyter==1.0.0->d2l==1.0.3) (1.3.1)\n",
            "Requirement already satisfied: qtpy>=2.4.0 in /usr/local/lib/python3.11/dist-packages (from qtconsole->jupyter==1.0.0->d2l==1.0.3) (2.4.3)\n",
            "Requirement already satisfied: webencodings in /usr/local/lib/python3.11/dist-packages (from bleach!=5.0.0->bleach[css]!=5.0.0->nbconvert->jupyter==1.0.0->d2l==1.0.3) (0.5.1)\n",
            "Requirement already satisfied: tinycss2<1.5,>=1.1.0 in /usr/local/lib/python3.11/dist-packages (from bleach[css]!=5.0.0->nbconvert->jupyter==1.0.0->d2l==1.0.3) (1.4.0)\n",
            "Requirement already satisfied: setuptools>=18.5 in /usr/local/lib/python3.11/dist-packages (from ipython>=7.23.1->ipykernel->jupyter==1.0.0->d2l==1.0.3) (75.2.0)\n",
            "Requirement already satisfied: jedi>=0.16 in /usr/local/lib/python3.11/dist-packages (from ipython>=7.23.1->ipykernel->jupyter==1.0.0->d2l==1.0.3) (0.19.2)\n",
            "Requirement already satisfied: decorator in /usr/local/lib/python3.11/dist-packages (from ipython>=7.23.1->ipykernel->jupyter==1.0.0->d2l==1.0.3) (4.4.2)\n",
            "Requirement already satisfied: pickleshare in /usr/local/lib/python3.11/dist-packages (from ipython>=7.23.1->ipykernel->jupyter==1.0.0->d2l==1.0.3) (0.7.5)\n",
            "Requirement already satisfied: backcall in /usr/local/lib/python3.11/dist-packages (from ipython>=7.23.1->ipykernel->jupyter==1.0.0->d2l==1.0.3) (0.2.0)\n",
            "Requirement already satisfied: pexpect>4.3 in /usr/local/lib/python3.11/dist-packages (from ipython>=7.23.1->ipykernel->jupyter==1.0.0->d2l==1.0.3) (4.9.0)\n",
            "Requirement already satisfied: platformdirs>=2.5 in /usr/local/lib/python3.11/dist-packages (from jupyter-core>=4.7->nbconvert->jupyter==1.0.0->d2l==1.0.3) (4.3.8)\n",
            "Requirement already satisfied: notebook-shim>=0.2.3 in /usr/local/lib/python3.11/dist-packages (from nbclassic>=0.4.7->notebook->jupyter==1.0.0->d2l==1.0.3) (0.2.4)\n",
            "Requirement already satisfied: fastjsonschema>=2.15 in /usr/local/lib/python3.11/dist-packages (from nbformat>=5.7->nbconvert->jupyter==1.0.0->d2l==1.0.3) (2.21.1)\n",
            "Requirement already satisfied: jsonschema>=2.6 in /usr/local/lib/python3.11/dist-packages (from nbformat>=5.7->nbconvert->jupyter==1.0.0->d2l==1.0.3) (4.24.0)\n",
            "Requirement already satisfied: wcwidth in /usr/local/lib/python3.11/dist-packages (from prompt-toolkit!=3.0.0,!=3.0.1,<3.1.0,>=2.0.0->jupyter-console->jupyter==1.0.0->d2l==1.0.3) (0.2.13)\n",
            "Requirement already satisfied: ptyprocess in /usr/local/lib/python3.11/dist-packages (from terminado>=0.8.3->notebook->jupyter==1.0.0->d2l==1.0.3) (0.7.0)\n",
            "Requirement already satisfied: argon2-cffi-bindings in /usr/local/lib/python3.11/dist-packages (from argon2-cffi->notebook->jupyter==1.0.0->d2l==1.0.3) (21.2.0)\n",
            "Requirement already satisfied: soupsieve>1.2 in /usr/local/lib/python3.11/dist-packages (from beautifulsoup4->nbconvert->jupyter==1.0.0->d2l==1.0.3) (2.7)\n",
            "Requirement already satisfied: typing-extensions>=4.0.0 in /usr/local/lib/python3.11/dist-packages (from beautifulsoup4->nbconvert->jupyter==1.0.0->d2l==1.0.3) (4.14.0)\n",
            "Requirement already satisfied: parso<0.9.0,>=0.8.4 in /usr/local/lib/python3.11/dist-packages (from jedi>=0.16->ipython>=7.23.1->ipykernel->jupyter==1.0.0->d2l==1.0.3) (0.8.4)\n",
            "Requirement already satisfied: attrs>=22.2.0 in /usr/local/lib/python3.11/dist-packages (from jsonschema>=2.6->nbformat>=5.7->nbconvert->jupyter==1.0.0->d2l==1.0.3) (25.3.0)\n",
            "Requirement already satisfied: jsonschema-specifications>=2023.03.6 in /usr/local/lib/python3.11/dist-packages (from jsonschema>=2.6->nbformat>=5.7->nbconvert->jupyter==1.0.0->d2l==1.0.3) (2025.4.1)\n",
            "Requirement already satisfied: referencing>=0.28.4 in /usr/local/lib/python3.11/dist-packages (from jsonschema>=2.6->nbformat>=5.7->nbconvert->jupyter==1.0.0->d2l==1.0.3) (0.36.2)\n",
            "Requirement already satisfied: rpds-py>=0.7.1 in /usr/local/lib/python3.11/dist-packages (from jsonschema>=2.6->nbformat>=5.7->nbconvert->jupyter==1.0.0->d2l==1.0.3) (0.25.1)\n",
            "Requirement already satisfied: jupyter-server<3,>=1.8 in /usr/local/lib/python3.11/dist-packages (from notebook-shim>=0.2.3->nbclassic>=0.4.7->notebook->jupyter==1.0.0->d2l==1.0.3) (1.16.0)\n",
            "Requirement already satisfied: cffi>=1.0.1 in /usr/local/lib/python3.11/dist-packages (from argon2-cffi-bindings->argon2-cffi->notebook->jupyter==1.0.0->d2l==1.0.3) (1.17.1)\n",
            "Requirement already satisfied: pycparser in /usr/local/lib/python3.11/dist-packages (from cffi>=1.0.1->argon2-cffi-bindings->argon2-cffi->notebook->jupyter==1.0.0->d2l==1.0.3) (2.22)\n",
            "Requirement already satisfied: anyio>=3.1.0 in /usr/local/lib/python3.11/dist-packages (from jupyter-server<3,>=1.8->notebook-shim>=0.2.3->nbclassic>=0.4.7->notebook->jupyter==1.0.0->d2l==1.0.3) (4.9.0)\n",
            "Requirement already satisfied: websocket-client in /usr/local/lib/python3.11/dist-packages (from jupyter-server<3,>=1.8->notebook-shim>=0.2.3->nbclassic>=0.4.7->notebook->jupyter==1.0.0->d2l==1.0.3) (1.8.0)\n",
            "Requirement already satisfied: sniffio>=1.1 in /usr/local/lib/python3.11/dist-packages (from anyio>=3.1.0->jupyter-server<3,>=1.8->notebook-shim>=0.2.3->nbclassic>=0.4.7->notebook->jupyter==1.0.0->d2l==1.0.3) (1.3.1)\n"
          ]
        }
      ],
      "source": [
        "!pip install d2l==1.0.3\n"
      ]
    },
    {
      "cell_type": "markdown",
      "id": "3aa97d87",
      "metadata": {
        "origin_pos": 1,
        "id": "3aa97d87"
      },
      "source": [
        "# Linear Regression Implementation from Scratch\n",
        ":label:`sec_linear_scratch`\n",
        "\n",
        "We are now ready to work through\n",
        "a fully functioning implementation\n",
        "of linear regression.\n",
        "In this section,\n",
        "(**we will implement the entire method from scratch,\n",
        "including (i) the model; (ii) the loss function;\n",
        "(iii) a minibatch stochastic gradient descent optimizer;\n",
        "and (iv) the training function\n",
        "that stitches all of these pieces together.**)\n",
        "Finally, we will run our synthetic data generator\n",
        "from :numref:`sec_synthetic-regression-data`\n",
        "and apply our model\n",
        "on the resulting dataset.\n",
        "While modern deep learning frameworks\n",
        "can automate nearly all of this work,\n",
        "implementing things from scratch is the only way\n",
        "to make sure that you really know what you are doing.\n",
        "Moreover, when it is time to customize models,\n",
        "defining our own layers or loss functions,\n",
        "understanding how things work under the hood will prove handy.\n",
        "In this section, we will rely only\n",
        "on tensors and automatic differentiation.\n",
        "Later, we will introduce a more concise implementation,\n",
        "taking advantage of the bells and whistles of deep learning frameworks\n",
        "while retaining the structure of what follows below.\n"
      ]
    },
    {
      "cell_type": "code",
      "execution_count": 2,
      "id": "e05d8aba",
      "metadata": {
        "attributes": {
          "classes": [],
          "id": "",
          "n": "3"
        },
        "execution": {
          "iopub.execute_input": "2023-08-18T19:42:51.015606Z",
          "iopub.status.busy": "2023-08-18T19:42:51.014819Z",
          "iopub.status.idle": "2023-08-18T19:42:54.292743Z",
          "shell.execute_reply": "2023-08-18T19:42:54.291780Z"
        },
        "origin_pos": 3,
        "tab": [
          "pytorch"
        ],
        "id": "e05d8aba"
      },
      "outputs": [],
      "source": [
        "%matplotlib inline\n",
        "import torch\n",
        "from d2l import torch as d2l"
      ]
    },
    {
      "cell_type": "markdown",
      "id": "caf49f7e",
      "metadata": {
        "origin_pos": 6,
        "id": "caf49f7e"
      },
      "source": [
        "## Defining the Model\n",
        "\n",
        "[**Before we can begin optimizing our model's parameters**] by minibatch SGD,\n",
        "(**we need to have some parameters in the first place.**)\n",
        "In the following we initialize weights by drawing\n",
        "random numbers from a normal distribution with mean 0\n",
        "and a standard deviation of 0.01.\n",
        "The magic number 0.01 often works well in practice,\n",
        "but you can specify a different value\n",
        "through the argument `sigma`.\n",
        "Moreover we set the bias to 0.\n",
        "Note that for object-oriented design\n",
        "we add the code to the `__init__` method of a subclass of `d2l.Module` (introduced in :numref:`subsec_oo-design-models`).\n"
      ]
    },
    {
      "cell_type": "code",
      "execution_count": 3,
      "id": "d007e745",
      "metadata": {
        "attributes": {
          "classes": [],
          "id": "",
          "n": "6"
        },
        "execution": {
          "iopub.execute_input": "2023-08-18T19:42:54.297196Z",
          "iopub.status.busy": "2023-08-18T19:42:54.296343Z",
          "iopub.status.idle": "2023-08-18T19:42:54.302370Z",
          "shell.execute_reply": "2023-08-18T19:42:54.301603Z"
        },
        "origin_pos": 7,
        "tab": [
          "pytorch"
        ],
        "id": "d007e745"
      },
      "outputs": [],
      "source": [
        "class LinearRegressionScratch(d2l.Module):  #@save\n",
        "    \"\"\"The linear regression model implemented from scratch.\"\"\"\n",
        "    def __init__(self, num_inputs, lr, sigma=0.01):\n",
        "        super().__init__()\n",
        "        self.save_hyperparameters()\n",
        "        self.w = torch.normal(0, sigma, (num_inputs, 1), requires_grad=True) ##我们通过从均值为 0 且标准差为 0.01 的正态分布中抽取随机数来初始化权重。幻数 0.01 在实践中通常效果很好，但您可以通过参数 sigma 指定不同的值\n",
        "        self.b = torch.zeros(1, requires_grad=True) ## 此外，我们将偏差设置为 0"
      ]
    },
    {
      "cell_type": "markdown",
      "id": "71097a3f",
      "metadata": {
        "origin_pos": 9,
        "id": "71097a3f"
      },
      "source": [
        "Next we must [**define our model,\n",
        "relating its input and parameters to its output.**]\n",
        "Using the same notation as :eqref:`eq_linreg-y-vec`\n",
        "for our linear model we simply take the matrix--vector product\n",
        "of the input features $\\mathbf{X}$\n",
        "and the model weights $\\mathbf{w}$,\n",
        "and add the offset $b$ to each example.\n",
        "The product $\\mathbf{Xw}$ is a vector and $b$ is a scalar.\n",
        "Because of the broadcasting mechanism\n",
        "(see :numref:`subsec_broadcasting`),\n",
        "when we add a vector and a scalar,\n",
        "the scalar is added to each component of the vector.\n",
        "The resulting `forward` method\n",
        "is registered in the `LinearRegressionScratch` class\n",
        "via `add_to_class` (introduced in :numref:`oo-design-utilities`).\n"
      ]
    },
    {
      "cell_type": "code",
      "execution_count": 4,
      "id": "1306d051",
      "metadata": {
        "attributes": {
          "classes": [],
          "id": "",
          "n": "8"
        },
        "execution": {
          "iopub.execute_input": "2023-08-18T19:42:54.305721Z",
          "iopub.status.busy": "2023-08-18T19:42:54.305204Z",
          "iopub.status.idle": "2023-08-18T19:42:54.309765Z",
          "shell.execute_reply": "2023-08-18T19:42:54.308692Z"
        },
        "origin_pos": 10,
        "tab": [
          "pytorch"
        ],
        "id": "1306d051"
      },
      "outputs": [],
      "source": [
        "@d2l.add_to_class(LinearRegressionScratch)  #@save\n",
        "def forward(self, X):\n",
        "    return torch.matmul(X, self.w) + self.b ## 乘积 Xw 是一个向量， 也是一个标量。由于广播机制（参见 Section 2.1.4），当我们添加 vector 和 scalar 时，标量会被添加到 vector 的每个分量中"
      ]
    },
    {
      "cell_type": "markdown",
      "id": "e939c258",
      "metadata": {
        "origin_pos": 11,
        "id": "e939c258"
      },
      "source": [
        "## Defining the Loss Function\n",
        "\n",
        "Since [**updating our model requires taking\n",
        "the gradient of our loss function,**]\n",
        "we ought to (**define the loss function first.**)\n",
        "Here we use the squared loss function\n",
        "in :eqref:`eq_mse`.\n",
        "In the implementation, we need to transform the true value `y`\n",
        "into the predicted value's shape `y_hat`.\n",
        "The result returned by the following method\n",
        "will also have the same shape as `y_hat`.\n",
        "We also return the averaged loss value\n",
        "among all examples in the minibatch.\n"
      ]
    },
    {
      "cell_type": "code",
      "execution_count": 5,
      "id": "6509851d",
      "metadata": {
        "attributes": {
          "classes": [],
          "id": "",
          "n": "9"
        },
        "execution": {
          "iopub.execute_input": "2023-08-18T19:42:54.313880Z",
          "iopub.status.busy": "2023-08-18T19:42:54.313169Z",
          "iopub.status.idle": "2023-08-18T19:42:54.318867Z",
          "shell.execute_reply": "2023-08-18T19:42:54.317836Z"
        },
        "origin_pos": 12,
        "tab": [
          "pytorch"
        ],
        "id": "6509851d"
      },
      "outputs": [],
      "source": [
        "@d2l.add_to_class(LinearRegressionScratch)  #@save\n",
        "def loss(self, y_hat, y):\n",
        "    l = (y_hat - y) ** 2 / 2\n",
        "    return l.mean()\n",
        "\n",
        "    ## 在实现中，我们需要将 true 值 y 转换为预测值的形状 y_hat 。以下方法返回的结果也将具有与 y_hat . 相同的形状。"
      ]
    },
    {
      "cell_type": "markdown",
      "id": "4285b751",
      "metadata": {
        "origin_pos": 14,
        "id": "4285b751"
      },
      "source": [
        "## Defining the Optimization Algorithm\n",
        "\n",
        "As discussed in :numref:`sec_linear_regression`,\n",
        "linear regression has a closed-form solution.\n",
        "However, our goal here is to illustrate\n",
        "how to train more general neural networks,\n",
        "and that requires that we teach you\n",
        "how to use minibatch SGD.\n",
        "Hence we will take this opportunity\n",
        "to introduce your first working example of SGD.\n",
        "At each step, using a minibatch\n",
        "randomly drawn from our dataset,\n",
        "we estimate the gradient of the loss\n",
        "with respect to the parameters.\n",
        "Next, we update the parameters\n",
        "in the direction that may reduce the loss.\n",
        "\n",
        "The following code applies the update,\n",
        "given a set of parameters, a learning rate `lr`.\n",
        "Since our loss is computed as an average over the minibatch,\n",
        "we do not need to adjust the learning rate against the batch size.\n",
        "In later chapters we will investigate\n",
        "how learning rates should be adjusted\n",
        "for very large minibatches as they arise\n",
        "in distributed large-scale learning.\n",
        "For now, we can ignore this dependency.\n"
      ]
    },
    {
      "cell_type": "markdown",
      "id": "fb3bc263",
      "metadata": {
        "origin_pos": 16,
        "tab": [
          "pytorch"
        ],
        "id": "fb3bc263"
      },
      "source": [
        "We define our `SGD` class,\n",
        "a subclass of `d2l.HyperParameters` (introduced in :numref:`oo-design-utilities`),\n",
        "to have a similar API\n",
        "as the built-in SGD optimizer.\n",
        "We update the parameters in the `step` method.\n",
        "The `zero_grad` method sets all gradients to 0,\n",
        "which must be run before a backpropagation step.\n"
      ]
    },
    {
      "cell_type": "code",
      "execution_count": 6,
      "id": "ee40ef54",
      "metadata": {
        "attributes": {
          "classes": [],
          "id": "",
          "n": "11"
        },
        "execution": {
          "iopub.execute_input": "2023-08-18T19:42:54.322951Z",
          "iopub.status.busy": "2023-08-18T19:42:54.322264Z",
          "iopub.status.idle": "2023-08-18T19:42:54.329600Z",
          "shell.execute_reply": "2023-08-18T19:42:54.328587Z"
        },
        "origin_pos": 18,
        "tab": [
          "pytorch"
        ],
        "id": "ee40ef54"
      },
      "outputs": [],
      "source": [
        "class SGD(d2l.HyperParameters):          # ①  继承 d2l.HyperParameters → 可用 save_hyperparameters()\n",
        "    \"\"\"Minibatch stochastic gradient descent.\"\"\"\n",
        "\n",
        "    def __init__(self, params, lr):\n",
        "        \"\"\"\n",
        "        params : 可迭代的张量 – 要更新的模型参数 (weights & biases 等)\n",
        "        lr     : float          – 学习率 (learning-rate)\n",
        "        \"\"\"\n",
        "        self.save_hyperparameters()      # ② 把 params / lr 自动存成 self.params, self.lr，并记录到 self.hparams\n",
        "\n",
        "    # ------------------------------------------------------------\n",
        "    # ③ 单步更新：θ ← θ − lr · ∇θ\n",
        "    #    假设 .backward() 已经算好 param.grad\n",
        "    # ------------------------------------------------------------\n",
        "    def step(self):\n",
        "        for param in self.params:        # 遍历所有待优化张量\n",
        "            param -= self.lr * param.grad  # 原地更新：param = param - lr * grad\n",
        "\n",
        "    # ------------------------------------------------------------\n",
        "    # ④ 梯度清零：在下一次反向传播前必须把梯度设回 0\n",
        "    # ------------------------------------------------------------\n",
        "    def zero_grad(self):\n",
        "        for param in self.params:\n",
        "            if param.grad is not None:   # 有些参数可能还没参与梯度计算\n",
        "                param.grad.zero_()       # in-place 置零，省内存\n"
      ]
    },
    {
      "cell_type": "markdown",
      "source": [
        "`save_hyperparameters()`\n",
        "自带「把建构子形参自动变成属性」的功能，省去 self.lr = lr、self.params = params 等样板写法。\n",
        "\n",
        "`step()`\n",
        "完成经典 SGD 更新公式 θ ← θ − α∇θ；这里没有 momentum、weight-decay 等额外机制，示范最朴素版本。\n",
        "\n",
        "`param -= self.lr * param.grad `\n",
        "\n",
        "就是在原地（in-place）把所有可訓練參數—including w、b、卷積核、BatchNorm scale/shift…—通通往「負梯度方向」移動一小步。細節拆開說：\n",
        "\n",
        "\n",
        " | 名稱           | 角色                                                                                                                               | 更新後變化                                       |\n",
        "| ------------ | -------------------------------------------------------------------------------------------------------------------------------- | ------------------------------------------- |\n",
        "| `param`      | 來自 `self.params`，通常是模型裡每一個 **`nn.Parameter`**：<br>· 線性層的 `weight`、`bias`<br>· Conv 層的 `weight`<br>· BatchNorm 的 `gamma`、`beta` … | 直接被覆寫成<br>`param ← param − lr · param.grad` |\n",
        "| `lr`         | 學習率                                                                                                                              | 決定「一步走多遠」                                   |\n",
        "| `param.grad` | 在 `loss.backward()` 之後由 Autograd 寫入的 **梯度張量**                                                                                    | 使用後仍保留；下批次前由 `zero_grad()` 清零               |\n",
        "\n",
        "\n",
        "\n",
        "\n",
        "\n",
        "\n",
        "`zero_grad()`\n",
        "训练循环中应在每个 mini-batch 的 loss.backward() 之后、下一次前调用，避免梯度累积。"
      ],
      "metadata": {
        "id": "R4_7I6vcg1Qw"
      },
      "id": "R4_7I6vcg1Qw"
    },
    {
      "cell_type": "markdown",
      "id": "00c390bf",
      "metadata": {
        "origin_pos": 21,
        "id": "00c390bf"
      },
      "source": [
        "We next define the `configure_optimizers` method, which returns an instance of the `SGD` class.\n"
      ]
    },
    {
      "cell_type": "code",
      "execution_count": 7,
      "id": "8a5a3a40",
      "metadata": {
        "attributes": {
          "classes": [],
          "id": "",
          "n": "14"
        },
        "execution": {
          "iopub.execute_input": "2023-08-18T19:42:54.333602Z",
          "iopub.status.busy": "2023-08-18T19:42:54.332931Z",
          "iopub.status.idle": "2023-08-18T19:42:54.338188Z",
          "shell.execute_reply": "2023-08-18T19:42:54.336975Z"
        },
        "origin_pos": 22,
        "tab": [
          "pytorch"
        ],
        "id": "8a5a3a40"
      },
      "outputs": [],
      "source": [
        "@d2l.add_to_class(LinearRegressionScratch)  #@save\n",
        "def configure_optimizers(self):\n",
        "    return SGD([self.w, self.b], self.lr)"
      ]
    },
    {
      "cell_type": "markdown",
      "source": [
        "| 步驟                     | 發生什麼事                             | `param.grad` 內容         |\n",
        "| ---------------------- | --------------------------------- | ----------------------- |\n",
        "| 1. 前向傳播                | `loss = model(X)` → 標量            | 尚未建立，為 `None`           |\n",
        "| 2. 反向傳播                | `loss.backward()`                 | **寫入梯度**，形狀與 `param` 相同 |\n",
        "| 3. `optim.step()`      | `param ← param − lr × param.grad` | 還是舊梯度，不會自動清零            |\n",
        "| 4. `optim.zero_grad()` | `param.grad.zero_()`              | 回到 0，等下一輪再填新梯度          |\n"
      ],
      "metadata": {
        "id": "kP54X79_IzGN"
      },
      "id": "kP54X79_IzGN"
    },
    {
      "cell_type": "markdown",
      "id": "a965a93a",
      "metadata": {
        "origin_pos": 23,
        "id": "a965a93a"
      },
      "source": [
        "## Training\n",
        "\n",
        "Now that we have all of the parts in place\n",
        "(parameters, loss function, model, and optimizer),\n",
        "we are ready to [**implement the main training loop.**]\n",
        "It is crucial that you understand this code fully\n",
        "since you will employ similar training loops\n",
        "for every other deep learning model\n",
        "covered in this book.\n",
        "In each *epoch*, we iterate through\n",
        "the entire training dataset,\n",
        "passing once through every example\n",
        "(assuming that the number of examples\n",
        "is divisible by the batch size).\n",
        "In each *iteration*, we grab a minibatch of training examples,\n",
        "and compute its loss through the model's `training_step` method.\n",
        "Then we compute the gradients with respect to each parameter.\n",
        "Finally, we will call the optimization algorithm\n",
        "to update the model parameters.\n",
        "In summary, we will execute the following loop:\n",
        "\n",
        "* Initialize parameters $(\\mathbf{w}, b)$\n",
        "* Repeat until done\n",
        "    * Compute gradient $\\mathbf{g} \\leftarrow \\partial_{(\\mathbf{w},b)} \\frac{1}{|\\mathcal{B}|} \\sum_{i \\in \\mathcal{B}} l(\\mathbf{x}^{(i)}, y^{(i)}, \\mathbf{w}, b)$\n",
        "    * Update parameters $(\\mathbf{w}, b) \\leftarrow (\\mathbf{w}, b) - \\eta \\mathbf{g}$\n",
        "\n",
        "Recall that the synthetic regression dataset\n",
        "that we generated in :numref:``sec_synthetic-regression-data``\n",
        "does not provide a validation dataset.\n",
        "In most cases, however,\n",
        "we will want a validation dataset\n",
        "to measure our model quality.\n",
        "Here we pass the validation dataloader\n",
        "once in each epoch to measure the model performance.\n",
        "Following our object-oriented design,\n",
        "the `prepare_batch` and `fit_epoch` methods\n",
        "are registered in the `d2l.Trainer` class\n",
        "(introduced in :numref:`oo-design-training`).\n"
      ]
    },
    {
      "cell_type": "markdown",
      "source": [
        "![截圖 2025-06-14 上午9.55.01.png](data:image/png;base64,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)"
      ],
      "metadata": {
        "id": "2j441cSBJc2j"
      },
      "id": "2j441cSBJc2j"
    },
    {
      "cell_type": "markdown",
      "source": [
        "1 · 為何要「算梯度 → 反方向走」？\n",
        "把損失函數\n",
        "𝐿\n",
        "(\n",
        "𝑤\n",
        ",\n",
        "𝑏\n",
        ")\n",
        "L(w,b) 想成一座起伏的地形──\n",
        "高度 = 誤差，平地 = 0 誤差。我們手上只有當前位置\n",
        "(\n",
        "𝑤\n",
        ",\n",
        "𝑏\n",
        ")\n",
        "(w,b) 一個點的資訊。\n",
        "\n",
        "梯度\n",
        "∇\n",
        "𝐿\n",
        "∇L 就是這點「最陡上坡」的向量；\n",
        "往它的 反方向 走最能讓海拔（損失）快速下降。\n",
        "\n",
        "學習率\n",
        "𝜂\n",
        "η 決定一步跨多遠：\n",
        "太大像跳崖，太小像螞蟻爬山。\n",
        "\n",
        "迷你批次平均 先把同批資料的損失取平均，\n",
        "可以讓方向比較穩，不會被單一樣本的噪聲牽著跑。\n",
        "\n",
        "這就是公式背後的直觀圖像：\n",
        "\n",
        "「在當下這一小批資料上，找到下降最快的方向，\n",
        "然後沿那方向走一小步。」"
      ],
      "metadata": {
        "id": "i4pKfHz-J6f_"
      },
      "id": "i4pKfHz-J6f_"
    },
    {
      "cell_type": "markdown",
      "source": [
        "***NOTE: Python 中的「decorator（装饰器）」是什么？ ***\n",
        "\n",
        "# **1 语法**\n",
        "装饰器就是一个 “拿函数（或类）当输入，又返回一个新函数（或类）” 的 高阶函数。\n",
        "在语法上用 @名字 前缀贴在目标上，相当于给目标套一层包装，在不改动原始代码的情况下添加额外行为。\n",
        "\n",
        "# **2 为什么要用它？**\n",
        "| 场景                  | 传统写法                                       | 用装饰器后                               |\n",
        "| ------------------- | ------------------------------------------ | ----------------------------------- |\n",
        "| 函数调用前后插日志           | 在每个函数里手动写 `print(\"enter\")`、`print(\"exit\")` | 定义一次 `@log` 装饰器，全局复用                |\n",
        "| 缓存/备忘录（memoization） | 手动写字典存结果                                   | `@functools.lru_cache` 一行解决         |\n",
        "| Django 路由或 Flask 路由 | 单独注册 URL → 视图函数                            | `@app.route('/path')` 贴在函数头上        |\n",
        "| 教学示例中动态给类加方法        | 修改类源码                                      | `@d2l.add_to_class(SomeClass)` 直接注入 |\n",
        "\n",
        "# **3 · 最小可运行示例**\n",
        "3.1 函数装饰器\n",
        "```\n",
        "def log(func):                       # ← 装饰器本身\n",
        "    def wrapper(*args, **kwargs):    #   内层包装函数\n",
        "        print(f\"[LOG] call {func.__name__}\")\n",
        "        return func(*args, **kwargs) #   调用原函数\n",
        "    return wrapper                   # ← 把包装函数返回\n",
        "\n",
        "@log\n",
        "def add(a, b):\n",
        "    return a + b\n",
        "\n",
        "print(add(2, 3))\n",
        "```\n",
        "output\n",
        "```\n",
        "[LOG] call add\n",
        "5\n",
        "```\n",
        "3.2 带参数的装饰器\n",
        "```\n",
        "def repeat(n):                       # 先接收参数\n",
        "    def deco(func):\n",
        "        def wrapper(*args, **kwargs):\n",
        "            for _ in range(n):\n",
        "                func(*args, **kwargs)\n",
        "        return wrapper\n",
        "    return deco\n",
        "\n",
        "@repeat(3)       # 执行同一个函数 3 次\n",
        "def hello():\n",
        "    print(\"Hi!\")\n",
        "\n",
        "hello()\n",
        "```\n",
        "\n",
        "# **4 · 内置常见装饰器**\n",
        "| 装饰器                | 作用                                       |\n",
        "| ------------------ | ---------------------------------------- |\n",
        "| `@staticmethod`    | 在类里定义“静态函数”（不带 `self`）                   |\n",
        "| `@classmethod`     | 第一个参数是 `cls` 而非 `self`                   |\n",
        "| `@property`        | 把方法伪装成属性：`obj.length` 而不是 `obj.length()` |\n",
        "| `@functools.wraps` | 保留被装饰函数的元信息（`__name__`, `__doc__` 等）     |\n",
        "\n",
        "\n"
      ],
      "metadata": {
        "id": "vMAPKYr-PYvd"
      },
      "id": "vMAPKYr-PYvd"
    },
    {
      "cell_type": "code",
      "source": [
        "def log(func):                       # ← 装饰器本身\n",
        "    def wrapper(*args, **kwargs):    #   内层包装函数\n",
        "        print(f\"[LOG] call {func.__name__}\")\n",
        "        return func(*args, **kwargs) #   调用原函数\n",
        "    return wrapper                   # ← 把包装函数返回\n",
        "\n",
        "@log\n",
        "def add(a, b):\n",
        "    return a + b\n",
        "\n",
        "print(add(2, 3))"
      ],
      "metadata": {
        "colab": {
          "base_uri": "https://localhost:8080/"
        },
        "id": "xMmFpwHkQePD",
        "outputId": "eb3226a1-0614-49d4-dcdf-0506587af407"
      },
      "id": "xMmFpwHkQePD",
      "execution_count": 3,
      "outputs": [
        {
          "output_type": "stream",
          "name": "stdout",
          "text": [
            "[LOG] call add\n",
            "5\n"
          ]
        }
      ]
    },
    {
      "cell_type": "code",
      "source": [
        "def repeat(n):                       # 先接收参数\n",
        "    def deco(func):\n",
        "        def wrapper(*args, **kwargs):\n",
        "            for _ in range(n):\n",
        "                func(*args, **kwargs)\n",
        "        return wrapper\n",
        "    return deco\n",
        "\n",
        "@repeat(3)       # 执行同一个函数 3 次\n",
        "def hello():\n",
        "    print(\"Hi!\")\n",
        "\n",
        "hello()"
      ],
      "metadata": {
        "colab": {
          "base_uri": "https://localhost:8080/"
        },
        "id": "B9KyLuRVQV4s",
        "outputId": "1542159b-a47d-45fd-8089-2c7278968f73"
      },
      "id": "B9KyLuRVQV4s",
      "execution_count": 1,
      "outputs": [
        {
          "output_type": "stream",
          "name": "stdout",
          "text": [
            "Hi!\n",
            "Hi!\n",
            "Hi!\n"
          ]
        }
      ]
    },
    {
      "cell_type": "code",
      "execution_count": 8,
      "id": "0c422c5b",
      "metadata": {
        "attributes": {
          "classes": [],
          "id": "",
          "n": "15"
        },
        "execution": {
          "iopub.execute_input": "2023-08-18T19:42:54.342007Z",
          "iopub.status.busy": "2023-08-18T19:42:54.341174Z",
          "iopub.status.idle": "2023-08-18T19:42:54.345995Z",
          "shell.execute_reply": "2023-08-18T19:42:54.344948Z"
        },
        "origin_pos": 24,
        "tab": [
          "pytorch"
        ],
        "id": "0c422c5b"
      },
      "outputs": [],
      "source": [
        "@d2l.add_to_class(d2l.Trainer)   # ①\n",
        "def prepare_batch(self, batch):  # ②\n",
        "    return batch                 # ③"
      ]
    },
    {
      "cell_type": "markdown",
      "source": [
        "| 行號                                  | 作用                                                                                                                                              | 為何要這樣做                                                                                                            |\n",
        "| ----------------------------------- | ----------------------------------------------------------------------------------------------------------------------------------------------- | ----------------------------------------------------------------------------------------------------------------- |\n",
        "| ① `@d2l.add_to_class(d2l.Trainer)`  | 這是一個 **裝飾器 (decorator)**。D2L 定義了 `add_to_class(cls)` 這個函式，用來把下面緊跟的函式 **掛到指定的類別** (`cls`) 上。等號意義：<br>`d2l.Trainer.prepare_batch = prepare_batch` | 這樣就不必去修改 `Trainer` 原始碼，就可以「熱插拔」加新方法。Notebook/教學常用這招來分段展示程式。                                                       |\n",
        "| ② `def prepare_batch(self, batch):` | 定義一個方法。<br>`self` → `Trainer` 物件本身；<br>`batch` → DataLoader 迭代到的 mini-batch (任意型別)。                                                             | 提供 **批次前處理的掛鉤 (hook)**。之後 `Trainer` 內部在呼叫 `model.training_step(...)` 之前，會先執行 `batch = self.prepare_batch(batch)`。 |\n",
        "| ③ `return batch`                    | 預設什麼都不做，原封不動把 batch 傳回去。                                                                                                                        | **方便覆寫**：如果你需要把張量搬到 GPU、做 dtype 轉換、資料增強 … 只要在 Notebook 重新執行另一版 `prepare_batch`（同名覆寫）即可。                           |\n"
      ],
      "metadata": {
        "id": "UO447NvjQ3Yb"
      },
      "id": "UO447NvjQ3Yb"
    },
    {
      "cell_type": "code",
      "source": [
        "# 範例：把 batch 搬到 GPU\n",
        "device = torch.device('cuda:0')\n",
        "\n",
        "@d2l.add_to_class(d2l.Trainer)\n",
        "def prepare_batch(self, batch):\n",
        "    # 假設 batch 是 (X, y)\n",
        "    X, y = batch\n",
        "    return X.to(device), y.to(device)"
      ],
      "metadata": {
        "id": "pg8FzN32RFKs"
      },
      "id": "pg8FzN32RFKs",
      "execution_count": null,
      "outputs": []
    },
    {
      "cell_type": "markdown",
      "source": [
        "# **Linear regression model training from scratch**\n",
        "\n",
        "1. Put the model in training mode – turns on Dropout, BatchNorm statistics, etc.\n",
        "\n",
        "2. Loop over every mini-batch of the training data\n",
        "\n",
        " 1. Forward pass (training_step) → loss\n",
        "\n",
        "  2. zero_grad() – clear last batch’s gradients\n",
        "\n",
        "  3. Back-prop (loss.backward()) – populate param.grad\n",
        "\n",
        "  4. (Optional) clip overly large gradients\n",
        "\n",
        "  5. Optimiser step() – update the weights\n",
        "\n",
        "  6. Advance the training-batch counter (for progress-plots)\n",
        "\n",
        "3. If no validation set, stop here.\n",
        "\n",
        "4. Switch to eval mode – Dropout off, BatchNorm frozen.\n",
        "\n",
        "5. Loop over validation batches\n",
        "Only forward passes (validation_step); no gradient tracking.\n",
        "\n",
        "6. Advance the validation-batch counter after each batch.\n",
        "\n",
        "7. Return to the caller (Trainer.fit) so the next epoch can start."
      ],
      "metadata": {
        "id": "DM7BuJY4X_C7"
      },
      "id": "DM7BuJY4X_C7"
    },
    {
      "cell_type": "code",
      "execution_count": 11,
      "id": "9f43b679",
      "metadata": {
        "attributes": {
          "classes": [],
          "id": "",
          "n": "16"
        },
        "execution": {
          "iopub.execute_input": "2023-08-18T19:42:54.349687Z",
          "iopub.status.busy": "2023-08-18T19:42:54.348979Z",
          "iopub.status.idle": "2023-08-18T19:42:54.355255Z",
          "shell.execute_reply": "2023-08-18T19:42:54.354485Z"
        },
        "origin_pos": 25,
        "tab": [
          "pytorch"
        ],
        "id": "9f43b679"
      },
      "outputs": [],
      "source": [
        "@d2l.add_to_class(d2l.Trainer)   # <-- ❶ decorator：把下面函式注入 Trainer\n",
        "def fit_epoch(self):            #       等同寫在 Trainer 類裡\n",
        "    # ---------- A. TRAINING PHASE ---------------------------------\n",
        "    self.model.train()          # ❷ 打開 Dropout / BN 的“訓練模式”\n",
        "\n",
        "    for batch in self.train_dataloader:      # ❸ 逐 mini-batch\n",
        "        # ① forward + loss（由 model.training_step 實作）\n",
        "        loss = self.model.training_step(self.prepare_batch(batch))\n",
        "\n",
        "        self.optim.zero_grad()              # ② 清掉上一批的梯度\n",
        "\n",
        "        with torch.no_grad():               # ③ 不讓 autograd 記錄優化器步驟\n",
        "            loss.backward()                 # ②.5 反向傳播 → 填 param.grad\n",
        "\n",
        "            # ④ 梯度裁剪（防爆梯）；0 代表不啟用\n",
        "            if self.gradient_clip_val > 0:\n",
        "                self.clip_gradients(self.gradient_clip_val, self.model)\n",
        "\n",
        "            self.optim.step()               # ⑤ SGD / Adam 更新權重\n",
        "\n",
        "        self.train_batch_idx += 1           # ⑥ 給 ProgressBoard 畫曲線用\n",
        "    # ----------------------------------------------------------------\n",
        "\n",
        "    if self.val_dataloader is None:         # ❸ 沒驗證集就直接結束本 epoch\n",
        "        return\n",
        "\n",
        "    # ---------- B. VALIDATION PHASE ---------------------------------\n",
        "    self.model.eval()                       # ❹ 切成 evaluation mode\n",
        "    for batch in self.val_dataloader:\n",
        "        with torch.no_grad():               # 只做前向，不要算梯度\n",
        "            self.model.validation_step(self.prepare_batch(batch))\n",
        "        self.val_batch_idx += 1             # ⑦ 畫圖／記錄\n"
      ]
    },
    {
      "cell_type": "markdown",
      "source": [
        "重要语法 & 设计要点\n",
        "\n",
        "| 符号 / 调用                                       | 说明                                                                                                                   |\n",
        "| --------------------------------------------- | -------------------------------------------------------------------------------------------------------------------- |\n",
        "| `@d2l.add_to_class(ClassName)`                | 把下面定义的函数当作方法动态挂到 `ClassName`；无需改动原始源码。                                                                               |\n",
        "| `self.model.train()` vs `self.model.eval()`   | 切换 PyTorch 的两种模式：<br>• `train()` 启用 Dropout、让 BatchNorm 使用 batch-stat。<br>• `eval()` 关闭 Dropout、BatchNorm 用移动平均。     |\n",
        "| `with torch.no_grad():`                       | 临时关闭 autograd：<br>• **训练阶段**：包住 `loss.backward()` 之后的 *梯度处理*，防止 `step()` 的张量操作被记录。<br>• **验证阶段**：整个前向传递都无需梯度，可省显存加速。 |\n",
        "| `self.prepare_batch(batch)`                   | 预处理钩子：默认原样返回；用户可重写以搬到 GPU、改变 dtype、数据增强等。                                                                            |\n",
        "| `gradient_clip_val`                           | >0 时调用 `clip_gradients()` 限制 `‖grad‖`，避免梯度爆炸。                                                                        |\n",
        "| `self.train_batch_idx` / `self.val_batch_idx` | 记录已处理多少批；`model.plot()` 用来把横轴映射到 *epoch 进度*。                                                                         |\n",
        "\n",
        "\n",
        "这个 `fit_epoch()` 让 Trainer 只管“宏观流程”，而把 损失计算 / 指标记录 交给模型侧的 `training_step()`、`validation_step()`。\n",
        "如此解耦后，你可以自由替换模型、优化器或批次预处理，而不必改动 epoch 循环骨架。"
      ],
      "metadata": {
        "id": "0is64eTxd0-_"
      },
      "id": "0is64eTxd0-_"
    },
    {
      "cell_type": "markdown",
      "source": [
        "# `.()train` 打開DROP OUT/BatchNorm 的訓練模式\n",
        "\n",
        "\n",
        "| 層別            | `.train()`（訓練模式）                                                                         | `.eval()`（推論／驗證模式）           |\n",
        "| ------------- | ---------------------------------------------------------------------------------------- | ---------------------------- |\n",
        "| **Dropout**   | 隨機把輸出神經元以機率 *p* 置 0，再把剩餘值放大 $1/(1-p)$ 以保期望不變。<br>→ 每次 forward 都在“亂遮”，等於做集合模型 (ensemble)。 | 完全 **不遮**，直接把輸入原樣輸出。         |\n",
        "| **BatchNorm** | 1️⃣ 用當前 mini-batch 的均值/方差來標準化；<br>2️⃣ 同時更新「滑動平均統計」(running mean/var)。                    | 只用 **那份滑動平均** 來標準化，保證輸入分佈固定。 |\n",
        "\n",
        "\n",
        "PyTorch 透過 module.training 這個布林旗標控制行為：\n",
        "- 呼叫 model.train() → 把所有子模組的 training=True。\n",
        "- 呼叫 model.eval() → 把所有子模組的 training=False。\n",
        "\n",
        "\n",
        "為什麼這麼設計？\n",
        "- Dropout 在訓練時需要隨機性來防止過擬合；推論時若仍亂遮會降低精度，所以必須關閉。\n",
        "- BatchNorm 在訓練時用批次統計比較準；然而推論階段只有一張圖片（或少量樣本），因此改用整個訓練過程累積的滑動平均，讓輸入分佈穩定一致。\n",
        "\n",
        "\n",
        "超小實驗：看 Dropout 輸出差異\n",
        "\n",
        "\n",
        "```\n",
        "import torch, torch.nn as nn\n",
        "\n",
        "m = nn.Dropout(p=0.5)\n",
        "x = torch.ones(5)\n",
        "\n",
        "# 訓練模式\n",
        "m.train(); print(\"train:\", m(x))\n",
        "# 推論模式\n",
        "m.eval();  print(\"eval :\", m(x))\n",
        "\n",
        "```\n",
        "\n",
        "possible output\n",
        "\n",
        "```\n",
        "train: tensor([2., 0., 2., 0., 0.])   # 隨機遮且放大\n",
        "eval : tensor([1., 1., 1., 1., 1.])   # 完全不遮\n",
        "\n",
        "```\n",
        "\n",
        "\n",
        "\n",
        "\n",
        "\n",
        "```\n",
        "PyTorch   <-- 定義了 nn.Module.train() / eval()\n",
        "   ▲\n",
        "   │              (Trainer 只是“使用”它)\n",
        "d2l.Trainer  ──►  model.train()   或   model.eval()\n",
        "```\n",
        "1. “打開”/“關閉” 指的是 nn.Module.train() / eval() 切換了內部布林值 module.training\n",
        "2. 每個像 Dropout, BatchNorm 的子層在 forward() 時都會查 self.training 决定要做哪種運算。\n",
        "3. Trainer 只是負責在合適時機呼叫；並不是它繼承了什麼特殊特性，而是 利用了 PyTorch 自帶的機制。"
      ],
      "metadata": {
        "id": "a1hoFBQBX6PT"
      },
      "id": "a1hoFBQBX6PT"
    },
    {
      "cell_type": "markdown",
      "source": [
        "# Simulation\n",
        "\n",
        "Below is a “table-top simulation” of what fit_epoch() really does, using the smallest concrete setup I could think of:\n",
        "\n",
        "\n",
        "| component                      | toy choice                                                                                                          |\n",
        "| ------------------------------ | ------------------------------------------------------------------------------------------------------------------- |\n",
        "| Model (`self.model`)           | ŷ = w · x + b   (one weight, one bias)                                                                             |\n",
        "| Loss used in `training_step()` | **MSE**: ½ (ŷ − y)²                                                                                                |\n",
        "| Optimizer (`self.optim`)       | our earlier hand-rolled `SGD` with lr = 0.1                                                                         |\n",
        "| Gradient-clip setting          | `gradient_clip_val = 1.0` (so we can see it trigger)                                                                |\n",
        "| Mini-batch loaders             | **train**: 4 samples, batch size = 2  → 2 batches/epoch  <br> **val**  : 2 samples, batch size = 2  → 1 batch/epoch |\n",
        "\n",
        "\n",
        "\n",
        "0. Initial state\n",
        "\n",
        "```\n",
        "w = 2.0         b = 0.0\n",
        "train data  (x, y): (1, 3) , (2, 5) , (3, 7) , (4,  9)\n",
        "val   data  (x, y): (0, 1) , (5,11)\n",
        "train_batch_idx = val_batch_idx = 0\n",
        "```\n",
        "(The target rule is “y = 2x + 1”, so参数一开始是错的。)\n",
        "\n",
        "\n",
        "1. Training phase\n",
        "\n",
        "▸ Batch 1 (x = [1,2], y = [3,5])\n",
        "\n",
        "| code line                         | what happens                                                                            | tiny numbers                                                        |\n",
        "| --------------------------------- | --------------------------------------------------------------------------------------- | ------------------------------------------------------------------- |\n",
        "| `loss = model.training_step(...)` | Forward ⟶ ŷ = \\[2·1+0, 2·2+0] = \\[2, 4].<br>Loss = ½\\[(2−3)² + (4−5)²] = ½\\[1 + 1] = 1 | `loss = 1`                                                          |\n",
        "| `optim.zero_grad()`               | 梯度清零                                                                                    | w\\.grad = b.grad = 0                                                |\n",
        "| `loss.backward()`                 | Compute gradients w\\.r.t current batch                                                  | <br>∂L/∂w = ∑(ŷ−y)x = (2−3)·1+(4−5)·2 = −3<br>∂L/∂b = ∑(ŷ−y) = −2 |\n",
        "| clip? (`val=1.0`)                 | ‖g‖ ≈ √(9+4)=3.6 > 1 → **scale** gradients by 1/3.6 ≈ 0.28                              | w\\.grad = −3×0.28 ≈ −0.84<br>b.grad ≈ −0.56                         |\n",
        "| `optim.step()`                    | w ← 2.0 − 0.1·(−0.84) = 2.084<br>b ← 0.0 − 0.1·(−0.56) = 0.056                          |                                                                     |\n",
        "| `train_batch_idx += 1`            | for progress plotting                                                                   | train\\_batch\\_idx = 1                                               |\n",
        "\n",
        "\n",
        "▸ Batch 2 (x = [3,4], y = [7,9])\n",
        "\n",
        "\n",
        "```\n",
        "w ≈ 2.19 ,  b ≈ 0.11\n",
        "train_batch_idx = 2\n",
        "```\n",
        "\n",
        "\n",
        "\n",
        "2. Validation phase (self.model.eval())\n",
        "\n",
        "`torch.no_grad()` ⟹ 只前向、不算梯度。\n",
        "\n",
        "```\n",
        "ŷ = [0.11,  2.19·5+0.11 ≈ 11.06]\n",
        "loss = ½[(0.11−1)² + (11.06−11)²] ≈ 0.40\n",
        "val_batch_idx = 1\n",
        "```\n",
        "\n",
        "3 · Epoch completed – visible side-effects\n",
        "\n",
        "\n",
        "\n",
        "| object                 | value after `fit_epoch()`                                                                                                                                             |\n",
        "| ---------------------- | --------------------------------------------------------------------------------------------------------------------------------------------------------------------- |\n",
        "| `self.model`           | weights updated (w≈2.19, b≈0.11)                                                                                                                                      |\n",
        "| `self.train_batch_idx` | 2                                                                                                                                                                     |\n",
        "| `self.val_batch_idx`   | 1                                                                                                                                                                     |\n",
        "| `ProgressBoard`        | already has the points to draw: <br>- training-loss at x = 0 → 1 (batch 1 halfway),<br>- another at 1 → ( batch 2 ),<br>- validation-loss at integer epoch tick x = 1 |\n",
        "\n",
        "\n",
        "\n",
        "\n",
        "Code-structure recap (why the lines are arranged like that)\n",
        "mode switch (train() / eval())\n",
        "Guarantees Dropout & BatchNorm behave correctly.\n",
        "\n",
        "for batch in loader:\n",
        "Drives the optimizer step-by-step; everything needing gradients stays outside the no_grad() context.\n",
        "\n",
        "Two gradient-related helpers\n",
        "\n",
        "zero_grad() – prevent gradient accumulation across batches.\n",
        "\n",
        "gradient clipping – optional safety valve.\n",
        "\n",
        "Separate validation loop under no_grad()\n",
        "Keeps memory low and inference faster; never alters weights.\n",
        "\n",
        "That’s the concrete life of one tiny epoch behind those 15 lines of code. Feel free to tweak the numbers, batch size, or learning-rate on paper (or in a notebook) to see how each piece reacts!\n",
        "\n",
        "\n",
        "\n",
        "\n",
        "\n",
        ""
      ],
      "metadata": {
        "id": "CGWgp6voUQp1"
      },
      "id": "CGWgp6voUQp1"
    },
    {
      "cell_type": "markdown",
      "source": [
        "# Gradient Clipping\n",
        "\n",
        "\n",
        " · The problem — “exploding gradients”\n",
        "In deep or recurrent networks the back-propagated gradients can occasionally become huge (100 ×, 1000 × larger than usual).\n",
        "When that happens:\n",
        "\n",
        "One SGD step blasts the weights far off the useful part of the loss surface.\n",
        "\n",
        "The loss becomes nan or the model diverges instead of learning.\n",
        "\n",
        "Think of climbing down a mountain: if every so often the compass arrow jumps to “run 5 km west!” you’ll overshoot the valley.\n",
        "\n",
        "\n",
        "2 · Gradient clipping = “speed-limit” for that arrow\n",
        "Before the optimiser updates the parameters we inspect the gradient vector\n",
        "and, if it is above a preset threshold, shrink it:\n"
      ],
      "metadata": {
        "id": "nI1nqlOAWVkk"
      },
      "id": "nI1nqlOAWVkk"
    },
    {
      "cell_type": "markdown",
      "id": "b9fc0166",
      "metadata": {
        "origin_pos": 29,
        "id": "b9fc0166"
      },
      "source": [
        "We are almost ready to train the model,\n",
        "but first we need some training data.\n",
        "Here we use the `SyntheticRegressionData` class\n",
        "and pass in some ground truth parameters.\n",
        "Then we train our model with\n",
        "the learning rate `lr=0.03`\n",
        "and set `max_epochs=3`.\n",
        "Note that in general, both the number of epochs\n",
        "and the learning rate are hyperparameters.\n",
        "In general, setting hyperparameters is tricky\n",
        "and we will usually want to use a three-way split,\n",
        "one set for training,\n",
        "a second for hyperparameter selection,\n",
        "and the third reserved for the final evaluation.\n",
        "We elide these details for now but will revise them\n",
        "later.\n"
      ]
    },
    {
      "cell_type": "code",
      "execution_count": 10,
      "id": "d45852e3",
      "metadata": {
        "attributes": {
          "classes": [],
          "id": "",
          "n": "20"
        },
        "execution": {
          "iopub.execute_input": "2023-08-18T19:42:54.359835Z",
          "iopub.status.busy": "2023-08-18T19:42:54.359070Z",
          "iopub.status.idle": "2023-08-18T19:42:56.328769Z",
          "shell.execute_reply": "2023-08-18T19:42:56.327907Z"
        },
        "origin_pos": 30,
        "tab": [
          "pytorch"
        ],
        "colab": {
          "base_uri": "https://localhost:8080/",
          "height": 265
        },
        "id": "d45852e3",
        "outputId": "5d956b18-6985-40a3-f708-5cedd8669680"
      },
      "outputs": [
        {
          "output_type": "display_data",
          "data": {
            "text/plain": [
              "<Figure size 350x250 with 1 Axes>"
            ],
            "image/svg+xml": "<?xml version=\"1.0\" encoding=\"utf-8\" standalone=\"no\"?>\n<!DOCTYPE svg PUBLIC \"-//W3C//DTD SVG 1.1//EN\"\n  \"http://www.w3.org/Graphics/SVG/1.1/DTD/svg11.dtd\">\n<svg xmlns:xlink=\"http://www.w3.org/1999/xlink\" width=\"246.917187pt\" height=\"183.35625pt\" viewBox=\"0 0 246.917187 183.35625\" xmlns=\"http://www.w3.org/2000/svg\" version=\"1.1\">\n <metadata>\n  <rdf:RDF xmlns:dc=\"http://purl.org/dc/elements/1.1/\" xmlns:cc=\"http://creativecommons.org/ns#\" xmlns:rdf=\"http://www.w3.org/1999/02/22-rdf-syntax-ns#\">\n   <cc:Work>\n    <dc:type rdf:resource=\"http://purl.org/dc/dcmitype/StillImage\"/>\n    <dc:date>2025-06-14T02:30:08.881782</dc:date>\n    <dc:format>image/svg+xml</dc:format>\n    <dc:creator>\n     <cc:Agent>\n      <dc:title>Matplotlib v3.7.2, https://matplotlib.org/</dc:title>\n     </cc:Agent>\n    </dc:creator>\n   </cc:Work>\n  </rdf:RDF>\n </metadata>\n <defs>\n  <style type=\"text/css\">*{stroke-linejoin: round; stroke-linecap: butt}</style>\n </defs>\n <g id=\"figure_1\">\n  <g id=\"patch_1\">\n   <path d=\"M 0 183.35625 \nL 246.917187 183.35625 \nL 246.917187 0 \nL 0 0 \nz\n\" style=\"fill: #ffffff\"/>\n  </g>\n  <g id=\"axes_1\">\n   <g id=\"patch_2\">\n    <path d=\"M 36.465625 145.8 \nL 231.765625 145.8 \nL 231.765625 7.2 \nL 36.465625 7.2 \nz\n\" style=\"fill: #ffffff\"/>\n   </g>\n   <g id=\"matplotlib.axis_1\">\n    <g id=\"xtick_1\">\n     <g id=\"line2d_1\">\n      <defs>\n       <path id=\"m5446ba4b16\" d=\"M 0 0 \nL 0 3.5 \n\" style=\"stroke: #000000; stroke-width: 0.8\"/>\n      </defs>\n      <g>\n       <use xlink:href=\"#m5446ba4b16\" x=\"36.465625\" y=\"145.8\" style=\"stroke: #000000; stroke-width: 0.8\"/>\n      </g>\n     </g>\n     <g id=\"text_1\">\n      <!-- 0.0 -->\n      <g transform=\"translate(28.514063 160.398438) scale(0.1 -0.1)\">\n       <defs>\n        <path id=\"DejaVuSans-30\" d=\"M 2034 4250 \nQ 1547 4250 1301 3770 \nQ 1056 3291 1056 2328 \nQ 1056 1369 1301 889 \nQ 1547 409 2034 409 \nQ 2525 409 2770 889 \nQ 3016 1369 3016 2328 \nQ 3016 3291 2770 3770 \nQ 2525 4250 2034 4250 \nz\nM 2034 4750 \nQ 2819 4750 3233 4129 \nQ 3647 3509 3647 2328 \nQ 3647 1150 3233 529 \nQ 2819 -91 2034 -91 \nQ 1250 -91 836 529 \nQ 422 1150 422 2328 \nQ 422 3509 836 4129 \nQ 1250 4750 2034 4750 \nz\n\" transform=\"scale(0.015625)\"/>\n        <path id=\"DejaVuSans-2e\" d=\"M 684 794 \nL 1344 794 \nL 1344 0 \nL 684 0 \nL 684 794 \nz\n\" transform=\"scale(0.015625)\"/>\n       </defs>\n       <use xlink:href=\"#DejaVuSans-30\"/>\n       <use xlink:href=\"#DejaVuSans-2e\" x=\"63.623047\"/>\n       <use xlink:href=\"#DejaVuSans-30\" x=\"95.410156\"/>\n      </g>\n     </g>\n    </g>\n    <g id=\"xtick_2\">\n     <g id=\"line2d_2\">\n      <g>\n       <use xlink:href=\"#m5446ba4b16\" x=\"69.015625\" y=\"145.8\" style=\"stroke: #000000; stroke-width: 0.8\"/>\n      </g>\n     </g>\n     <g id=\"text_2\">\n      <!-- 0.5 -->\n      <g transform=\"translate(61.064062 160.398438) scale(0.1 -0.1)\">\n       <defs>\n        <path id=\"DejaVuSans-35\" d=\"M 691 4666 \nL 3169 4666 \nL 3169 4134 \nL 1269 4134 \nL 1269 2991 \nQ 1406 3038 1543 3061 \nQ 1681 3084 1819 3084 \nQ 2600 3084 3056 2656 \nQ 3513 2228 3513 1497 \nQ 3513 744 3044 326 \nQ 2575 -91 1722 -91 \nQ 1428 -91 1123 -41 \nQ 819 9 494 109 \nL 494 744 \nQ 775 591 1075 516 \nQ 1375 441 1709 441 \nQ 2250 441 2565 725 \nQ 2881 1009 2881 1497 \nQ 2881 1984 2565 2268 \nQ 2250 2553 1709 2553 \nQ 1456 2553 1204 2497 \nQ 953 2441 691 2322 \nL 691 4666 \nz\n\" transform=\"scale(0.015625)\"/>\n       </defs>\n       <use xlink:href=\"#DejaVuSans-30\"/>\n       <use xlink:href=\"#DejaVuSans-2e\" x=\"63.623047\"/>\n       <use xlink:href=\"#DejaVuSans-35\" x=\"95.410156\"/>\n      </g>\n     </g>\n    </g>\n    <g id=\"xtick_3\">\n     <g id=\"line2d_3\">\n      <g>\n       <use xlink:href=\"#m5446ba4b16\" x=\"101.565625\" y=\"145.8\" style=\"stroke: #000000; stroke-width: 0.8\"/>\n      </g>\n     </g>\n     <g id=\"text_3\">\n      <!-- 1.0 -->\n      <g transform=\"translate(93.614063 160.398438) scale(0.1 -0.1)\">\n       <defs>\n        <path id=\"DejaVuSans-31\" d=\"M 794 531 \nL 1825 531 \nL 1825 4091 \nL 703 3866 \nL 703 4441 \nL 1819 4666 \nL 2450 4666 \nL 2450 531 \nL 3481 531 \nL 3481 0 \nL 794 0 \nL 794 531 \nz\n\" transform=\"scale(0.015625)\"/>\n       </defs>\n       <use xlink:href=\"#DejaVuSans-31\"/>\n       <use xlink:href=\"#DejaVuSans-2e\" x=\"63.623047\"/>\n       <use xlink:href=\"#DejaVuSans-30\" x=\"95.410156\"/>\n      </g>\n     </g>\n    </g>\n    <g id=\"xtick_4\">\n     <g id=\"line2d_4\">\n      <g>\n       <use xlink:href=\"#m5446ba4b16\" x=\"134.115625\" y=\"145.8\" style=\"stroke: #000000; stroke-width: 0.8\"/>\n      </g>\n     </g>\n     <g id=\"text_4\">\n      <!-- 1.5 -->\n      <g transform=\"translate(126.164062 160.398438) scale(0.1 -0.1)\">\n       <use xlink:href=\"#DejaVuSans-31\"/>\n       <use xlink:href=\"#DejaVuSans-2e\" x=\"63.623047\"/>\n       <use xlink:href=\"#DejaVuSans-35\" x=\"95.410156\"/>\n      </g>\n     </g>\n    </g>\n    <g id=\"xtick_5\">\n     <g id=\"line2d_5\">\n      <g>\n       <use xlink:href=\"#m5446ba4b16\" x=\"166.665625\" y=\"145.8\" style=\"stroke: #000000; stroke-width: 0.8\"/>\n      </g>\n     </g>\n     <g id=\"text_5\">\n      <!-- 2.0 -->\n      <g transform=\"translate(158.714062 160.398438) scale(0.1 -0.1)\">\n       <defs>\n        <path id=\"DejaVuSans-32\" d=\"M 1228 531 \nL 3431 531 \nL 3431 0 \nL 469 0 \nL 469 531 \nQ 828 903 1448 1529 \nQ 2069 2156 2228 2338 \nQ 2531 2678 2651 2914 \nQ 2772 3150 2772 3378 \nQ 2772 3750 2511 3984 \nQ 2250 4219 1831 4219 \nQ 1534 4219 1204 4116 \nQ 875 4013 500 3803 \nL 500 4441 \nQ 881 4594 1212 4672 \nQ 1544 4750 1819 4750 \nQ 2544 4750 2975 4387 \nQ 3406 4025 3406 3419 \nQ 3406 3131 3298 2873 \nQ 3191 2616 2906 2266 \nQ 2828 2175 2409 1742 \nQ 1991 1309 1228 531 \nz\n\" transform=\"scale(0.015625)\"/>\n       </defs>\n       <use xlink:href=\"#DejaVuSans-32\"/>\n       <use xlink:href=\"#DejaVuSans-2e\" x=\"63.623047\"/>\n       <use xlink:href=\"#DejaVuSans-30\" x=\"95.410156\"/>\n      </g>\n     </g>\n    </g>\n    <g id=\"xtick_6\">\n     <g id=\"line2d_6\">\n      <g>\n       <use xlink:href=\"#m5446ba4b16\" x=\"199.215625\" y=\"145.8\" style=\"stroke: #000000; stroke-width: 0.8\"/>\n      </g>\n     </g>\n     <g id=\"text_6\">\n      <!-- 2.5 -->\n      <g transform=\"translate(191.264062 160.398438) scale(0.1 -0.1)\">\n       <use xlink:href=\"#DejaVuSans-32\"/>\n       <use xlink:href=\"#DejaVuSans-2e\" x=\"63.623047\"/>\n       <use xlink:href=\"#DejaVuSans-35\" x=\"95.410156\"/>\n      </g>\n     </g>\n    </g>\n    <g id=\"xtick_7\">\n     <g id=\"line2d_7\">\n      <g>\n       <use xlink:href=\"#m5446ba4b16\" x=\"231.765625\" y=\"145.8\" style=\"stroke: #000000; stroke-width: 0.8\"/>\n      </g>\n     </g>\n     <g id=\"text_7\">\n      <!-- 3.0 -->\n      <g transform=\"translate(223.814063 160.398438) scale(0.1 -0.1)\">\n       <defs>\n        <path id=\"DejaVuSans-33\" d=\"M 2597 2516 \nQ 3050 2419 3304 2112 \nQ 3559 1806 3559 1356 \nQ 3559 666 3084 287 \nQ 2609 -91 1734 -91 \nQ 1441 -91 1130 -33 \nQ 819 25 488 141 \nL 488 750 \nQ 750 597 1062 519 \nQ 1375 441 1716 441 \nQ 2309 441 2620 675 \nQ 2931 909 2931 1356 \nQ 2931 1769 2642 2001 \nQ 2353 2234 1838 2234 \nL 1294 2234 \nL 1294 2753 \nL 1863 2753 \nQ 2328 2753 2575 2939 \nQ 2822 3125 2822 3475 \nQ 2822 3834 2567 4026 \nQ 2313 4219 1838 4219 \nQ 1578 4219 1281 4162 \nQ 984 4106 628 3988 \nL 628 4550 \nQ 988 4650 1302 4700 \nQ 1616 4750 1894 4750 \nQ 2613 4750 3031 4423 \nQ 3450 4097 3450 3541 \nQ 3450 3153 3228 2886 \nQ 3006 2619 2597 2516 \nz\n\" transform=\"scale(0.015625)\"/>\n       </defs>\n       <use xlink:href=\"#DejaVuSans-33\"/>\n       <use xlink:href=\"#DejaVuSans-2e\" x=\"63.623047\"/>\n       <use xlink:href=\"#DejaVuSans-30\" x=\"95.410156\"/>\n      </g>\n     </g>\n    </g>\n    <g id=\"text_8\">\n     <!-- epoch -->\n     <g transform=\"translate(118.8875 174.076563) scale(0.1 -0.1)\">\n      <defs>\n       <path id=\"DejaVuSans-65\" d=\"M 3597 1894 \nL 3597 1613 \nL 953 1613 \nQ 991 1019 1311 708 \nQ 1631 397 2203 397 \nQ 2534 397 2845 478 \nQ 3156 559 3463 722 \nL 3463 178 \nQ 3153 47 2828 -22 \nQ 2503 -91 2169 -91 \nQ 1331 -91 842 396 \nQ 353 884 353 1716 \nQ 353 2575 817 3079 \nQ 1281 3584 2069 3584 \nQ 2775 3584 3186 3129 \nQ 3597 2675 3597 1894 \nz\nM 3022 2063 \nQ 3016 2534 2758 2815 \nQ 2500 3097 2075 3097 \nQ 1594 3097 1305 2825 \nQ 1016 2553 972 2059 \nL 3022 2063 \nz\n\" transform=\"scale(0.015625)\"/>\n       <path id=\"DejaVuSans-70\" d=\"M 1159 525 \nL 1159 -1331 \nL 581 -1331 \nL 581 3500 \nL 1159 3500 \nL 1159 2969 \nQ 1341 3281 1617 3432 \nQ 1894 3584 2278 3584 \nQ 2916 3584 3314 3078 \nQ 3713 2572 3713 1747 \nQ 3713 922 3314 415 \nQ 2916 -91 2278 -91 \nQ 1894 -91 1617 61 \nQ 1341 213 1159 525 \nz\nM 3116 1747 \nQ 3116 2381 2855 2742 \nQ 2594 3103 2138 3103 \nQ 1681 3103 1420 2742 \nQ 1159 2381 1159 1747 \nQ 1159 1113 1420 752 \nQ 1681 391 2138 391 \nQ 2594 391 2855 752 \nQ 3116 1113 3116 1747 \nz\n\" transform=\"scale(0.015625)\"/>\n       <path id=\"DejaVuSans-6f\" d=\"M 1959 3097 \nQ 1497 3097 1228 2736 \nQ 959 2375 959 1747 \nQ 959 1119 1226 758 \nQ 1494 397 1959 397 \nQ 2419 397 2687 759 \nQ 2956 1122 2956 1747 \nQ 2956 2369 2687 2733 \nQ 2419 3097 1959 3097 \nz\nM 1959 3584 \nQ 2709 3584 3137 3096 \nQ 3566 2609 3566 1747 \nQ 3566 888 3137 398 \nQ 2709 -91 1959 -91 \nQ 1206 -91 779 398 \nQ 353 888 353 1747 \nQ 353 2609 779 3096 \nQ 1206 3584 1959 3584 \nz\n\" transform=\"scale(0.015625)\"/>\n       <path id=\"DejaVuSans-63\" d=\"M 3122 3366 \nL 3122 2828 \nQ 2878 2963 2633 3030 \nQ 2388 3097 2138 3097 \nQ 1578 3097 1268 2742 \nQ 959 2388 959 1747 \nQ 959 1106 1268 751 \nQ 1578 397 2138 397 \nQ 2388 397 2633 464 \nQ 2878 531 3122 666 \nL 3122 134 \nQ 2881 22 2623 -34 \nQ 2366 -91 2075 -91 \nQ 1284 -91 818 406 \nQ 353 903 353 1747 \nQ 353 2603 823 3093 \nQ 1294 3584 2113 3584 \nQ 2378 3584 2631 3529 \nQ 2884 3475 3122 3366 \nz\n\" transform=\"scale(0.015625)\"/>\n       <path id=\"DejaVuSans-68\" d=\"M 3513 2113 \nL 3513 0 \nL 2938 0 \nL 2938 2094 \nQ 2938 2591 2744 2837 \nQ 2550 3084 2163 3084 \nQ 1697 3084 1428 2787 \nQ 1159 2491 1159 1978 \nL 1159 0 \nL 581 0 \nL 581 4863 \nL 1159 4863 \nL 1159 2956 \nQ 1366 3272 1645 3428 \nQ 1925 3584 2291 3584 \nQ 2894 3584 3203 3211 \nQ 3513 2838 3513 2113 \nz\n\" transform=\"scale(0.015625)\"/>\n      </defs>\n      <use xlink:href=\"#DejaVuSans-65\"/>\n      <use xlink:href=\"#DejaVuSans-70\" x=\"61.523438\"/>\n      <use xlink:href=\"#DejaVuSans-6f\" x=\"125\"/>\n      <use xlink:href=\"#DejaVuSans-63\" x=\"186.181641\"/>\n      <use xlink:href=\"#DejaVuSans-68\" x=\"241.162109\"/>\n     </g>\n    </g>\n   </g>\n   <g id=\"matplotlib.axis_2\">\n    <g id=\"ytick_1\">\n     <g id=\"line2d_8\">\n      <defs>\n       <path id=\"m6d93e3766e\" d=\"M 0 0 \nL -3.5 0 \n\" style=\"stroke: #000000; stroke-width: 0.8\"/>\n      </defs>\n      <g>\n       <use xlink:href=\"#m6d93e3766e\" x=\"36.465625\" y=\"139.852917\" style=\"stroke: #000000; stroke-width: 0.8\"/>\n      </g>\n     </g>\n     <g id=\"text_9\">\n      <!-- 0.0 -->\n      <g transform=\"translate(13.5625 143.652136) scale(0.1 -0.1)\">\n       <use xlink:href=\"#DejaVuSans-30\"/>\n       <use xlink:href=\"#DejaVuSans-2e\" x=\"63.623047\"/>\n       <use xlink:href=\"#DejaVuSans-30\" x=\"95.410156\"/>\n      </g>\n     </g>\n    </g>\n    <g id=\"ytick_2\">\n     <g id=\"line2d_9\">\n      <g>\n       <use xlink:href=\"#m6d93e3766e\" x=\"36.465625\" y=\"111.975627\" style=\"stroke: #000000; stroke-width: 0.8\"/>\n      </g>\n     </g>\n     <g id=\"text_10\">\n      <!-- 2.5 -->\n      <g transform=\"translate(13.5625 115.774845) scale(0.1 -0.1)\">\n       <use xlink:href=\"#DejaVuSans-32\"/>\n       <use xlink:href=\"#DejaVuSans-2e\" x=\"63.623047\"/>\n       <use xlink:href=\"#DejaVuSans-35\" x=\"95.410156\"/>\n      </g>\n     </g>\n    </g>\n    <g id=\"ytick_3\">\n     <g id=\"line2d_10\">\n      <g>\n       <use xlink:href=\"#m6d93e3766e\" x=\"36.465625\" y=\"84.098336\" style=\"stroke: #000000; stroke-width: 0.8\"/>\n      </g>\n     </g>\n     <g id=\"text_11\">\n      <!-- 5.0 -->\n      <g transform=\"translate(13.5625 87.897555) scale(0.1 -0.1)\">\n       <use xlink:href=\"#DejaVuSans-35\"/>\n       <use xlink:href=\"#DejaVuSans-2e\" x=\"63.623047\"/>\n       <use xlink:href=\"#DejaVuSans-30\" x=\"95.410156\"/>\n      </g>\n     </g>\n    </g>\n    <g id=\"ytick_4\">\n     <g id=\"line2d_11\">\n      <g>\n       <use xlink:href=\"#m6d93e3766e\" x=\"36.465625\" y=\"56.221045\" style=\"stroke: #000000; stroke-width: 0.8\"/>\n      </g>\n     </g>\n     <g id=\"text_12\">\n      <!-- 7.5 -->\n      <g transform=\"translate(13.5625 60.020264) scale(0.1 -0.1)\">\n       <defs>\n        <path id=\"DejaVuSans-37\" d=\"M 525 4666 \nL 3525 4666 \nL 3525 4397 \nL 1831 0 \nL 1172 0 \nL 2766 4134 \nL 525 4134 \nL 525 4666 \nz\n\" transform=\"scale(0.015625)\"/>\n       </defs>\n       <use xlink:href=\"#DejaVuSans-37\"/>\n       <use xlink:href=\"#DejaVuSans-2e\" x=\"63.623047\"/>\n       <use xlink:href=\"#DejaVuSans-35\" x=\"95.410156\"/>\n      </g>\n     </g>\n    </g>\n    <g id=\"ytick_5\">\n     <g id=\"line2d_12\">\n      <g>\n       <use xlink:href=\"#m6d93e3766e\" x=\"36.465625\" y=\"28.343754\" style=\"stroke: #000000; stroke-width: 0.8\"/>\n      </g>\n     </g>\n     <g id=\"text_13\">\n      <!-- 10.0 -->\n      <g transform=\"translate(7.2 32.142973) scale(0.1 -0.1)\">\n       <use xlink:href=\"#DejaVuSans-31\"/>\n       <use xlink:href=\"#DejaVuSans-30\" x=\"63.623047\"/>\n       <use xlink:href=\"#DejaVuSans-2e\" x=\"127.246094\"/>\n       <use xlink:href=\"#DejaVuSans-30\" x=\"159.033203\"/>\n      </g>\n     </g>\n    </g>\n   </g>\n   <g id=\"line2d_13\">\n    <path d=\"M 51.723438 13.5 \n\" clip-path=\"url(#p1b2ac6fd3d)\" style=\"fill: none; stroke: #1f77b4; stroke-width: 1.5; stroke-linecap: square\"/>\n   </g>\n   <g id=\"line2d_14\">\n    <path d=\"M 51.723438 13.5 \nL 84.273438 92.755902 \n\" clip-path=\"url(#p1b2ac6fd3d)\" style=\"fill: none; stroke: #1f77b4; stroke-width: 1.5; stroke-linecap: square\"/>\n   </g>\n   <g id=\"line2d_15\">\n    <path d=\"M 51.723438 13.5 \nL 84.273438 92.755902 \n\" clip-path=\"url(#p1b2ac6fd3d)\" style=\"fill: none; stroke: #1f77b4; stroke-width: 1.5; stroke-linecap: square\"/>\n   </g>\n   <g id=\"line2d_16\">\n    <path d=\"M 101.565625 117.427246 \n\" clip-path=\"url(#p1b2ac6fd3d)\" style=\"fill: none; stroke-dasharray: 5.55,2.4; stroke-dashoffset: 0; stroke: #ff7f0e; stroke-width: 1.5\"/>\n   </g>\n   <g id=\"line2d_17\">\n    <path d=\"M 51.723438 13.5 \nL 84.273438 92.755902 \nL 116.823437 124.564066 \n\" clip-path=\"url(#p1b2ac6fd3d)\" style=\"fill: none; stroke: #1f77b4; stroke-width: 1.5; stroke-linecap: square\"/>\n   </g>\n   <g id=\"line2d_18\">\n    <path d=\"M 101.565625 117.427246 \n\" clip-path=\"url(#p1b2ac6fd3d)\" style=\"fill: none; stroke-dasharray: 5.55,2.4; stroke-dashoffset: 0; stroke: #ff7f0e; stroke-width: 1.5\"/>\n   </g>\n   <g id=\"line2d_19\">\n    <path d=\"M 51.723438 13.5 \nL 84.273438 92.755902 \nL 116.823437 124.564066 \nL 149.373437 134.422989 \n\" clip-path=\"url(#p1b2ac6fd3d)\" style=\"fill: none; stroke: #1f77b4; stroke-width: 1.5; stroke-linecap: square\"/>\n   </g>\n   <g id=\"line2d_20\">\n    <path d=\"M 101.565625 117.427246 \n\" clip-path=\"url(#p1b2ac6fd3d)\" style=\"fill: none; stroke-dasharray: 5.55,2.4; stroke-dashoffset: 0; stroke: #ff7f0e; stroke-width: 1.5\"/>\n   </g>\n   <g id=\"line2d_21\">\n    <path d=\"M 51.723438 13.5 \nL 84.273438 92.755902 \nL 116.823437 124.564066 \nL 149.373437 134.422989 \n\" clip-path=\"url(#p1b2ac6fd3d)\" style=\"fill: none; stroke: #1f77b4; stroke-width: 1.5; stroke-linecap: square\"/>\n   </g>\n   <g id=\"line2d_22\">\n    <path d=\"M 101.565625 117.427246 \nL 166.665625 137.128827 \n\" clip-path=\"url(#p1b2ac6fd3d)\" style=\"fill: none; stroke-dasharray: 5.55,2.4; stroke-dashoffset: 0; stroke: #ff7f0e; stroke-width: 1.5\"/>\n   </g>\n   <g id=\"line2d_23\">\n    <path d=\"M 51.723438 13.5 \nL 84.273438 92.755902 \nL 116.823437 124.564066 \nL 149.373437 134.422989 \nL 181.923437 138.08005 \n\" clip-path=\"url(#p1b2ac6fd3d)\" style=\"fill: none; stroke: #1f77b4; stroke-width: 1.5; stroke-linecap: square\"/>\n   </g>\n   <g id=\"line2d_24\">\n    <path d=\"M 101.565625 117.427246 \nL 166.665625 137.128827 \n\" clip-path=\"url(#p1b2ac6fd3d)\" style=\"fill: none; stroke-dasharray: 5.55,2.4; stroke-dashoffset: 0; stroke: #ff7f0e; stroke-width: 1.5\"/>\n   </g>\n   <g id=\"line2d_25\">\n    <path d=\"M 51.723438 13.5 \nL 84.273438 92.755902 \nL 116.823437 124.564066 \nL 149.373437 134.422989 \nL 181.923437 138.08005 \nL 214.473437 139.140919 \n\" clip-path=\"url(#p1b2ac6fd3d)\" style=\"fill: none; stroke: #1f77b4; stroke-width: 1.5; stroke-linecap: square\"/>\n   </g>\n   <g id=\"line2d_26\">\n    <path d=\"M 101.565625 117.427246 \nL 166.665625 137.128827 \n\" clip-path=\"url(#p1b2ac6fd3d)\" style=\"fill: none; stroke-dasharray: 5.55,2.4; stroke-dashoffset: 0; stroke: #ff7f0e; stroke-width: 1.5\"/>\n   </g>\n   <g id=\"line2d_27\">\n    <path d=\"M 51.723438 13.5 \nL 84.273438 92.755902 \nL 116.823437 124.564066 \nL 149.373437 134.422989 \nL 181.923437 138.08005 \nL 214.473437 139.140919 \n\" clip-path=\"url(#p1b2ac6fd3d)\" style=\"fill: none; stroke: #1f77b4; stroke-width: 1.5; stroke-linecap: square\"/>\n   </g>\n   <g id=\"line2d_28\">\n    <path d=\"M 101.565625 117.427246 \nL 166.665625 137.128827 \nL 231.765625 139.5 \n\" clip-path=\"url(#p1b2ac6fd3d)\" style=\"fill: none; stroke-dasharray: 5.55,2.4; stroke-dashoffset: 0; stroke: #ff7f0e; stroke-width: 1.5\"/>\n   </g>\n   <g id=\"patch_3\">\n    <path d=\"M 36.465625 145.8 \nL 36.465625 7.2 \n\" style=\"fill: none; stroke: #000000; stroke-width: 0.8; stroke-linejoin: miter; stroke-linecap: square\"/>\n   </g>\n   <g id=\"patch_4\">\n    <path d=\"M 231.765625 145.8 \nL 231.765625 7.2 \n\" style=\"fill: none; stroke: #000000; stroke-width: 0.8; stroke-linejoin: miter; stroke-linecap: square\"/>\n   </g>\n   <g id=\"patch_5\">\n    <path d=\"M 36.465625 145.8 \nL 231.765625 145.8 \n\" style=\"fill: none; stroke: #000000; stroke-width: 0.8; stroke-linejoin: miter; stroke-linecap: square\"/>\n   </g>\n   <g id=\"patch_6\">\n    <path d=\"M 36.465625 7.2 \nL 231.765625 7.2 \n\" style=\"fill: none; stroke: #000000; stroke-width: 0.8; stroke-linejoin: miter; stroke-linecap: square\"/>\n   </g>\n   <g id=\"legend_1\">\n    <g id=\"patch_7\">\n     <path d=\"M 145.175 45.1125 \nL 224.765625 45.1125 \nQ 226.765625 45.1125 226.765625 43.1125 \nL 226.765625 14.2 \nQ 226.765625 12.2 224.765625 12.2 \nL 145.175 12.2 \nQ 143.175 12.2 143.175 14.2 \nL 143.175 43.1125 \nQ 143.175 45.1125 145.175 45.1125 \nz\n\" style=\"fill: #ffffff; opacity: 0.8; stroke: #cccccc; stroke-linejoin: miter\"/>\n    </g>\n    <g id=\"line2d_29\">\n     <path d=\"M 147.175 20.298438 \nL 157.175 20.298438 \nL 167.175 20.298438 \n\" style=\"fill: none; stroke: #1f77b4; stroke-width: 1.5; stroke-linecap: square\"/>\n    </g>\n    <g id=\"text_14\">\n     <!-- train_loss -->\n     <g transform=\"translate(175.175 23.798438) scale(0.1 -0.1)\">\n      <defs>\n       <path id=\"DejaVuSans-74\" d=\"M 1172 4494 \nL 1172 3500 \nL 2356 3500 \nL 2356 3053 \nL 1172 3053 \nL 1172 1153 \nQ 1172 725 1289 603 \nQ 1406 481 1766 481 \nL 2356 481 \nL 2356 0 \nL 1766 0 \nQ 1100 0 847 248 \nQ 594 497 594 1153 \nL 594 3053 \nL 172 3053 \nL 172 3500 \nL 594 3500 \nL 594 4494 \nL 1172 4494 \nz\n\" transform=\"scale(0.015625)\"/>\n       <path id=\"DejaVuSans-72\" d=\"M 2631 2963 \nQ 2534 3019 2420 3045 \nQ 2306 3072 2169 3072 \nQ 1681 3072 1420 2755 \nQ 1159 2438 1159 1844 \nL 1159 0 \nL 581 0 \nL 581 3500 \nL 1159 3500 \nL 1159 2956 \nQ 1341 3275 1631 3429 \nQ 1922 3584 2338 3584 \nQ 2397 3584 2469 3576 \nQ 2541 3569 2628 3553 \nL 2631 2963 \nz\n\" transform=\"scale(0.015625)\"/>\n       <path id=\"DejaVuSans-61\" d=\"M 2194 1759 \nQ 1497 1759 1228 1600 \nQ 959 1441 959 1056 \nQ 959 750 1161 570 \nQ 1363 391 1709 391 \nQ 2188 391 2477 730 \nQ 2766 1069 2766 1631 \nL 2766 1759 \nL 2194 1759 \nz\nM 3341 1997 \nL 3341 0 \nL 2766 0 \nL 2766 531 \nQ 2569 213 2275 61 \nQ 1981 -91 1556 -91 \nQ 1019 -91 701 211 \nQ 384 513 384 1019 \nQ 384 1609 779 1909 \nQ 1175 2209 1959 2209 \nL 2766 2209 \nL 2766 2266 \nQ 2766 2663 2505 2880 \nQ 2244 3097 1772 3097 \nQ 1472 3097 1187 3025 \nQ 903 2953 641 2809 \nL 641 3341 \nQ 956 3463 1253 3523 \nQ 1550 3584 1831 3584 \nQ 2591 3584 2966 3190 \nQ 3341 2797 3341 1997 \nz\n\" transform=\"scale(0.015625)\"/>\n       <path id=\"DejaVuSans-69\" d=\"M 603 3500 \nL 1178 3500 \nL 1178 0 \nL 603 0 \nL 603 3500 \nz\nM 603 4863 \nL 1178 4863 \nL 1178 4134 \nL 603 4134 \nL 603 4863 \nz\n\" transform=\"scale(0.015625)\"/>\n       <path id=\"DejaVuSans-6e\" d=\"M 3513 2113 \nL 3513 0 \nL 2938 0 \nL 2938 2094 \nQ 2938 2591 2744 2837 \nQ 2550 3084 2163 3084 \nQ 1697 3084 1428 2787 \nQ 1159 2491 1159 1978 \nL 1159 0 \nL 581 0 \nL 581 3500 \nL 1159 3500 \nL 1159 2956 \nQ 1366 3272 1645 3428 \nQ 1925 3584 2291 3584 \nQ 2894 3584 3203 3211 \nQ 3513 2838 3513 2113 \nz\n\" transform=\"scale(0.015625)\"/>\n       <path id=\"DejaVuSans-5f\" d=\"M 3263 -1063 \nL 3263 -1509 \nL -63 -1509 \nL -63 -1063 \nL 3263 -1063 \nz\n\" transform=\"scale(0.015625)\"/>\n       <path id=\"DejaVuSans-6c\" d=\"M 603 4863 \nL 1178 4863 \nL 1178 0 \nL 603 0 \nL 603 4863 \nz\n\" transform=\"scale(0.015625)\"/>\n       <path id=\"DejaVuSans-73\" d=\"M 2834 3397 \nL 2834 2853 \nQ 2591 2978 2328 3040 \nQ 2066 3103 1784 3103 \nQ 1356 3103 1142 2972 \nQ 928 2841 928 2578 \nQ 928 2378 1081 2264 \nQ 1234 2150 1697 2047 \nL 1894 2003 \nQ 2506 1872 2764 1633 \nQ 3022 1394 3022 966 \nQ 3022 478 2636 193 \nQ 2250 -91 1575 -91 \nQ 1294 -91 989 -36 \nQ 684 19 347 128 \nL 347 722 \nQ 666 556 975 473 \nQ 1284 391 1588 391 \nQ 1994 391 2212 530 \nQ 2431 669 2431 922 \nQ 2431 1156 2273 1281 \nQ 2116 1406 1581 1522 \nL 1381 1569 \nQ 847 1681 609 1914 \nQ 372 2147 372 2553 \nQ 372 3047 722 3315 \nQ 1072 3584 1716 3584 \nQ 2034 3584 2315 3537 \nQ 2597 3491 2834 3397 \nz\n\" transform=\"scale(0.015625)\"/>\n      </defs>\n      <use xlink:href=\"#DejaVuSans-74\"/>\n      <use xlink:href=\"#DejaVuSans-72\" x=\"39.208984\"/>\n      <use xlink:href=\"#DejaVuSans-61\" x=\"80.322266\"/>\n      <use xlink:href=\"#DejaVuSans-69\" x=\"141.601562\"/>\n      <use xlink:href=\"#DejaVuSans-6e\" x=\"169.384766\"/>\n      <use xlink:href=\"#DejaVuSans-5f\" x=\"232.763672\"/>\n      <use xlink:href=\"#DejaVuSans-6c\" x=\"282.763672\"/>\n      <use xlink:href=\"#DejaVuSans-6f\" x=\"310.546875\"/>\n      <use xlink:href=\"#DejaVuSans-73\" x=\"371.728516\"/>\n      <use xlink:href=\"#DejaVuSans-73\" x=\"423.828125\"/>\n     </g>\n    </g>\n    <g id=\"line2d_30\">\n     <path d=\"M 147.175 35.254688 \nL 157.175 35.254688 \nL 167.175 35.254688 \n\" style=\"fill: none; stroke-dasharray: 5.55,2.4; stroke-dashoffset: 0; stroke: #ff7f0e; stroke-width: 1.5\"/>\n    </g>\n    <g id=\"text_15\">\n     <!-- val_loss -->\n     <g transform=\"translate(175.175 38.754688) scale(0.1 -0.1)\">\n      <defs>\n       <path id=\"DejaVuSans-76\" d=\"M 191 3500 \nL 800 3500 \nL 1894 563 \nL 2988 3500 \nL 3597 3500 \nL 2284 0 \nL 1503 0 \nL 191 3500 \nz\n\" transform=\"scale(0.015625)\"/>\n      </defs>\n      <use xlink:href=\"#DejaVuSans-76\"/>\n      <use xlink:href=\"#DejaVuSans-61\" x=\"59.179688\"/>\n      <use xlink:href=\"#DejaVuSans-6c\" x=\"120.458984\"/>\n      <use xlink:href=\"#DejaVuSans-5f\" x=\"148.242188\"/>\n      <use xlink:href=\"#DejaVuSans-6c\" x=\"198.242188\"/>\n      <use xlink:href=\"#DejaVuSans-6f\" x=\"226.025391\"/>\n      <use xlink:href=\"#DejaVuSans-73\" x=\"287.207031\"/>\n      <use xlink:href=\"#DejaVuSans-73\" x=\"339.306641\"/>\n     </g>\n    </g>\n   </g>\n  </g>\n </g>\n <defs>\n  <clipPath id=\"p1b2ac6fd3d\">\n   <rect x=\"36.465625\" y=\"7.2\" width=\"195.3\" height=\"138.6\"/>\n  </clipPath>\n </defs>\n</svg>\n"
          },
          "metadata": {}
        }
      ],
      "source": [
        "model = LinearRegressionScratch(2, lr=0.03)\n",
        "data = d2l.SyntheticRegressionData(w=torch.tensor([2, -3.4]), b=4.2)\n",
        "trainer = d2l.Trainer(max_epochs=3)\n",
        "trainer.fit(model, data)"
      ]
    },
    {
      "cell_type": "markdown",
      "id": "07628bb6",
      "metadata": {
        "origin_pos": 31,
        "id": "07628bb6"
      },
      "source": [
        "Because we synthesized the dataset ourselves,\n",
        "we know precisely what the true parameters are.\n",
        "Thus, we can [**evaluate our success in training\n",
        "by comparing the true parameters\n",
        "with those that we learned**] through our training loop.\n",
        "Indeed they turn out to be very close to each other.\n"
      ]
    },
    {
      "cell_type": "code",
      "execution_count": 12,
      "id": "5a72b404",
      "metadata": {
        "attributes": {
          "classes": [],
          "id": "",
          "n": "21"
        },
        "execution": {
          "iopub.execute_input": "2023-08-18T19:42:56.334422Z",
          "iopub.status.busy": "2023-08-18T19:42:56.333858Z",
          "iopub.status.idle": "2023-08-18T19:42:56.340281Z",
          "shell.execute_reply": "2023-08-18T19:42:56.339444Z"
        },
        "origin_pos": 32,
        "tab": [
          "pytorch"
        ],
        "colab": {
          "base_uri": "https://localhost:8080/"
        },
        "id": "5a72b404",
        "outputId": "b0e74394-ed39-4397-b4c2-e713ad936514"
      },
      "outputs": [
        {
          "output_type": "stream",
          "name": "stdout",
          "text": [
            "error in estimating w: tensor([ 0.0078, -0.1416])\n",
            "error in estimating b: tensor([0.2057])\n"
          ]
        }
      ],
      "source": [
        "with torch.no_grad():\n",
        "    print(f'error in estimating w: {data.w - model.w.reshape(data.w.shape)}')\n",
        "    print(f'error in estimating b: {data.b - model.b}')"
      ]
    },
    {
      "cell_type": "markdown",
      "id": "39644e44",
      "metadata": {
        "origin_pos": 35,
        "id": "39644e44"
      },
      "source": [
        "We should not take the ability to exactly recover\n",
        "the ground truth parameters for granted.\n",
        "In general, for deep models unique solutions\n",
        "for the parameters do not exist,\n",
        "and even for linear models,\n",
        "exactly recovering the parameters\n",
        "is only possible when no feature\n",
        "is linearly dependent on the others.\n",
        "However, in machine learning,\n",
        "we are often less concerned\n",
        "with recovering true underlying parameters,\n",
        "but rather with parameters\n",
        "that lead to highly accurate prediction :cite:`Vapnik.1992`.\n",
        "Fortunately, even on difficult optimization problems,\n",
        "stochastic gradient descent can often find remarkably good solutions,\n",
        "owing partly to the fact that, for deep networks,\n",
        "there exist many configurations of the parameters\n",
        "that lead to highly accurate prediction.\n",
        "\n",
        "\n",
        "## Summary\n",
        "\n",
        "In this section, we took a significant step\n",
        "towards designing deep learning systems\n",
        "by implementing a fully functional\n",
        "neural network model and training loop.\n",
        "In this process, we built a data loader,\n",
        "a model, a loss function, an optimization procedure,\n",
        "and a visualization and monitoring tool.\n",
        "We did this by composing a Python object\n",
        "that contains all relevant components for training a model.\n",
        "While this is not yet a professional-grade implementation\n",
        "it is perfectly functional and code like this\n",
        "could already help you to solve small problems quickly.\n",
        "In the coming sections, we will see how to do this\n",
        "both *more concisely* (avoiding boilerplate code)\n",
        "and *more efficiently* (using our GPUs to their full potential).\n",
        "\n",
        "\n",
        "\n",
        "## Exercises\n",
        "\n",
        "1. What would happen if we were to initialize the weights to zero. Would the algorithm still work? What if we\n",
        "   initialized the parameters with variance $1000$ rather than $0.01$?\n",
        "1. Assume that you are [Georg Simon Ohm](https://en.wikipedia.org/wiki/Georg_Ohm) trying to come up\n",
        "   with a model for resistance that relates voltage and current. Can you use automatic\n",
        "   differentiation to learn the parameters of your model?\n",
        "1. Can you use [Planck's Law](https://en.wikipedia.org/wiki/Planck%27s_law) to determine the temperature of an object\n",
        "   using spectral energy density? For reference, the spectral density $B$ of radiation emanating from a black body is\n",
        "   $B(\\lambda, T) = \\frac{2 hc^2}{\\lambda^5} \\cdot \\left(\\exp \\frac{h c}{\\lambda k T} - 1\\right)^{-1}$. Here\n",
        "   $\\lambda$ is the wavelength, $T$ is the temperature, $c$ is the speed of light, $h$ is Planck's constant, and $k$ is the\n",
        "   Boltzmann constant. You measure the energy for different wavelengths $\\lambda$ and you now need to fit the spectral\n",
        "   density curve to Planck's law.\n",
        "1. What are the problems you might encounter if you wanted to compute the second derivatives of the loss? How would\n",
        "   you fix them?\n",
        "1. Why is the `reshape` method needed in the `loss` function?\n",
        "1. Experiment using different learning rates to find out how quickly the loss function value drops. Can you reduce the\n",
        "   error by increasing the number of epochs of training?\n",
        "1. If the number of examples cannot be divided by the batch size, what happens to `data_iter` at the end of an epoch?\n",
        "1. Try implementing a different loss function, such as the absolute value loss `(y_hat - d2l.reshape(y, y_hat.shape)).abs().sum()`.\n",
        "    1. Check what happens for regular data.\n",
        "    1. Check whether there is a difference in behavior if you actively perturb some entries, such as $y_5 = 10000$, of $\\mathbf{y}$.\n",
        "    1. Can you think of a cheap solution for combining the best aspects of squared loss and absolute value loss?\n",
        "       Hint: how can you avoid really large gradient values?\n",
        "1. Why do we need to reshuffle the dataset? Can you design a case where a maliciously constructed dataset would break the optimization algorithm otherwise?\n"
      ]
    },
    {
      "cell_type": "markdown",
      "id": "d533576d",
      "metadata": {
        "origin_pos": 37,
        "tab": [
          "pytorch"
        ],
        "id": "d533576d"
      },
      "source": [
        "[Discussions](https://discuss.d2l.ai/t/43)\n"
      ]
    },
    {
      "cell_type": "code",
      "source": [
        "import torch\n",
        "from torch import nn\n",
        "import matplotlib.pyplot as plt\n",
        "\n",
        "# ---------- 1. Toy dataset ----------\n",
        "X_train = torch.tensor([[1.], [2.], [3.], [4.]])\n",
        "y_train = torch.tensor([[3.], [5.], [7.], [9.]])  # true rule: y = 2x + 1\n",
        "X_val   = torch.tensor([[0.], [5.]])\n",
        "y_val   = torch.tensor([[1.], [11.]])\n",
        "\n",
        "# train_loader = [(X_train[:2], y_train[:2]),  ## 第一個mini-batch: 索引0，1 -> \t[[1.],[2.]]\n",
        "#  (X_train[2:], y_train[2:])] ## 第二個mini-batch 索引2，3 -> \t[[3.],[4.]]\n",
        "# val_loader   = [(X_val, y_val)]\n",
        "\n",
        "train_loader = DataLoader(\n",
        "    TensorDataset(X_train, y_train),\n",
        "    batch_size=2,\n",
        "    shuffle=True\n",
        ")\n",
        "\n",
        "# ---------- 2. Tiny linear model ----------\n",
        "model = nn.Linear(1, 1)  # weight & bias\n",
        "\n",
        "# ---------- 3. Optimizer ----------\n",
        "lr = 0.1\n",
        "optim = torch.optim.SGD(model.parameters(), lr=lr)\n",
        "\n",
        "# ---------- 4. Training loop ----------\n",
        "train_losses, val_losses = [], []\n",
        "epochs = 20\n",
        "for epoch in range(epochs):\n",
        "    # ---- training phase ----\n",
        "    model.train()\n",
        "    epoch_train_loss = 0.0\n",
        "    for X_batch, y_batch in train_loader:\n",
        "        optim.zero_grad()\n",
        "        y_hat = model(X_batch)\n",
        "        loss = nn.functional.mse_loss(y_hat, y_batch)\n",
        "        loss.backward()\n",
        "        optim.step()\n",
        "        epoch_train_loss += loss.item()\n",
        "    train_losses.append(epoch_train_loss / len(train_loader))\n",
        "\n",
        "    # ---- validation phase ----\n",
        "    model.eval()\n",
        "    with torch.no_grad():\n",
        "        Xb, yb = val_loader[0]\n",
        "        val_loss = nn.functional.mse_loss(model(Xb), yb).item()\n",
        "    val_losses.append(val_loss)\n",
        "\n",
        "# ---------- 5. Plot ----------\n",
        "plt.plot(range(1, epochs+1), train_losses, label=\"train_loss\")\n",
        "plt.plot(range(1, epochs+1), val_losses,  label=\"val_loss\")\n",
        "plt.xlabel(\"epoch\")\n",
        "plt.ylabel(\"MSE loss\")\n",
        "plt.title(\"Toy Linear Regression: Train vs. Val Loss\")\n",
        "plt.legend()\n",
        "plt.show()\n",
        "\n",
        "# ---------- 6. Print final parameters ----------\n",
        "w = model.weight.item()\n",
        "b = model.bias.item()\n",
        "print(f\"Final learned parameters: w = {w:.3f}, b = {b:.3f}\")\n",
        "print(\"Train losses:\", train_losses)\n",
        "print(\"Val losses  :\", val_losses)\n"
      ],
      "metadata": {
        "id": "631-p5tMd6lk",
        "outputId": "0671ec10-6467-4b13-e42e-e3c419485b64",
        "colab": {
          "base_uri": "https://localhost:8080/",
          "height": 544
        }
      },
      "id": "631-p5tMd6lk",
      "execution_count": 3,
      "outputs": [
        {
          "output_type": "display_data",
          "data": {
            "text/plain": [
              "<Figure size 640x480 with 1 Axes>"
            ],
            "image/png": "[encoded data removed]"
          },
          "metadata": {}
        },
        {
          "output_type": "stream",
          "name": "stdout",
          "text": [
            "Final learned parameters: w = 1.993, b = 1.094\n",
            "Train losses: [18.582489013671875, 8.832290291786194, 1.942601501941681, 1.4012233465909958, 0.22970763593912125, 0.31822398910298944, 0.0704224593937397, 0.11399603495374322, 0.047792624682188034, 0.056532968766987324, 0.0341822374612093, 0.03268352244049311, 0.023237645626068115, 0.020108381053432822, 0.01531539298593998, 0.012685640715062618, 0.009948304621502757, 0.008086183341220021, 0.006420700927264988, 0.005176828126423061]\n",
            "Val losses  : [41.58644104003906, 10.498806953430176, 5.804066181182861, 1.0287829637527466, 1.0134309530258179, 0.127895787358284, 0.260542094707489, 0.057351820170879364, 0.10179562866687775, 0.04427769035100937, 0.052270110696554184, 0.032151900231838226, 0.03054586797952652, 0.02186545729637146, 0.018855314701795578, 0.014400227926671505, 0.011908384971320629, 0.009349538013339043, 0.007593897171318531, 0.006032793782651424]\n"
          ]
        }
      ]
    },
    {
      "cell_type": "markdown",
      "source": [
        "| Family                     | PyTorch class                                                     | One-line algorithm (update for parameter **θ**)                                                   | When it helps                                                 |\n",
        "| -------------------------- | ----------------------------------------------------------------- | ------------------------------------------------------------------------------------------------- | ------------------------------------------------------------- |\n",
        "| **Plain & momentum SGD**   | `SGD(lr)`<br>`SGD(lr, momentum=0.9)`<br>`SGD(..., nesterov=True)` | SGD: θ ← θ − η g<br>Momentum: v ← μ v + g; θ ← θ − η v<br>Nesterov: look-ahead gradient           | Small nets, good baselines; momentum often beats vanilla.     |\n",
        "| **Adaptive‐learning-rate** | `Adagrad`                                                         | Accumulate **G ← G+g²**; θ ← θ − η g/√G                                                           | Sparse features, e.g. NLP with huge vocab.                    |\n",
        "|                            | `RMSprop`                                                         | E\\[g²] ← ρ E\\[g²]+(1−ρ)g²; θ ← θ − η g/√E\\[g²]                                                    | RNNs, non-stationary problems.                                |\n",
        "|                            | `Adadelta`                                                        | Similar to RMSprop but removes explicit η; units-free.                                            | Rare today; legacy alt to RMSprop.                            |\n",
        "| **Adam family**            | `Adam`                                                            | m←β₁m+(1−β₁)g; v←β₂v+(1−β₂)g²; ̂m=m/(1−β₁ᵗ); ̂v=v/(1−β₂ᵗ);   θ ← θ − η ̂m/√̂v                     | “Default” for deep nets; fast, robust.                        |\n",
        "|                            | `AdamW`                                                           | Same as Adam **but** weight-decay done as θ←θ−η λ θ (decoupled). Recommended for transformers/CV. | Prevents the Adam–L2 coupling that hurts generalization.      |\n",
        "|                            | `RAdam`                                                           | Adam + variance rectification; smooths early steps.                                               | Often removes need for warm-up.                               |\n",
        "|                            | `NAdam`                                                           | Adam + Nesterov momentum.                                                                         | Slight gains in some NLP tasks.                               |\n",
        "|                            | `Adamax`                                                          | Adam with ∞-norm (max) denominator (v∞).                                                          | Very large learning rates; mostly historical.                 |\n",
        "|                            | `SparseAdam`                                                      | Adam variant that updates only non-zero indices.                                                  | Sparse embedding tables.                                      |\n",
        "| **Second-order / quasi**   | `LBFGS`                                                           | Approximates inverse Hessian, line-search each step.                                              | Small models w/ few params; offline batch optimisation.       |\n",
        "| **Sign-only**              | `Rprop`                                                           | θ ← θ − η sign(g); step-size η adapts per-param.                                                  | Traditional feed-forward nets; insensitive to gradient scale. |\n",
        "| **Averaged**               | `ASGD`                                                            | SGD + Polyak/Ruppert averaging of weights.                                                        | Theoretically sound for convex problems.                      |\n",
        ""
      ],
      "metadata": {
        "id": "eYmpE-f2k3YS"
      },
      "id": "eYmpE-f2k3YS"
    },
    {
      "cell_type": "markdown",
      "source": [],
      "metadata": {
        "id": "jXR45Q2Xk6nD"
      },
      "id": "jXR45Q2Xk6nD"
    }
  ],
  "metadata": {
    "kernelspec": {
      "display_name": "Python 3",
      "name": "python3"
    },
    "language_info": {
      "name": "python"
    },
    "required_libs": [],
    "colab": {
      "provenance": [],
      "include_colab_link": true
    }
  },
  "nbformat": 4,
  "nbformat_minor": 5
}