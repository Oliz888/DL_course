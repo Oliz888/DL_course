{
  "cells": [
    {
      "cell_type": "markdown",
      "metadata": {
        "id": "view-in-github",
        "colab_type": "text"
      },
      "source": [
        "<a href=\"https://colab.research.google.com/github/Oliz888/DL_course/blob/main/chapter_linear-regression/oo-design.ipynb\" target=\"_parent\"><img src=\"https://colab.research.google.com/assets/colab-badge.svg\" alt=\"Open In Colab\"/></a>"
      ]
    },
    {
      "cell_type": "markdown",
      "id": "c1df27e1",
      "metadata": {
        "id": "c1df27e1"
      },
      "source": [
        "The following additional libraries are needed to run this\n",
        "notebook. Note that running on Colab is experimental, please report a Github\n",
        "issue if you have any problem."
      ]
    },
    {
      "cell_type": "code",
      "execution_count": 1,
      "id": "28be0178",
      "metadata": {
        "id": "28be0178",
        "outputId": "36ca081b-fb52-498d-d8d1-22d2a94d0f25",
        "colab": {
          "base_uri": "https://localhost:8080/"
        }
      },
      "outputs": [
        {
          "output_type": "stream",
          "name": "stdout",
          "text": [
            "Requirement already satisfied: d2l==1.0.3 in /usr/local/lib/python3.11/dist-packages (1.0.3)\n",
            "Requirement already satisfied: jupyter==1.0.0 in /usr/local/lib/python3.11/dist-packages (from d2l==1.0.3) (1.0.0)\n",
            "Requirement already satisfied: numpy==1.23.5 in /usr/local/lib/python3.11/dist-packages (from d2l==1.0.3) (1.23.5)\n",
            "Requirement already satisfied: matplotlib==3.7.2 in /usr/local/lib/python3.11/dist-packages (from d2l==1.0.3) (3.7.2)\n",
            "Requirement already satisfied: matplotlib-inline==0.1.6 in /usr/local/lib/python3.11/dist-packages (from d2l==1.0.3) (0.1.6)\n",
            "Requirement already satisfied: requests==2.31.0 in /usr/local/lib/python3.11/dist-packages (from d2l==1.0.3) (2.31.0)\n",
            "Requirement already satisfied: pandas==2.0.3 in /usr/local/lib/python3.11/dist-packages (from d2l==1.0.3) (2.0.3)\n",
            "Requirement already satisfied: scipy==1.10.1 in /usr/local/lib/python3.11/dist-packages (from d2l==1.0.3) (1.10.1)\n",
            "Requirement already satisfied: notebook in /usr/local/lib/python3.11/dist-packages (from jupyter==1.0.0->d2l==1.0.3) (6.5.7)\n",
            "Requirement already satisfied: qtconsole in /usr/local/lib/python3.11/dist-packages (from jupyter==1.0.0->d2l==1.0.3) (5.6.1)\n",
            "Requirement already satisfied: jupyter-console in /usr/local/lib/python3.11/dist-packages (from jupyter==1.0.0->d2l==1.0.3) (6.1.0)\n",
            "Requirement already satisfied: nbconvert in /usr/local/lib/python3.11/dist-packages (from jupyter==1.0.0->d2l==1.0.3) (7.16.6)\n",
            "Requirement already satisfied: ipykernel in /usr/local/lib/python3.11/dist-packages (from jupyter==1.0.0->d2l==1.0.3) (6.17.1)\n",
            "Requirement already satisfied: ipywidgets in /usr/local/lib/python3.11/dist-packages (from jupyter==1.0.0->d2l==1.0.3) (7.7.1)\n",
            "Requirement already satisfied: contourpy>=1.0.1 in /usr/local/lib/python3.11/dist-packages (from matplotlib==3.7.2->d2l==1.0.3) (1.3.2)\n",
            "Requirement already satisfied: cycler>=0.10 in /usr/local/lib/python3.11/dist-packages (from matplotlib==3.7.2->d2l==1.0.3) (0.12.1)\n",
            "Requirement already satisfied: fonttools>=4.22.0 in /usr/local/lib/python3.11/dist-packages (from matplotlib==3.7.2->d2l==1.0.3) (4.58.1)\n",
            "Requirement already satisfied: kiwisolver>=1.0.1 in /usr/local/lib/python3.11/dist-packages (from matplotlib==3.7.2->d2l==1.0.3) (1.4.8)\n",
            "Requirement already satisfied: packaging>=20.0 in /usr/local/lib/python3.11/dist-packages (from matplotlib==3.7.2->d2l==1.0.3) (24.2)\n",
            "Requirement already satisfied: pillow>=6.2.0 in /usr/local/lib/python3.11/dist-packages (from matplotlib==3.7.2->d2l==1.0.3) (11.2.1)\n",
            "Requirement already satisfied: pyparsing<3.1,>=2.3.1 in /usr/local/lib/python3.11/dist-packages (from matplotlib==3.7.2->d2l==1.0.3) (3.0.9)\n",
            "Requirement already satisfied: python-dateutil>=2.7 in /usr/local/lib/python3.11/dist-packages (from matplotlib==3.7.2->d2l==1.0.3) (2.9.0.post0)\n",
            "Requirement already satisfied: traitlets in /usr/local/lib/python3.11/dist-packages (from matplotlib-inline==0.1.6->d2l==1.0.3) (5.7.1)\n",
            "Requirement already satisfied: pytz>=2020.1 in /usr/local/lib/python3.11/dist-packages (from pandas==2.0.3->d2l==1.0.3) (2025.2)\n",
            "Requirement already satisfied: tzdata>=2022.1 in /usr/local/lib/python3.11/dist-packages (from pandas==2.0.3->d2l==1.0.3) (2025.2)\n",
            "Requirement already satisfied: charset-normalizer<4,>=2 in /usr/local/lib/python3.11/dist-packages (from requests==2.31.0->d2l==1.0.3) (3.4.2)\n",
            "Requirement already satisfied: idna<4,>=2.5 in /usr/local/lib/python3.11/dist-packages (from requests==2.31.0->d2l==1.0.3) (3.10)\n",
            "Requirement already satisfied: urllib3<3,>=1.21.1 in /usr/local/lib/python3.11/dist-packages (from requests==2.31.0->d2l==1.0.3) (2.4.0)\n",
            "Requirement already satisfied: certifi>=2017.4.17 in /usr/local/lib/python3.11/dist-packages (from requests==2.31.0->d2l==1.0.3) (2025.4.26)\n",
            "Requirement already satisfied: six>=1.5 in /usr/local/lib/python3.11/dist-packages (from python-dateutil>=2.7->matplotlib==3.7.2->d2l==1.0.3) (1.17.0)\n",
            "Requirement already satisfied: debugpy>=1.0 in /usr/local/lib/python3.11/dist-packages (from ipykernel->jupyter==1.0.0->d2l==1.0.3) (1.8.0)\n",
            "Requirement already satisfied: ipython>=7.23.1 in /usr/local/lib/python3.11/dist-packages (from ipykernel->jupyter==1.0.0->d2l==1.0.3) (7.34.0)\n",
            "Requirement already satisfied: jupyter-client>=6.1.12 in /usr/local/lib/python3.11/dist-packages (from ipykernel->jupyter==1.0.0->d2l==1.0.3) (6.1.12)\n",
            "Requirement already satisfied: nest-asyncio in /usr/local/lib/python3.11/dist-packages (from ipykernel->jupyter==1.0.0->d2l==1.0.3) (1.6.0)\n",
            "Requirement already satisfied: psutil in /usr/local/lib/python3.11/dist-packages (from ipykernel->jupyter==1.0.0->d2l==1.0.3) (5.9.5)\n",
            "Requirement already satisfied: pyzmq>=17 in /usr/local/lib/python3.11/dist-packages (from ipykernel->jupyter==1.0.0->d2l==1.0.3) (24.0.1)\n",
            "Requirement already satisfied: tornado>=6.1 in /usr/local/lib/python3.11/dist-packages (from ipykernel->jupyter==1.0.0->d2l==1.0.3) (6.4.2)\n",
            "Requirement already satisfied: ipython-genutils~=0.2.0 in /usr/local/lib/python3.11/dist-packages (from ipywidgets->jupyter==1.0.0->d2l==1.0.3) (0.2.0)\n",
            "Requirement already satisfied: widgetsnbextension~=3.6.0 in /usr/local/lib/python3.11/dist-packages (from ipywidgets->jupyter==1.0.0->d2l==1.0.3) (3.6.10)\n",
            "Requirement already satisfied: jupyterlab-widgets>=1.0.0 in /usr/local/lib/python3.11/dist-packages (from ipywidgets->jupyter==1.0.0->d2l==1.0.3) (3.0.15)\n",
            "Requirement already satisfied: prompt-toolkit!=3.0.0,!=3.0.1,<3.1.0,>=2.0.0 in /usr/local/lib/python3.11/dist-packages (from jupyter-console->jupyter==1.0.0->d2l==1.0.3) (3.0.51)\n",
            "Requirement already satisfied: pygments in /usr/local/lib/python3.11/dist-packages (from jupyter-console->jupyter==1.0.0->d2l==1.0.3) (2.19.1)\n",
            "Requirement already satisfied: beautifulsoup4 in /usr/local/lib/python3.11/dist-packages (from nbconvert->jupyter==1.0.0->d2l==1.0.3) (4.13.4)\n",
            "Requirement already satisfied: bleach!=5.0.0 in /usr/local/lib/python3.11/dist-packages (from bleach[css]!=5.0.0->nbconvert->jupyter==1.0.0->d2l==1.0.3) (6.2.0)\n",
            "Requirement already satisfied: defusedxml in /usr/local/lib/python3.11/dist-packages (from nbconvert->jupyter==1.0.0->d2l==1.0.3) (0.7.1)\n",
            "Requirement already satisfied: jinja2>=3.0 in /usr/local/lib/python3.11/dist-packages (from nbconvert->jupyter==1.0.0->d2l==1.0.3) (3.1.6)\n",
            "Requirement already satisfied: jupyter-core>=4.7 in /usr/local/lib/python3.11/dist-packages (from nbconvert->jupyter==1.0.0->d2l==1.0.3) (5.8.1)\n",
            "Requirement already satisfied: jupyterlab-pygments in /usr/local/lib/python3.11/dist-packages (from nbconvert->jupyter==1.0.0->d2l==1.0.3) (0.3.0)\n",
            "Requirement already satisfied: markupsafe>=2.0 in /usr/local/lib/python3.11/dist-packages (from nbconvert->jupyter==1.0.0->d2l==1.0.3) (3.0.2)\n",
            "Requirement already satisfied: mistune<4,>=2.0.3 in /usr/local/lib/python3.11/dist-packages (from nbconvert->jupyter==1.0.0->d2l==1.0.3) (3.1.3)\n",
            "Requirement already satisfied: nbclient>=0.5.0 in /usr/local/lib/python3.11/dist-packages (from nbconvert->jupyter==1.0.0->d2l==1.0.3) (0.10.2)\n",
            "Requirement already satisfied: nbformat>=5.7 in /usr/local/lib/python3.11/dist-packages (from nbconvert->jupyter==1.0.0->d2l==1.0.3) (5.10.4)\n",
            "Requirement already satisfied: pandocfilters>=1.4.1 in /usr/local/lib/python3.11/dist-packages (from nbconvert->jupyter==1.0.0->d2l==1.0.3) (1.5.1)\n",
            "Requirement already satisfied: argon2-cffi in /usr/local/lib/python3.11/dist-packages (from notebook->jupyter==1.0.0->d2l==1.0.3) (25.1.0)\n",
            "Requirement already satisfied: Send2Trash>=1.8.0 in /usr/local/lib/python3.11/dist-packages (from notebook->jupyter==1.0.0->d2l==1.0.3) (1.8.3)\n",
            "Requirement already satisfied: terminado>=0.8.3 in /usr/local/lib/python3.11/dist-packages (from notebook->jupyter==1.0.0->d2l==1.0.3) (0.18.1)\n",
            "Requirement already satisfied: prometheus-client in /usr/local/lib/python3.11/dist-packages (from notebook->jupyter==1.0.0->d2l==1.0.3) (0.22.1)\n",
            "Requirement already satisfied: nbclassic>=0.4.7 in /usr/local/lib/python3.11/dist-packages (from notebook->jupyter==1.0.0->d2l==1.0.3) (1.3.1)\n",
            "Requirement already satisfied: qtpy>=2.4.0 in /usr/local/lib/python3.11/dist-packages (from qtconsole->jupyter==1.0.0->d2l==1.0.3) (2.4.3)\n",
            "Requirement already satisfied: webencodings in /usr/local/lib/python3.11/dist-packages (from bleach!=5.0.0->bleach[css]!=5.0.0->nbconvert->jupyter==1.0.0->d2l==1.0.3) (0.5.1)\n",
            "Requirement already satisfied: tinycss2<1.5,>=1.1.0 in /usr/local/lib/python3.11/dist-packages (from bleach[css]!=5.0.0->nbconvert->jupyter==1.0.0->d2l==1.0.3) (1.4.0)\n",
            "Requirement already satisfied: setuptools>=18.5 in /usr/local/lib/python3.11/dist-packages (from ipython>=7.23.1->ipykernel->jupyter==1.0.0->d2l==1.0.3) (75.2.0)\n",
            "Requirement already satisfied: jedi>=0.16 in /usr/local/lib/python3.11/dist-packages (from ipython>=7.23.1->ipykernel->jupyter==1.0.0->d2l==1.0.3) (0.19.2)\n",
            "Requirement already satisfied: decorator in /usr/local/lib/python3.11/dist-packages (from ipython>=7.23.1->ipykernel->jupyter==1.0.0->d2l==1.0.3) (4.4.2)\n",
            "Requirement already satisfied: pickleshare in /usr/local/lib/python3.11/dist-packages (from ipython>=7.23.1->ipykernel->jupyter==1.0.0->d2l==1.0.3) (0.7.5)\n",
            "Requirement already satisfied: backcall in /usr/local/lib/python3.11/dist-packages (from ipython>=7.23.1->ipykernel->jupyter==1.0.0->d2l==1.0.3) (0.2.0)\n",
            "Requirement already satisfied: pexpect>4.3 in /usr/local/lib/python3.11/dist-packages (from ipython>=7.23.1->ipykernel->jupyter==1.0.0->d2l==1.0.3) (4.9.0)\n",
            "Requirement already satisfied: platformdirs>=2.5 in /usr/local/lib/python3.11/dist-packages (from jupyter-core>=4.7->nbconvert->jupyter==1.0.0->d2l==1.0.3) (4.3.8)\n",
            "Requirement already satisfied: notebook-shim>=0.2.3 in /usr/local/lib/python3.11/dist-packages (from nbclassic>=0.4.7->notebook->jupyter==1.0.0->d2l==1.0.3) (0.2.4)\n",
            "Requirement already satisfied: fastjsonschema>=2.15 in /usr/local/lib/python3.11/dist-packages (from nbformat>=5.7->nbconvert->jupyter==1.0.0->d2l==1.0.3) (2.21.1)\n",
            "Requirement already satisfied: jsonschema>=2.6 in /usr/local/lib/python3.11/dist-packages (from nbformat>=5.7->nbconvert->jupyter==1.0.0->d2l==1.0.3) (4.24.0)\n",
            "Requirement already satisfied: wcwidth in /usr/local/lib/python3.11/dist-packages (from prompt-toolkit!=3.0.0,!=3.0.1,<3.1.0,>=2.0.0->jupyter-console->jupyter==1.0.0->d2l==1.0.3) (0.2.13)\n",
            "Requirement already satisfied: ptyprocess in /usr/local/lib/python3.11/dist-packages (from terminado>=0.8.3->notebook->jupyter==1.0.0->d2l==1.0.3) (0.7.0)\n",
            "Requirement already satisfied: argon2-cffi-bindings in /usr/local/lib/python3.11/dist-packages (from argon2-cffi->notebook->jupyter==1.0.0->d2l==1.0.3) (21.2.0)\n",
            "Requirement already satisfied: soupsieve>1.2 in /usr/local/lib/python3.11/dist-packages (from beautifulsoup4->nbconvert->jupyter==1.0.0->d2l==1.0.3) (2.7)\n",
            "Requirement already satisfied: typing-extensions>=4.0.0 in /usr/local/lib/python3.11/dist-packages (from beautifulsoup4->nbconvert->jupyter==1.0.0->d2l==1.0.3) (4.14.0)\n",
            "Requirement already satisfied: parso<0.9.0,>=0.8.4 in /usr/local/lib/python3.11/dist-packages (from jedi>=0.16->ipython>=7.23.1->ipykernel->jupyter==1.0.0->d2l==1.0.3) (0.8.4)\n",
            "Requirement already satisfied: attrs>=22.2.0 in /usr/local/lib/python3.11/dist-packages (from jsonschema>=2.6->nbformat>=5.7->nbconvert->jupyter==1.0.0->d2l==1.0.3) (25.3.0)\n",
            "Requirement already satisfied: jsonschema-specifications>=2023.03.6 in /usr/local/lib/python3.11/dist-packages (from jsonschema>=2.6->nbformat>=5.7->nbconvert->jupyter==1.0.0->d2l==1.0.3) (2025.4.1)\n",
            "Requirement already satisfied: referencing>=0.28.4 in /usr/local/lib/python3.11/dist-packages (from jsonschema>=2.6->nbformat>=5.7->nbconvert->jupyter==1.0.0->d2l==1.0.3) (0.36.2)\n",
            "Requirement already satisfied: rpds-py>=0.7.1 in /usr/local/lib/python3.11/dist-packages (from jsonschema>=2.6->nbformat>=5.7->nbconvert->jupyter==1.0.0->d2l==1.0.3) (0.25.1)\n",
            "Requirement already satisfied: jupyter-server<3,>=1.8 in /usr/local/lib/python3.11/dist-packages (from notebook-shim>=0.2.3->nbclassic>=0.4.7->notebook->jupyter==1.0.0->d2l==1.0.3) (1.16.0)\n",
            "Requirement already satisfied: cffi>=1.0.1 in /usr/local/lib/python3.11/dist-packages (from argon2-cffi-bindings->argon2-cffi->notebook->jupyter==1.0.0->d2l==1.0.3) (1.17.1)\n",
            "Requirement already satisfied: pycparser in /usr/local/lib/python3.11/dist-packages (from cffi>=1.0.1->argon2-cffi-bindings->argon2-cffi->notebook->jupyter==1.0.0->d2l==1.0.3) (2.22)\n",
            "Requirement already satisfied: anyio>=3.1.0 in /usr/local/lib/python3.11/dist-packages (from jupyter-server<3,>=1.8->notebook-shim>=0.2.3->nbclassic>=0.4.7->notebook->jupyter==1.0.0->d2l==1.0.3) (4.9.0)\n",
            "Requirement already satisfied: websocket-client in /usr/local/lib/python3.11/dist-packages (from jupyter-server<3,>=1.8->notebook-shim>=0.2.3->nbclassic>=0.4.7->notebook->jupyter==1.0.0->d2l==1.0.3) (1.8.0)\n",
            "Requirement already satisfied: sniffio>=1.1 in /usr/local/lib/python3.11/dist-packages (from anyio>=3.1.0->jupyter-server<3,>=1.8->notebook-shim>=0.2.3->nbclassic>=0.4.7->notebook->jupyter==1.0.0->d2l==1.0.3) (1.3.1)\n"
          ]
        }
      ],
      "source": [
        "!pip install d2l==1.0.3\n"
      ]
    },
    {
      "cell_type": "markdown",
      "id": "9f09fc0f",
      "metadata": {
        "origin_pos": 1,
        "id": "9f09fc0f"
      },
      "source": [
        "# Object-Oriented Design for Implementation\n",
        ":label:`sec_oo-design`\n",
        "\n",
        "In our introduction to linear regression,\n",
        "we walked through various components\n",
        "including\n",
        "the data, the model, the loss function,\n",
        "and the optimization algorithm.\n",
        "Indeed,\n",
        "linear regression is\n",
        "one of the simplest machine learning models.\n",
        "Training it,\n",
        "however, uses many of the same components that other models in this book require.\n",
        "Therefore,\n",
        "before diving into the implementation details\n",
        "it is worth\n",
        "designing some of the APIs\n",
        "that we use throughout.\n",
        "Treating components in deep learning\n",
        "as objects,\n",
        "we can start by\n",
        "defining classes for these objects\n",
        "and their interactions.\n",
        "This object-oriented design\n",
        "for implementation\n",
        "will greatly\n",
        "streamline the presentation and you might even want to use it in your projects.\n",
        "\n",
        "\n",
        "Inspired by open-source libraries such as [PyTorch Lightning](https://www.pytorchlightning.ai/),\n",
        "at a high level\n",
        "we wish to have three classes:\n",
        "(i) `Module` contains models, losses, and optimization methods;\n",
        "(ii) `DataModule` provides data loaders for training and validation;\n",
        "(iii) both classes are combined using the `Trainer` class, which allows us to\n",
        "train models on a variety of hardware platforms.\n",
        "Most code in this book adapts `Module` and `DataModule`. We will touch upon the `Trainer` class only when we discuss GPUs, CPUs, parallel training, and optimization algorithms.\n"
      ]
    },
    {
      "cell_type": "code",
      "execution_count": 3,
      "id": "4f04a51a",
      "metadata": {
        "execution": {
          "iopub.execute_input": "2023-08-18T19:26:19.443072Z",
          "iopub.status.busy": "2023-08-18T19:26:19.442526Z",
          "iopub.status.idle": "2023-08-18T19:26:22.383415Z",
          "shell.execute_reply": "2023-08-18T19:26:22.382436Z"
        },
        "origin_pos": 3,
        "tab": [
          "pytorch"
        ],
        "id": "4f04a51a"
      },
      "outputs": [],
      "source": [
        "import time\n",
        "import numpy as np\n",
        "import torch\n",
        "from torch import nn\n",
        "from d2l import torch as d2l"
      ]
    },
    {
      "cell_type": "markdown",
      "source": [
        "NOTE\n",
        "\n",
        "\n",
        "————————————————————\n",
        "\n",
        "# **1 函式 (function)：單一動作的封裝**\n",
        "- 只做一件事；\n",
        "- 不帶狀態（或只靠傳入參數）\n",
        "\n",
        "\n",
        "```\n",
        "def f(x, y):\n",
        "  return x + y\n",
        "```\n",
        "\n",
        "# **2 類別 (class)：把「資料 + 行為」綁在一起**\n",
        "\n",
        "2.1 為什麼需要類別\n",
        "- 你想同時保存狀態（屬性）又執行動作（方法）。\n",
        "- 例子：神經網路層需保存權重 W、偏置 b，還要有 forward() 動作。\n",
        "\n",
        "2.2 最小語法\n",
        "```\n",
        "class Counter:\n",
        "    def __init__(self):      # 建構子，self 代表「這個實例」\n",
        "        self.cnt = 0         # 實例屬性\n",
        "\n",
        "    def add_one(self):       # 方法；self 可存取屬性\n",
        "        self.cnt += 1\n",
        "```\n",
        "- 建立：c = Counter()\n",
        "- 呼叫方法：c.add_one()\n",
        "- 屬性值：c.cnt → 1\n",
        "\n",
        "方法 (method) 就是「寫在類別裡、第一參數固定叫 self¹」的函式；呼叫時 Python 會自動把實例塞進去。\n",
        "¹ 也可以叫別的名字，但大家都用 self。\n",
        "\n",
        "# **3 方法種類：instance / class / static**\n",
        "```\n",
        "class Demo:\n",
        "    val = 10                 # 類別屬性\n",
        "\n",
        "    def inst(self):          # 實例方法\n",
        "        return self.val + 1\n",
        "\n",
        "    @classmethod\n",
        "    def clz(cls):            # 類別方法\n",
        "        return cls.val + 2\n",
        "\n",
        "    @staticmethod\n",
        "    def util(x):             # 靜態方法\n",
        "        return x * 2\n",
        "```\n",
        "| 類型       | 第一參數   | 常見用途              |\n",
        "| -------- | ------ | ----------------- |\n",
        "| instance | `self` | 需要「該物件的屬性」時 (最常用) |\n",
        "| class    | `cls`  | 工廠函式、修改整個類別屬性     |\n",
        "| static   | 無      | 和類別邏輯相關，但不依賴任何屬性  |\n",
        "\n",
        "\n",
        "# **4 為什麼「動態加方法」 (add_to_class)？**\n",
        "\n",
        "\n",
        "```\n",
        "def add_to_class(Class):          # 把目標類別當引數\n",
        "    def wrapper(func):            # 真正的 decorator\n",
        "        setattr(Class, func.__name__, func)  # 安裝成方法\n",
        "        return func\n",
        "    return wrapper                # 回傳 decorator\n",
        "\n",
        "class A:                          # 先有類別\n",
        "    b = 1\n",
        "\n",
        "@add_to_class(A)                  # 之後再加方法\n",
        "def do(self):\n",
        "    print(\"b =\", self.b)\n",
        "\n",
        "A().do()   # → b = 1\n",
        "```\n",
        "\n",
        "\n",
        "\n",
        "\n",
        "\n",
        "\n"
      ],
      "metadata": {
        "id": "DuWWWhiZKYCj"
      },
      "id": "DuWWWhiZKYCj"
    },
    {
      "cell_type": "code",
      "source": [
        "def add_to_class(Class):  #@save\n",
        "    \"\"\"Register functions as methods in created class.\"\"\"\n",
        "    def wrapper(obj):\n",
        "        setattr(Class, obj.__name__, obj)\n",
        "    return wrapper\n",
        "\n",
        "class A:\n",
        "    def __init__(self):\n",
        "        self.b = 1\n",
        "\n",
        "a = A()\n",
        "\n",
        "@add_to_class(A)\n",
        "def do(self):\n",
        "    print('Class attribute \"b\" is', self.b)\n",
        "\n",
        "a.do()"
      ],
      "metadata": {
        "id": "gLKn_V3kPCiT",
        "outputId": "15acd5c0-c8a9-4afc-9650-52ff0f4cc946",
        "colab": {
          "base_uri": "https://localhost:8080/"
        }
      },
      "id": "gLKn_V3kPCiT",
      "execution_count": 4,
      "outputs": [
        {
          "output_type": "stream",
          "name": "stdout",
          "text": [
            "Class attribute \"b\" is 1\n"
          ]
        }
      ]
    },
    {
      "cell_type": "code",
      "source": [
        "@add_to_class(A)\n",
        "def foo(self, x):\n",
        "    return x + 1\n",
        "\n",
        "@add_to_class(A)\n",
        "def bar(self, y):\n",
        "    return y * 2\n",
        "\n",
        "\n",
        "a.foo(2)\n",
        "a.bar(5)"
      ],
      "metadata": {
        "id": "jt5CuXOWPRrd",
        "outputId": "711afdc7-2f7f-44f1-f491-84427ee27197",
        "colab": {
          "base_uri": "https://localhost:8080/"
        }
      },
      "id": "jt5CuXOWPRrd",
      "execution_count": 5,
      "outputs": [
        {
          "output_type": "execute_result",
          "data": {
            "text/plain": [
              "10"
            ]
          },
          "metadata": {},
          "execution_count": 5
        }
      ]
    },
    {
      "cell_type": "markdown",
      "id": "c805c409",
      "metadata": {
        "origin_pos": 6,
        "id": "c805c409"
      },
      "source": [
        "## Utilities\n",
        ":label:`oo-design-utilities`\n",
        "\n",
        "We need a few utilities to simplify object-oriented programming in Jupyter notebooks. One of the challenges is that class definitions tend to be fairly long blocks of code. Notebook readability demands short code fragments, interspersed with explanations, a requirement incompatible with the style of programming common for Python libraries. The first\n",
        "utility function allows us to register functions as methods in a class *after* the class has been created. In fact, we can do so *even after* we have created instances of the class! It allows us to split the implementation of a class into multiple code blocks.\n"
      ]
    },
    {
      "cell_type": "code",
      "execution_count": 6,
      "id": "5403292c",
      "metadata": {
        "execution": {
          "iopub.execute_input": "2023-08-18T19:26:22.389019Z",
          "iopub.status.busy": "2023-08-18T19:26:22.388325Z",
          "iopub.status.idle": "2023-08-18T19:26:22.393121Z",
          "shell.execute_reply": "2023-08-18T19:26:22.392315Z"
        },
        "origin_pos": 7,
        "tab": [
          "pytorch"
        ],
        "id": "5403292c"
      },
      "outputs": [],
      "source": [
        "def add_to_class(Class):  #@save\n",
        "    \"\"\"Register functions as methods in created class.\"\"\"\n",
        "    def wrapper(obj):\n",
        "        setattr(Class, obj.__name__, obj)\n",
        "    return wrapper"
      ]
    },
    {
      "cell_type": "markdown",
      "id": "7d8c1f96",
      "metadata": {
        "origin_pos": 8,
        "id": "7d8c1f96"
      },
      "source": [
        "Let's have a quick look at how to use it. We plan to implement a class `A` with a method `do`. Instead of having code for both `A` and `do` in the same code block, we can first declare the class `A` and create an instance `a`.\n"
      ]
    },
    {
      "cell_type": "code",
      "execution_count": 7,
      "id": "e04e01bb",
      "metadata": {
        "execution": {
          "iopub.execute_input": "2023-08-18T19:26:22.396585Z",
          "iopub.status.busy": "2023-08-18T19:26:22.395941Z",
          "iopub.status.idle": "2023-08-18T19:26:22.400066Z",
          "shell.execute_reply": "2023-08-18T19:26:22.399246Z"
        },
        "origin_pos": 9,
        "tab": [
          "pytorch"
        ],
        "id": "e04e01bb"
      },
      "outputs": [],
      "source": [
        "class A:\n",
        "    def __init__(self):\n",
        "        self.b = 1\n",
        "\n",
        "a = A()"
      ]
    },
    {
      "cell_type": "markdown",
      "id": "d2db5aae",
      "metadata": {
        "origin_pos": 10,
        "id": "d2db5aae"
      },
      "source": [
        "Next we define the method `do` as we normally would, but not in class `A`'s scope. Instead, we decorate this method by `add_to_class` with class `A` as its argument. In doing so, the method is able to access the member variables of `A` just as we would expect had it been included as part of `A`'s definition. Let's see what happens when we invoke it for the instance `a`.\n"
      ]
    },
    {
      "cell_type": "code",
      "execution_count": 8,
      "id": "d2133566",
      "metadata": {
        "execution": {
          "iopub.execute_input": "2023-08-18T19:26:22.403442Z",
          "iopub.status.busy": "2023-08-18T19:26:22.402774Z",
          "iopub.status.idle": "2023-08-18T19:26:22.407704Z",
          "shell.execute_reply": "2023-08-18T19:26:22.406859Z"
        },
        "origin_pos": 11,
        "tab": [
          "pytorch"
        ],
        "id": "d2133566",
        "outputId": "ed10abd1-cb1b-41bc-d70e-627742852619",
        "colab": {
          "base_uri": "https://localhost:8080/"
        }
      },
      "outputs": [
        {
          "output_type": "stream",
          "name": "stdout",
          "text": [
            "Class attribute \"b\" is 1\n"
          ]
        }
      ],
      "source": [
        "@add_to_class(A)\n",
        "def do(self):\n",
        "    print('Class attribute \"b\" is', self.b)\n",
        "\n",
        "a.do()"
      ]
    },
    {
      "cell_type": "code",
      "source": [
        "def add_to_class(Class):  #@save\n",
        "    \"\"\"Register functions as methods in created class.\"\"\"\n",
        "    def wrapper(obj):\n",
        "        setattr(Class, obj.__name__, obj)\n",
        "    def do(self):\n",
        "      print('Class attribute \"b\" is', self.b)"
      ],
      "metadata": {
        "id": "XfrzP0K3HvZf"
      },
      "id": "XfrzP0K3HvZf",
      "execution_count": 9,
      "outputs": []
    },
    {
      "cell_type": "markdown",
      "id": "0b09869a",
      "metadata": {
        "origin_pos": 12,
        "id": "0b09869a"
      },
      "source": [
        "The second one is a utility class that saves all arguments in a class's `__init__` method as class attributes. This allows us to extend constructor call signatures implicitly without additional code.\n"
      ]
    },
    {
      "cell_type": "code",
      "execution_count": 10,
      "id": "b2316a5a",
      "metadata": {
        "execution": {
          "iopub.execute_input": "2023-08-18T19:26:22.410976Z",
          "iopub.status.busy": "2023-08-18T19:26:22.410447Z",
          "iopub.status.idle": "2023-08-18T19:26:22.414594Z",
          "shell.execute_reply": "2023-08-18T19:26:22.413768Z"
        },
        "origin_pos": 13,
        "tab": [
          "pytorch"
        ],
        "id": "b2316a5a"
      },
      "outputs": [],
      "source": [
        "class HyperParameters:  #@save\n",
        "    \"\"\"The base class of hyperparameters.\"\"\"\n",
        "    def save_hyperparameters(self, ignore=[]):\n",
        "        raise NotImplemented"
      ]
    },
    {
      "cell_type": "markdown",
      "id": "f4c0374c",
      "metadata": {
        "origin_pos": 14,
        "id": "f4c0374c"
      },
      "source": [
        "We defer its implementation into :numref:`sec_utils`. To use it, we define our class that inherits from `HyperParameters` and calls `save_hyperparameters` in the `__init__` method.\n"
      ]
    },
    {
      "cell_type": "code",
      "execution_count": 11,
      "id": "e3f26d79",
      "metadata": {
        "execution": {
          "iopub.execute_input": "2023-08-18T19:26:22.417917Z",
          "iopub.status.busy": "2023-08-18T19:26:22.417395Z",
          "iopub.status.idle": "2023-08-18T19:26:22.423055Z",
          "shell.execute_reply": "2023-08-18T19:26:22.422251Z"
        },
        "origin_pos": 15,
        "tab": [
          "pytorch"
        ],
        "id": "e3f26d79",
        "outputId": "ec06e2ed-1d2e-40ad-b345-3a4695b9670d",
        "colab": {
          "base_uri": "https://localhost:8080/"
        }
      },
      "outputs": [
        {
          "output_type": "stream",
          "name": "stdout",
          "text": [
            "self.a = 1 self.b = 2\n",
            "There is no self.c = True\n"
          ]
        }
      ],
      "source": [
        "# Call the fully implemented HyperParameters class saved in d2l\n",
        "class B(d2l.HyperParameters):\n",
        "    def __init__(self, a, b, c):\n",
        "        self.save_hyperparameters(ignore=['c'])\n",
        "        print('self.a =', self.a, 'self.b =', self.b)\n",
        "        print('There is no self.c =', not hasattr(self, 'c'))\n",
        "\n",
        "b = B(a=1, b=2, c=3)"
      ]
    },
    {
      "cell_type": "markdown",
      "id": "f66f84be",
      "metadata": {
        "origin_pos": 16,
        "id": "f66f84be"
      },
      "source": [
        "The final utility allows us to plot experiment progress interactively while it is going on. In deference to the much more powerful (and complex) [TensorBoard](https://www.tensorflow.org/tensorboard) we name it `ProgressBoard`. The  implementation is deferred to :numref:`sec_utils`. For now, let's simply see it in action.\n",
        "\n",
        "The `draw` method plots a point `(x, y)` in the figure, with `label` specified in the legend. The optional `every_n` smooths the line by only showing $1/n$ points in the figure. Their values are averaged from the $n$ neighbor points in the original figure.\n"
      ]
    },
    {
      "cell_type": "code",
      "execution_count": 12,
      "id": "c7b69b94",
      "metadata": {
        "execution": {
          "iopub.execute_input": "2023-08-18T19:26:22.426329Z",
          "iopub.status.busy": "2023-08-18T19:26:22.425774Z",
          "iopub.status.idle": "2023-08-18T19:26:22.431284Z",
          "shell.execute_reply": "2023-08-18T19:26:22.430467Z"
        },
        "origin_pos": 17,
        "tab": [
          "pytorch"
        ],
        "id": "c7b69b94"
      },
      "outputs": [],
      "source": [
        "class ProgressBoard(d2l.HyperParameters):  #@save\n",
        "    \"\"\"The board that plots data points in animation.\"\"\"\n",
        "    def __init__(self, xlabel=None, ylabel=None, xlim=None,\n",
        "                 ylim=None, xscale='linear', yscale='linear',\n",
        "                 ls=['-', '--', '-.', ':'], colors=['C0', 'C1', 'C2', 'C3'],\n",
        "                 fig=None, axes=None, figsize=(3.5, 2.5), display=True):\n",
        "        self.save_hyperparameters()\n",
        "\n",
        "    def draw(self, x, y, label, every_n=1):\n",
        "        raise NotImplemented"
      ]
    },
    {
      "cell_type": "markdown",
      "id": "1b87a713",
      "metadata": {
        "origin_pos": 18,
        "id": "1b87a713"
      },
      "source": [
        "In the following example, we draw `sin` and `cos` with a different smoothness. If you run this code block, you will see the lines grow in animation.\n"
      ]
    },
    {
      "cell_type": "code",
      "execution_count": null,
      "id": "acda0f92",
      "metadata": {
        "execution": {
          "iopub.execute_input": "2023-08-18T19:26:22.434595Z",
          "iopub.status.busy": "2023-08-18T19:26:22.434058Z",
          "iopub.status.idle": "2023-08-18T19:26:38.822758Z",
          "shell.execute_reply": "2023-08-18T19:26:38.821895Z"
        },
        "origin_pos": 19,
        "tab": [
          "pytorch"
        ],
        "id": "acda0f92",
        "outputId": "def07b60-a0ec-4989-d1bc-a54f1b40f669",
        "colab": {
          "base_uri": "https://localhost:8080/",
          "height": 266
        }
      },
      "outputs": [
        {
          "output_type": "display_data",
          "data": {
            "text/plain": [
              "<Figure size 350x250 with 1 Axes>"
            ],
            "image/svg+xml": "<?xml version=\"1.0\" encoding=\"utf-8\" standalone=\"no\"?>\n<!DOCTYPE svg PUBLIC \"-//W3C//DTD SVG 1.1//EN\"\n  \"http://www.w3.org/Graphics/SVG/1.1/DTD/svg11.dtd\">\n<svg xmlns:xlink=\"http://www.w3.org/1999/xlink\" width=\"241.185572pt\" height=\"183.35625pt\" viewBox=\"0 0 241.185572 183.35625\" xmlns=\"http://www.w3.org/2000/svg\" version=\"1.1\">\n <metadata>\n  <rdf:RDF xmlns:dc=\"http://purl.org/dc/elements/1.1/\" xmlns:cc=\"http://creativecommons.org/ns#\" xmlns:rdf=\"http://www.w3.org/1999/02/22-rdf-syntax-ns#\">\n   <cc:Work>\n    <dc:type rdf:resource=\"http://purl.org/dc/dcmitype/StillImage\"/>\n    <dc:date>2025-06-12T08:28:51.947023</dc:date>\n    <dc:format>image/svg+xml</dc:format>\n    <dc:creator>\n     <cc:Agent>\n      <dc:title>Matplotlib v3.7.2, https://matplotlib.org/</dc:title>\n     </cc:Agent>\n    </dc:creator>\n   </cc:Work>\n  </rdf:RDF>\n </metadata>\n <defs>\n  <style type=\"text/css\">*{stroke-linejoin: round; stroke-linecap: butt}</style>\n </defs>\n <g id=\"figure_1\">\n  <g id=\"patch_1\">\n   <path d=\"M -0 183.35625 \nL 241.185572 183.35625 \nL 241.185572 0 \nL -0 0 \nz\n\" style=\"fill: #ffffff\"/>\n  </g>\n  <g id=\"axes_1\">\n   <g id=\"patch_2\">\n    <path d=\"M 38.482813 145.8 \nL 233.782813 145.8 \nL 233.782813 7.2 \nL 38.482813 7.2 \nz\n\" style=\"fill: #ffffff\"/>\n   </g>\n   <g id=\"matplotlib.axis_1\">\n    <g id=\"xtick_1\">\n     <g id=\"line2d_1\">\n      <defs>\n       <path id=\"me00ec2f67d\" d=\"M 0 0 \nL 0 3.5 \n\" style=\"stroke: #000000; stroke-width: 0.8\"/>\n      </defs>\n      <g>\n       <use xlink:href=\"#me00ec2f67d\" x=\"46.454241\" y=\"145.8\" style=\"stroke: #000000; stroke-width: 0.8\"/>\n      </g>\n     </g>\n     <g id=\"text_1\">\n      <!-- 0 -->\n      <g transform=\"translate(43.272991 160.398438) scale(0.1 -0.1)\">\n       <defs>\n        <path id=\"DejaVuSans-30\" d=\"M 2034 4250 \nQ 1547 4250 1301 3770 \nQ 1056 3291 1056 2328 \nQ 1056 1369 1301 889 \nQ 1547 409 2034 409 \nQ 2525 409 2770 889 \nQ 3016 1369 3016 2328 \nQ 3016 3291 2770 3770 \nQ 2525 4250 2034 4250 \nz\nM 2034 4750 \nQ 2819 4750 3233 4129 \nQ 3647 3509 3647 2328 \nQ 3647 1150 3233 529 \nQ 2819 -91 2034 -91 \nQ 1250 -91 836 529 \nQ 422 1150 422 2328 \nQ 422 3509 836 4129 \nQ 1250 4750 2034 4750 \nz\n\" transform=\"scale(0.015625)\"/>\n       </defs>\n       <use xlink:href=\"#DejaVuSans-30\"/>\n      </g>\n     </g>\n    </g>\n    <g id=\"xtick_2\">\n     <g id=\"line2d_2\">\n      <g>\n       <use xlink:href=\"#me00ec2f67d\" x=\"82.688007\" y=\"145.8\" style=\"stroke: #000000; stroke-width: 0.8\"/>\n      </g>\n     </g>\n     <g id=\"text_2\">\n      <!-- 2 -->\n      <g transform=\"translate(79.506757 160.398438) scale(0.1 -0.1)\">\n       <defs>\n        <path id=\"DejaVuSans-32\" d=\"M 1228 531 \nL 3431 531 \nL 3431 0 \nL 469 0 \nL 469 531 \nQ 828 903 1448 1529 \nQ 2069 2156 2228 2338 \nQ 2531 2678 2651 2914 \nQ 2772 3150 2772 3378 \nQ 2772 3750 2511 3984 \nQ 2250 4219 1831 4219 \nQ 1534 4219 1204 4116 \nQ 875 4013 500 3803 \nL 500 4441 \nQ 881 4594 1212 4672 \nQ 1544 4750 1819 4750 \nQ 2544 4750 2975 4387 \nQ 3406 4025 3406 3419 \nQ 3406 3131 3298 2873 \nQ 3191 2616 2906 2266 \nQ 2828 2175 2409 1742 \nQ 1991 1309 1228 531 \nz\n\" transform=\"scale(0.015625)\"/>\n       </defs>\n       <use xlink:href=\"#DejaVuSans-32\"/>\n      </g>\n     </g>\n    </g>\n    <g id=\"xtick_3\">\n     <g id=\"line2d_3\">\n      <g>\n       <use xlink:href=\"#me00ec2f67d\" x=\"118.921774\" y=\"145.8\" style=\"stroke: #000000; stroke-width: 0.8\"/>\n      </g>\n     </g>\n     <g id=\"text_3\">\n      <!-- 4 -->\n      <g transform=\"translate(115.740524 160.398438) scale(0.1 -0.1)\">\n       <defs>\n        <path id=\"DejaVuSans-34\" d=\"M 2419 4116 \nL 825 1625 \nL 2419 1625 \nL 2419 4116 \nz\nM 2253 4666 \nL 3047 4666 \nL 3047 1625 \nL 3713 1625 \nL 3713 1100 \nL 3047 1100 \nL 3047 0 \nL 2419 0 \nL 2419 1100 \nL 313 1100 \nL 313 1709 \nL 2253 4666 \nz\n\" transform=\"scale(0.015625)\"/>\n       </defs>\n       <use xlink:href=\"#DejaVuSans-34\"/>\n      </g>\n     </g>\n    </g>\n    <g id=\"xtick_4\">\n     <g id=\"line2d_4\">\n      <g>\n       <use xlink:href=\"#me00ec2f67d\" x=\"155.15554\" y=\"145.8\" style=\"stroke: #000000; stroke-width: 0.8\"/>\n      </g>\n     </g>\n     <g id=\"text_4\">\n      <!-- 6 -->\n      <g transform=\"translate(151.97429 160.398438) scale(0.1 -0.1)\">\n       <defs>\n        <path id=\"DejaVuSans-36\" d=\"M 2113 2584 \nQ 1688 2584 1439 2293 \nQ 1191 2003 1191 1497 \nQ 1191 994 1439 701 \nQ 1688 409 2113 409 \nQ 2538 409 2786 701 \nQ 3034 994 3034 1497 \nQ 3034 2003 2786 2293 \nQ 2538 2584 2113 2584 \nz\nM 3366 4563 \nL 3366 3988 \nQ 3128 4100 2886 4159 \nQ 2644 4219 2406 4219 \nQ 1781 4219 1451 3797 \nQ 1122 3375 1075 2522 \nQ 1259 2794 1537 2939 \nQ 1816 3084 2150 3084 \nQ 2853 3084 3261 2657 \nQ 3669 2231 3669 1497 \nQ 3669 778 3244 343 \nQ 2819 -91 2113 -91 \nQ 1303 -91 875 529 \nQ 447 1150 447 2328 \nQ 447 3434 972 4092 \nQ 1497 4750 2381 4750 \nQ 2619 4750 2861 4703 \nQ 3103 4656 3366 4563 \nz\n\" transform=\"scale(0.015625)\"/>\n       </defs>\n       <use xlink:href=\"#DejaVuSans-36\"/>\n      </g>\n     </g>\n    </g>\n    <g id=\"xtick_5\">\n     <g id=\"line2d_5\">\n      <g>\n       <use xlink:href=\"#me00ec2f67d\" x=\"191.389306\" y=\"145.8\" style=\"stroke: #000000; stroke-width: 0.8\"/>\n      </g>\n     </g>\n     <g id=\"text_5\">\n      <!-- 8 -->\n      <g transform=\"translate(188.208056 160.398438) scale(0.1 -0.1)\">\n       <defs>\n        <path id=\"DejaVuSans-38\" d=\"M 2034 2216 \nQ 1584 2216 1326 1975 \nQ 1069 1734 1069 1313 \nQ 1069 891 1326 650 \nQ 1584 409 2034 409 \nQ 2484 409 2743 651 \nQ 3003 894 3003 1313 \nQ 3003 1734 2745 1975 \nQ 2488 2216 2034 2216 \nz\nM 1403 2484 \nQ 997 2584 770 2862 \nQ 544 3141 544 3541 \nQ 544 4100 942 4425 \nQ 1341 4750 2034 4750 \nQ 2731 4750 3128 4425 \nQ 3525 4100 3525 3541 \nQ 3525 3141 3298 2862 \nQ 3072 2584 2669 2484 \nQ 3125 2378 3379 2068 \nQ 3634 1759 3634 1313 \nQ 3634 634 3220 271 \nQ 2806 -91 2034 -91 \nQ 1263 -91 848 271 \nQ 434 634 434 1313 \nQ 434 1759 690 2068 \nQ 947 2378 1403 2484 \nz\nM 1172 3481 \nQ 1172 3119 1398 2916 \nQ 1625 2713 2034 2713 \nQ 2441 2713 2670 2916 \nQ 2900 3119 2900 3481 \nQ 2900 3844 2670 4047 \nQ 2441 4250 2034 4250 \nQ 1625 4250 1398 4047 \nQ 1172 3844 1172 3481 \nz\n\" transform=\"scale(0.015625)\"/>\n       </defs>\n       <use xlink:href=\"#DejaVuSans-38\"/>\n      </g>\n     </g>\n    </g>\n    <g id=\"xtick_6\">\n     <g id=\"line2d_6\">\n      <g>\n       <use xlink:href=\"#me00ec2f67d\" x=\"227.623072\" y=\"145.8\" style=\"stroke: #000000; stroke-width: 0.8\"/>\n      </g>\n     </g>\n     <g id=\"text_6\">\n      <!-- 10 -->\n      <g transform=\"translate(221.260572 160.398438) scale(0.1 -0.1)\">\n       <defs>\n        <path id=\"DejaVuSans-31\" d=\"M 794 531 \nL 1825 531 \nL 1825 4091 \nL 703 3866 \nL 703 4441 \nL 1819 4666 \nL 2450 4666 \nL 2450 531 \nL 3481 531 \nL 3481 0 \nL 794 0 \nL 794 531 \nz\n\" transform=\"scale(0.015625)\"/>\n       </defs>\n       <use xlink:href=\"#DejaVuSans-31\"/>\n       <use xlink:href=\"#DejaVuSans-30\" x=\"63.623047\"/>\n      </g>\n     </g>\n    </g>\n    <g id=\"text_7\">\n     <!-- x -->\n     <g transform=\"translate(133.173438 174.076563) scale(0.1 -0.1)\">\n      <defs>\n       <path id=\"DejaVuSans-78\" d=\"M 3513 3500 \nL 2247 1797 \nL 3578 0 \nL 2900 0 \nL 1881 1375 \nL 863 0 \nL 184 0 \nL 1544 1831 \nL 300 3500 \nL 978 3500 \nL 1906 2253 \nL 2834 3500 \nL 3513 3500 \nz\n\" transform=\"scale(0.015625)\"/>\n      </defs>\n      <use xlink:href=\"#DejaVuSans-78\"/>\n     </g>\n    </g>\n   </g>\n   <g id=\"matplotlib.axis_2\">\n    <g id=\"ytick_1\">\n     <g id=\"line2d_7\">\n      <defs>\n       <path id=\"m0d0fa5bea5\" d=\"M 0 0 \nL -3.5 0 \n\" style=\"stroke: #000000; stroke-width: 0.8\"/>\n      </defs>\n      <g>\n       <use xlink:href=\"#m0d0fa5bea5\" x=\"38.482813\" y=\"139.701599\" style=\"stroke: #000000; stroke-width: 0.8\"/>\n      </g>\n     </g>\n     <g id=\"text_8\">\n      <!-- −1.0 -->\n      <g transform=\"translate(7.2 143.500818) scale(0.1 -0.1)\">\n       <defs>\n        <path id=\"DejaVuSans-2212\" d=\"M 678 2272 \nL 4684 2272 \nL 4684 1741 \nL 678 1741 \nL 678 2272 \nz\n\" transform=\"scale(0.015625)\"/>\n        <path id=\"DejaVuSans-2e\" d=\"M 684 794 \nL 1344 794 \nL 1344 0 \nL 684 0 \nL 684 794 \nz\n\" transform=\"scale(0.015625)\"/>\n       </defs>\n       <use xlink:href=\"#DejaVuSans-2212\"/>\n       <use xlink:href=\"#DejaVuSans-31\" x=\"83.789062\"/>\n       <use xlink:href=\"#DejaVuSans-2e\" x=\"147.412109\"/>\n       <use xlink:href=\"#DejaVuSans-30\" x=\"179.199219\"/>\n      </g>\n     </g>\n    </g>\n    <g id=\"ytick_2\">\n     <g id=\"line2d_8\">\n      <g>\n       <use xlink:href=\"#m0d0fa5bea5\" x=\"38.482813\" y=\"108.131347\" style=\"stroke: #000000; stroke-width: 0.8\"/>\n      </g>\n     </g>\n     <g id=\"text_9\">\n      <!-- −0.5 -->\n      <g transform=\"translate(7.2 111.930566) scale(0.1 -0.1)\">\n       <defs>\n        <path id=\"DejaVuSans-35\" d=\"M 691 4666 \nL 3169 4666 \nL 3169 4134 \nL 1269 4134 \nL 1269 2991 \nQ 1406 3038 1543 3061 \nQ 1681 3084 1819 3084 \nQ 2600 3084 3056 2656 \nQ 3513 2228 3513 1497 \nQ 3513 744 3044 326 \nQ 2575 -91 1722 -91 \nQ 1428 -91 1123 -41 \nQ 819 9 494 109 \nL 494 744 \nQ 775 591 1075 516 \nQ 1375 441 1709 441 \nQ 2250 441 2565 725 \nQ 2881 1009 2881 1497 \nQ 2881 1984 2565 2268 \nQ 2250 2553 1709 2553 \nQ 1456 2553 1204 2497 \nQ 953 2441 691 2322 \nL 691 4666 \nz\n\" transform=\"scale(0.015625)\"/>\n       </defs>\n       <use xlink:href=\"#DejaVuSans-2212\"/>\n       <use xlink:href=\"#DejaVuSans-30\" x=\"83.789062\"/>\n       <use xlink:href=\"#DejaVuSans-2e\" x=\"147.412109\"/>\n       <use xlink:href=\"#DejaVuSans-35\" x=\"179.199219\"/>\n      </g>\n     </g>\n    </g>\n    <g id=\"ytick_3\">\n     <g id=\"line2d_9\">\n      <g>\n       <use xlink:href=\"#m0d0fa5bea5\" x=\"38.482813\" y=\"76.561095\" style=\"stroke: #000000; stroke-width: 0.8\"/>\n      </g>\n     </g>\n     <g id=\"text_10\">\n      <!-- 0.0 -->\n      <g transform=\"translate(15.579688 80.360314) scale(0.1 -0.1)\">\n       <use xlink:href=\"#DejaVuSans-30\"/>\n       <use xlink:href=\"#DejaVuSans-2e\" x=\"63.623047\"/>\n       <use xlink:href=\"#DejaVuSans-30\" x=\"95.410156\"/>\n      </g>\n     </g>\n    </g>\n    <g id=\"ytick_4\">\n     <g id=\"line2d_10\">\n      <g>\n       <use xlink:href=\"#m0d0fa5bea5\" x=\"38.482813\" y=\"44.990843\" style=\"stroke: #000000; stroke-width: 0.8\"/>\n      </g>\n     </g>\n     <g id=\"text_11\">\n      <!-- 0.5 -->\n      <g transform=\"translate(15.579688 48.790062) scale(0.1 -0.1)\">\n       <use xlink:href=\"#DejaVuSans-30\"/>\n       <use xlink:href=\"#DejaVuSans-2e\" x=\"63.623047\"/>\n       <use xlink:href=\"#DejaVuSans-35\" x=\"95.410156\"/>\n      </g>\n     </g>\n    </g>\n    <g id=\"ytick_5\">\n     <g id=\"line2d_11\">\n      <g>\n       <use xlink:href=\"#m0d0fa5bea5\" x=\"38.482813\" y=\"13.420591\" style=\"stroke: #000000; stroke-width: 0.8\"/>\n      </g>\n     </g>\n     <g id=\"text_12\">\n      <!-- 1.0 -->\n      <g transform=\"translate(15.579688 17.21981) scale(0.1 -0.1)\">\n       <use xlink:href=\"#DejaVuSans-31\"/>\n       <use xlink:href=\"#DejaVuSans-2e\" x=\"63.623047\"/>\n       <use xlink:href=\"#DejaVuSans-30\" x=\"95.410156\"/>\n      </g>\n     </g>\n    </g>\n   </g>\n   <g id=\"line2d_12\">\n    <path d=\"M 47.360085 73.409329 \n\" clip-path=\"url(#pc02c2f0353)\" style=\"fill: none; stroke: #1f77b4; stroke-width: 1.5; stroke-linecap: square\"/>\n   </g>\n   <g id=\"line2d_13\"/>\n   <g id=\"line2d_14\">\n    <path d=\"M 47.360085 73.409329 \nL 50.983462 60.959407 \n\" clip-path=\"url(#pc02c2f0353)\" style=\"fill: none; stroke: #1f77b4; stroke-width: 1.5; stroke-linecap: square\"/>\n   </g>\n   <g id=\"line2d_15\"/>\n   <g id=\"line2d_16\">\n    <path d=\"M 47.360085 73.409329 \nL 50.983462 60.959407 \nL 54.606838 49.131475 \n\" clip-path=\"url(#pc02c2f0353)\" style=\"fill: none; stroke: #1f77b4; stroke-width: 1.5; stroke-linecap: square\"/>\n   </g>\n   <g id=\"line2d_17\"/>\n   <g id=\"line2d_18\">\n    <path d=\"M 47.360085 73.409329 \nL 50.983462 60.959407 \nL 54.606838 49.131475 \nL 58.230215 38.397075 \n\" clip-path=\"url(#pc02c2f0353)\" style=\"fill: none; stroke: #1f77b4; stroke-width: 1.5; stroke-linecap: square\"/>\n   </g>\n   <g id=\"line2d_19\"/>\n   <g id=\"line2d_20\">\n    <path d=\"M 47.360085 73.409329 \nL 50.983462 60.959407 \nL 54.606838 49.131475 \nL 58.230215 38.397075 \nL 61.853592 29.184154 \n\" clip-path=\"url(#pc02c2f0353)\" style=\"fill: none; stroke: #1f77b4; stroke-width: 1.5; stroke-linecap: square\"/>\n   </g>\n   <g id=\"line2d_21\"/>\n   <g id=\"line2d_22\">\n    <path d=\"M 47.360085 73.409329 \nL 50.983462 60.959407 \nL 54.606838 49.131475 \nL 58.230215 38.397075 \nL 61.853592 29.184154 \n\" clip-path=\"url(#pc02c2f0353)\" style=\"fill: none; stroke: #1f77b4; stroke-width: 1.5; stroke-linecap: square\"/>\n   </g>\n   <g id=\"line2d_23\">\n    <path d=\"M 54.606838 22.023199 \n\" clip-path=\"url(#pc02c2f0353)\" style=\"fill: none; stroke-dasharray: 5.55,2.4; stroke-dashoffset: 0; stroke: #ff7f0e; stroke-width: 1.5\"/>\n   </g>\n   <g id=\"line2d_24\">\n    <path d=\"M 47.360085 73.409329 \nL 50.983462 60.959407 \nL 54.606838 49.131475 \nL 58.230215 38.397075 \nL 61.853592 29.184154 \nL 65.476968 21.860003 \n\" clip-path=\"url(#pc02c2f0353)\" style=\"fill: none; stroke: #1f77b4; stroke-width: 1.5; stroke-linecap: square\"/>\n   </g>\n   <g id=\"line2d_25\">\n    <path d=\"M 54.606838 22.023199 \n\" clip-path=\"url(#pc02c2f0353)\" style=\"fill: none; stroke-dasharray: 5.55,2.4; stroke-dashoffset: 0; stroke: #ff7f0e; stroke-width: 1.5\"/>\n   </g>\n   <g id=\"line2d_26\">\n    <path d=\"M 47.360085 73.409329 \nL 50.983462 60.959407 \nL 54.606838 49.131475 \nL 58.230215 38.397075 \nL 61.853592 29.184154 \nL 65.476968 21.860003 \nL 69.100345 16.716611 \n\" clip-path=\"url(#pc02c2f0353)\" style=\"fill: none; stroke: #1f77b4; stroke-width: 1.5; stroke-linecap: square\"/>\n   </g>\n   <g id=\"line2d_27\">\n    <path d=\"M 54.606838 22.023199 \n\" clip-path=\"url(#pc02c2f0353)\" style=\"fill: none; stroke-dasharray: 5.55,2.4; stroke-dashoffset: 0; stroke: #ff7f0e; stroke-width: 1.5\"/>\n   </g>\n   <g id=\"line2d_28\">\n    <path d=\"M 47.360085 73.409329 \nL 50.983462 60.959407 \nL 54.606838 49.131475 \nL 58.230215 38.397075 \nL 61.853592 29.184154 \nL 65.476968 21.860003 \nL 69.100345 16.716611 \nL 72.723722 13.959031 \n\" clip-path=\"url(#pc02c2f0353)\" style=\"fill: none; stroke: #1f77b4; stroke-width: 1.5; stroke-linecap: square\"/>\n   </g>\n   <g id=\"line2d_29\">\n    <path d=\"M 54.606838 22.023199 \n\" clip-path=\"url(#pc02c2f0353)\" style=\"fill: none; stroke-dasharray: 5.55,2.4; stroke-dashoffset: 0; stroke: #ff7f0e; stroke-width: 1.5\"/>\n   </g>\n   <g id=\"line2d_30\">\n    <path d=\"M 47.360085 73.409329 \nL 50.983462 60.959407 \nL 54.606838 49.131475 \nL 58.230215 38.397075 \nL 61.853592 29.184154 \nL 65.476968 21.860003 \nL 69.100345 16.716611 \nL 72.723722 13.959031 \nL 76.347098 13.697196 \n\" clip-path=\"url(#pc02c2f0353)\" style=\"fill: none; stroke: #1f77b4; stroke-width: 1.5; stroke-linecap: square\"/>\n   </g>\n   <g id=\"line2d_31\">\n    <path d=\"M 54.606838 22.023199 \n\" clip-path=\"url(#pc02c2f0353)\" style=\"fill: none; stroke-dasharray: 5.55,2.4; stroke-dashoffset: 0; stroke: #ff7f0e; stroke-width: 1.5\"/>\n   </g>\n   <g id=\"line2d_32\">\n    <path d=\"M 47.360085 73.409329 \nL 50.983462 60.959407 \nL 54.606838 49.131475 \nL 58.230215 38.397075 \nL 61.853592 29.184154 \nL 65.476968 21.860003 \nL 69.100345 16.716611 \nL 72.723722 13.959031 \nL 76.347098 13.697196 \nL 79.970475 15.941548 \n\" clip-path=\"url(#pc02c2f0353)\" style=\"fill: none; stroke: #1f77b4; stroke-width: 1.5; stroke-linecap: square\"/>\n   </g>\n   <g id=\"line2d_33\">\n    <path d=\"M 54.606838 22.023199 \n\" clip-path=\"url(#pc02c2f0353)\" style=\"fill: none; stroke-dasharray: 5.55,2.4; stroke-dashoffset: 0; stroke: #ff7f0e; stroke-width: 1.5\"/>\n   </g>\n   <g id=\"line2d_34\">\n    <path d=\"M 47.360085 73.409329 \nL 50.983462 60.959407 \nL 54.606838 49.131475 \nL 58.230215 38.397075 \nL 61.853592 29.184154 \nL 65.476968 21.860003 \nL 69.100345 16.716611 \nL 72.723722 13.959031 \nL 76.347098 13.697196 \nL 79.970475 15.941548 \n\" clip-path=\"url(#pc02c2f0353)\" style=\"fill: none; stroke: #1f77b4; stroke-width: 1.5; stroke-linecap: square\"/>\n   </g>\n   <g id=\"line2d_35\">\n    <path d=\"M 54.606838 22.023199 \nL 72.723722 69.262535 \n\" clip-path=\"url(#pc02c2f0353)\" style=\"fill: none; stroke-dasharray: 5.55,2.4; stroke-dashoffset: 0; stroke: #ff7f0e; stroke-width: 1.5\"/>\n   </g>\n   <g id=\"line2d_36\">\n    <path d=\"M 47.360085 73.409329 \nL 50.983462 60.959407 \nL 54.606838 49.131475 \nL 58.230215 38.397075 \nL 61.853592 29.184154 \nL 65.476968 21.860003 \nL 69.100345 16.716611 \nL 72.723722 13.959031 \nL 76.347098 13.697196 \nL 79.970475 15.941548 \nL 83.593851 20.602609 \n\" clip-path=\"url(#pc02c2f0353)\" style=\"fill: none; stroke: #1f77b4; stroke-width: 1.5; stroke-linecap: square\"/>\n   </g>\n   <g id=\"line2d_37\">\n    <path d=\"M 54.606838 22.023199 \nL 72.723722 69.262535 \n\" clip-path=\"url(#pc02c2f0353)\" style=\"fill: none; stroke-dasharray: 5.55,2.4; stroke-dashoffset: 0; stroke: #ff7f0e; stroke-width: 1.5\"/>\n   </g>\n   <g id=\"line2d_38\">\n    <path d=\"M 47.360085 73.409329 \nL 50.983462 60.959407 \nL 54.606838 49.131475 \nL 58.230215 38.397075 \nL 61.853592 29.184154 \nL 65.476968 21.860003 \nL 69.100345 16.716611 \nL 72.723722 13.959031 \nL 76.347098 13.697196 \nL 79.970475 15.941548 \nL 83.593851 20.602609 \nL 87.217228 27.494558 \n\" clip-path=\"url(#pc02c2f0353)\" style=\"fill: none; stroke: #1f77b4; stroke-width: 1.5; stroke-linecap: square\"/>\n   </g>\n   <g id=\"line2d_39\">\n    <path d=\"M 54.606838 22.023199 \nL 72.723722 69.262535 \n\" clip-path=\"url(#pc02c2f0353)\" style=\"fill: none; stroke-dasharray: 5.55,2.4; stroke-dashoffset: 0; stroke: #ff7f0e; stroke-width: 1.5\"/>\n   </g>\n   <g id=\"line2d_40\">\n    <path d=\"M 47.360085 73.409329 \nL 50.983462 60.959407 \nL 54.606838 49.131475 \nL 58.230215 38.397075 \nL 61.853592 29.184154 \nL 65.476968 21.860003 \nL 69.100345 16.716611 \nL 72.723722 13.959031 \nL 76.347098 13.697196 \nL 79.970475 15.941548 \nL 83.593851 20.602609 \nL 87.217228 27.494558 \nL 90.840605 36.342636 \n\" clip-path=\"url(#pc02c2f0353)\" style=\"fill: none; stroke: #1f77b4; stroke-width: 1.5; stroke-linecap: square\"/>\n   </g>\n   <g id=\"line2d_41\">\n    <path d=\"M 54.606838 22.023199 \nL 72.723722 69.262535 \n\" clip-path=\"url(#pc02c2f0353)\" style=\"fill: none; stroke-dasharray: 5.55,2.4; stroke-dashoffset: 0; stroke: #ff7f0e; stroke-width: 1.5\"/>\n   </g>\n   <g id=\"line2d_42\">\n    <path d=\"M 47.360085 73.409329 \nL 50.983462 60.959407 \nL 54.606838 49.131475 \nL 58.230215 38.397075 \nL 61.853592 29.184154 \nL 65.476968 21.860003 \nL 69.100345 16.716611 \nL 72.723722 13.959031 \nL 76.347098 13.697196 \nL 79.970475 15.941548 \nL 83.593851 20.602609 \nL 87.217228 27.494558 \nL 90.840605 36.342636 \nL 94.463981 46.794096 \n\" clip-path=\"url(#pc02c2f0353)\" style=\"fill: none; stroke: #1f77b4; stroke-width: 1.5; stroke-linecap: square\"/>\n   </g>\n   <g id=\"line2d_43\">\n    <path d=\"M 54.606838 22.023199 \nL 72.723722 69.262535 \n\" clip-path=\"url(#pc02c2f0353)\" style=\"fill: none; stroke-dasharray: 5.55,2.4; stroke-dashoffset: 0; stroke: #ff7f0e; stroke-width: 1.5\"/>\n   </g>\n   <g id=\"line2d_44\">\n    <path d=\"M 47.360085 73.409329 \nL 50.983462 60.959407 \nL 54.606838 49.131475 \nL 58.230215 38.397075 \nL 61.853592 29.184154 \nL 65.476968 21.860003 \nL 69.100345 16.716611 \nL 72.723722 13.959031 \nL 76.347098 13.697196 \nL 79.970475 15.941548 \nL 83.593851 20.602609 \nL 87.217228 27.494558 \nL 90.840605 36.342636 \nL 94.463981 46.794096 \nL 98.087358 58.432273 \n\" clip-path=\"url(#pc02c2f0353)\" style=\"fill: none; stroke: #1f77b4; stroke-width: 1.5; stroke-linecap: square\"/>\n   </g>\n   <g id=\"line2d_45\">\n    <path d=\"M 54.606838 22.023199 \nL 72.723722 69.262535 \n\" clip-path=\"url(#pc02c2f0353)\" style=\"fill: none; stroke-dasharray: 5.55,2.4; stroke-dashoffset: 0; stroke: #ff7f0e; stroke-width: 1.5\"/>\n   </g>\n   <g id=\"line2d_46\">\n    <path d=\"M 47.360085 73.409329 \nL 50.983462 60.959407 \nL 54.606838 49.131475 \nL 58.230215 38.397075 \nL 61.853592 29.184154 \nL 65.476968 21.860003 \nL 69.100345 16.716611 \nL 72.723722 13.959031 \nL 76.347098 13.697196 \nL 79.970475 15.941548 \nL 83.593851 20.602609 \nL 87.217228 27.494558 \nL 90.840605 36.342636 \nL 94.463981 46.794096 \nL 98.087358 58.432273 \n\" clip-path=\"url(#pc02c2f0353)\" style=\"fill: none; stroke: #1f77b4; stroke-width: 1.5; stroke-linecap: square\"/>\n   </g>\n   <g id=\"line2d_47\">\n    <path d=\"M 54.606838 22.023199 \nL 72.723722 69.262535 \nL 90.840605 123.212134 \n\" clip-path=\"url(#pc02c2f0353)\" style=\"fill: none; stroke-dasharray: 5.55,2.4; stroke-dashoffset: 0; stroke: #ff7f0e; stroke-width: 1.5\"/>\n   </g>\n   <g id=\"line2d_48\">\n    <path d=\"M 47.360085 73.409329 \nL 50.983462 60.959407 \nL 54.606838 49.131475 \nL 58.230215 38.397075 \nL 61.853592 29.184154 \nL 65.476968 21.860003 \nL 69.100345 16.716611 \nL 72.723722 13.959031 \nL 76.347098 13.697196 \nL 79.970475 15.941548 \nL 83.593851 20.602609 \nL 87.217228 27.494558 \nL 90.840605 36.342636 \nL 94.463981 46.794096 \nL 98.087358 58.432273 \nL 101.710735 70.793189 \n\" clip-path=\"url(#pc02c2f0353)\" style=\"fill: none; stroke: #1f77b4; stroke-width: 1.5; stroke-linecap: square\"/>\n   </g>\n   <g id=\"line2d_49\">\n    <path d=\"M 54.606838 22.023199 \nL 72.723722 69.262535 \nL 90.840605 123.212134 \n\" clip-path=\"url(#pc02c2f0353)\" style=\"fill: none; stroke-dasharray: 5.55,2.4; stroke-dashoffset: 0; stroke: #ff7f0e; stroke-width: 1.5\"/>\n   </g>\n   <g id=\"line2d_50\">\n    <path d=\"M 47.360085 73.409329 \nL 50.983462 60.959407 \nL 54.606838 49.131475 \nL 58.230215 38.397075 \nL 61.853592 29.184154 \nL 65.476968 21.860003 \nL 69.100345 16.716611 \nL 72.723722 13.959031 \nL 76.347098 13.697196 \nL 79.970475 15.941548 \nL 83.593851 20.602609 \nL 87.217228 27.494558 \nL 90.840605 36.342636 \nL 94.463981 46.794096 \nL 98.087358 58.432273 \nL 101.710735 70.793189 \nL 105.334111 83.384053 \n\" clip-path=\"url(#pc02c2f0353)\" style=\"fill: none; stroke: #1f77b4; stroke-width: 1.5; stroke-linecap: square\"/>\n   </g>\n   <g id=\"line2d_51\">\n    <path d=\"M 54.606838 22.023199 \nL 72.723722 69.262535 \nL 90.840605 123.212134 \n\" clip-path=\"url(#pc02c2f0353)\" style=\"fill: none; stroke-dasharray: 5.55,2.4; stroke-dashoffset: 0; stroke: #ff7f0e; stroke-width: 1.5\"/>\n   </g>\n   <g id=\"line2d_52\">\n    <path d=\"M 47.360085 73.409329 \nL 50.983462 60.959407 \nL 54.606838 49.131475 \nL 58.230215 38.397075 \nL 61.853592 29.184154 \nL 65.476968 21.860003 \nL 69.100345 16.716611 \nL 72.723722 13.959031 \nL 76.347098 13.697196 \nL 79.970475 15.941548 \nL 83.593851 20.602609 \nL 87.217228 27.494558 \nL 90.840605 36.342636 \nL 94.463981 46.794096 \nL 98.087358 58.432273 \nL 101.710735 70.793189 \nL 105.334111 83.384053 \nL 108.957488 95.702907 \n\" clip-path=\"url(#pc02c2f0353)\" style=\"fill: none; stroke: #1f77b4; stroke-width: 1.5; stroke-linecap: square\"/>\n   </g>\n   <g id=\"line2d_53\">\n    <path d=\"M 54.606838 22.023199 \nL 72.723722 69.262535 \nL 90.840605 123.212134 \n\" clip-path=\"url(#pc02c2f0353)\" style=\"fill: none; stroke-dasharray: 5.55,2.4; stroke-dashoffset: 0; stroke: #ff7f0e; stroke-width: 1.5\"/>\n   </g>\n   <g id=\"line2d_54\">\n    <path d=\"M 47.360085 73.409329 \nL 50.983462 60.959407 \nL 54.606838 49.131475 \nL 58.230215 38.397075 \nL 61.853592 29.184154 \nL 65.476968 21.860003 \nL 69.100345 16.716611 \nL 72.723722 13.959031 \nL 76.347098 13.697196 \nL 79.970475 15.941548 \nL 83.593851 20.602609 \nL 87.217228 27.494558 \nL 90.840605 36.342636 \nL 94.463981 46.794096 \nL 98.087358 58.432273 \nL 101.710735 70.793189 \nL 105.334111 83.384053 \nL 108.957488 95.702907 \nL 112.580864 107.258638 \n\" clip-path=\"url(#pc02c2f0353)\" style=\"fill: none; stroke: #1f77b4; stroke-width: 1.5; stroke-linecap: square\"/>\n   </g>\n   <g id=\"line2d_55\">\n    <path d=\"M 54.606838 22.023199 \nL 72.723722 69.262535 \nL 90.840605 123.212134 \n\" clip-path=\"url(#pc02c2f0353)\" style=\"fill: none; stroke-dasharray: 5.55,2.4; stroke-dashoffset: 0; stroke: #ff7f0e; stroke-width: 1.5\"/>\n   </g>\n   <g id=\"line2d_56\">\n    <path d=\"M 47.360085 73.409329 \nL 50.983462 60.959407 \nL 54.606838 49.131475 \nL 58.230215 38.397075 \nL 61.853592 29.184154 \nL 65.476968 21.860003 \nL 69.100345 16.716611 \nL 72.723722 13.959031 \nL 76.347098 13.697196 \nL 79.970475 15.941548 \nL 83.593851 20.602609 \nL 87.217228 27.494558 \nL 90.840605 36.342636 \nL 94.463981 46.794096 \nL 98.087358 58.432273 \nL 101.710735 70.793189 \nL 105.334111 83.384053 \nL 108.957488 95.702907 \nL 112.580864 107.258638 \nL 116.204241 117.590554 \n\" clip-path=\"url(#pc02c2f0353)\" style=\"fill: none; stroke: #1f77b4; stroke-width: 1.5; stroke-linecap: square\"/>\n   </g>\n   <g id=\"line2d_57\">\n    <path d=\"M 54.606838 22.023199 \nL 72.723722 69.262535 \nL 90.840605 123.212134 \n\" clip-path=\"url(#pc02c2f0353)\" style=\"fill: none; stroke-dasharray: 5.55,2.4; stroke-dashoffset: 0; stroke: #ff7f0e; stroke-width: 1.5\"/>\n   </g>\n   <g id=\"line2d_58\">\n    <path d=\"M 47.360085 73.409329 \nL 50.983462 60.959407 \nL 54.606838 49.131475 \nL 58.230215 38.397075 \nL 61.853592 29.184154 \nL 65.476968 21.860003 \nL 69.100345 16.716611 \nL 72.723722 13.959031 \nL 76.347098 13.697196 \nL 79.970475 15.941548 \nL 83.593851 20.602609 \nL 87.217228 27.494558 \nL 90.840605 36.342636 \nL 94.463981 46.794096 \nL 98.087358 58.432273 \nL 101.710735 70.793189 \nL 105.334111 83.384053 \nL 108.957488 95.702907 \nL 112.580864 107.258638 \nL 116.204241 117.590554 \n\" clip-path=\"url(#pc02c2f0353)\" style=\"fill: none; stroke: #1f77b4; stroke-width: 1.5; stroke-linecap: square\"/>\n   </g>\n   <g id=\"line2d_59\">\n    <path d=\"M 54.606838 22.023199 \nL 72.723722 69.262535 \nL 90.840605 123.212134 \nL 108.957488 134.270983 \n\" clip-path=\"url(#pc02c2f0353)\" style=\"fill: none; stroke-dasharray: 5.55,2.4; stroke-dashoffset: 0; stroke: #ff7f0e; stroke-width: 1.5\"/>\n   </g>\n   <g id=\"line2d_60\">\n    <path d=\"M 47.360085 73.409329 \nL 50.983462 60.959407 \nL 54.606838 49.131475 \nL 58.230215 38.397075 \nL 61.853592 29.184154 \nL 65.476968 21.860003 \nL 69.100345 16.716611 \nL 72.723722 13.959031 \nL 76.347098 13.697196 \nL 79.970475 15.941548 \nL 83.593851 20.602609 \nL 87.217228 27.494558 \nL 90.840605 36.342636 \nL 94.463981 46.794096 \nL 98.087358 58.432273 \nL 101.710735 70.793189 \nL 105.334111 83.384053 \nL 108.957488 95.702907 \nL 112.580864 107.258638 \nL 116.204241 117.590554 \nL 119.827618 126.286755 \n\" clip-path=\"url(#pc02c2f0353)\" style=\"fill: none; stroke: #1f77b4; stroke-width: 1.5; stroke-linecap: square\"/>\n   </g>\n   <g id=\"line2d_61\">\n    <path d=\"M 54.606838 22.023199 \nL 72.723722 69.262535 \nL 90.840605 123.212134 \nL 108.957488 134.270983 \n\" clip-path=\"url(#pc02c2f0353)\" style=\"fill: none; stroke-dasharray: 5.55,2.4; stroke-dashoffset: 0; stroke: #ff7f0e; stroke-width: 1.5\"/>\n   </g>\n   <g id=\"line2d_62\">\n    <path d=\"M 47.360085 73.409329 \nL 50.983462 60.959407 \nL 54.606838 49.131475 \nL 58.230215 38.397075 \nL 61.853592 29.184154 \nL 65.476968 21.860003 \nL 69.100345 16.716611 \nL 72.723722 13.959031 \nL 76.347098 13.697196 \nL 79.970475 15.941548 \nL 83.593851 20.602609 \nL 87.217228 27.494558 \nL 90.840605 36.342636 \nL 94.463981 46.794096 \nL 98.087358 58.432273 \nL 101.710735 70.793189 \nL 105.334111 83.384053 \nL 108.957488 95.702907 \nL 112.580864 107.258638 \nL 116.204241 117.590554 \nL 119.827618 126.286755 \nL 123.450994 133.000552 \n\" clip-path=\"url(#pc02c2f0353)\" style=\"fill: none; stroke: #1f77b4; stroke-width: 1.5; stroke-linecap: square\"/>\n   </g>\n   <g id=\"line2d_63\">\n    <path d=\"M 54.606838 22.023199 \nL 72.723722 69.262535 \nL 90.840605 123.212134 \nL 108.957488 134.270983 \n\" clip-path=\"url(#pc02c2f0353)\" style=\"fill: none; stroke-dasharray: 5.55,2.4; stroke-dashoffset: 0; stroke: #ff7f0e; stroke-width: 1.5\"/>\n   </g>\n   <g id=\"line2d_64\">\n    <path d=\"M 47.360085 73.409329 \nL 50.983462 60.959407 \nL 54.606838 49.131475 \nL 58.230215 38.397075 \nL 61.853592 29.184154 \nL 65.476968 21.860003 \nL 69.100345 16.716611 \nL 72.723722 13.959031 \nL 76.347098 13.697196 \nL 79.970475 15.941548 \nL 83.593851 20.602609 \nL 87.217228 27.494558 \nL 90.840605 36.342636 \nL 94.463981 46.794096 \nL 98.087358 58.432273 \nL 101.710735 70.793189 \nL 105.334111 83.384053 \nL 108.957488 95.702907 \nL 112.580864 107.258638 \nL 116.204241 117.590554 \nL 119.827618 126.286755 \nL 123.450994 133.000552 \nL 127.074371 137.464285 \n\" clip-path=\"url(#pc02c2f0353)\" style=\"fill: none; stroke: #1f77b4; stroke-width: 1.5; stroke-linecap: square\"/>\n   </g>\n   <g id=\"line2d_65\">\n    <path d=\"M 54.606838 22.023199 \nL 72.723722 69.262535 \nL 90.840605 123.212134 \nL 108.957488 134.270983 \n\" clip-path=\"url(#pc02c2f0353)\" style=\"fill: none; stroke-dasharray: 5.55,2.4; stroke-dashoffset: 0; stroke: #ff7f0e; stroke-width: 1.5\"/>\n   </g>\n   <g id=\"line2d_66\">\n    <path d=\"M 47.360085 73.409329 \nL 50.983462 60.959407 \nL 54.606838 49.131475 \nL 58.230215 38.397075 \nL 61.853592 29.184154 \nL 65.476968 21.860003 \nL 69.100345 16.716611 \nL 72.723722 13.959031 \nL 76.347098 13.697196 \nL 79.970475 15.941548 \nL 83.593851 20.602609 \nL 87.217228 27.494558 \nL 90.840605 36.342636 \nL 94.463981 46.794096 \nL 98.087358 58.432273 \nL 101.710735 70.793189 \nL 105.334111 83.384053 \nL 108.957488 95.702907 \nL 112.580864 107.258638 \nL 116.204241 117.590554 \nL 119.827618 126.286755 \nL 123.450994 133.000552 \nL 127.074371 137.464285 \nL 130.697748 139.5 \n\" clip-path=\"url(#pc02c2f0353)\" style=\"fill: none; stroke: #1f77b4; stroke-width: 1.5; stroke-linecap: square\"/>\n   </g>\n   <g id=\"line2d_67\">\n    <path d=\"M 54.606838 22.023199 \nL 72.723722 69.262535 \nL 90.840605 123.212134 \nL 108.957488 134.270983 \n\" clip-path=\"url(#pc02c2f0353)\" style=\"fill: none; stroke-dasharray: 5.55,2.4; stroke-dashoffset: 0; stroke: #ff7f0e; stroke-width: 1.5\"/>\n   </g>\n   <g id=\"line2d_68\">\n    <path d=\"M 47.360085 73.409329 \nL 50.983462 60.959407 \nL 54.606838 49.131475 \nL 58.230215 38.397075 \nL 61.853592 29.184154 \nL 65.476968 21.860003 \nL 69.100345 16.716611 \nL 72.723722 13.959031 \nL 76.347098 13.697196 \nL 79.970475 15.941548 \nL 83.593851 20.602609 \nL 87.217228 27.494558 \nL 90.840605 36.342636 \nL 94.463981 46.794096 \nL 98.087358 58.432273 \nL 101.710735 70.793189 \nL 105.334111 83.384053 \nL 108.957488 95.702907 \nL 112.580864 107.258638 \nL 116.204241 117.590554 \nL 119.827618 126.286755 \nL 123.450994 133.000552 \nL 127.074371 137.464285 \nL 130.697748 139.5 \nL 134.321124 139.02654 \n\" clip-path=\"url(#pc02c2f0353)\" style=\"fill: none; stroke: #1f77b4; stroke-width: 1.5; stroke-linecap: square\"/>\n   </g>\n   <g id=\"line2d_69\">\n    <path d=\"M 54.606838 22.023199 \nL 72.723722 69.262535 \nL 90.840605 123.212134 \nL 108.957488 134.270983 \n\" clip-path=\"url(#pc02c2f0353)\" style=\"fill: none; stroke-dasharray: 5.55,2.4; stroke-dashoffset: 0; stroke: #ff7f0e; stroke-width: 1.5\"/>\n   </g>\n   <g id=\"line2d_70\">\n    <path d=\"M 47.360085 73.409329 \nL 50.983462 60.959407 \nL 54.606838 49.131475 \nL 58.230215 38.397075 \nL 61.853592 29.184154 \nL 65.476968 21.860003 \nL 69.100345 16.716611 \nL 72.723722 13.959031 \nL 76.347098 13.697196 \nL 79.970475 15.941548 \nL 83.593851 20.602609 \nL 87.217228 27.494558 \nL 90.840605 36.342636 \nL 94.463981 46.794096 \nL 98.087358 58.432273 \nL 101.710735 70.793189 \nL 105.334111 83.384053 \nL 108.957488 95.702907 \nL 112.580864 107.258638 \nL 116.204241 117.590554 \nL 119.827618 126.286755 \nL 123.450994 133.000552 \nL 127.074371 137.464285 \nL 130.697748 139.5 \nL 134.321124 139.02654 \n\" clip-path=\"url(#pc02c2f0353)\" style=\"fill: none; stroke: #1f77b4; stroke-width: 1.5; stroke-linecap: square\"/>\n   </g>\n   <g id=\"line2d_71\">\n    <path d=\"M 54.606838 22.023199 \nL 72.723722 69.262535 \nL 90.840605 123.212134 \nL 108.957488 134.270983 \nL 127.074371 92.271627 \n\" clip-path=\"url(#pc02c2f0353)\" style=\"fill: none; stroke-dasharray: 5.55,2.4; stroke-dashoffset: 0; stroke: #ff7f0e; stroke-width: 1.5\"/>\n   </g>\n   <g id=\"line2d_72\">\n    <path d=\"M 47.360085 73.409329 \nL 50.983462 60.959407 \nL 54.606838 49.131475 \nL 58.230215 38.397075 \nL 61.853592 29.184154 \nL 65.476968 21.860003 \nL 69.100345 16.716611 \nL 72.723722 13.959031 \nL 76.347098 13.697196 \nL 79.970475 15.941548 \nL 83.593851 20.602609 \nL 87.217228 27.494558 \nL 90.840605 36.342636 \nL 94.463981 46.794096 \nL 98.087358 58.432273 \nL 101.710735 70.793189 \nL 105.334111 83.384053 \nL 108.957488 95.702907 \nL 112.580864 107.258638 \nL 116.204241 117.590554 \nL 119.827618 126.286755 \nL 123.450994 133.000552 \nL 127.074371 137.464285 \nL 130.697748 139.5 \nL 134.321124 139.02654 \nL 137.944501 136.062779 \n\" clip-path=\"url(#pc02c2f0353)\" style=\"fill: none; stroke: #1f77b4; stroke-width: 1.5; stroke-linecap: square\"/>\n   </g>\n   <g id=\"line2d_73\">\n    <path d=\"M 54.606838 22.023199 \nL 72.723722 69.262535 \nL 90.840605 123.212134 \nL 108.957488 134.270983 \nL 127.074371 92.271627 \n\" clip-path=\"url(#pc02c2f0353)\" style=\"fill: none; stroke-dasharray: 5.55,2.4; stroke-dashoffset: 0; stroke: #ff7f0e; stroke-width: 1.5\"/>\n   </g>\n   <g id=\"line2d_74\">\n    <path d=\"M 47.360085 73.409329 \nL 50.983462 60.959407 \nL 54.606838 49.131475 \nL 58.230215 38.397075 \nL 61.853592 29.184154 \nL 65.476968 21.860003 \nL 69.100345 16.716611 \nL 72.723722 13.959031 \nL 76.347098 13.697196 \nL 79.970475 15.941548 \nL 83.593851 20.602609 \nL 87.217228 27.494558 \nL 90.840605 36.342636 \nL 94.463981 46.794096 \nL 98.087358 58.432273 \nL 101.710735 70.793189 \nL 105.334111 83.384053 \nL 108.957488 95.702907 \nL 112.580864 107.258638 \nL 116.204241 117.590554 \nL 119.827618 126.286755 \nL 123.450994 133.000552 \nL 127.074371 137.464285 \nL 130.697748 139.5 \nL 134.321124 139.02654 \nL 137.944501 136.062779 \nL 141.567877 130.726874 \n\" clip-path=\"url(#pc02c2f0353)\" style=\"fill: none; stroke: #1f77b4; stroke-width: 1.5; stroke-linecap: square\"/>\n   </g>\n   <g id=\"line2d_75\">\n    <path d=\"M 54.606838 22.023199 \nL 72.723722 69.262535 \nL 90.840605 123.212134 \nL 108.957488 134.270983 \nL 127.074371 92.271627 \n\" clip-path=\"url(#pc02c2f0353)\" style=\"fill: none; stroke-dasharray: 5.55,2.4; stroke-dashoffset: 0; stroke: #ff7f0e; stroke-width: 1.5\"/>\n   </g>\n   <g id=\"line2d_76\">\n    <path d=\"M 47.360085 73.409329 \nL 50.983462 60.959407 \nL 54.606838 49.131475 \nL 58.230215 38.397075 \nL 61.853592 29.184154 \nL 65.476968 21.860003 \nL 69.100345 16.716611 \nL 72.723722 13.959031 \nL 76.347098 13.697196 \nL 79.970475 15.941548 \nL 83.593851 20.602609 \nL 87.217228 27.494558 \nL 90.840605 36.342636 \nL 94.463981 46.794096 \nL 98.087358 58.432273 \nL 101.710735 70.793189 \nL 105.334111 83.384053 \nL 108.957488 95.702907 \nL 112.580864 107.258638 \nL 116.204241 117.590554 \nL 119.827618 126.286755 \nL 123.450994 133.000552 \nL 127.074371 137.464285 \nL 130.697748 139.5 \nL 134.321124 139.02654 \nL 137.944501 136.062779 \nL 141.567877 130.726874 \nL 145.191254 123.231551 \n\" clip-path=\"url(#pc02c2f0353)\" style=\"fill: none; stroke: #1f77b4; stroke-width: 1.5; stroke-linecap: square\"/>\n   </g>\n   <g id=\"line2d_77\">\n    <path d=\"M 54.606838 22.023199 \nL 72.723722 69.262535 \nL 90.840605 123.212134 \nL 108.957488 134.270983 \nL 127.074371 92.271627 \n\" clip-path=\"url(#pc02c2f0353)\" style=\"fill: none; stroke-dasharray: 5.55,2.4; stroke-dashoffset: 0; stroke: #ff7f0e; stroke-width: 1.5\"/>\n   </g>\n   <g id=\"line2d_78\">\n    <path d=\"M 47.360085 73.409329 \nL 50.983462 60.959407 \nL 54.606838 49.131475 \nL 58.230215 38.397075 \nL 61.853592 29.184154 \nL 65.476968 21.860003 \nL 69.100345 16.716611 \nL 72.723722 13.959031 \nL 76.347098 13.697196 \nL 79.970475 15.941548 \nL 83.593851 20.602609 \nL 87.217228 27.494558 \nL 90.840605 36.342636 \nL 94.463981 46.794096 \nL 98.087358 58.432273 \nL 101.710735 70.793189 \nL 105.334111 83.384053 \nL 108.957488 95.702907 \nL 112.580864 107.258638 \nL 116.204241 117.590554 \nL 119.827618 126.286755 \nL 123.450994 133.000552 \nL 127.074371 137.464285 \nL 130.697748 139.5 \nL 134.321124 139.02654 \nL 137.944501 136.062779 \nL 141.567877 130.726874 \nL 145.191254 123.231551 \nL 148.814631 113.875623 \n\" clip-path=\"url(#pc02c2f0353)\" style=\"fill: none; stroke: #1f77b4; stroke-width: 1.5; stroke-linecap: square\"/>\n   </g>\n   <g id=\"line2d_79\">\n    <path d=\"M 54.606838 22.023199 \nL 72.723722 69.262535 \nL 90.840605 123.212134 \nL 108.957488 134.270983 \nL 127.074371 92.271627 \n\" clip-path=\"url(#pc02c2f0353)\" style=\"fill: none; stroke-dasharray: 5.55,2.4; stroke-dashoffset: 0; stroke: #ff7f0e; stroke-width: 1.5\"/>\n   </g>\n   <g id=\"line2d_80\">\n    <path d=\"M 47.360085 73.409329 \nL 50.983462 60.959407 \nL 54.606838 49.131475 \nL 58.230215 38.397075 \nL 61.853592 29.184154 \nL 65.476968 21.860003 \nL 69.100345 16.716611 \nL 72.723722 13.959031 \nL 76.347098 13.697196 \nL 79.970475 15.941548 \nL 83.593851 20.602609 \nL 87.217228 27.494558 \nL 90.840605 36.342636 \nL 94.463981 46.794096 \nL 98.087358 58.432273 \nL 101.710735 70.793189 \nL 105.334111 83.384053 \nL 108.957488 95.702907 \nL 112.580864 107.258638 \nL 116.204241 117.590554 \nL 119.827618 126.286755 \nL 123.450994 133.000552 \nL 127.074371 137.464285 \nL 130.697748 139.5 \nL 134.321124 139.02654 \nL 137.944501 136.062779 \nL 141.567877 130.726874 \nL 145.191254 123.231551 \nL 148.814631 113.875623 \nL 152.438007 103.032084 \n\" clip-path=\"url(#pc02c2f0353)\" style=\"fill: none; stroke: #1f77b4; stroke-width: 1.5; stroke-linecap: square\"/>\n   </g>\n   <g id=\"line2d_81\">\n    <path d=\"M 54.606838 22.023199 \nL 72.723722 69.262535 \nL 90.840605 123.212134 \nL 108.957488 134.270983 \nL 127.074371 92.271627 \n\" clip-path=\"url(#pc02c2f0353)\" style=\"fill: none; stroke-dasharray: 5.55,2.4; stroke-dashoffset: 0; stroke: #ff7f0e; stroke-width: 1.5\"/>\n   </g>\n   <g id=\"line2d_82\">\n    <path d=\"M 47.360085 73.409329 \nL 50.983462 60.959407 \nL 54.606838 49.131475 \nL 58.230215 38.397075 \nL 61.853592 29.184154 \nL 65.476968 21.860003 \nL 69.100345 16.716611 \nL 72.723722 13.959031 \nL 76.347098 13.697196 \nL 79.970475 15.941548 \nL 83.593851 20.602609 \nL 87.217228 27.494558 \nL 90.840605 36.342636 \nL 94.463981 46.794096 \nL 98.087358 58.432273 \nL 101.710735 70.793189 \nL 105.334111 83.384053 \nL 108.957488 95.702907 \nL 112.580864 107.258638 \nL 116.204241 117.590554 \nL 119.827618 126.286755 \nL 123.450994 133.000552 \nL 127.074371 137.464285 \nL 130.697748 139.5 \nL 134.321124 139.02654 \nL 137.944501 136.062779 \nL 141.567877 130.726874 \nL 145.191254 123.231551 \nL 148.814631 113.875623 \nL 152.438007 103.032084 \n\" clip-path=\"url(#pc02c2f0353)\" style=\"fill: none; stroke: #1f77b4; stroke-width: 1.5; stroke-linecap: square\"/>\n   </g>\n   <g id=\"line2d_83\">\n    <path d=\"M 54.606838 22.023199 \nL 72.723722 69.262535 \nL 90.840605 123.212134 \nL 108.957488 134.270983 \nL 127.074371 92.271627 \nL 145.191254 35.828081 \n\" clip-path=\"url(#pc02c2f0353)\" style=\"fill: none; stroke-dasharray: 5.55,2.4; stroke-dashoffset: 0; stroke: #ff7f0e; stroke-width: 1.5\"/>\n   </g>\n   <g id=\"line2d_84\">\n    <path d=\"M 47.360085 73.409329 \nL 50.983462 60.959407 \nL 54.606838 49.131475 \nL 58.230215 38.397075 \nL 61.853592 29.184154 \nL 65.476968 21.860003 \nL 69.100345 16.716611 \nL 72.723722 13.959031 \nL 76.347098 13.697196 \nL 79.970475 15.941548 \nL 83.593851 20.602609 \nL 87.217228 27.494558 \nL 90.840605 36.342636 \nL 94.463981 46.794096 \nL 98.087358 58.432273 \nL 101.710735 70.793189 \nL 105.334111 83.384053 \nL 108.957488 95.702907 \nL 112.580864 107.258638 \nL 116.204241 117.590554 \nL 119.827618 126.286755 \nL 123.450994 133.000552 \nL 127.074371 137.464285 \nL 130.697748 139.5 \nL 134.321124 139.02654 \nL 137.944501 136.062779 \nL 141.567877 130.726874 \nL 145.191254 123.231551 \nL 148.814631 113.875623 \nL 152.438007 103.032084 \nL 156.061384 91.133229 \n\" clip-path=\"url(#pc02c2f0353)\" style=\"fill: none; stroke: #1f77b4; stroke-width: 1.5; stroke-linecap: square\"/>\n   </g>\n   <g id=\"line2d_85\">\n    <path d=\"M 54.606838 22.023199 \nL 72.723722 69.262535 \nL 90.840605 123.212134 \nL 108.957488 134.270983 \nL 127.074371 92.271627 \nL 145.191254 35.828081 \n\" clip-path=\"url(#pc02c2f0353)\" style=\"fill: none; stroke-dasharray: 5.55,2.4; stroke-dashoffset: 0; stroke: #ff7f0e; stroke-width: 1.5\"/>\n   </g>\n   <g id=\"line2d_86\">\n    <path d=\"M 47.360085 73.409329 \nL 50.983462 60.959407 \nL 54.606838 49.131475 \nL 58.230215 38.397075 \nL 61.853592 29.184154 \nL 65.476968 21.860003 \nL 69.100345 16.716611 \nL 72.723722 13.959031 \nL 76.347098 13.697196 \nL 79.970475 15.941548 \nL 83.593851 20.602609 \nL 87.217228 27.494558 \nL 90.840605 36.342636 \nL 94.463981 46.794096 \nL 98.087358 58.432273 \nL 101.710735 70.793189 \nL 105.334111 83.384053 \nL 108.957488 95.702907 \nL 112.580864 107.258638 \nL 116.204241 117.590554 \nL 119.827618 126.286755 \nL 123.450994 133.000552 \nL 127.074371 137.464285 \nL 130.697748 139.5 \nL 134.321124 139.02654 \nL 137.944501 136.062779 \nL 141.567877 130.726874 \nL 145.191254 123.231551 \nL 148.814631 113.875623 \nL 152.438007 103.032084 \nL 156.061384 91.133229 \nL 159.684761 78.653429 \n\" clip-path=\"url(#pc02c2f0353)\" style=\"fill: none; stroke: #1f77b4; stroke-width: 1.5; stroke-linecap: square\"/>\n   </g>\n   <g id=\"line2d_87\">\n    <path d=\"M 54.606838 22.023199 \nL 72.723722 69.262535 \nL 90.840605 123.212134 \nL 108.957488 134.270983 \nL 127.074371 92.271627 \nL 145.191254 35.828081 \n\" clip-path=\"url(#pc02c2f0353)\" style=\"fill: none; stroke-dasharray: 5.55,2.4; stroke-dashoffset: 0; stroke: #ff7f0e; stroke-width: 1.5\"/>\n   </g>\n   <g id=\"line2d_88\">\n    <path d=\"M 47.360085 73.409329 \nL 50.983462 60.959407 \nL 54.606838 49.131475 \nL 58.230215 38.397075 \nL 61.853592 29.184154 \nL 65.476968 21.860003 \nL 69.100345 16.716611 \nL 72.723722 13.959031 \nL 76.347098 13.697196 \nL 79.970475 15.941548 \nL 83.593851 20.602609 \nL 87.217228 27.494558 \nL 90.840605 36.342636 \nL 94.463981 46.794096 \nL 98.087358 58.432273 \nL 101.710735 70.793189 \nL 105.334111 83.384053 \nL 108.957488 95.702907 \nL 112.580864 107.258638 \nL 116.204241 117.590554 \nL 119.827618 126.286755 \nL 123.450994 133.000552 \nL 127.074371 137.464285 \nL 130.697748 139.5 \nL 134.321124 139.02654 \nL 137.944501 136.062779 \nL 141.567877 130.726874 \nL 145.191254 123.231551 \nL 148.814631 113.875623 \nL 152.438007 103.032084 \nL 156.061384 91.133229 \nL 159.684761 78.653429 \nL 163.308137 66.090215 \n\" clip-path=\"url(#pc02c2f0353)\" style=\"fill: none; stroke: #1f77b4; stroke-width: 1.5; stroke-linecap: square\"/>\n   </g>\n   <g id=\"line2d_89\">\n    <path d=\"M 54.606838 22.023199 \nL 72.723722 69.262535 \nL 90.840605 123.212134 \nL 108.957488 134.270983 \nL 127.074371 92.271627 \nL 145.191254 35.828081 \n\" clip-path=\"url(#pc02c2f0353)\" style=\"fill: none; stroke-dasharray: 5.55,2.4; stroke-dashoffset: 0; stroke: #ff7f0e; stroke-width: 1.5\"/>\n   </g>\n   <g id=\"line2d_90\">\n    <path d=\"M 47.360085 73.409329 \nL 50.983462 60.959407 \nL 54.606838 49.131475 \nL 58.230215 38.397075 \nL 61.853592 29.184154 \nL 65.476968 21.860003 \nL 69.100345 16.716611 \nL 72.723722 13.959031 \nL 76.347098 13.697196 \nL 79.970475 15.941548 \nL 83.593851 20.602609 \nL 87.217228 27.494558 \nL 90.840605 36.342636 \nL 94.463981 46.794096 \nL 98.087358 58.432273 \nL 101.710735 70.793189 \nL 105.334111 83.384053 \nL 108.957488 95.702907 \nL 112.580864 107.258638 \nL 116.204241 117.590554 \nL 119.827618 126.286755 \nL 123.450994 133.000552 \nL 127.074371 137.464285 \nL 130.697748 139.5 \nL 134.321124 139.02654 \nL 137.944501 136.062779 \nL 141.567877 130.726874 \nL 145.191254 123.231551 \nL 148.814631 113.875623 \nL 152.438007 103.032084 \nL 156.061384 91.133229 \nL 159.684761 78.653429 \nL 163.308137 66.090215 \nL 166.931514 53.944442 \n\" clip-path=\"url(#pc02c2f0353)\" style=\"fill: none; stroke: #1f77b4; stroke-width: 1.5; stroke-linecap: square\"/>\n   </g>\n   <g id=\"line2d_91\">\n    <path d=\"M 54.606838 22.023199 \nL 72.723722 69.262535 \nL 90.840605 123.212134 \nL 108.957488 134.270983 \nL 127.074371 92.271627 \nL 145.191254 35.828081 \n\" clip-path=\"url(#pc02c2f0353)\" style=\"fill: none; stroke-dasharray: 5.55,2.4; stroke-dashoffset: 0; stroke: #ff7f0e; stroke-width: 1.5\"/>\n   </g>\n   <g id=\"line2d_92\">\n    <path d=\"M 47.360085 73.409329 \nL 50.983462 60.959407 \nL 54.606838 49.131475 \nL 58.230215 38.397075 \nL 61.853592 29.184154 \nL 65.476968 21.860003 \nL 69.100345 16.716611 \nL 72.723722 13.959031 \nL 76.347098 13.697196 \nL 79.970475 15.941548 \nL 83.593851 20.602609 \nL 87.217228 27.494558 \nL 90.840605 36.342636 \nL 94.463981 46.794096 \nL 98.087358 58.432273 \nL 101.710735 70.793189 \nL 105.334111 83.384053 \nL 108.957488 95.702907 \nL 112.580864 107.258638 \nL 116.204241 117.590554 \nL 119.827618 126.286755 \nL 123.450994 133.000552 \nL 127.074371 137.464285 \nL 130.697748 139.5 \nL 134.321124 139.02654 \nL 137.944501 136.062779 \nL 141.567877 130.726874 \nL 145.191254 123.231551 \nL 148.814631 113.875623 \nL 152.438007 103.032084 \nL 156.061384 91.133229 \nL 159.684761 78.653429 \nL 163.308137 66.090215 \nL 166.931514 53.944442 \nL 170.55489 42.700323 \n\" clip-path=\"url(#pc02c2f0353)\" style=\"fill: none; stroke: #1f77b4; stroke-width: 1.5; stroke-linecap: square\"/>\n   </g>\n   <g id=\"line2d_93\">\n    <path d=\"M 54.606838 22.023199 \nL 72.723722 69.262535 \nL 90.840605 123.212134 \nL 108.957488 134.270983 \nL 127.074371 92.271627 \nL 145.191254 35.828081 \n\" clip-path=\"url(#pc02c2f0353)\" style=\"fill: none; stroke-dasharray: 5.55,2.4; stroke-dashoffset: 0; stroke: #ff7f0e; stroke-width: 1.5\"/>\n   </g>\n   <g id=\"line2d_94\">\n    <path d=\"M 47.360085 73.409329 \nL 50.983462 60.959407 \nL 54.606838 49.131475 \nL 58.230215 38.397075 \nL 61.853592 29.184154 \nL 65.476968 21.860003 \nL 69.100345 16.716611 \nL 72.723722 13.959031 \nL 76.347098 13.697196 \nL 79.970475 15.941548 \nL 83.593851 20.602609 \nL 87.217228 27.494558 \nL 90.840605 36.342636 \nL 94.463981 46.794096 \nL 98.087358 58.432273 \nL 101.710735 70.793189 \nL 105.334111 83.384053 \nL 108.957488 95.702907 \nL 112.580864 107.258638 \nL 116.204241 117.590554 \nL 119.827618 126.286755 \nL 123.450994 133.000552 \nL 127.074371 137.464285 \nL 130.697748 139.5 \nL 134.321124 139.02654 \nL 137.944501 136.062779 \nL 141.567877 130.726874 \nL 145.191254 123.231551 \nL 148.814631 113.875623 \nL 152.438007 103.032084 \nL 156.061384 91.133229 \nL 159.684761 78.653429 \nL 163.308137 66.090215 \nL 166.931514 53.944442 \nL 170.55489 42.700323 \n\" clip-path=\"url(#pc02c2f0353)\" style=\"fill: none; stroke: #1f77b4; stroke-width: 1.5; stroke-linecap: square\"/>\n   </g>\n   <g id=\"line2d_95\">\n    <path d=\"M 54.606838 22.023199 \nL 72.723722 69.262535 \nL 90.840605 123.212134 \nL 108.957488 134.270983 \nL 127.074371 92.271627 \nL 145.191254 35.828081 \nL 163.308137 16.83428 \n\" clip-path=\"url(#pc02c2f0353)\" style=\"fill: none; stroke-dasharray: 5.55,2.4; stroke-dashoffset: 0; stroke: #ff7f0e; stroke-width: 1.5\"/>\n   </g>\n   <g id=\"line2d_96\">\n    <path d=\"M 47.360085 73.409329 \nL 50.983462 60.959407 \nL 54.606838 49.131475 \nL 58.230215 38.397075 \nL 61.853592 29.184154 \nL 65.476968 21.860003 \nL 69.100345 16.716611 \nL 72.723722 13.959031 \nL 76.347098 13.697196 \nL 79.970475 15.941548 \nL 83.593851 20.602609 \nL 87.217228 27.494558 \nL 90.840605 36.342636 \nL 94.463981 46.794096 \nL 98.087358 58.432273 \nL 101.710735 70.793189 \nL 105.334111 83.384053 \nL 108.957488 95.702907 \nL 112.580864 107.258638 \nL 116.204241 117.590554 \nL 119.827618 126.286755 \nL 123.450994 133.000552 \nL 127.074371 137.464285 \nL 130.697748 139.5 \nL 134.321124 139.02654 \nL 137.944501 136.062779 \nL 141.567877 130.726874 \nL 145.191254 123.231551 \nL 148.814631 113.875623 \nL 152.438007 103.032084 \nL 156.061384 91.133229 \nL 159.684761 78.653429 \nL 163.308137 66.090215 \nL 166.931514 53.944442 \nL 170.55489 42.700323 \nL 174.178267 32.806126 \n\" clip-path=\"url(#pc02c2f0353)\" style=\"fill: none; stroke: #1f77b4; stroke-width: 1.5; stroke-linecap: square\"/>\n   </g>\n   <g id=\"line2d_97\">\n    <path d=\"M 54.606838 22.023199 \nL 72.723722 69.262535 \nL 90.840605 123.212134 \nL 108.957488 134.270983 \nL 127.074371 92.271627 \nL 145.191254 35.828081 \nL 163.308137 16.83428 \n\" clip-path=\"url(#pc02c2f0353)\" style=\"fill: none; stroke-dasharray: 5.55,2.4; stroke-dashoffset: 0; stroke: #ff7f0e; stroke-width: 1.5\"/>\n   </g>\n   <g id=\"line2d_98\">\n    <path d=\"M 47.360085 73.409329 \nL 50.983462 60.959407 \nL 54.606838 49.131475 \nL 58.230215 38.397075 \nL 61.853592 29.184154 \nL 65.476968 21.860003 \nL 69.100345 16.716611 \nL 72.723722 13.959031 \nL 76.347098 13.697196 \nL 79.970475 15.941548 \nL 83.593851 20.602609 \nL 87.217228 27.494558 \nL 90.840605 36.342636 \nL 94.463981 46.794096 \nL 98.087358 58.432273 \nL 101.710735 70.793189 \nL 105.334111 83.384053 \nL 108.957488 95.702907 \nL 112.580864 107.258638 \nL 116.204241 117.590554 \nL 119.827618 126.286755 \nL 123.450994 133.000552 \nL 127.074371 137.464285 \nL 130.697748 139.5 \nL 134.321124 139.02654 \nL 137.944501 136.062779 \nL 141.567877 130.726874 \nL 145.191254 123.231551 \nL 148.814631 113.875623 \nL 152.438007 103.032084 \nL 156.061384 91.133229 \nL 159.684761 78.653429 \nL 163.308137 66.090215 \nL 166.931514 53.944442 \nL 170.55489 42.700323 \nL 174.178267 32.806126 \nL 177.801644 24.656302 \n\" clip-path=\"url(#pc02c2f0353)\" style=\"fill: none; stroke: #1f77b4; stroke-width: 1.5; stroke-linecap: square\"/>\n   </g>\n   <g id=\"line2d_99\">\n    <path d=\"M 54.606838 22.023199 \nL 72.723722 69.262535 \nL 90.840605 123.212134 \nL 108.957488 134.270983 \nL 127.074371 92.271627 \nL 145.191254 35.828081 \nL 163.308137 16.83428 \n\" clip-path=\"url(#pc02c2f0353)\" style=\"fill: none; stroke-dasharray: 5.55,2.4; stroke-dashoffset: 0; stroke: #ff7f0e; stroke-width: 1.5\"/>\n   </g>\n   <g id=\"line2d_100\">\n    <path d=\"M 47.360085 73.409329 \nL 50.983462 60.959407 \nL 54.606838 49.131475 \nL 58.230215 38.397075 \nL 61.853592 29.184154 \nL 65.476968 21.860003 \nL 69.100345 16.716611 \nL 72.723722 13.959031 \nL 76.347098 13.697196 \nL 79.970475 15.941548 \nL 83.593851 20.602609 \nL 87.217228 27.494558 \nL 90.840605 36.342636 \nL 94.463981 46.794096 \nL 98.087358 58.432273 \nL 101.710735 70.793189 \nL 105.334111 83.384053 \nL 108.957488 95.702907 \nL 112.580864 107.258638 \nL 116.204241 117.590554 \nL 119.827618 126.286755 \nL 123.450994 133.000552 \nL 127.074371 137.464285 \nL 130.697748 139.5 \nL 134.321124 139.02654 \nL 137.944501 136.062779 \nL 141.567877 130.726874 \nL 145.191254 123.231551 \nL 148.814631 113.875623 \nL 152.438007 103.032084 \nL 156.061384 91.133229 \nL 159.684761 78.653429 \nL 163.308137 66.090215 \nL 166.931514 53.944442 \nL 170.55489 42.700323 \nL 174.178267 32.806126 \nL 177.801644 24.656302 \nL 181.42502 18.575758 \n\" clip-path=\"url(#pc02c2f0353)\" style=\"fill: none; stroke: #1f77b4; stroke-width: 1.5; stroke-linecap: square\"/>\n   </g>\n   <g id=\"line2d_101\">\n    <path d=\"M 54.606838 22.023199 \nL 72.723722 69.262535 \nL 90.840605 123.212134 \nL 108.957488 134.270983 \nL 127.074371 92.271627 \nL 145.191254 35.828081 \nL 163.308137 16.83428 \n\" clip-path=\"url(#pc02c2f0353)\" style=\"fill: none; stroke-dasharray: 5.55,2.4; stroke-dashoffset: 0; stroke: #ff7f0e; stroke-width: 1.5\"/>\n   </g>\n   <g id=\"line2d_102\">\n    <path d=\"M 47.360085 73.409329 \nL 50.983462 60.959407 \nL 54.606838 49.131475 \nL 58.230215 38.397075 \nL 61.853592 29.184154 \nL 65.476968 21.860003 \nL 69.100345 16.716611 \nL 72.723722 13.959031 \nL 76.347098 13.697196 \nL 79.970475 15.941548 \nL 83.593851 20.602609 \nL 87.217228 27.494558 \nL 90.840605 36.342636 \nL 94.463981 46.794096 \nL 98.087358 58.432273 \nL 101.710735 70.793189 \nL 105.334111 83.384053 \nL 108.957488 95.702907 \nL 112.580864 107.258638 \nL 116.204241 117.590554 \nL 119.827618 126.286755 \nL 123.450994 133.000552 \nL 127.074371 137.464285 \nL 130.697748 139.5 \nL 134.321124 139.02654 \nL 137.944501 136.062779 \nL 141.567877 130.726874 \nL 145.191254 123.231551 \nL 148.814631 113.875623 \nL 152.438007 103.032084 \nL 156.061384 91.133229 \nL 159.684761 78.653429 \nL 163.308137 66.090215 \nL 166.931514 53.944442 \nL 170.55489 42.700323 \nL 174.178267 32.806126 \nL 177.801644 24.656302 \nL 181.42502 18.575758 \nL 185.048397 14.806907 \n\" clip-path=\"url(#pc02c2f0353)\" style=\"fill: none; stroke: #1f77b4; stroke-width: 1.5; stroke-linecap: square\"/>\n   </g>\n   <g id=\"line2d_103\">\n    <path d=\"M 54.606838 22.023199 \nL 72.723722 69.262535 \nL 90.840605 123.212134 \nL 108.957488 134.270983 \nL 127.074371 92.271627 \nL 145.191254 35.828081 \nL 163.308137 16.83428 \n\" clip-path=\"url(#pc02c2f0353)\" style=\"fill: none; stroke-dasharray: 5.55,2.4; stroke-dashoffset: 0; stroke: #ff7f0e; stroke-width: 1.5\"/>\n   </g>\n   <g id=\"line2d_104\">\n    <path d=\"M 47.360085 73.409329 \nL 50.983462 60.959407 \nL 54.606838 49.131475 \nL 58.230215 38.397075 \nL 61.853592 29.184154 \nL 65.476968 21.860003 \nL 69.100345 16.716611 \nL 72.723722 13.959031 \nL 76.347098 13.697196 \nL 79.970475 15.941548 \nL 83.593851 20.602609 \nL 87.217228 27.494558 \nL 90.840605 36.342636 \nL 94.463981 46.794096 \nL 98.087358 58.432273 \nL 101.710735 70.793189 \nL 105.334111 83.384053 \nL 108.957488 95.702907 \nL 112.580864 107.258638 \nL 116.204241 117.590554 \nL 119.827618 126.286755 \nL 123.450994 133.000552 \nL 127.074371 137.464285 \nL 130.697748 139.5 \nL 134.321124 139.02654 \nL 137.944501 136.062779 \nL 141.567877 130.726874 \nL 145.191254 123.231551 \nL 148.814631 113.875623 \nL 152.438007 103.032084 \nL 156.061384 91.133229 \nL 159.684761 78.653429 \nL 163.308137 66.090215 \nL 166.931514 53.944442 \nL 170.55489 42.700323 \nL 174.178267 32.806126 \nL 177.801644 24.656302 \nL 181.42502 18.575758 \nL 185.048397 14.806907 \nL 188.671774 13.5 \n\" clip-path=\"url(#pc02c2f0353)\" style=\"fill: none; stroke: #1f77b4; stroke-width: 1.5; stroke-linecap: square\"/>\n   </g>\n   <g id=\"line2d_105\">\n    <path d=\"M 54.606838 22.023199 \nL 72.723722 69.262535 \nL 90.840605 123.212134 \nL 108.957488 134.270983 \nL 127.074371 92.271627 \nL 145.191254 35.828081 \nL 163.308137 16.83428 \n\" clip-path=\"url(#pc02c2f0353)\" style=\"fill: none; stroke-dasharray: 5.55,2.4; stroke-dashoffset: 0; stroke: #ff7f0e; stroke-width: 1.5\"/>\n   </g>\n   <g id=\"line2d_106\">\n    <path d=\"M 47.360085 73.409329 \nL 50.983462 60.959407 \nL 54.606838 49.131475 \nL 58.230215 38.397075 \nL 61.853592 29.184154 \nL 65.476968 21.860003 \nL 69.100345 16.716611 \nL 72.723722 13.959031 \nL 76.347098 13.697196 \nL 79.970475 15.941548 \nL 83.593851 20.602609 \nL 87.217228 27.494558 \nL 90.840605 36.342636 \nL 94.463981 46.794096 \nL 98.087358 58.432273 \nL 101.710735 70.793189 \nL 105.334111 83.384053 \nL 108.957488 95.702907 \nL 112.580864 107.258638 \nL 116.204241 117.590554 \nL 119.827618 126.286755 \nL 123.450994 133.000552 \nL 127.074371 137.464285 \nL 130.697748 139.5 \nL 134.321124 139.02654 \nL 137.944501 136.062779 \nL 141.567877 130.726874 \nL 145.191254 123.231551 \nL 148.814631 113.875623 \nL 152.438007 103.032084 \nL 156.061384 91.133229 \nL 159.684761 78.653429 \nL 163.308137 66.090215 \nL 166.931514 53.944442 \nL 170.55489 42.700323 \nL 174.178267 32.806126 \nL 177.801644 24.656302 \nL 181.42502 18.575758 \nL 185.048397 14.806907 \nL 188.671774 13.5 \n\" clip-path=\"url(#pc02c2f0353)\" style=\"fill: none; stroke: #1f77b4; stroke-width: 1.5; stroke-linecap: square\"/>\n   </g>\n   <g id=\"line2d_107\">\n    <path d=\"M 54.606838 22.023199 \nL 72.723722 69.262535 \nL 90.840605 123.212134 \nL 108.957488 134.270983 \nL 127.074371 92.271627 \nL 145.191254 35.828081 \nL 163.308137 16.83428 \nL 181.42502 52.753037 \n\" clip-path=\"url(#pc02c2f0353)\" style=\"fill: none; stroke-dasharray: 5.55,2.4; stroke-dashoffset: 0; stroke: #ff7f0e; stroke-width: 1.5\"/>\n   </g>\n   <g id=\"line2d_108\">\n    <path d=\"M 47.360085 73.409329 \nL 50.983462 60.959407 \nL 54.606838 49.131475 \nL 58.230215 38.397075 \nL 61.853592 29.184154 \nL 65.476968 21.860003 \nL 69.100345 16.716611 \nL 72.723722 13.959031 \nL 76.347098 13.697196 \nL 79.970475 15.941548 \nL 83.593851 20.602609 \nL 87.217228 27.494558 \nL 90.840605 36.342636 \nL 94.463981 46.794096 \nL 98.087358 58.432273 \nL 101.710735 70.793189 \nL 105.334111 83.384053 \nL 108.957488 95.702907 \nL 112.580864 107.258638 \nL 116.204241 117.590554 \nL 119.827618 126.286755 \nL 123.450994 133.000552 \nL 127.074371 137.464285 \nL 130.697748 139.5 \nL 134.321124 139.02654 \nL 137.944501 136.062779 \nL 141.567877 130.726874 \nL 145.191254 123.231551 \nL 148.814631 113.875623 \nL 152.438007 103.032084 \nL 156.061384 91.133229 \nL 159.684761 78.653429 \nL 163.308137 66.090215 \nL 166.931514 53.944442 \nL 170.55489 42.700323 \nL 174.178267 32.806126 \nL 177.801644 24.656302 \nL 181.42502 18.575758 \nL 185.048397 14.806907 \nL 188.671774 13.5 \nL 192.29515 14.70714 \n\" clip-path=\"url(#pc02c2f0353)\" style=\"fill: none; stroke: #1f77b4; stroke-width: 1.5; stroke-linecap: square\"/>\n   </g>\n   <g id=\"line2d_109\">\n    <path d=\"M 54.606838 22.023199 \nL 72.723722 69.262535 \nL 90.840605 123.212134 \nL 108.957488 134.270983 \nL 127.074371 92.271627 \nL 145.191254 35.828081 \nL 163.308137 16.83428 \nL 181.42502 52.753037 \n\" clip-path=\"url(#pc02c2f0353)\" style=\"fill: none; stroke-dasharray: 5.55,2.4; stroke-dashoffset: 0; stroke: #ff7f0e; stroke-width: 1.5\"/>\n   </g>\n   <g id=\"line2d_110\">\n    <path d=\"M 47.360085 73.409329 \nL 50.983462 60.959407 \nL 54.606838 49.131475 \nL 58.230215 38.397075 \nL 61.853592 29.184154 \nL 65.476968 21.860003 \nL 69.100345 16.716611 \nL 72.723722 13.959031 \nL 76.347098 13.697196 \nL 79.970475 15.941548 \nL 83.593851 20.602609 \nL 87.217228 27.494558 \nL 90.840605 36.342636 \nL 94.463981 46.794096 \nL 98.087358 58.432273 \nL 101.710735 70.793189 \nL 105.334111 83.384053 \nL 108.957488 95.702907 \nL 112.580864 107.258638 \nL 116.204241 117.590554 \nL 119.827618 126.286755 \nL 123.450994 133.000552 \nL 127.074371 137.464285 \nL 130.697748 139.5 \nL 134.321124 139.02654 \nL 137.944501 136.062779 \nL 141.567877 130.726874 \nL 145.191254 123.231551 \nL 148.814631 113.875623 \nL 152.438007 103.032084 \nL 156.061384 91.133229 \nL 159.684761 78.653429 \nL 163.308137 66.090215 \nL 166.931514 53.944442 \nL 170.55489 42.700323 \nL 174.178267 32.806126 \nL 177.801644 24.656302 \nL 181.42502 18.575758 \nL 185.048397 14.806907 \nL 188.671774 13.5 \nL 192.29515 14.70714 \nL 195.918527 18.380202 \n\" clip-path=\"url(#pc02c2f0353)\" style=\"fill: none; stroke: #1f77b4; stroke-width: 1.5; stroke-linecap: square\"/>\n   </g>\n   <g id=\"line2d_111\">\n    <path d=\"M 54.606838 22.023199 \nL 72.723722 69.262535 \nL 90.840605 123.212134 \nL 108.957488 134.270983 \nL 127.074371 92.271627 \nL 145.191254 35.828081 \nL 163.308137 16.83428 \nL 181.42502 52.753037 \n\" clip-path=\"url(#pc02c2f0353)\" style=\"fill: none; stroke-dasharray: 5.55,2.4; stroke-dashoffset: 0; stroke: #ff7f0e; stroke-width: 1.5\"/>\n   </g>\n   <g id=\"line2d_112\">\n    <path d=\"M 47.360085 73.409329 \nL 50.983462 60.959407 \nL 54.606838 49.131475 \nL 58.230215 38.397075 \nL 61.853592 29.184154 \nL 65.476968 21.860003 \nL 69.100345 16.716611 \nL 72.723722 13.959031 \nL 76.347098 13.697196 \nL 79.970475 15.941548 \nL 83.593851 20.602609 \nL 87.217228 27.494558 \nL 90.840605 36.342636 \nL 94.463981 46.794096 \nL 98.087358 58.432273 \nL 101.710735 70.793189 \nL 105.334111 83.384053 \nL 108.957488 95.702907 \nL 112.580864 107.258638 \nL 116.204241 117.590554 \nL 119.827618 126.286755 \nL 123.450994 133.000552 \nL 127.074371 137.464285 \nL 130.697748 139.5 \nL 134.321124 139.02654 \nL 137.944501 136.062779 \nL 141.567877 130.726874 \nL 145.191254 123.231551 \nL 148.814631 113.875623 \nL 152.438007 103.032084 \nL 156.061384 91.133229 \nL 159.684761 78.653429 \nL 163.308137 66.090215 \nL 166.931514 53.944442 \nL 170.55489 42.700323 \nL 174.178267 32.806126 \nL 177.801644 24.656302 \nL 181.42502 18.575758 \nL 185.048397 14.806907 \nL 188.671774 13.5 \nL 192.29515 14.70714 \nL 195.918527 18.380202 \nL 199.541903 24.372753 \n\" clip-path=\"url(#pc02c2f0353)\" style=\"fill: none; stroke: #1f77b4; stroke-width: 1.5; stroke-linecap: square\"/>\n   </g>\n   <g id=\"line2d_113\">\n    <path d=\"M 54.606838 22.023199 \nL 72.723722 69.262535 \nL 90.840605 123.212134 \nL 108.957488 134.270983 \nL 127.074371 92.271627 \nL 145.191254 35.828081 \nL 163.308137 16.83428 \nL 181.42502 52.753037 \n\" clip-path=\"url(#pc02c2f0353)\" style=\"fill: none; stroke-dasharray: 5.55,2.4; stroke-dashoffset: 0; stroke: #ff7f0e; stroke-width: 1.5\"/>\n   </g>\n   <g id=\"line2d_114\">\n    <path d=\"M 47.360085 73.409329 \nL 50.983462 60.959407 \nL 54.606838 49.131475 \nL 58.230215 38.397075 \nL 61.853592 29.184154 \nL 65.476968 21.860003 \nL 69.100345 16.716611 \nL 72.723722 13.959031 \nL 76.347098 13.697196 \nL 79.970475 15.941548 \nL 83.593851 20.602609 \nL 87.217228 27.494558 \nL 90.840605 36.342636 \nL 94.463981 46.794096 \nL 98.087358 58.432273 \nL 101.710735 70.793189 \nL 105.334111 83.384053 \nL 108.957488 95.702907 \nL 112.580864 107.258638 \nL 116.204241 117.590554 \nL 119.827618 126.286755 \nL 123.450994 133.000552 \nL 127.074371 137.464285 \nL 130.697748 139.5 \nL 134.321124 139.02654 \nL 137.944501 136.062779 \nL 141.567877 130.726874 \nL 145.191254 123.231551 \nL 148.814631 113.875623 \nL 152.438007 103.032084 \nL 156.061384 91.133229 \nL 159.684761 78.653429 \nL 163.308137 66.090215 \nL 166.931514 53.944442 \nL 170.55489 42.700323 \nL 174.178267 32.806126 \nL 177.801644 24.656302 \nL 181.42502 18.575758 \nL 185.048397 14.806907 \nL 188.671774 13.5 \nL 192.29515 14.70714 \nL 195.918527 18.380202 \nL 199.541903 24.372753 \nL 203.16528 32.445888 \n\" clip-path=\"url(#pc02c2f0353)\" style=\"fill: none; stroke: #1f77b4; stroke-width: 1.5; stroke-linecap: square\"/>\n   </g>\n   <g id=\"line2d_115\">\n    <path d=\"M 54.606838 22.023199 \nL 72.723722 69.262535 \nL 90.840605 123.212134 \nL 108.957488 134.270983 \nL 127.074371 92.271627 \nL 145.191254 35.828081 \nL 163.308137 16.83428 \nL 181.42502 52.753037 \n\" clip-path=\"url(#pc02c2f0353)\" style=\"fill: none; stroke-dasharray: 5.55,2.4; stroke-dashoffset: 0; stroke: #ff7f0e; stroke-width: 1.5\"/>\n   </g>\n   <g id=\"line2d_116\">\n    <path d=\"M 47.360085 73.409329 \nL 50.983462 60.959407 \nL 54.606838 49.131475 \nL 58.230215 38.397075 \nL 61.853592 29.184154 \nL 65.476968 21.860003 \nL 69.100345 16.716611 \nL 72.723722 13.959031 \nL 76.347098 13.697196 \nL 79.970475 15.941548 \nL 83.593851 20.602609 \nL 87.217228 27.494558 \nL 90.840605 36.342636 \nL 94.463981 46.794096 \nL 98.087358 58.432273 \nL 101.710735 70.793189 \nL 105.334111 83.384053 \nL 108.957488 95.702907 \nL 112.580864 107.258638 \nL 116.204241 117.590554 \nL 119.827618 126.286755 \nL 123.450994 133.000552 \nL 127.074371 137.464285 \nL 130.697748 139.5 \nL 134.321124 139.02654 \nL 137.944501 136.062779 \nL 141.567877 130.726874 \nL 145.191254 123.231551 \nL 148.814631 113.875623 \nL 152.438007 103.032084 \nL 156.061384 91.133229 \nL 159.684761 78.653429 \nL 163.308137 66.090215 \nL 166.931514 53.944442 \nL 170.55489 42.700323 \nL 174.178267 32.806126 \nL 177.801644 24.656302 \nL 181.42502 18.575758 \nL 185.048397 14.806907 \nL 188.671774 13.5 \nL 192.29515 14.70714 \nL 195.918527 18.380202 \nL 199.541903 24.372753 \nL 203.16528 32.445888 \nL 206.788657 42.277757 \n\" clip-path=\"url(#pc02c2f0353)\" style=\"fill: none; stroke: #1f77b4; stroke-width: 1.5; stroke-linecap: square\"/>\n   </g>\n   <g id=\"line2d_117\">\n    <path d=\"M 54.606838 22.023199 \nL 72.723722 69.262535 \nL 90.840605 123.212134 \nL 108.957488 134.270983 \nL 127.074371 92.271627 \nL 145.191254 35.828081 \nL 163.308137 16.83428 \nL 181.42502 52.753037 \n\" clip-path=\"url(#pc02c2f0353)\" style=\"fill: none; stroke-dasharray: 5.55,2.4; stroke-dashoffset: 0; stroke: #ff7f0e; stroke-width: 1.5\"/>\n   </g>\n   <g id=\"line2d_118\">\n    <path d=\"M 47.360085 73.409329 \nL 50.983462 60.959407 \nL 54.606838 49.131475 \nL 58.230215 38.397075 \nL 61.853592 29.184154 \nL 65.476968 21.860003 \nL 69.100345 16.716611 \nL 72.723722 13.959031 \nL 76.347098 13.697196 \nL 79.970475 15.941548 \nL 83.593851 20.602609 \nL 87.217228 27.494558 \nL 90.840605 36.342636 \nL 94.463981 46.794096 \nL 98.087358 58.432273 \nL 101.710735 70.793189 \nL 105.334111 83.384053 \nL 108.957488 95.702907 \nL 112.580864 107.258638 \nL 116.204241 117.590554 \nL 119.827618 126.286755 \nL 123.450994 133.000552 \nL 127.074371 137.464285 \nL 130.697748 139.5 \nL 134.321124 139.02654 \nL 137.944501 136.062779 \nL 141.567877 130.726874 \nL 145.191254 123.231551 \nL 148.814631 113.875623 \nL 152.438007 103.032084 \nL 156.061384 91.133229 \nL 159.684761 78.653429 \nL 163.308137 66.090215 \nL 166.931514 53.944442 \nL 170.55489 42.700323 \nL 174.178267 32.806126 \nL 177.801644 24.656302 \nL 181.42502 18.575758 \nL 185.048397 14.806907 \nL 188.671774 13.5 \nL 192.29515 14.70714 \nL 195.918527 18.380202 \nL 199.541903 24.372753 \nL 203.16528 32.445888 \nL 206.788657 42.277757 \n\" clip-path=\"url(#pc02c2f0353)\" style=\"fill: none; stroke: #1f77b4; stroke-width: 1.5; stroke-linecap: square\"/>\n   </g>\n   <g id=\"line2d_119\">\n    <path d=\"M 54.606838 22.023199 \nL 72.723722 69.262535 \nL 90.840605 123.212134 \nL 108.957488 134.270983 \nL 127.074371 92.271627 \nL 145.191254 35.828081 \nL 163.308137 16.83428 \nL 181.42502 52.753037 \nL 199.541903 110.560813 \n\" clip-path=\"url(#pc02c2f0353)\" style=\"fill: none; stroke-dasharray: 5.55,2.4; stroke-dashoffset: 0; stroke: #ff7f0e; stroke-width: 1.5\"/>\n   </g>\n   <g id=\"line2d_120\">\n    <path d=\"M 47.360085 73.409329 \nL 50.983462 60.959407 \nL 54.606838 49.131475 \nL 58.230215 38.397075 \nL 61.853592 29.184154 \nL 65.476968 21.860003 \nL 69.100345 16.716611 \nL 72.723722 13.959031 \nL 76.347098 13.697196 \nL 79.970475 15.941548 \nL 83.593851 20.602609 \nL 87.217228 27.494558 \nL 90.840605 36.342636 \nL 94.463981 46.794096 \nL 98.087358 58.432273 \nL 101.710735 70.793189 \nL 105.334111 83.384053 \nL 108.957488 95.702907 \nL 112.580864 107.258638 \nL 116.204241 117.590554 \nL 119.827618 126.286755 \nL 123.450994 133.000552 \nL 127.074371 137.464285 \nL 130.697748 139.5 \nL 134.321124 139.02654 \nL 137.944501 136.062779 \nL 141.567877 130.726874 \nL 145.191254 123.231551 \nL 148.814631 113.875623 \nL 152.438007 103.032084 \nL 156.061384 91.133229 \nL 159.684761 78.653429 \nL 163.308137 66.090215 \nL 166.931514 53.944442 \nL 170.55489 42.700323 \nL 174.178267 32.806126 \nL 177.801644 24.656302 \nL 181.42502 18.575758 \nL 185.048397 14.806907 \nL 188.671774 13.5 \nL 192.29515 14.70714 \nL 195.918527 18.380202 \nL 199.541903 24.372753 \nL 203.16528 32.445888 \nL 206.788657 42.277757 \nL 210.412033 53.476395 \n\" clip-path=\"url(#pc02c2f0353)\" style=\"fill: none; stroke: #1f77b4; stroke-width: 1.5; stroke-linecap: square\"/>\n   </g>\n   <g id=\"line2d_121\">\n    <path d=\"M 54.606838 22.023199 \nL 72.723722 69.262535 \nL 90.840605 123.212134 \nL 108.957488 134.270983 \nL 127.074371 92.271627 \nL 145.191254 35.828081 \nL 163.308137 16.83428 \nL 181.42502 52.753037 \nL 199.541903 110.560813 \n\" clip-path=\"url(#pc02c2f0353)\" style=\"fill: none; stroke-dasharray: 5.55,2.4; stroke-dashoffset: 0; stroke: #ff7f0e; stroke-width: 1.5\"/>\n   </g>\n   <g id=\"line2d_122\">\n    <path d=\"M 47.360085 73.409329 \nL 50.983462 60.959407 \nL 54.606838 49.131475 \nL 58.230215 38.397075 \nL 61.853592 29.184154 \nL 65.476968 21.860003 \nL 69.100345 16.716611 \nL 72.723722 13.959031 \nL 76.347098 13.697196 \nL 79.970475 15.941548 \nL 83.593851 20.602609 \nL 87.217228 27.494558 \nL 90.840605 36.342636 \nL 94.463981 46.794096 \nL 98.087358 58.432273 \nL 101.710735 70.793189 \nL 105.334111 83.384053 \nL 108.957488 95.702907 \nL 112.580864 107.258638 \nL 116.204241 117.590554 \nL 119.827618 126.286755 \nL 123.450994 133.000552 \nL 127.074371 137.464285 \nL 130.697748 139.5 \nL 134.321124 139.02654 \nL 137.944501 136.062779 \nL 141.567877 130.726874 \nL 145.191254 123.231551 \nL 148.814631 113.875623 \nL 152.438007 103.032084 \nL 156.061384 91.133229 \nL 159.684761 78.653429 \nL 163.308137 66.090215 \nL 166.931514 53.944442 \nL 170.55489 42.700323 \nL 174.178267 32.806126 \nL 177.801644 24.656302 \nL 181.42502 18.575758 \nL 185.048397 14.806907 \nL 188.671774 13.5 \nL 192.29515 14.70714 \nL 195.918527 18.380202 \nL 199.541903 24.372753 \nL 203.16528 32.445888 \nL 206.788657 42.277757 \nL 210.412033 53.476395 \nL 214.03541 65.595347 \n\" clip-path=\"url(#pc02c2f0353)\" style=\"fill: none; stroke: #1f77b4; stroke-width: 1.5; stroke-linecap: square\"/>\n   </g>\n   <g id=\"line2d_123\">\n    <path d=\"M 54.606838 22.023199 \nL 72.723722 69.262535 \nL 90.840605 123.212134 \nL 108.957488 134.270983 \nL 127.074371 92.271627 \nL 145.191254 35.828081 \nL 163.308137 16.83428 \nL 181.42502 52.753037 \nL 199.541903 110.560813 \n\" clip-path=\"url(#pc02c2f0353)\" style=\"fill: none; stroke-dasharray: 5.55,2.4; stroke-dashoffset: 0; stroke: #ff7f0e; stroke-width: 1.5\"/>\n   </g>\n   <g id=\"line2d_124\">\n    <path d=\"M 47.360085 73.409329 \nL 50.983462 60.959407 \nL 54.606838 49.131475 \nL 58.230215 38.397075 \nL 61.853592 29.184154 \nL 65.476968 21.860003 \nL 69.100345 16.716611 \nL 72.723722 13.959031 \nL 76.347098 13.697196 \nL 79.970475 15.941548 \nL 83.593851 20.602609 \nL 87.217228 27.494558 \nL 90.840605 36.342636 \nL 94.463981 46.794096 \nL 98.087358 58.432273 \nL 101.710735 70.793189 \nL 105.334111 83.384053 \nL 108.957488 95.702907 \nL 112.580864 107.258638 \nL 116.204241 117.590554 \nL 119.827618 126.286755 \nL 123.450994 133.000552 \nL 127.074371 137.464285 \nL 130.697748 139.5 \nL 134.321124 139.02654 \nL 137.944501 136.062779 \nL 141.567877 130.726874 \nL 145.191254 123.231551 \nL 148.814631 113.875623 \nL 152.438007 103.032084 \nL 156.061384 91.133229 \nL 159.684761 78.653429 \nL 163.308137 66.090215 \nL 166.931514 53.944442 \nL 170.55489 42.700323 \nL 174.178267 32.806126 \nL 177.801644 24.656302 \nL 181.42502 18.575758 \nL 185.048397 14.806907 \nL 188.671774 13.5 \nL 192.29515 14.70714 \nL 195.918527 18.380202 \nL 199.541903 24.372753 \nL 203.16528 32.445888 \nL 206.788657 42.277757 \nL 210.412033 53.476395 \nL 214.03541 65.595347 \nL 217.658787 78.151469 \n\" clip-path=\"url(#pc02c2f0353)\" style=\"fill: none; stroke: #1f77b4; stroke-width: 1.5; stroke-linecap: square\"/>\n   </g>\n   <g id=\"line2d_125\">\n    <path d=\"M 54.606838 22.023199 \nL 72.723722 69.262535 \nL 90.840605 123.212134 \nL 108.957488 134.270983 \nL 127.074371 92.271627 \nL 145.191254 35.828081 \nL 163.308137 16.83428 \nL 181.42502 52.753037 \nL 199.541903 110.560813 \n\" clip-path=\"url(#pc02c2f0353)\" style=\"fill: none; stroke-dasharray: 5.55,2.4; stroke-dashoffset: 0; stroke: #ff7f0e; stroke-width: 1.5\"/>\n   </g>\n   <g id=\"line2d_126\">\n    <path d=\"M 47.360085 73.409329 \nL 50.983462 60.959407 \nL 54.606838 49.131475 \nL 58.230215 38.397075 \nL 61.853592 29.184154 \nL 65.476968 21.860003 \nL 69.100345 16.716611 \nL 72.723722 13.959031 \nL 76.347098 13.697196 \nL 79.970475 15.941548 \nL 83.593851 20.602609 \nL 87.217228 27.494558 \nL 90.840605 36.342636 \nL 94.463981 46.794096 \nL 98.087358 58.432273 \nL 101.710735 70.793189 \nL 105.334111 83.384053 \nL 108.957488 95.702907 \nL 112.580864 107.258638 \nL 116.204241 117.590554 \nL 119.827618 126.286755 \nL 123.450994 133.000552 \nL 127.074371 137.464285 \nL 130.697748 139.5 \nL 134.321124 139.02654 \nL 137.944501 136.062779 \nL 141.567877 130.726874 \nL 145.191254 123.231551 \nL 148.814631 113.875623 \nL 152.438007 103.032084 \nL 156.061384 91.133229 \nL 159.684761 78.653429 \nL 163.308137 66.090215 \nL 166.931514 53.944442 \nL 170.55489 42.700323 \nL 174.178267 32.806126 \nL 177.801644 24.656302 \nL 181.42502 18.575758 \nL 185.048397 14.806907 \nL 188.671774 13.5 \nL 192.29515 14.70714 \nL 195.918527 18.380202 \nL 199.541903 24.372753 \nL 203.16528 32.445888 \nL 206.788657 42.277757 \nL 210.412033 53.476395 \nL 214.03541 65.595347 \nL 217.658787 78.151469 \nL 221.282163 90.644187 \n\" clip-path=\"url(#pc02c2f0353)\" style=\"fill: none; stroke: #1f77b4; stroke-width: 1.5; stroke-linecap: square\"/>\n   </g>\n   <g id=\"line2d_127\">\n    <path d=\"M 54.606838 22.023199 \nL 72.723722 69.262535 \nL 90.840605 123.212134 \nL 108.957488 134.270983 \nL 127.074371 92.271627 \nL 145.191254 35.828081 \nL 163.308137 16.83428 \nL 181.42502 52.753037 \nL 199.541903 110.560813 \n\" clip-path=\"url(#pc02c2f0353)\" style=\"fill: none; stroke-dasharray: 5.55,2.4; stroke-dashoffset: 0; stroke: #ff7f0e; stroke-width: 1.5\"/>\n   </g>\n   <g id=\"line2d_128\">\n    <path d=\"M 47.360085 73.409329 \nL 50.983462 60.959407 \nL 54.606838 49.131475 \nL 58.230215 38.397075 \nL 61.853592 29.184154 \nL 65.476968 21.860003 \nL 69.100345 16.716611 \nL 72.723722 13.959031 \nL 76.347098 13.697196 \nL 79.970475 15.941548 \nL 83.593851 20.602609 \nL 87.217228 27.494558 \nL 90.840605 36.342636 \nL 94.463981 46.794096 \nL 98.087358 58.432273 \nL 101.710735 70.793189 \nL 105.334111 83.384053 \nL 108.957488 95.702907 \nL 112.580864 107.258638 \nL 116.204241 117.590554 \nL 119.827618 126.286755 \nL 123.450994 133.000552 \nL 127.074371 137.464285 \nL 130.697748 139.5 \nL 134.321124 139.02654 \nL 137.944501 136.062779 \nL 141.567877 130.726874 \nL 145.191254 123.231551 \nL 148.814631 113.875623 \nL 152.438007 103.032084 \nL 156.061384 91.133229 \nL 159.684761 78.653429 \nL 163.308137 66.090215 \nL 166.931514 53.944442 \nL 170.55489 42.700323 \nL 174.178267 32.806126 \nL 177.801644 24.656302 \nL 181.42502 18.575758 \nL 185.048397 14.806907 \nL 188.671774 13.5 \nL 192.29515 14.70714 \nL 195.918527 18.380202 \nL 199.541903 24.372753 \nL 203.16528 32.445888 \nL 206.788657 42.277757 \nL 210.412033 53.476395 \nL 214.03541 65.595347 \nL 217.658787 78.151469 \nL 221.282163 90.644187 \nL 224.90554 102.575457 \n\" clip-path=\"url(#pc02c2f0353)\" style=\"fill: none; stroke: #1f77b4; stroke-width: 1.5; stroke-linecap: square\"/>\n   </g>\n   <g id=\"line2d_129\">\n    <path d=\"M 54.606838 22.023199 \nL 72.723722 69.262535 \nL 90.840605 123.212134 \nL 108.957488 134.270983 \nL 127.074371 92.271627 \nL 145.191254 35.828081 \nL 163.308137 16.83428 \nL 181.42502 52.753037 \nL 199.541903 110.560813 \n\" clip-path=\"url(#pc02c2f0353)\" style=\"fill: none; stroke-dasharray: 5.55,2.4; stroke-dashoffset: 0; stroke: #ff7f0e; stroke-width: 1.5\"/>\n   </g>\n   <g id=\"line2d_130\">\n    <path d=\"M 47.360085 73.409329 \nL 50.983462 60.959407 \nL 54.606838 49.131475 \nL 58.230215 38.397075 \nL 61.853592 29.184154 \nL 65.476968 21.860003 \nL 69.100345 16.716611 \nL 72.723722 13.959031 \nL 76.347098 13.697196 \nL 79.970475 15.941548 \nL 83.593851 20.602609 \nL 87.217228 27.494558 \nL 90.840605 36.342636 \nL 94.463981 46.794096 \nL 98.087358 58.432273 \nL 101.710735 70.793189 \nL 105.334111 83.384053 \nL 108.957488 95.702907 \nL 112.580864 107.258638 \nL 116.204241 117.590554 \nL 119.827618 126.286755 \nL 123.450994 133.000552 \nL 127.074371 137.464285 \nL 130.697748 139.5 \nL 134.321124 139.02654 \nL 137.944501 136.062779 \nL 141.567877 130.726874 \nL 145.191254 123.231551 \nL 148.814631 113.875623 \nL 152.438007 103.032084 \nL 156.061384 91.133229 \nL 159.684761 78.653429 \nL 163.308137 66.090215 \nL 166.931514 53.944442 \nL 170.55489 42.700323 \nL 174.178267 32.806126 \nL 177.801644 24.656302 \nL 181.42502 18.575758 \nL 185.048397 14.806907 \nL 188.671774 13.5 \nL 192.29515 14.70714 \nL 195.918527 18.380202 \nL 199.541903 24.372753 \nL 203.16528 32.445888 \nL 206.788657 42.277757 \nL 210.412033 53.476395 \nL 214.03541 65.595347 \nL 217.658787 78.151469 \nL 221.282163 90.644187 \nL 224.90554 102.575457 \n\" clip-path=\"url(#pc02c2f0353)\" style=\"fill: none; stroke: #1f77b4; stroke-width: 1.5; stroke-linecap: square\"/>\n   </g>\n   <g id=\"line2d_131\">\n    <path d=\"M 54.606838 22.023199 \nL 72.723722 69.262535 \nL 90.840605 123.212134 \nL 108.957488 134.270983 \nL 127.074371 92.271627 \nL 145.191254 35.828081 \nL 163.308137 16.83428 \nL 181.42502 52.753037 \nL 199.541903 110.560813 \nL 217.658787 137.109405 \n\" clip-path=\"url(#pc02c2f0353)\" style=\"fill: none; stroke-dasharray: 5.55,2.4; stroke-dashoffset: 0; stroke: #ff7f0e; stroke-width: 1.5\"/>\n   </g>\n   <g id=\"patch_3\">\n    <path d=\"M 38.482813 145.8 \nL 38.482813 7.2 \n\" style=\"fill: none; stroke: #000000; stroke-width: 0.8; stroke-linejoin: miter; stroke-linecap: square\"/>\n   </g>\n   <g id=\"patch_4\">\n    <path d=\"M 233.782813 145.8 \nL 233.782813 7.2 \n\" style=\"fill: none; stroke: #000000; stroke-width: 0.8; stroke-linejoin: miter; stroke-linecap: square\"/>\n   </g>\n   <g id=\"patch_5\">\n    <path d=\"M 38.482813 145.8 \nL 233.782813 145.8 \n\" style=\"fill: none; stroke: #000000; stroke-width: 0.8; stroke-linejoin: miter; stroke-linecap: square\"/>\n   </g>\n   <g id=\"patch_6\">\n    <path d=\"M 38.482813 7.2 \nL 233.782813 7.2 \n\" style=\"fill: none; stroke: #000000; stroke-width: 0.8; stroke-linejoin: miter; stroke-linecap: square\"/>\n   </g>\n   <g id=\"legend_1\">\n    <g id=\"patch_7\">\n     <path d=\"M 177.95625 140.8 \nL 226.782813 140.8 \nQ 228.782813 140.8 228.782813 138.8 \nL 228.782813 110.44375 \nQ 228.782813 108.44375 226.782813 108.44375 \nL 177.95625 108.44375 \nQ 175.95625 108.44375 175.95625 110.44375 \nL 175.95625 138.8 \nQ 175.95625 140.8 177.95625 140.8 \nz\n\" style=\"fill: #ffffff; opacity: 0.8; stroke: #cccccc; stroke-linejoin: miter\"/>\n    </g>\n    <g id=\"line2d_132\">\n     <path d=\"M 179.95625 116.542188 \nL 189.95625 116.542188 \nL 199.95625 116.542188 \n\" style=\"fill: none; stroke: #1f77b4; stroke-width: 1.5; stroke-linecap: square\"/>\n    </g>\n    <g id=\"text_13\">\n     <!-- sin -->\n     <g transform=\"translate(207.95625 120.042188) scale(0.1 -0.1)\">\n      <defs>\n       <path id=\"DejaVuSans-73\" d=\"M 2834 3397 \nL 2834 2853 \nQ 2591 2978 2328 3040 \nQ 2066 3103 1784 3103 \nQ 1356 3103 1142 2972 \nQ 928 2841 928 2578 \nQ 928 2378 1081 2264 \nQ 1234 2150 1697 2047 \nL 1894 2003 \nQ 2506 1872 2764 1633 \nQ 3022 1394 3022 966 \nQ 3022 478 2636 193 \nQ 2250 -91 1575 -91 \nQ 1294 -91 989 -36 \nQ 684 19 347 128 \nL 347 722 \nQ 666 556 975 473 \nQ 1284 391 1588 391 \nQ 1994 391 2212 530 \nQ 2431 669 2431 922 \nQ 2431 1156 2273 1281 \nQ 2116 1406 1581 1522 \nL 1381 1569 \nQ 847 1681 609 1914 \nQ 372 2147 372 2553 \nQ 372 3047 722 3315 \nQ 1072 3584 1716 3584 \nQ 2034 3584 2315 3537 \nQ 2597 3491 2834 3397 \nz\n\" transform=\"scale(0.015625)\"/>\n       <path id=\"DejaVuSans-69\" d=\"M 603 3500 \nL 1178 3500 \nL 1178 0 \nL 603 0 \nL 603 3500 \nz\nM 603 4863 \nL 1178 4863 \nL 1178 4134 \nL 603 4134 \nL 603 4863 \nz\n\" transform=\"scale(0.015625)\"/>\n       <path id=\"DejaVuSans-6e\" d=\"M 3513 2113 \nL 3513 0 \nL 2938 0 \nL 2938 2094 \nQ 2938 2591 2744 2837 \nQ 2550 3084 2163 3084 \nQ 1697 3084 1428 2787 \nQ 1159 2491 1159 1978 \nL 1159 0 \nL 581 0 \nL 581 3500 \nL 1159 3500 \nL 1159 2956 \nQ 1366 3272 1645 3428 \nQ 1925 3584 2291 3584 \nQ 2894 3584 3203 3211 \nQ 3513 2838 3513 2113 \nz\n\" transform=\"scale(0.015625)\"/>\n      </defs>\n      <use xlink:href=\"#DejaVuSans-73\"/>\n      <use xlink:href=\"#DejaVuSans-69\" x=\"52.099609\"/>\n      <use xlink:href=\"#DejaVuSans-6e\" x=\"79.882812\"/>\n     </g>\n    </g>\n    <g id=\"line2d_133\">\n     <path d=\"M 179.95625 131.220313 \nL 189.95625 131.220313 \nL 199.95625 131.220313 \n\" style=\"fill: none; stroke-dasharray: 5.55,2.4; stroke-dashoffset: 0; stroke: #ff7f0e; stroke-width: 1.5\"/>\n    </g>\n    <g id=\"text_14\">\n     <!-- cos -->\n     <g transform=\"translate(207.95625 134.720313) scale(0.1 -0.1)\">\n      <defs>\n       <path id=\"DejaVuSans-63\" d=\"M 3122 3366 \nL 3122 2828 \nQ 2878 2963 2633 3030 \nQ 2388 3097 2138 3097 \nQ 1578 3097 1268 2742 \nQ 959 2388 959 1747 \nQ 959 1106 1268 751 \nQ 1578 397 2138 397 \nQ 2388 397 2633 464 \nQ 2878 531 3122 666 \nL 3122 134 \nQ 2881 22 2623 -34 \nQ 2366 -91 2075 -91 \nQ 1284 -91 818 406 \nQ 353 903 353 1747 \nQ 353 2603 823 3093 \nQ 1294 3584 2113 3584 \nQ 2378 3584 2631 3529 \nQ 2884 3475 3122 3366 \nz\n\" transform=\"scale(0.015625)\"/>\n       <path id=\"DejaVuSans-6f\" d=\"M 1959 3097 \nQ 1497 3097 1228 2736 \nQ 959 2375 959 1747 \nQ 959 1119 1226 758 \nQ 1494 397 1959 397 \nQ 2419 397 2687 759 \nQ 2956 1122 2956 1747 \nQ 2956 2369 2687 2733 \nQ 2419 3097 1959 3097 \nz\nM 1959 3584 \nQ 2709 3584 3137 3096 \nQ 3566 2609 3566 1747 \nQ 3566 888 3137 398 \nQ 2709 -91 1959 -91 \nQ 1206 -91 779 398 \nQ 353 888 353 1747 \nQ 353 2609 779 3096 \nQ 1206 3584 1959 3584 \nz\n\" transform=\"scale(0.015625)\"/>\n      </defs>\n      <use xlink:href=\"#DejaVuSans-63\"/>\n      <use xlink:href=\"#DejaVuSans-6f\" x=\"54.980469\"/>\n      <use xlink:href=\"#DejaVuSans-73\" x=\"116.162109\"/>\n     </g>\n    </g>\n   </g>\n  </g>\n </g>\n <defs>\n  <clipPath id=\"pc02c2f0353\">\n   <rect x=\"38.482813\" y=\"7.2\" width=\"195.3\" height=\"138.6\"/>\n  </clipPath>\n </defs>\n</svg>\n"
          },
          "metadata": {}
        }
      ],
      "source": [
        "board = d2l.ProgressBoard('x')\n",
        "for x in np.arange(0, 10, 0.1):\n",
        "    board.draw(x, np.sin(x), 'sin', every_n=2)\n",
        "    board.draw(x, np.cos(x), 'cos', every_n=10)"
      ]
    },
    {
      "cell_type": "markdown",
      "id": "27746ca1",
      "metadata": {
        "origin_pos": 20,
        "id": "27746ca1"
      },
      "source": [
        "## Models\n",
        ":label:`subsec_oo-design-models`\n",
        "\n",
        "The `Module` class is the base class of all models we will implement. At the very least we need three methods. The first, `__init__`, stores the learnable parameters, the `training_step` method accepts a data batch to return the loss value, and finally, `configure_optimizers` returns the optimization method, or a list of them, that is used to update the learnable parameters. Optionally we can define `validation_step` to report the evaluation measures.\n",
        "Sometimes we put the code for computing the output into a separate `forward` method to make it more reusable.\n"
      ]
    },
    {
      "cell_type": "code",
      "execution_count": 13,
      "id": "62a305b5",
      "metadata": {
        "execution": {
          "iopub.execute_input": "2023-08-18T19:26:38.826860Z",
          "iopub.status.busy": "2023-08-18T19:26:38.826284Z",
          "iopub.status.idle": "2023-08-18T19:26:38.835993Z",
          "shell.execute_reply": "2023-08-18T19:26:38.835101Z"
        },
        "origin_pos": 22,
        "tab": [
          "pytorch"
        ],
        "id": "62a305b5"
      },
      "outputs": [],
      "source": [
        "class Module(nn.Module, d2l.HyperParameters):\n",
        "\n",
        "  ## the class inherits from two parents, nn.Module (Pytorch) brings in parameter registration and the \"forward convention\"\n",
        "    \"\"\"The base class of models.\"\"\"\n",
        "    ## constructor\n",
        "    def __init__(self, plot_train_per_epoch=2, plot_valid_per_epoch=1): ## plot_train_per_epoch controls how many points per epoch you keeep plotting against loss, same for validation\n",
        "        super().__init__() ## intialize BOTH parents, because of multiple inheritance, this actually both parent\n",
        "        self.save_hyperparameters() ## stores ctor args\n",
        "        self.board = ProgressBoard() ## animator object\n",
        "\n",
        "    def loss(self, y_hat, y): ## yor must override this in a concrete subclass; otherwise the trainer will crash. Typical Choice: nn.CrossEntrophyLoss(), nn.MSELoss(), etc\n",
        "        raise NotImplementedError\n",
        "\n",
        "    def forward(self, X): ## contract - subclasses are expected to create self.net (e.g., nn.Sequential)\n",
        "        assert hasattr(self, 'net'), 'Neural network is defined' ## this assert guards newcomers who forget to define it\n",
        "        return self.net(X)\n",
        "\n",
        "    def plot(self, key, value, train):\n",
        "        \"\"\"Plot a point in animation.\"\"\"\n",
        "        assert hasattr(self, 'trainer'), 'Trainer is not inited' # trainer (injected later) keeps global training state: current epoch, batch idx, number of batches, etc\n",
        "        self.board.xlabel = 'epoch'\n",
        "        if train: ## choosing the x-coodinate (horizontal axis)\n",
        "        ## if the case is the training loop\n",
        "        ## x means fraction inside the current epoch, 0 -> 1, inition behind is that lets the animation shows a smooth cutver instead of one dot per epoch\n",
        "\n",
        "        ## if the validation loop\n",
        "        ## x means discrete epoch count (1,2,3... ) validation is done once per epoch so interger ticks are fine\n",
        "\n",
        "\n",
        "        ## n tells the board how often to draw\n",
        "        ## e.g. if you have 100 training batches, and plot_train_per_epoch = 2, then it draws every 50 batches  (twice per )\n",
        "            x = self.trainer.train_batch_idx / \\\n",
        "                self.trainer.num_train_batches\n",
        "            n = self.trainer.num_train_batches / \\\n",
        "                self.plot_train_per_epoch\n",
        "        else:\n",
        "            x = self.trainer.epoch + 1\n",
        "            n = self.trainer.num_val_batches / \\\n",
        "                self.plot_valid_per_epoch\n",
        "        self.board.draw(x, value.to(d2l.cpu()).detach().numpy(),\n",
        "                        ('train_' if train else 'val_') + key,\n",
        "                        every_n=int(n))\n",
        "\n",
        "\n",
        "        ## value.to(dl.cpu()).detach().numpy() - moves the loss tensor to CPU, stops autograd tracking, converts to Nump\n",
        "\n",
        "    def training_step(self, batch):\n",
        "        l = self.loss(self(*batch[:-1]), batch[-1])\n",
        "        self.plot('loss', l, train=True)\n",
        "        return l\n",
        "\n",
        "        ## batch layout. - D2L's loaders pack data like (features, labels) or (x1, x2, ..., y)\n",
        "        ## - batch [: -1] -> everything except the last element (inputs)\n",
        "        ## - batch[-1] -> the last elements (targets)\n",
        "        ## self(*inputs) - pythons 'splat\" expands the tuple so this becomes the familiar self(X) or self(X1, X2) call , which tigers forward\n",
        "\n",
        "\n",
        "    def validation_step(self, batch):\n",
        "        l = self.loss(self(*batch[:-1]), batch[-1])\n",
        "        self.plot('loss', l,  train=False)\n",
        "\n",
        "\n",
        "        ## both steps logs the loss: and training_step returns the scalar loss so the trainer can call loss.backward()\n",
        "\n",
        "\n",
        "\n",
        "\n",
        "    def configure_optimizers(self):\n",
        "        raise NotImplementedError\n",
        "\n",
        "      ## configure_optimizers: left abstract so subclasses can choose Adam, SGD., etc and pass the learning-rate schedules if desired"
      ]
    },
    {
      "cell_type": "code",
      "source": [
        "## a minimal concrete model might look like\n",
        "\n",
        "\n",
        "class MLP(Module): ## 1. define a subclass of our custom Module\n",
        "  def __init__(self, lr = 0.01): ## 2. construtor: lr becomes a hyper-parameter\n",
        "    super().__init__() ## 3. run parent constructor  (nn.Module + Hyperparameter)\n",
        "    self.save_hyperparameters() ## 4. Record lr so we can log/serialize it later\n",
        "\n",
        "    ## 5 .build the neural network proper and store it in self.net\n",
        "    self.net = nn.Sequential(\n",
        "        nn.Flatten(), ## 6. Flatten 28*28 images to 784-D vectors\n",
        "        nn.Linear(28*28, 256),  ## 7.fully-connected layer -> 256 hidden units, weight/bias are registered as parameters\n",
        "        nn.ReLU(), ##8. non-linearity\n",
        "        nn.Linear(256, 10) ##9.Output layer -> 10 logits (for 10 classes)\n",
        "    )\n",
        "\n",
        "    def loss(self, y_hat, y):\n",
        "      return nn.functional.cross_entropy(y_hat, y)\n",
        "       ## 10.overide the abstract loss() method\n",
        "\n",
        "\n",
        "\n",
        "      ## 11. cross-entropy between predicted logits and interger labels\n",
        "      return nn.functional.cross_entropy(y_hat, y)\n",
        "\n",
        "\n",
        "    def configure_optimizers(self): ## 12. ZTell the trainer which optimize to use\n",
        "      ## Classical SGD over *all* parameters returned by self.parameters()\n",
        "      return torch.optim.SGD(self.parameters(), lr = self.lr)\n",
        "\n",
        "trainer = d2l.Trainer(max_epochs=10)\n",
        "model   = MLP(lr=0.05)\n",
        "trainer.fit(model, train_iter, test_iter)"
      ],
      "metadata": {
        "id": "i31M476rPPmG"
      },
      "id": "i31M476rPPmG",
      "execution_count": 30,
      "outputs": []
    },
    {
      "cell_type": "code",
      "source": [
        "# import torch\n",
        "# from torch import nn\n",
        "# from d2l import torch as d2l             # for Module, Trainer, etc.\n",
        "\n",
        "# # 1. Data --------------------------------------------------------------------\n",
        "# batch_size = 256\n",
        "# train_iter, test_iter = d2l.load_data_fashion_mnist(batch_size)\n",
        "\n",
        "# # 2. Model -------------------------------------------------------------------\n",
        "# class MLP(d2l.Module):\n",
        "#     def __init__(self, lr=0.01):\n",
        "#         super().__init__()\n",
        "#         self.save_hyperparameters()\n",
        "#         self.net = nn.Sequential(\n",
        "#             nn.Flatten(), nn.Linear(28*28, 256), nn.ReLU(), nn.Linear(256, 10)\n",
        "#         )\n",
        "#     def loss(self, y_hat, y):\n",
        "#         return nn.functional.cross_entropy(y_hat, y)\n",
        "#     def configure_optimizers(self):\n",
        "#         return torch.optim.SGD(self.parameters(), lr=self.lr)\n",
        "\n",
        "# # 3. Train -------------------------------------------------------------------\n",
        "# model   = MLP(lr=0.05)\n",
        "# trainer = d2l.Trainer(max_epochs=10)\n",
        "# trainer.fit(model, train_iter, test_iter)\n"
      ],
      "metadata": {
        "id": "7j4LUFMeXuPi"
      },
      "id": "7j4LUFMeXuPi",
      "execution_count": 42,
      "outputs": []
    },
    {
      "cell_type": "markdown",
      "id": "68b2d5aa",
      "metadata": {
        "origin_pos": 25,
        "tab": [
          "pytorch"
        ],
        "id": "68b2d5aa"
      },
      "source": [
        "| Case            | `x` means                                    | Intuition                                                            |\n",
        "| --------------- | -------------------------------------------- | -------------------------------------------------------------------- |\n",
        "| Training loop   | Fraction inside the current epoch, **0 → 1** | Lets the animation show a smooth curve instead of one dot per epoch. |\n",
        "| Validation loop | Discrete epoch count (`1, 2, 3…`)            | Validation is done once per epoch so integer ticks are fine.         |\n",
        "\n",
        "\n",
        "You may notice that `Module` is a subclass of `nn.Module`, the base class of neural networks in PyTorch.\n",
        "It provides convenient features for handling neural networks. For example, if we define a `forward` method, such as `forward(self, X)`, then for an instance `a` we can invoke this method by `a(X)`. This works since it calls the `forward` method in the built-in `__call__` method. You can find more details and examples about `nn.Module` in :numref:`sec_model_construction`.\n"
      ]
    },
    {
      "cell_type": "markdown",
      "id": "b263de76",
      "metadata": {
        "origin_pos": 28,
        "id": "b263de76"
      },
      "source": [
        "##  Data\n",
        ":label:`oo-design-data`\n",
        "\n",
        "The `DataModule` class is the base class for data. Quite frequently the `__init__` method is used to prepare the data. This includes downloading and preprocessing if needed. The `train_dataloader` returns the data loader for the training dataset. A data loader is a (Python) generator that yields a data batch each time it is used. This batch is then fed into the `training_step` method of `Module` to compute the loss. There is an optional `val_dataloader` to return the validation dataset loader. It behaves in the same manner, except that it yields data batches for the `validation_step` method in `Module`.\n"
      ]
    },
    {
      "cell_type": "markdown",
      "source": [
        "| Goal                            | How this class helps                                                                                                                                                                                                                          |\n",
        "| ------------------------------- | --------------------------------------------------------------------------------------------------------------------------------------------------------------------------------------------------------------------------------------------- |\n",
        "| **Unified data interface**      | Instead of handing a `Trainer` raw `DataLoader`s, the trainer asks the *module itself* for `train_dataloader()` and `val_dataloader()`.  This keeps model code and data code decoupled but still interoperable.                               |\n",
        "| **Hyper-parameter tracking**    | By inheriting from `d2l.HyperParameters`, anything you pass to the constructor (e.g., `root`, `num_workers`, maybe `batch_size` in subclasses) is automatically stored in `self.hparams` and accessible via dot notation (e.g., `self.root`). |\n",
        "| **Subclass-only customization** | `get_dataloader(self, train)` is an **abstract hook**.  You implement it once in a subclass (say, `FashionMNISTDataModule`) and the two convenience wrappers (`train_dataloader`, `val_dataloader`) work for free.                            |\n",
        "| **Cleaner trainer API**         | A `Trainer` only needs a single argument `data`, not two separate loaders.  Internally it just calls `data.train_dataloader()` and `data.val_dataloader()`.                                                                                   |\n",
        ""
      ],
      "metadata": {
        "id": "40cSiDXeZT-j"
      },
      "id": "40cSiDXeZT-j"
    },
    {
      "cell_type": "code",
      "execution_count": 43,
      "id": "14e2b695",
      "metadata": {
        "execution": {
          "iopub.execute_input": "2023-08-18T19:26:38.839261Z",
          "iopub.status.busy": "2023-08-18T19:26:38.838718Z",
          "iopub.status.idle": "2023-08-18T19:26:38.843828Z",
          "shell.execute_reply": "2023-08-18T19:26:38.843014Z"
        },
        "origin_pos": 29,
        "tab": [
          "pytorch"
        ],
        "id": "14e2b695"
      },
      "outputs": [],
      "source": [
        "class DataModule(d2l.HyperParameters):  ##Inherit logging/serialization helps\n",
        "    \"\"\"The base class of data.\"\"\"\n",
        "    def __init__(self,\n",
        "                 root='../data',\n",
        "                 num_workers=4): ## number of subprocesses for DataLoader\n",
        "        self.save_hyperparameters()  ## Auto-stores root and number of works as attributes in self.hparams\n",
        "\n",
        "    def get_dataloader(self, train): ## <-- Abstract hook: must return a PyTorch DataLoader\n",
        "        raise NotImplementedError ## <-- Force subclass to override\n",
        "\n",
        "    def train_dataloader(self): ## Convenience wrapper used by Trainer\n",
        "        return self.get_dataloader(train=True)\n",
        "\n",
        "    def val_dataloader(self):\n",
        "        return self.get_dataloader(train=False)"
      ]
    },
    {
      "cell_type": "code",
      "source": [
        "class FashionMNISTDataModule(DataModule):\n",
        "    def __init__(self, batch_size=256, **kwargs):\n",
        "        super().__init__(**kwargs)            # record root & num_workers\n",
        "        self.batch_size = batch_size          # additional hyper-param\n",
        "\n",
        "    def get_dataloader(self, train):\n",
        "        from torchvision import datasets, transforms\n",
        "        trans = transforms.ToTensor()\n",
        "        ds = datasets.FashionMNIST(self.root, train=train, download=True, transform=trans)\n",
        "        return torch.utils.data.DataLoader(ds,\n",
        "                                           batch_size=self.batch_size,\n",
        "                                           shuffle=train,\n",
        "                                           num_workers=self.num_workers)\n",
        "\n",
        "\n",
        "\n",
        "data   = FashionMNISTDataModule(root=\"../data\", num_workers=2, batch_size=256)\n",
        "model  = MLP(lr=0.05)\n",
        "trainer = d2l.Trainer(max_epochs=10)\n",
        "trainer.fit(model, data)   # Trainer grabs loaders via the two helper methods"
      ],
      "metadata": {
        "id": "eET1rw69aRkz",
        "outputId": "8be96289-bc81-4098-a816-a7e8cee30ab8",
        "colab": {
          "base_uri": "https://localhost:8080/",
          "height": 266
        }
      },
      "id": "eET1rw69aRkz",
      "execution_count": 44,
      "outputs": [
        {
          "output_type": "display_data",
          "data": {
            "text/plain": [
              "<Figure size 350x250 with 1 Axes>"
            ],
            "image/svg+xml": "<?xml version=\"1.0\" encoding=\"utf-8\" standalone=\"no\"?>\n<!DOCTYPE svg PUBLIC \"-//W3C//DTD SVG 1.1//EN\"\n  \"http://www.w3.org/Graphics/SVG/1.1/DTD/svg11.dtd\">\n<svg xmlns:xlink=\"http://www.w3.org/1999/xlink\" width=\"238.965625pt\" height=\"183.35625pt\" viewBox=\"0 0 238.965625 183.35625\" xmlns=\"http://www.w3.org/2000/svg\" version=\"1.1\">\n <metadata>\n  <rdf:RDF xmlns:dc=\"http://purl.org/dc/elements/1.1/\" xmlns:cc=\"http://creativecommons.org/ns#\" xmlns:rdf=\"http://www.w3.org/1999/02/22-rdf-syntax-ns#\">\n   <cc:Work>\n    <dc:type rdf:resource=\"http://purl.org/dc/dcmitype/StillImage\"/>\n    <dc:date>2025-06-13T08:32:16.111697</dc:date>\n    <dc:format>image/svg+xml</dc:format>\n    <dc:creator>\n     <cc:Agent>\n      <dc:title>Matplotlib v3.7.2, https://matplotlib.org/</dc:title>\n     </cc:Agent>\n    </dc:creator>\n   </cc:Work>\n  </rdf:RDF>\n </metadata>\n <defs>\n  <style type=\"text/css\">*{stroke-linejoin: round; stroke-linecap: butt}</style>\n </defs>\n <g id=\"figure_1\">\n  <g id=\"patch_1\">\n   <path d=\"M 0 183.35625 \nL 238.965625 183.35625 \nL 238.965625 0 \nL 0 0 \nz\n\" style=\"fill: #ffffff\"/>\n  </g>\n  <g id=\"axes_1\">\n   <g id=\"patch_2\">\n    <path d=\"M 30.103125 145.8 \nL 225.403125 145.8 \nL 225.403125 7.2 \nL 30.103125 7.2 \nz\n\" style=\"fill: #ffffff\"/>\n   </g>\n   <g id=\"matplotlib.axis_1\">\n    <g id=\"xtick_1\">\n     <g id=\"line2d_1\">\n      <defs>\n       <path id=\"mf768e73976\" d=\"M 0 0 \nL 0 3.5 \n\" style=\"stroke: #000000; stroke-width: 0.8\"/>\n      </defs>\n      <g>\n       <use xlink:href=\"#mf768e73976\" x=\"30.103125\" y=\"145.8\" style=\"stroke: #000000; stroke-width: 0.8\"/>\n      </g>\n     </g>\n     <g id=\"text_1\">\n      <!-- 0 -->\n      <g transform=\"translate(26.921875 160.398438) scale(0.1 -0.1)\">\n       <defs>\n        <path id=\"DejaVuSans-30\" d=\"M 2034 4250 \nQ 1547 4250 1301 3770 \nQ 1056 3291 1056 2328 \nQ 1056 1369 1301 889 \nQ 1547 409 2034 409 \nQ 2525 409 2770 889 \nQ 3016 1369 3016 2328 \nQ 3016 3291 2770 3770 \nQ 2525 4250 2034 4250 \nz\nM 2034 4750 \nQ 2819 4750 3233 4129 \nQ 3647 3509 3647 2328 \nQ 3647 1150 3233 529 \nQ 2819 -91 2034 -91 \nQ 1250 -91 836 529 \nQ 422 1150 422 2328 \nQ 422 3509 836 4129 \nQ 1250 4750 2034 4750 \nz\n\" transform=\"scale(0.015625)\"/>\n       </defs>\n       <use xlink:href=\"#DejaVuSans-30\"/>\n      </g>\n     </g>\n    </g>\n    <g id=\"xtick_2\">\n     <g id=\"line2d_2\">\n      <g>\n       <use xlink:href=\"#mf768e73976\" x=\"69.163125\" y=\"145.8\" style=\"stroke: #000000; stroke-width: 0.8\"/>\n      </g>\n     </g>\n     <g id=\"text_2\">\n      <!-- 2 -->\n      <g transform=\"translate(65.981875 160.398438) scale(0.1 -0.1)\">\n       <defs>\n        <path id=\"DejaVuSans-32\" d=\"M 1228 531 \nL 3431 531 \nL 3431 0 \nL 469 0 \nL 469 531 \nQ 828 903 1448 1529 \nQ 2069 2156 2228 2338 \nQ 2531 2678 2651 2914 \nQ 2772 3150 2772 3378 \nQ 2772 3750 2511 3984 \nQ 2250 4219 1831 4219 \nQ 1534 4219 1204 4116 \nQ 875 4013 500 3803 \nL 500 4441 \nQ 881 4594 1212 4672 \nQ 1544 4750 1819 4750 \nQ 2544 4750 2975 4387 \nQ 3406 4025 3406 3419 \nQ 3406 3131 3298 2873 \nQ 3191 2616 2906 2266 \nQ 2828 2175 2409 1742 \nQ 1991 1309 1228 531 \nz\n\" transform=\"scale(0.015625)\"/>\n       </defs>\n       <use xlink:href=\"#DejaVuSans-32\"/>\n      </g>\n     </g>\n    </g>\n    <g id=\"xtick_3\">\n     <g id=\"line2d_3\">\n      <g>\n       <use xlink:href=\"#mf768e73976\" x=\"108.223125\" y=\"145.8\" style=\"stroke: #000000; stroke-width: 0.8\"/>\n      </g>\n     </g>\n     <g id=\"text_3\">\n      <!-- 4 -->\n      <g transform=\"translate(105.041875 160.398438) scale(0.1 -0.1)\">\n       <defs>\n        <path id=\"DejaVuSans-34\" d=\"M 2419 4116 \nL 825 1625 \nL 2419 1625 \nL 2419 4116 \nz\nM 2253 4666 \nL 3047 4666 \nL 3047 1625 \nL 3713 1625 \nL 3713 1100 \nL 3047 1100 \nL 3047 0 \nL 2419 0 \nL 2419 1100 \nL 313 1100 \nL 313 1709 \nL 2253 4666 \nz\n\" transform=\"scale(0.015625)\"/>\n       </defs>\n       <use xlink:href=\"#DejaVuSans-34\"/>\n      </g>\n     </g>\n    </g>\n    <g id=\"xtick_4\">\n     <g id=\"line2d_4\">\n      <g>\n       <use xlink:href=\"#mf768e73976\" x=\"147.283125\" y=\"145.8\" style=\"stroke: #000000; stroke-width: 0.8\"/>\n      </g>\n     </g>\n     <g id=\"text_4\">\n      <!-- 6 -->\n      <g transform=\"translate(144.101875 160.398438) scale(0.1 -0.1)\">\n       <defs>\n        <path id=\"DejaVuSans-36\" d=\"M 2113 2584 \nQ 1688 2584 1439 2293 \nQ 1191 2003 1191 1497 \nQ 1191 994 1439 701 \nQ 1688 409 2113 409 \nQ 2538 409 2786 701 \nQ 3034 994 3034 1497 \nQ 3034 2003 2786 2293 \nQ 2538 2584 2113 2584 \nz\nM 3366 4563 \nL 3366 3988 \nQ 3128 4100 2886 4159 \nQ 2644 4219 2406 4219 \nQ 1781 4219 1451 3797 \nQ 1122 3375 1075 2522 \nQ 1259 2794 1537 2939 \nQ 1816 3084 2150 3084 \nQ 2853 3084 3261 2657 \nQ 3669 2231 3669 1497 \nQ 3669 778 3244 343 \nQ 2819 -91 2113 -91 \nQ 1303 -91 875 529 \nQ 447 1150 447 2328 \nQ 447 3434 972 4092 \nQ 1497 4750 2381 4750 \nQ 2619 4750 2861 4703 \nQ 3103 4656 3366 4563 \nz\n\" transform=\"scale(0.015625)\"/>\n       </defs>\n       <use xlink:href=\"#DejaVuSans-36\"/>\n      </g>\n     </g>\n    </g>\n    <g id=\"xtick_5\">\n     <g id=\"line2d_5\">\n      <g>\n       <use xlink:href=\"#mf768e73976\" x=\"186.343125\" y=\"145.8\" style=\"stroke: #000000; stroke-width: 0.8\"/>\n      </g>\n     </g>\n     <g id=\"text_5\">\n      <!-- 8 -->\n      <g transform=\"translate(183.161875 160.398438) scale(0.1 -0.1)\">\n       <defs>\n        <path id=\"DejaVuSans-38\" d=\"M 2034 2216 \nQ 1584 2216 1326 1975 \nQ 1069 1734 1069 1313 \nQ 1069 891 1326 650 \nQ 1584 409 2034 409 \nQ 2484 409 2743 651 \nQ 3003 894 3003 1313 \nQ 3003 1734 2745 1975 \nQ 2488 2216 2034 2216 \nz\nM 1403 2484 \nQ 997 2584 770 2862 \nQ 544 3141 544 3541 \nQ 544 4100 942 4425 \nQ 1341 4750 2034 4750 \nQ 2731 4750 3128 4425 \nQ 3525 4100 3525 3541 \nQ 3525 3141 3298 2862 \nQ 3072 2584 2669 2484 \nQ 3125 2378 3379 2068 \nQ 3634 1759 3634 1313 \nQ 3634 634 3220 271 \nQ 2806 -91 2034 -91 \nQ 1263 -91 848 271 \nQ 434 634 434 1313 \nQ 434 1759 690 2068 \nQ 947 2378 1403 2484 \nz\nM 1172 3481 \nQ 1172 3119 1398 2916 \nQ 1625 2713 2034 2713 \nQ 2441 2713 2670 2916 \nQ 2900 3119 2900 3481 \nQ 2900 3844 2670 4047 \nQ 2441 4250 2034 4250 \nQ 1625 4250 1398 4047 \nQ 1172 3844 1172 3481 \nz\n\" transform=\"scale(0.015625)\"/>\n       </defs>\n       <use xlink:href=\"#DejaVuSans-38\"/>\n      </g>\n     </g>\n    </g>\n    <g id=\"xtick_6\">\n     <g id=\"line2d_6\">\n      <g>\n       <use xlink:href=\"#mf768e73976\" x=\"225.403125\" y=\"145.8\" style=\"stroke: #000000; stroke-width: 0.8\"/>\n      </g>\n     </g>\n     <g id=\"text_6\">\n      <!-- 10 -->\n      <g transform=\"translate(219.040625 160.398438) scale(0.1 -0.1)\">\n       <defs>\n        <path id=\"DejaVuSans-31\" d=\"M 794 531 \nL 1825 531 \nL 1825 4091 \nL 703 3866 \nL 703 4441 \nL 1819 4666 \nL 2450 4666 \nL 2450 531 \nL 3481 531 \nL 3481 0 \nL 794 0 \nL 794 531 \nz\n\" transform=\"scale(0.015625)\"/>\n       </defs>\n       <use xlink:href=\"#DejaVuSans-31\"/>\n       <use xlink:href=\"#DejaVuSans-30\" x=\"63.623047\"/>\n      </g>\n     </g>\n    </g>\n    <g id=\"text_7\">\n     <!-- epoch -->\n     <g transform=\"translate(112.525 174.076563) scale(0.1 -0.1)\">\n      <defs>\n       <path id=\"DejaVuSans-65\" d=\"M 3597 1894 \nL 3597 1613 \nL 953 1613 \nQ 991 1019 1311 708 \nQ 1631 397 2203 397 \nQ 2534 397 2845 478 \nQ 3156 559 3463 722 \nL 3463 178 \nQ 3153 47 2828 -22 \nQ 2503 -91 2169 -91 \nQ 1331 -91 842 396 \nQ 353 884 353 1716 \nQ 353 2575 817 3079 \nQ 1281 3584 2069 3584 \nQ 2775 3584 3186 3129 \nQ 3597 2675 3597 1894 \nz\nM 3022 2063 \nQ 3016 2534 2758 2815 \nQ 2500 3097 2075 3097 \nQ 1594 3097 1305 2825 \nQ 1016 2553 972 2059 \nL 3022 2063 \nz\n\" transform=\"scale(0.015625)\"/>\n       <path id=\"DejaVuSans-70\" d=\"M 1159 525 \nL 1159 -1331 \nL 581 -1331 \nL 581 3500 \nL 1159 3500 \nL 1159 2969 \nQ 1341 3281 1617 3432 \nQ 1894 3584 2278 3584 \nQ 2916 3584 3314 3078 \nQ 3713 2572 3713 1747 \nQ 3713 922 3314 415 \nQ 2916 -91 2278 -91 \nQ 1894 -91 1617 61 \nQ 1341 213 1159 525 \nz\nM 3116 1747 \nQ 3116 2381 2855 2742 \nQ 2594 3103 2138 3103 \nQ 1681 3103 1420 2742 \nQ 1159 2381 1159 1747 \nQ 1159 1113 1420 752 \nQ 1681 391 2138 391 \nQ 2594 391 2855 752 \nQ 3116 1113 3116 1747 \nz\n\" transform=\"scale(0.015625)\"/>\n       <path id=\"DejaVuSans-6f\" d=\"M 1959 3097 \nQ 1497 3097 1228 2736 \nQ 959 2375 959 1747 \nQ 959 1119 1226 758 \nQ 1494 397 1959 397 \nQ 2419 397 2687 759 \nQ 2956 1122 2956 1747 \nQ 2956 2369 2687 2733 \nQ 2419 3097 1959 3097 \nz\nM 1959 3584 \nQ 2709 3584 3137 3096 \nQ 3566 2609 3566 1747 \nQ 3566 888 3137 398 \nQ 2709 -91 1959 -91 \nQ 1206 -91 779 398 \nQ 353 888 353 1747 \nQ 353 2609 779 3096 \nQ 1206 3584 1959 3584 \nz\n\" transform=\"scale(0.015625)\"/>\n       <path id=\"DejaVuSans-63\" d=\"M 3122 3366 \nL 3122 2828 \nQ 2878 2963 2633 3030 \nQ 2388 3097 2138 3097 \nQ 1578 3097 1268 2742 \nQ 959 2388 959 1747 \nQ 959 1106 1268 751 \nQ 1578 397 2138 397 \nQ 2388 397 2633 464 \nQ 2878 531 3122 666 \nL 3122 134 \nQ 2881 22 2623 -34 \nQ 2366 -91 2075 -91 \nQ 1284 -91 818 406 \nQ 353 903 353 1747 \nQ 353 2603 823 3093 \nQ 1294 3584 2113 3584 \nQ 2378 3584 2631 3529 \nQ 2884 3475 3122 3366 \nz\n\" transform=\"scale(0.015625)\"/>\n       <path id=\"DejaVuSans-68\" d=\"M 3513 2113 \nL 3513 0 \nL 2938 0 \nL 2938 2094 \nQ 2938 2591 2744 2837 \nQ 2550 3084 2163 3084 \nQ 1697 3084 1428 2787 \nQ 1159 2491 1159 1978 \nL 1159 0 \nL 581 0 \nL 581 4863 \nL 1159 4863 \nL 1159 2956 \nQ 1366 3272 1645 3428 \nQ 1925 3584 2291 3584 \nQ 2894 3584 3203 3211 \nQ 3513 2838 3513 2113 \nz\n\" transform=\"scale(0.015625)\"/>\n      </defs>\n      <use xlink:href=\"#DejaVuSans-65\"/>\n      <use xlink:href=\"#DejaVuSans-70\" x=\"61.523438\"/>\n      <use xlink:href=\"#DejaVuSans-6f\" x=\"125\"/>\n      <use xlink:href=\"#DejaVuSans-63\" x=\"186.181641\"/>\n      <use xlink:href=\"#DejaVuSans-68\" x=\"241.162109\"/>\n     </g>\n    </g>\n   </g>\n   <g id=\"matplotlib.axis_2\">\n    <g id=\"ytick_1\">\n     <g id=\"line2d_7\">\n      <defs>\n       <path id=\"m1483ff302b\" d=\"M 0 0 \nL -3.5 0 \n\" style=\"stroke: #000000; stroke-width: 0.8\"/>\n      </defs>\n      <g>\n       <use xlink:href=\"#m1483ff302b\" x=\"30.103125\" y=\"142.955824\" style=\"stroke: #000000; stroke-width: 0.8\"/>\n      </g>\n     </g>\n     <g id=\"text_8\">\n      <!-- 0.4 -->\n      <g transform=\"translate(7.2 146.755042) scale(0.1 -0.1)\">\n       <defs>\n        <path id=\"DejaVuSans-2e\" d=\"M 684 794 \nL 1344 794 \nL 1344 0 \nL 684 0 \nL 684 794 \nz\n\" transform=\"scale(0.015625)\"/>\n       </defs>\n       <use xlink:href=\"#DejaVuSans-30\"/>\n       <use xlink:href=\"#DejaVuSans-2e\" x=\"63.623047\"/>\n       <use xlink:href=\"#DejaVuSans-34\" x=\"95.410156\"/>\n      </g>\n     </g>\n    </g>\n    <g id=\"ytick_2\">\n     <g id=\"line2d_8\">\n      <g>\n       <use xlink:href=\"#m1483ff302b\" x=\"30.103125\" y=\"115.044309\" style=\"stroke: #000000; stroke-width: 0.8\"/>\n      </g>\n     </g>\n     <g id=\"text_9\">\n      <!-- 0.6 -->\n      <g transform=\"translate(7.2 118.843528) scale(0.1 -0.1)\">\n       <use xlink:href=\"#DejaVuSans-30\"/>\n       <use xlink:href=\"#DejaVuSans-2e\" x=\"63.623047\"/>\n       <use xlink:href=\"#DejaVuSans-36\" x=\"95.410156\"/>\n      </g>\n     </g>\n    </g>\n    <g id=\"ytick_3\">\n     <g id=\"line2d_9\">\n      <g>\n       <use xlink:href=\"#m1483ff302b\" x=\"30.103125\" y=\"87.132795\" style=\"stroke: #000000; stroke-width: 0.8\"/>\n      </g>\n     </g>\n     <g id=\"text_10\">\n      <!-- 0.8 -->\n      <g transform=\"translate(7.2 90.932014) scale(0.1 -0.1)\">\n       <use xlink:href=\"#DejaVuSans-30\"/>\n       <use xlink:href=\"#DejaVuSans-2e\" x=\"63.623047\"/>\n       <use xlink:href=\"#DejaVuSans-38\" x=\"95.410156\"/>\n      </g>\n     </g>\n    </g>\n    <g id=\"ytick_4\">\n     <g id=\"line2d_10\">\n      <g>\n       <use xlink:href=\"#m1483ff302b\" x=\"30.103125\" y=\"59.221281\" style=\"stroke: #000000; stroke-width: 0.8\"/>\n      </g>\n     </g>\n     <g id=\"text_11\">\n      <!-- 1.0 -->\n      <g transform=\"translate(7.2 63.020499) scale(0.1 -0.1)\">\n       <use xlink:href=\"#DejaVuSans-31\"/>\n       <use xlink:href=\"#DejaVuSans-2e\" x=\"63.623047\"/>\n       <use xlink:href=\"#DejaVuSans-30\" x=\"95.410156\"/>\n      </g>\n     </g>\n    </g>\n    <g id=\"ytick_5\">\n     <g id=\"line2d_11\">\n      <g>\n       <use xlink:href=\"#m1483ff302b\" x=\"30.103125\" y=\"31.309766\" style=\"stroke: #000000; stroke-width: 0.8\"/>\n      </g>\n     </g>\n     <g id=\"text_12\">\n      <!-- 1.2 -->\n      <g transform=\"translate(7.2 35.108985) scale(0.1 -0.1)\">\n       <use xlink:href=\"#DejaVuSans-31\"/>\n       <use xlink:href=\"#DejaVuSans-2e\" x=\"63.623047\"/>\n       <use xlink:href=\"#DejaVuSans-32\" x=\"95.410156\"/>\n      </g>\n     </g>\n    </g>\n   </g>\n   <g id=\"line2d_12\">\n    <path d=\"M 34.923295 13.5 \n\" clip-path=\"url(#p848df2d35c)\" style=\"fill: none; stroke: #1f77b4; stroke-width: 1.5; stroke-linecap: square\"/>\n   </g>\n   <g id=\"line2d_13\">\n    <path d=\"M 34.923295 13.5 \nL 44.646742 91.283519 \n\" clip-path=\"url(#p848df2d35c)\" style=\"fill: none; stroke: #1f77b4; stroke-width: 1.5; stroke-linecap: square\"/>\n   </g>\n   <g id=\"line2d_14\">\n    <path d=\"M 34.923295 13.5 \nL 44.646742 91.283519 \n\" clip-path=\"url(#p848df2d35c)\" style=\"fill: none; stroke: #1f77b4; stroke-width: 1.5; stroke-linecap: square\"/>\n   </g>\n   <g id=\"line2d_15\">\n    <path d=\"M 49.633125 96.835495 \n\" clip-path=\"url(#p848df2d35c)\" style=\"fill: none; stroke-dasharray: 5.55,2.4; stroke-dashoffset: 0; stroke: #ff7f0e; stroke-width: 1.5\"/>\n   </g>\n   <g id=\"line2d_16\">\n    <path d=\"M 34.923295 13.5 \nL 44.646742 91.283519 \nL 54.370189 106.776242 \n\" clip-path=\"url(#p848df2d35c)\" style=\"fill: none; stroke: #1f77b4; stroke-width: 1.5; stroke-linecap: square\"/>\n   </g>\n   <g id=\"line2d_17\">\n    <path d=\"M 49.633125 96.835495 \n\" clip-path=\"url(#p848df2d35c)\" style=\"fill: none; stroke-dasharray: 5.55,2.4; stroke-dashoffset: 0; stroke: #ff7f0e; stroke-width: 1.5\"/>\n   </g>\n   <g id=\"line2d_18\">\n    <path d=\"M 34.923295 13.5 \nL 44.646742 91.283519 \nL 54.370189 106.776242 \nL 64.093636 115.69451 \n\" clip-path=\"url(#p848df2d35c)\" style=\"fill: none; stroke: #1f77b4; stroke-width: 1.5; stroke-linecap: square\"/>\n   </g>\n   <g id=\"line2d_19\">\n    <path d=\"M 49.633125 96.835495 \n\" clip-path=\"url(#p848df2d35c)\" style=\"fill: none; stroke-dasharray: 5.55,2.4; stroke-dashoffset: 0; stroke: #ff7f0e; stroke-width: 1.5\"/>\n   </g>\n   <g id=\"line2d_20\">\n    <path d=\"M 34.923295 13.5 \nL 44.646742 91.283519 \nL 54.370189 106.776242 \nL 64.093636 115.69451 \n\" clip-path=\"url(#p848df2d35c)\" style=\"fill: none; stroke: #1f77b4; stroke-width: 1.5; stroke-linecap: square\"/>\n   </g>\n   <g id=\"line2d_21\">\n    <path d=\"M 49.633125 96.835495 \nL 69.163125 116.742853 \n\" clip-path=\"url(#p848df2d35c)\" style=\"fill: none; stroke-dasharray: 5.55,2.4; stroke-dashoffset: 0; stroke: #ff7f0e; stroke-width: 1.5\"/>\n   </g>\n   <g id=\"line2d_22\">\n    <path d=\"M 34.923295 13.5 \nL 44.646742 91.283519 \nL 54.370189 106.776242 \nL 64.093636 115.69451 \nL 73.817082 120.903705 \n\" clip-path=\"url(#p848df2d35c)\" style=\"fill: none; stroke: #1f77b4; stroke-width: 1.5; stroke-linecap: square\"/>\n   </g>\n   <g id=\"line2d_23\">\n    <path d=\"M 49.633125 96.835495 \nL 69.163125 116.742853 \n\" clip-path=\"url(#p848df2d35c)\" style=\"fill: none; stroke-dasharray: 5.55,2.4; stroke-dashoffset: 0; stroke: #ff7f0e; stroke-width: 1.5\"/>\n   </g>\n   <g id=\"line2d_24\">\n    <path d=\"M 34.923295 13.5 \nL 44.646742 91.283519 \nL 54.370189 106.776242 \nL 64.093636 115.69451 \nL 73.817082 120.903705 \nL 83.540529 124.013601 \n\" clip-path=\"url(#p848df2d35c)\" style=\"fill: none; stroke: #1f77b4; stroke-width: 1.5; stroke-linecap: square\"/>\n   </g>\n   <g id=\"line2d_25\">\n    <path d=\"M 49.633125 96.835495 \nL 69.163125 116.742853 \n\" clip-path=\"url(#p848df2d35c)\" style=\"fill: none; stroke-dasharray: 5.55,2.4; stroke-dashoffset: 0; stroke: #ff7f0e; stroke-width: 1.5\"/>\n   </g>\n   <g id=\"line2d_26\">\n    <path d=\"M 34.923295 13.5 \nL 44.646742 91.283519 \nL 54.370189 106.776242 \nL 64.093636 115.69451 \nL 73.817082 120.903705 \nL 83.540529 124.013601 \n\" clip-path=\"url(#p848df2d35c)\" style=\"fill: none; stroke: #1f77b4; stroke-width: 1.5; stroke-linecap: square\"/>\n   </g>\n   <g id=\"line2d_27\">\n    <path d=\"M 49.633125 96.835495 \nL 69.163125 116.742853 \nL 88.693125 121.381156 \n\" clip-path=\"url(#p848df2d35c)\" style=\"fill: none; stroke-dasharray: 5.55,2.4; stroke-dashoffset: 0; stroke: #ff7f0e; stroke-width: 1.5\"/>\n   </g>\n   <g id=\"line2d_28\">\n    <path d=\"M 34.923295 13.5 \nL 44.646742 91.283519 \nL 54.370189 106.776242 \nL 64.093636 115.69451 \nL 73.817082 120.903705 \nL 83.540529 124.013601 \nL 93.263976 126.84138 \n\" clip-path=\"url(#p848df2d35c)\" style=\"fill: none; stroke: #1f77b4; stroke-width: 1.5; stroke-linecap: square\"/>\n   </g>\n   <g id=\"line2d_29\">\n    <path d=\"M 49.633125 96.835495 \nL 69.163125 116.742853 \nL 88.693125 121.381156 \n\" clip-path=\"url(#p848df2d35c)\" style=\"fill: none; stroke-dasharray: 5.55,2.4; stroke-dashoffset: 0; stroke: #ff7f0e; stroke-width: 1.5\"/>\n   </g>\n   <g id=\"line2d_30\">\n    <path d=\"M 34.923295 13.5 \nL 44.646742 91.283519 \nL 54.370189 106.776242 \nL 64.093636 115.69451 \nL 73.817082 120.903705 \nL 83.540529 124.013601 \nL 93.263976 126.84138 \nL 102.987423 128.34403 \n\" clip-path=\"url(#p848df2d35c)\" style=\"fill: none; stroke: #1f77b4; stroke-width: 1.5; stroke-linecap: square\"/>\n   </g>\n   <g id=\"line2d_31\">\n    <path d=\"M 49.633125 96.835495 \nL 69.163125 116.742853 \nL 88.693125 121.381156 \n\" clip-path=\"url(#p848df2d35c)\" style=\"fill: none; stroke-dasharray: 5.55,2.4; stroke-dashoffset: 0; stroke: #ff7f0e; stroke-width: 1.5\"/>\n   </g>\n   <g id=\"line2d_32\">\n    <path d=\"M 34.923295 13.5 \nL 44.646742 91.283519 \nL 54.370189 106.776242 \nL 64.093636 115.69451 \nL 73.817082 120.903705 \nL 83.540529 124.013601 \nL 93.263976 126.84138 \nL 102.987423 128.34403 \n\" clip-path=\"url(#p848df2d35c)\" style=\"fill: none; stroke: #1f77b4; stroke-width: 1.5; stroke-linecap: square\"/>\n   </g>\n   <g id=\"line2d_33\">\n    <path d=\"M 49.633125 96.835495 \nL 69.163125 116.742853 \nL 88.693125 121.381156 \nL 108.223125 126.677825 \n\" clip-path=\"url(#p848df2d35c)\" style=\"fill: none; stroke-dasharray: 5.55,2.4; stroke-dashoffset: 0; stroke: #ff7f0e; stroke-width: 1.5\"/>\n   </g>\n   <g id=\"line2d_34\">\n    <path d=\"M 34.923295 13.5 \nL 44.646742 91.283519 \nL 54.370189 106.776242 \nL 64.093636 115.69451 \nL 73.817082 120.903705 \nL 83.540529 124.013601 \nL 93.263976 126.84138 \nL 102.987423 128.34403 \nL 112.71087 129.391418 \n\" clip-path=\"url(#p848df2d35c)\" style=\"fill: none; stroke: #1f77b4; stroke-width: 1.5; stroke-linecap: square\"/>\n   </g>\n   <g id=\"line2d_35\">\n    <path d=\"M 49.633125 96.835495 \nL 69.163125 116.742853 \nL 88.693125 121.381156 \nL 108.223125 126.677825 \n\" clip-path=\"url(#p848df2d35c)\" style=\"fill: none; stroke-dasharray: 5.55,2.4; stroke-dashoffset: 0; stroke: #ff7f0e; stroke-width: 1.5\"/>\n   </g>\n   <g id=\"line2d_36\">\n    <path d=\"M 34.923295 13.5 \nL 44.646742 91.283519 \nL 54.370189 106.776242 \nL 64.093636 115.69451 \nL 73.817082 120.903705 \nL 83.540529 124.013601 \nL 93.263976 126.84138 \nL 102.987423 128.34403 \nL 112.71087 129.391418 \nL 122.434316 132.18661 \n\" clip-path=\"url(#p848df2d35c)\" style=\"fill: none; stroke: #1f77b4; stroke-width: 1.5; stroke-linecap: square\"/>\n   </g>\n   <g id=\"line2d_37\">\n    <path d=\"M 49.633125 96.835495 \nL 69.163125 116.742853 \nL 88.693125 121.381156 \nL 108.223125 126.677825 \n\" clip-path=\"url(#p848df2d35c)\" style=\"fill: none; stroke-dasharray: 5.55,2.4; stroke-dashoffset: 0; stroke: #ff7f0e; stroke-width: 1.5\"/>\n   </g>\n   <g id=\"line2d_38\">\n    <path d=\"M 34.923295 13.5 \nL 44.646742 91.283519 \nL 54.370189 106.776242 \nL 64.093636 115.69451 \nL 73.817082 120.903705 \nL 83.540529 124.013601 \nL 93.263976 126.84138 \nL 102.987423 128.34403 \nL 112.71087 129.391418 \nL 122.434316 132.18661 \n\" clip-path=\"url(#p848df2d35c)\" style=\"fill: none; stroke: #1f77b4; stroke-width: 1.5; stroke-linecap: square\"/>\n   </g>\n   <g id=\"line2d_39\">\n    <path d=\"M 49.633125 96.835495 \nL 69.163125 116.742853 \nL 88.693125 121.381156 \nL 108.223125 126.677825 \nL 127.753125 129.930597 \n\" clip-path=\"url(#p848df2d35c)\" style=\"fill: none; stroke-dasharray: 5.55,2.4; stroke-dashoffset: 0; stroke: #ff7f0e; stroke-width: 1.5\"/>\n   </g>\n   <g id=\"line2d_40\">\n    <path d=\"M 34.923295 13.5 \nL 44.646742 91.283519 \nL 54.370189 106.776242 \nL 64.093636 115.69451 \nL 73.817082 120.903705 \nL 83.540529 124.013601 \nL 93.263976 126.84138 \nL 102.987423 128.34403 \nL 112.71087 129.391418 \nL 122.434316 132.18661 \nL 132.157763 132.253132 \n\" clip-path=\"url(#p848df2d35c)\" style=\"fill: none; stroke: #1f77b4; stroke-width: 1.5; stroke-linecap: square\"/>\n   </g>\n   <g id=\"line2d_41\">\n    <path d=\"M 49.633125 96.835495 \nL 69.163125 116.742853 \nL 88.693125 121.381156 \nL 108.223125 126.677825 \nL 127.753125 129.930597 \n\" clip-path=\"url(#p848df2d35c)\" style=\"fill: none; stroke-dasharray: 5.55,2.4; stroke-dashoffset: 0; stroke: #ff7f0e; stroke-width: 1.5\"/>\n   </g>\n   <g id=\"line2d_42\">\n    <path d=\"M 34.923295 13.5 \nL 44.646742 91.283519 \nL 54.370189 106.776242 \nL 64.093636 115.69451 \nL 73.817082 120.903705 \nL 83.540529 124.013601 \nL 93.263976 126.84138 \nL 102.987423 128.34403 \nL 112.71087 129.391418 \nL 122.434316 132.18661 \nL 132.157763 132.253132 \nL 141.88121 133.689033 \n\" clip-path=\"url(#p848df2d35c)\" style=\"fill: none; stroke: #1f77b4; stroke-width: 1.5; stroke-linecap: square\"/>\n   </g>\n   <g id=\"line2d_43\">\n    <path d=\"M 49.633125 96.835495 \nL 69.163125 116.742853 \nL 88.693125 121.381156 \nL 108.223125 126.677825 \nL 127.753125 129.930597 \n\" clip-path=\"url(#p848df2d35c)\" style=\"fill: none; stroke-dasharray: 5.55,2.4; stroke-dashoffset: 0; stroke: #ff7f0e; stroke-width: 1.5\"/>\n   </g>\n   <g id=\"line2d_44\">\n    <path d=\"M 34.923295 13.5 \nL 44.646742 91.283519 \nL 54.370189 106.776242 \nL 64.093636 115.69451 \nL 73.817082 120.903705 \nL 83.540529 124.013601 \nL 93.263976 126.84138 \nL 102.987423 128.34403 \nL 112.71087 129.391418 \nL 122.434316 132.18661 \nL 132.157763 132.253132 \nL 141.88121 133.689033 \n\" clip-path=\"url(#p848df2d35c)\" style=\"fill: none; stroke: #1f77b4; stroke-width: 1.5; stroke-linecap: square\"/>\n   </g>\n   <g id=\"line2d_45\">\n    <path d=\"M 49.633125 96.835495 \nL 69.163125 116.742853 \nL 88.693125 121.381156 \nL 108.223125 126.677825 \nL 127.753125 129.930597 \nL 147.283125 122.268724 \n\" clip-path=\"url(#p848df2d35c)\" style=\"fill: none; stroke-dasharray: 5.55,2.4; stroke-dashoffset: 0; stroke: #ff7f0e; stroke-width: 1.5\"/>\n   </g>\n   <g id=\"line2d_46\">\n    <path d=\"M 34.923295 13.5 \nL 44.646742 91.283519 \nL 54.370189 106.776242 \nL 64.093636 115.69451 \nL 73.817082 120.903705 \nL 83.540529 124.013601 \nL 93.263976 126.84138 \nL 102.987423 128.34403 \nL 112.71087 129.391418 \nL 122.434316 132.18661 \nL 132.157763 132.253132 \nL 141.88121 133.689033 \nL 151.604657 133.567776 \n\" clip-path=\"url(#p848df2d35c)\" style=\"fill: none; stroke: #1f77b4; stroke-width: 1.5; stroke-linecap: square\"/>\n   </g>\n   <g id=\"line2d_47\">\n    <path d=\"M 49.633125 96.835495 \nL 69.163125 116.742853 \nL 88.693125 121.381156 \nL 108.223125 126.677825 \nL 127.753125 129.930597 \nL 147.283125 122.268724 \n\" clip-path=\"url(#p848df2d35c)\" style=\"fill: none; stroke-dasharray: 5.55,2.4; stroke-dashoffset: 0; stroke: #ff7f0e; stroke-width: 1.5\"/>\n   </g>\n   <g id=\"line2d_48\">\n    <path d=\"M 34.923295 13.5 \nL 44.646742 91.283519 \nL 54.370189 106.776242 \nL 64.093636 115.69451 \nL 73.817082 120.903705 \nL 83.540529 124.013601 \nL 93.263976 126.84138 \nL 102.987423 128.34403 \nL 112.71087 129.391418 \nL 122.434316 132.18661 \nL 132.157763 132.253132 \nL 141.88121 133.689033 \nL 151.604657 133.567776 \nL 161.328104 136.204831 \n\" clip-path=\"url(#p848df2d35c)\" style=\"fill: none; stroke: #1f77b4; stroke-width: 1.5; stroke-linecap: square\"/>\n   </g>\n   <g id=\"line2d_49\">\n    <path d=\"M 49.633125 96.835495 \nL 69.163125 116.742853 \nL 88.693125 121.381156 \nL 108.223125 126.677825 \nL 127.753125 129.930597 \nL 147.283125 122.268724 \n\" clip-path=\"url(#p848df2d35c)\" style=\"fill: none; stroke-dasharray: 5.55,2.4; stroke-dashoffset: 0; stroke: #ff7f0e; stroke-width: 1.5\"/>\n   </g>\n   <g id=\"line2d_50\">\n    <path d=\"M 34.923295 13.5 \nL 44.646742 91.283519 \nL 54.370189 106.776242 \nL 64.093636 115.69451 \nL 73.817082 120.903705 \nL 83.540529 124.013601 \nL 93.263976 126.84138 \nL 102.987423 128.34403 \nL 112.71087 129.391418 \nL 122.434316 132.18661 \nL 132.157763 132.253132 \nL 141.88121 133.689033 \nL 151.604657 133.567776 \nL 161.328104 136.204831 \n\" clip-path=\"url(#p848df2d35c)\" style=\"fill: none; stroke: #1f77b4; stroke-width: 1.5; stroke-linecap: square\"/>\n   </g>\n   <g id=\"line2d_51\">\n    <path d=\"M 49.633125 96.835495 \nL 69.163125 116.742853 \nL 88.693125 121.381156 \nL 108.223125 126.677825 \nL 127.753125 129.930597 \nL 147.283125 122.268724 \nL 166.813125 121.596407 \n\" clip-path=\"url(#p848df2d35c)\" style=\"fill: none; stroke-dasharray: 5.55,2.4; stroke-dashoffset: 0; stroke: #ff7f0e; stroke-width: 1.5\"/>\n   </g>\n   <g id=\"line2d_52\">\n    <path d=\"M 34.923295 13.5 \nL 44.646742 91.283519 \nL 54.370189 106.776242 \nL 64.093636 115.69451 \nL 73.817082 120.903705 \nL 83.540529 124.013601 \nL 93.263976 126.84138 \nL 102.987423 128.34403 \nL 112.71087 129.391418 \nL 122.434316 132.18661 \nL 132.157763 132.253132 \nL 141.88121 133.689033 \nL 151.604657 133.567776 \nL 161.328104 136.204831 \nL 171.051551 137.161976 \n\" clip-path=\"url(#p848df2d35c)\" style=\"fill: none; stroke: #1f77b4; stroke-width: 1.5; stroke-linecap: square\"/>\n   </g>\n   <g id=\"line2d_53\">\n    <path d=\"M 49.633125 96.835495 \nL 69.163125 116.742853 \nL 88.693125 121.381156 \nL 108.223125 126.677825 \nL 127.753125 129.930597 \nL 147.283125 122.268724 \nL 166.813125 121.596407 \n\" clip-path=\"url(#p848df2d35c)\" style=\"fill: none; stroke-dasharray: 5.55,2.4; stroke-dashoffset: 0; stroke: #ff7f0e; stroke-width: 1.5\"/>\n   </g>\n   <g id=\"line2d_54\">\n    <path d=\"M 34.923295 13.5 \nL 44.646742 91.283519 \nL 54.370189 106.776242 \nL 64.093636 115.69451 \nL 73.817082 120.903705 \nL 83.540529 124.013601 \nL 93.263976 126.84138 \nL 102.987423 128.34403 \nL 112.71087 129.391418 \nL 122.434316 132.18661 \nL 132.157763 132.253132 \nL 141.88121 133.689033 \nL 151.604657 133.567776 \nL 161.328104 136.204831 \nL 171.051551 137.161976 \nL 180.774997 136.255662 \n\" clip-path=\"url(#p848df2d35c)\" style=\"fill: none; stroke: #1f77b4; stroke-width: 1.5; stroke-linecap: square\"/>\n   </g>\n   <g id=\"line2d_55\">\n    <path d=\"M 49.633125 96.835495 \nL 69.163125 116.742853 \nL 88.693125 121.381156 \nL 108.223125 126.677825 \nL 127.753125 129.930597 \nL 147.283125 122.268724 \nL 166.813125 121.596407 \n\" clip-path=\"url(#p848df2d35c)\" style=\"fill: none; stroke-dasharray: 5.55,2.4; stroke-dashoffset: 0; stroke: #ff7f0e; stroke-width: 1.5\"/>\n   </g>\n   <g id=\"line2d_56\">\n    <path d=\"M 34.923295 13.5 \nL 44.646742 91.283519 \nL 54.370189 106.776242 \nL 64.093636 115.69451 \nL 73.817082 120.903705 \nL 83.540529 124.013601 \nL 93.263976 126.84138 \nL 102.987423 128.34403 \nL 112.71087 129.391418 \nL 122.434316 132.18661 \nL 132.157763 132.253132 \nL 141.88121 133.689033 \nL 151.604657 133.567776 \nL 161.328104 136.204831 \nL 171.051551 137.161976 \nL 180.774997 136.255662 \n\" clip-path=\"url(#p848df2d35c)\" style=\"fill: none; stroke: #1f77b4; stroke-width: 1.5; stroke-linecap: square\"/>\n   </g>\n   <g id=\"line2d_57\">\n    <path d=\"M 49.633125 96.835495 \nL 69.163125 116.742853 \nL 88.693125 121.381156 \nL 108.223125 126.677825 \nL 127.753125 129.930597 \nL 147.283125 122.268724 \nL 166.813125 121.596407 \nL 186.343125 130.717397 \n\" clip-path=\"url(#p848df2d35c)\" style=\"fill: none; stroke-dasharray: 5.55,2.4; stroke-dashoffset: 0; stroke: #ff7f0e; stroke-width: 1.5\"/>\n   </g>\n   <g id=\"line2d_58\">\n    <path d=\"M 34.923295 13.5 \nL 44.646742 91.283519 \nL 54.370189 106.776242 \nL 64.093636 115.69451 \nL 73.817082 120.903705 \nL 83.540529 124.013601 \nL 93.263976 126.84138 \nL 102.987423 128.34403 \nL 112.71087 129.391418 \nL 122.434316 132.18661 \nL 132.157763 132.253132 \nL 141.88121 133.689033 \nL 151.604657 133.567776 \nL 161.328104 136.204831 \nL 171.051551 137.161976 \nL 180.774997 136.255662 \nL 190.498444 138.524057 \n\" clip-path=\"url(#p848df2d35c)\" style=\"fill: none; stroke: #1f77b4; stroke-width: 1.5; stroke-linecap: square\"/>\n   </g>\n   <g id=\"line2d_59\">\n    <path d=\"M 49.633125 96.835495 \nL 69.163125 116.742853 \nL 88.693125 121.381156 \nL 108.223125 126.677825 \nL 127.753125 129.930597 \nL 147.283125 122.268724 \nL 166.813125 121.596407 \nL 186.343125 130.717397 \n\" clip-path=\"url(#p848df2d35c)\" style=\"fill: none; stroke-dasharray: 5.55,2.4; stroke-dashoffset: 0; stroke: #ff7f0e; stroke-width: 1.5\"/>\n   </g>\n   <g id=\"line2d_60\">\n    <path d=\"M 34.923295 13.5 \nL 44.646742 91.283519 \nL 54.370189 106.776242 \nL 64.093636 115.69451 \nL 73.817082 120.903705 \nL 83.540529 124.013601 \nL 93.263976 126.84138 \nL 102.987423 128.34403 \nL 112.71087 129.391418 \nL 122.434316 132.18661 \nL 132.157763 132.253132 \nL 141.88121 133.689033 \nL 151.604657 133.567776 \nL 161.328104 136.204831 \nL 171.051551 137.161976 \nL 180.774997 136.255662 \nL 190.498444 138.524057 \nL 200.221891 137.687445 \n\" clip-path=\"url(#p848df2d35c)\" style=\"fill: none; stroke: #1f77b4; stroke-width: 1.5; stroke-linecap: square\"/>\n   </g>\n   <g id=\"line2d_61\">\n    <path d=\"M 49.633125 96.835495 \nL 69.163125 116.742853 \nL 88.693125 121.381156 \nL 108.223125 126.677825 \nL 127.753125 129.930597 \nL 147.283125 122.268724 \nL 166.813125 121.596407 \nL 186.343125 130.717397 \n\" clip-path=\"url(#p848df2d35c)\" style=\"fill: none; stroke-dasharray: 5.55,2.4; stroke-dashoffset: 0; stroke: #ff7f0e; stroke-width: 1.5\"/>\n   </g>\n   <g id=\"line2d_62\">\n    <path d=\"M 34.923295 13.5 \nL 44.646742 91.283519 \nL 54.370189 106.776242 \nL 64.093636 115.69451 \nL 73.817082 120.903705 \nL 83.540529 124.013601 \nL 93.263976 126.84138 \nL 102.987423 128.34403 \nL 112.71087 129.391418 \nL 122.434316 132.18661 \nL 132.157763 132.253132 \nL 141.88121 133.689033 \nL 151.604657 133.567776 \nL 161.328104 136.204831 \nL 171.051551 137.161976 \nL 180.774997 136.255662 \nL 190.498444 138.524057 \nL 200.221891 137.687445 \n\" clip-path=\"url(#p848df2d35c)\" style=\"fill: none; stroke: #1f77b4; stroke-width: 1.5; stroke-linecap: square\"/>\n   </g>\n   <g id=\"line2d_63\">\n    <path d=\"M 49.633125 96.835495 \nL 69.163125 116.742853 \nL 88.693125 121.381156 \nL 108.223125 126.677825 \nL 127.753125 129.930597 \nL 147.283125 122.268724 \nL 166.813125 121.596407 \nL 186.343125 130.717397 \nL 205.873125 132.889601 \n\" clip-path=\"url(#p848df2d35c)\" style=\"fill: none; stroke-dasharray: 5.55,2.4; stroke-dashoffset: 0; stroke: #ff7f0e; stroke-width: 1.5\"/>\n   </g>\n   <g id=\"line2d_64\">\n    <path d=\"M 34.923295 13.5 \nL 44.646742 91.283519 \nL 54.370189 106.776242 \nL 64.093636 115.69451 \nL 73.817082 120.903705 \nL 83.540529 124.013601 \nL 93.263976 126.84138 \nL 102.987423 128.34403 \nL 112.71087 129.391418 \nL 122.434316 132.18661 \nL 132.157763 132.253132 \nL 141.88121 133.689033 \nL 151.604657 133.567776 \nL 161.328104 136.204831 \nL 171.051551 137.161976 \nL 180.774997 136.255662 \nL 190.498444 138.524057 \nL 200.221891 137.687445 \nL 209.945338 139.5 \n\" clip-path=\"url(#p848df2d35c)\" style=\"fill: none; stroke: #1f77b4; stroke-width: 1.5; stroke-linecap: square\"/>\n   </g>\n   <g id=\"line2d_65\">\n    <path d=\"M 49.633125 96.835495 \nL 69.163125 116.742853 \nL 88.693125 121.381156 \nL 108.223125 126.677825 \nL 127.753125 129.930597 \nL 147.283125 122.268724 \nL 166.813125 121.596407 \nL 186.343125 130.717397 \nL 205.873125 132.889601 \n\" clip-path=\"url(#p848df2d35c)\" style=\"fill: none; stroke-dasharray: 5.55,2.4; stroke-dashoffset: 0; stroke: #ff7f0e; stroke-width: 1.5\"/>\n   </g>\n   <g id=\"line2d_66\">\n    <path d=\"M 34.923295 13.5 \nL 44.646742 91.283519 \nL 54.370189 106.776242 \nL 64.093636 115.69451 \nL 73.817082 120.903705 \nL 83.540529 124.013601 \nL 93.263976 126.84138 \nL 102.987423 128.34403 \nL 112.71087 129.391418 \nL 122.434316 132.18661 \nL 132.157763 132.253132 \nL 141.88121 133.689033 \nL 151.604657 133.567776 \nL 161.328104 136.204831 \nL 171.051551 137.161976 \nL 180.774997 136.255662 \nL 190.498444 138.524057 \nL 200.221891 137.687445 \nL 209.945338 139.5 \nL 219.668785 139.064012 \n\" clip-path=\"url(#p848df2d35c)\" style=\"fill: none; stroke: #1f77b4; stroke-width: 1.5; stroke-linecap: square\"/>\n   </g>\n   <g id=\"line2d_67\">\n    <path d=\"M 49.633125 96.835495 \nL 69.163125 116.742853 \nL 88.693125 121.381156 \nL 108.223125 126.677825 \nL 127.753125 129.930597 \nL 147.283125 122.268724 \nL 166.813125 121.596407 \nL 186.343125 130.717397 \nL 205.873125 132.889601 \n\" clip-path=\"url(#p848df2d35c)\" style=\"fill: none; stroke-dasharray: 5.55,2.4; stroke-dashoffset: 0; stroke: #ff7f0e; stroke-width: 1.5\"/>\n   </g>\n   <g id=\"line2d_68\">\n    <path d=\"M 34.923295 13.5 \nL 44.646742 91.283519 \nL 54.370189 106.776242 \nL 64.093636 115.69451 \nL 73.817082 120.903705 \nL 83.540529 124.013601 \nL 93.263976 126.84138 \nL 102.987423 128.34403 \nL 112.71087 129.391418 \nL 122.434316 132.18661 \nL 132.157763 132.253132 \nL 141.88121 133.689033 \nL 151.604657 133.567776 \nL 161.328104 136.204831 \nL 171.051551 137.161976 \nL 180.774997 136.255662 \nL 190.498444 138.524057 \nL 200.221891 137.687445 \nL 209.945338 139.5 \nL 219.668785 139.064012 \n\" clip-path=\"url(#p848df2d35c)\" style=\"fill: none; stroke: #1f77b4; stroke-width: 1.5; stroke-linecap: square\"/>\n   </g>\n   <g id=\"line2d_69\">\n    <path d=\"M 49.633125 96.835495 \nL 69.163125 116.742853 \nL 88.693125 121.381156 \nL 108.223125 126.677825 \nL 127.753125 129.930597 \nL 147.283125 122.268724 \nL 166.813125 121.596407 \nL 186.343125 130.717397 \nL 205.873125 132.889601 \nL 225.403125 131.66764 \n\" clip-path=\"url(#p848df2d35c)\" style=\"fill: none; stroke-dasharray: 5.55,2.4; stroke-dashoffset: 0; stroke: #ff7f0e; stroke-width: 1.5\"/>\n   </g>\n   <g id=\"patch_3\">\n    <path d=\"M 30.103125 145.8 \nL 30.103125 7.2 \n\" style=\"fill: none; stroke: #000000; stroke-width: 0.8; stroke-linejoin: miter; stroke-linecap: square\"/>\n   </g>\n   <g id=\"patch_4\">\n    <path d=\"M 225.403125 145.8 \nL 225.403125 7.2 \n\" style=\"fill: none; stroke: #000000; stroke-width: 0.8; stroke-linejoin: miter; stroke-linecap: square\"/>\n   </g>\n   <g id=\"patch_5\">\n    <path d=\"M 30.103125 145.8 \nL 225.403125 145.8 \n\" style=\"fill: none; stroke: #000000; stroke-width: 0.8; stroke-linejoin: miter; stroke-linecap: square\"/>\n   </g>\n   <g id=\"patch_6\">\n    <path d=\"M 30.103125 7.2 \nL 225.403125 7.2 \n\" style=\"fill: none; stroke: #000000; stroke-width: 0.8; stroke-linejoin: miter; stroke-linecap: square\"/>\n   </g>\n   <g id=\"legend_1\">\n    <g id=\"patch_7\">\n     <path d=\"M 138.8125 45.1125 \nL 218.403125 45.1125 \nQ 220.403125 45.1125 220.403125 43.1125 \nL 220.403125 14.2 \nQ 220.403125 12.2 218.403125 12.2 \nL 138.8125 12.2 \nQ 136.8125 12.2 136.8125 14.2 \nL 136.8125 43.1125 \nQ 136.8125 45.1125 138.8125 45.1125 \nz\n\" style=\"fill: #ffffff; opacity: 0.8; stroke: #cccccc; stroke-linejoin: miter\"/>\n    </g>\n    <g id=\"line2d_70\">\n     <path d=\"M 140.8125 20.298438 \nL 150.8125 20.298438 \nL 160.8125 20.298438 \n\" style=\"fill: none; stroke: #1f77b4; stroke-width: 1.5; stroke-linecap: square\"/>\n    </g>\n    <g id=\"text_13\">\n     <!-- train_loss -->\n     <g transform=\"translate(168.8125 23.798438) scale(0.1 -0.1)\">\n      <defs>\n       <path id=\"DejaVuSans-74\" d=\"M 1172 4494 \nL 1172 3500 \nL 2356 3500 \nL 2356 3053 \nL 1172 3053 \nL 1172 1153 \nQ 1172 725 1289 603 \nQ 1406 481 1766 481 \nL 2356 481 \nL 2356 0 \nL 1766 0 \nQ 1100 0 847 248 \nQ 594 497 594 1153 \nL 594 3053 \nL 172 3053 \nL 172 3500 \nL 594 3500 \nL 594 4494 \nL 1172 4494 \nz\n\" transform=\"scale(0.015625)\"/>\n       <path id=\"DejaVuSans-72\" d=\"M 2631 2963 \nQ 2534 3019 2420 3045 \nQ 2306 3072 2169 3072 \nQ 1681 3072 1420 2755 \nQ 1159 2438 1159 1844 \nL 1159 0 \nL 581 0 \nL 581 3500 \nL 1159 3500 \nL 1159 2956 \nQ 1341 3275 1631 3429 \nQ 1922 3584 2338 3584 \nQ 2397 3584 2469 3576 \nQ 2541 3569 2628 3553 \nL 2631 2963 \nz\n\" transform=\"scale(0.015625)\"/>\n       <path id=\"DejaVuSans-61\" d=\"M 2194 1759 \nQ 1497 1759 1228 1600 \nQ 959 1441 959 1056 \nQ 959 750 1161 570 \nQ 1363 391 1709 391 \nQ 2188 391 2477 730 \nQ 2766 1069 2766 1631 \nL 2766 1759 \nL 2194 1759 \nz\nM 3341 1997 \nL 3341 0 \nL 2766 0 \nL 2766 531 \nQ 2569 213 2275 61 \nQ 1981 -91 1556 -91 \nQ 1019 -91 701 211 \nQ 384 513 384 1019 \nQ 384 1609 779 1909 \nQ 1175 2209 1959 2209 \nL 2766 2209 \nL 2766 2266 \nQ 2766 2663 2505 2880 \nQ 2244 3097 1772 3097 \nQ 1472 3097 1187 3025 \nQ 903 2953 641 2809 \nL 641 3341 \nQ 956 3463 1253 3523 \nQ 1550 3584 1831 3584 \nQ 2591 3584 2966 3190 \nQ 3341 2797 3341 1997 \nz\n\" transform=\"scale(0.015625)\"/>\n       <path id=\"DejaVuSans-69\" d=\"M 603 3500 \nL 1178 3500 \nL 1178 0 \nL 603 0 \nL 603 3500 \nz\nM 603 4863 \nL 1178 4863 \nL 1178 4134 \nL 603 4134 \nL 603 4863 \nz\n\" transform=\"scale(0.015625)\"/>\n       <path id=\"DejaVuSans-6e\" d=\"M 3513 2113 \nL 3513 0 \nL 2938 0 \nL 2938 2094 \nQ 2938 2591 2744 2837 \nQ 2550 3084 2163 3084 \nQ 1697 3084 1428 2787 \nQ 1159 2491 1159 1978 \nL 1159 0 \nL 581 0 \nL 581 3500 \nL 1159 3500 \nL 1159 2956 \nQ 1366 3272 1645 3428 \nQ 1925 3584 2291 3584 \nQ 2894 3584 3203 3211 \nQ 3513 2838 3513 2113 \nz\n\" transform=\"scale(0.015625)\"/>\n       <path id=\"DejaVuSans-5f\" d=\"M 3263 -1063 \nL 3263 -1509 \nL -63 -1509 \nL -63 -1063 \nL 3263 -1063 \nz\n\" transform=\"scale(0.015625)\"/>\n       <path id=\"DejaVuSans-6c\" d=\"M 603 4863 \nL 1178 4863 \nL 1178 0 \nL 603 0 \nL 603 4863 \nz\n\" transform=\"scale(0.015625)\"/>\n       <path id=\"DejaVuSans-73\" d=\"M 2834 3397 \nL 2834 2853 \nQ 2591 2978 2328 3040 \nQ 2066 3103 1784 3103 \nQ 1356 3103 1142 2972 \nQ 928 2841 928 2578 \nQ 928 2378 1081 2264 \nQ 1234 2150 1697 2047 \nL 1894 2003 \nQ 2506 1872 2764 1633 \nQ 3022 1394 3022 966 \nQ 3022 478 2636 193 \nQ 2250 -91 1575 -91 \nQ 1294 -91 989 -36 \nQ 684 19 347 128 \nL 347 722 \nQ 666 556 975 473 \nQ 1284 391 1588 391 \nQ 1994 391 2212 530 \nQ 2431 669 2431 922 \nQ 2431 1156 2273 1281 \nQ 2116 1406 1581 1522 \nL 1381 1569 \nQ 847 1681 609 1914 \nQ 372 2147 372 2553 \nQ 372 3047 722 3315 \nQ 1072 3584 1716 3584 \nQ 2034 3584 2315 3537 \nQ 2597 3491 2834 3397 \nz\n\" transform=\"scale(0.015625)\"/>\n      </defs>\n      <use xlink:href=\"#DejaVuSans-74\"/>\n      <use xlink:href=\"#DejaVuSans-72\" x=\"39.208984\"/>\n      <use xlink:href=\"#DejaVuSans-61\" x=\"80.322266\"/>\n      <use xlink:href=\"#DejaVuSans-69\" x=\"141.601562\"/>\n      <use xlink:href=\"#DejaVuSans-6e\" x=\"169.384766\"/>\n      <use xlink:href=\"#DejaVuSans-5f\" x=\"232.763672\"/>\n      <use xlink:href=\"#DejaVuSans-6c\" x=\"282.763672\"/>\n      <use xlink:href=\"#DejaVuSans-6f\" x=\"310.546875\"/>\n      <use xlink:href=\"#DejaVuSans-73\" x=\"371.728516\"/>\n      <use xlink:href=\"#DejaVuSans-73\" x=\"423.828125\"/>\n     </g>\n    </g>\n    <g id=\"line2d_71\">\n     <path d=\"M 140.8125 35.254688 \nL 150.8125 35.254688 \nL 160.8125 35.254688 \n\" style=\"fill: none; stroke-dasharray: 5.55,2.4; stroke-dashoffset: 0; stroke: #ff7f0e; stroke-width: 1.5\"/>\n    </g>\n    <g id=\"text_14\">\n     <!-- val_loss -->\n     <g transform=\"translate(168.8125 38.754688) scale(0.1 -0.1)\">\n      <defs>\n       <path id=\"DejaVuSans-76\" d=\"M 191 3500 \nL 800 3500 \nL 1894 563 \nL 2988 3500 \nL 3597 3500 \nL 2284 0 \nL 1503 0 \nL 191 3500 \nz\n\" transform=\"scale(0.015625)\"/>\n      </defs>\n      <use xlink:href=\"#DejaVuSans-76\"/>\n      <use xlink:href=\"#DejaVuSans-61\" x=\"59.179688\"/>\n      <use xlink:href=\"#DejaVuSans-6c\" x=\"120.458984\"/>\n      <use xlink:href=\"#DejaVuSans-5f\" x=\"148.242188\"/>\n      <use xlink:href=\"#DejaVuSans-6c\" x=\"198.242188\"/>\n      <use xlink:href=\"#DejaVuSans-6f\" x=\"226.025391\"/>\n      <use xlink:href=\"#DejaVuSans-73\" x=\"287.207031\"/>\n      <use xlink:href=\"#DejaVuSans-73\" x=\"339.306641\"/>\n     </g>\n    </g>\n   </g>\n  </g>\n </g>\n <defs>\n  <clipPath id=\"p848df2d35c\">\n   <rect x=\"30.103125\" y=\"7.2\" width=\"195.3\" height=\"138.6\"/>\n  </clipPath>\n </defs>\n</svg>\n"
          },
          "metadata": {}
        }
      ]
    },
    {
      "cell_type": "markdown",
      "source": [
        "| Term                             | One-liner intuition                                                                                            |\n",
        "| -------------------------------- | -------------------------------------------------------------------------------------------------------------- |\n",
        "| **Epoch**                        | One full sweep through **every** example in the training set.                                                  |\n",
        "| **Training loss (`train_loss`)** | “How wrong are we *on the data we just used to learn?*” – averaged over all mini-batches in the current epoch. |\n",
        "| **Validation loss (`val_loss`)** | “How wrong are we on **new, unseen** data?” – computed on a held-out set only **after** the epoch finishes.    |\n",
        "\n",
        "\n",
        "\n",
        "\n",
        "Think of the training set as your class notes and the validation set as a short practice quiz. During each epoch you study all the notes, then you shut the notebook and take the quiz once.--If you ace the class notes but keep bombing the quiz, you’re memorizing instead of learning (over-fitting).\n",
        "\n",
        "\n",
        "\n",
        "Why two curves instead of one?\n",
        "- Training loss should almost always decrease (or at least plateau) because the optimizer is explicitly minimizing it.\n",
        "\n",
        "- Validation loss tells you whether those gains actually carry over to data the model never saw.\n",
        "\n",
        "  - If it falls in tandem with training loss → you’re genuinely learning.\n",
        "\n",
        "  - If it bottoms out then starts climbing while training loss keeps falling → the model is fitting noise (classic over-fitting signal).\n",
        "\n",
        "Plotting them together lets you spot that divergence and decide when to stop, add regularization, collect more data, etc.\n",
        "\n"
      ],
      "metadata": {
        "id": "kd8lbR1WbVas"
      },
      "id": "kd8lbR1WbVas"
    },
    {
      "cell_type": "code",
      "source": [],
      "metadata": {
        "id": "zicJ-euMbPZa"
      },
      "id": "zicJ-euMbPZa",
      "execution_count": null,
      "outputs": []
    },
    {
      "cell_type": "markdown",
      "id": "80b834f8",
      "metadata": {
        "origin_pos": 30,
        "id": "80b834f8"
      },
      "source": [
        "## Training\n",
        ":label:`oo-design-training`\n"
      ]
    },
    {
      "cell_type": "markdown",
      "id": "19097c4d",
      "metadata": {
        "origin_pos": 31,
        "tab": [
          "pytorch"
        ],
        "id": "19097c4d"
      },
      "source": [
        "The `Trainer` class trains the learnable parameters in the `Module` class with data specified in `DataModule`. The key method is `fit`, which accepts two arguments: `model`, an instance of `Module`, and `data`, an instance of `DataModule`. It then iterates over the entire dataset `max_epochs` times to train the model. As before, we will defer the implementation of this method to later chapters.\n"
      ]
    },
    {
      "cell_type": "code",
      "execution_count": null,
      "id": "798ecd6d",
      "metadata": {
        "execution": {
          "iopub.execute_input": "2023-08-18T19:26:38.847255Z",
          "iopub.status.busy": "2023-08-18T19:26:38.846633Z",
          "iopub.status.idle": "2023-08-18T19:26:38.853801Z",
          "shell.execute_reply": "2023-08-18T19:26:38.852995Z"
        },
        "origin_pos": 33,
        "tab": [
          "pytorch"
        ],
        "id": "798ecd6d"
      },
      "outputs": [],
      "source": [
        "class Trainer(d2l.HyperParameters):  #@save\n",
        "    \"\"\"The base class for training models with data.\"\"\"\n",
        "    def __init__(self, max_epochs, num_gpus=0, gradient_clip_val=0):\n",
        "        self.save_hyperparameters()\n",
        "        assert num_gpus == 0, 'No GPU support yet'\n",
        "\n",
        "    ## max_epochs: how many full passes over the training set\n",
        "    ## num_gpus: placeholder for future CUDA support (current forced to 0)\n",
        "    ## gradient_clip_val: will eventually cap gradient norm; stored even if unused.\n",
        "    ## save_hyperparameters() copies all arguments into self.<name> and into the dict self.harapms for logging/serialization\n",
        "\n",
        "\n",
        "    def prepare_data(self, data):\n",
        "        self.train_dataloader = data.train_dataloader()\n",
        "        self.val_dataloader = data.val_dataloader()\n",
        "        self.num_train_batches = len(self.train_dataloader)\n",
        "        self.num_val_batches = (len(self.val_dataloader)\n",
        "                                if self.val_dataloader is not None else 0)\n",
        "        ## given a DataModule: cache its loaders and pre-compute how many batches each has\n",
        "        ## these length are later used for plotting (x = batch_idx/num_train_batches) and throttling log frequently\n",
        "\n",
        "    def prepare_model(self, model):\n",
        "        model.trainer = self ## give model a back-pointer\n",
        "        model.board.xlim = [0, self.max_epochs] ## set plot's x-axis range\n",
        "        self.model = model ## store for convenience\n",
        "\n",
        "        ## back-pointer lets the model read self.epochm self.train_batch_idx, etc. inside its own plot() helper\n",
        "\n",
        "    def fit(self, model, data):\n",
        "        self.prepare_data(data) ## 1. set up loaders and counters\n",
        "        self.prepare_model(model) ## 2.inject trainer reference\n",
        "        self.optim = model.configure_optimizers() ## 3. optimize\n",
        "        self.epoch = 0 ## 4. intialize epoch counter\n",
        "        self.train_batch_idx = 0 ## 5. batch indexes for plots\n",
        "        self.val_batch_idx = 0\n",
        "        for self.epoch in range(self.max_epochs):\n",
        "            self.fit_epoch()\n",
        "\n",
        "    def fit_epoch(self): ## epoch loop\n",
        "        raise NotImplementedError ## call hook"
      ]
    },
    {
      "cell_type": "markdown",
      "source": [
        "| Purpose                                 | What the `Trainer` does for you                                                                                                                                                                               |\n",
        "| --------------------------------------- | ------------------------------------------------------------------------------------------------------------------------------------------------------------------------------------------------------------- |\n",
        "| **Coordinates four moving parts**       | (1) the model, (2) the optimizer, (3) the training dataloader, (4) the validation dataloader.                                                                                                                 |\n",
        "| **Abstracts boilerplate**               | You don’t manually loop over epochs/batches or keep track of batch indices; `Trainer` calls the model’s hooks (`training_step`, `validation_step`, etc.) and updates counters.                                |\n",
        "| **Keeps hyper-parameters in one place** | By inheriting from `d2l.HyperParameters`, anything you pass to the constructor (e.g., `max_epochs`, `num_gpus`) is automatically recorded in `self.hparams` and as regular attributes (`self.max_epochs`, …). |\n",
        "| **Links model ↔ data ↔ progress board** | `prepare_model()` injects a back-pointer (`model.trainer = self`) so the model can read epoch indexes for plotting.                                                                                           |\n",
        "| **Pluggable**                           | Concrete trainers (e.g., one that supports GPUs or gradient accumulation) can inherit from this base and override `fit_epoch()` or `prepare_model()` without rewriting everything.                            |\n"
      ],
      "metadata": {
        "id": "5lMUDIUFb6qs"
      },
      "id": "5lMUDIUFb6qs"
    },
    {
      "cell_type": "markdown",
      "id": "792b845a",
      "metadata": {
        "origin_pos": 34,
        "id": "792b845a"
      },
      "source": [
        "## Summary\n",
        "\n",
        "To highlight the object-oriented design\n",
        "for our future deep learning implementation,\n",
        "the above classes simply show how their objects\n",
        "store data and interact with each other.\n",
        "We will keep enriching implementations of these classes,\n",
        "such as via `@add_to_class`,\n",
        "in the rest of the book.\n",
        "Moreover,\n",
        "these fully implemented classes\n",
        "are saved in the [D2L library](https://github.com/d2l-ai/d2l-en/tree/master/d2l),\n",
        "a *lightweight toolkit* that makes structured modeling for deep learning easy.\n",
        "In particular, it facilitates reusing many components between projects without changing much at all. For instance, we can replace just the optimizer, just the model, just the dataset, etc.;\n",
        "this degree of modularity pays dividends throughout the book in terms of conciseness and simplicity (this is why we added it) and it can do the same for your own projects.\n",
        "\n",
        "\n",
        "## Exercises\n",
        "\n",
        "1. Locate full implementations of the above classes that are saved in the [D2L library](https://github.com/d2l-ai/d2l-en/tree/master/d2l). We strongly recommend that you look at the implementation in detail once you have gained some more familiarity with deep learning modeling.\n",
        "1. Remove the `save_hyperparameters` statement in the `B` class. Can you still print `self.a` and `self.b`? Optional: if you have dived into the full implementation of the `HyperParameters` class, can you explain why?\n"
      ]
    },
    {
      "cell_type": "markdown",
      "id": "8f75e484",
      "metadata": {
        "origin_pos": 36,
        "tab": [
          "pytorch"
        ],
        "id": "8f75e484"
      },
      "source": [
        "[Discussions](https://discuss.d2l.ai/t/6646)\n"
      ]
    }
  ],
  "metadata": {
    "accelerator": "GPU",
    "kernelspec": {
      "display_name": "Python 3",
      "name": "python3"
    },
    "language_info": {
      "name": "python"
    },
    "required_libs": [],
    "colab": {
      "provenance": [],
      "include_colab_link": true
    }
  },
  "nbformat": 4,
  "nbformat_minor": 5
}